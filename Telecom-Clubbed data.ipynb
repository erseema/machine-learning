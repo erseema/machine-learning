{
 "cells": [
  {
   "cell_type": "markdown",
   "metadata": {},
   "source": [
    "# Telecom Case Study:\n"
   ]
  },
  {
   "cell_type": "code",
   "execution_count": 1,
   "metadata": {
    "collapsed": true
   },
   "outputs": [],
   "source": [
    "import pandas as pd\n",
    "import numpy as np\n",
    "import matplotlib.pyplot as plt\n",
    "%matplotlib inline\n",
    "import seaborn as sns\n"
   ]
  },
  {
   "cell_type": "code",
   "execution_count": 2,
   "metadata": {
    "collapsed": true
   },
   "outputs": [],
   "source": [
    "df_active=pd.read_excel('C:telecom/active_customer.xlsx')\n"
   ]
  },
  {
   "cell_type": "code",
   "execution_count": 3,
   "metadata": {
    "collapsed": true
   },
   "outputs": [],
   "source": [
    "df_churn=pd.read_excel('C:telecom/churn_customer.xlsx')"
   ]
  },
  {
   "cell_type": "code",
   "execution_count": 4,
   "metadata": {
    "collapsed": false
   },
   "outputs": [
    {
     "name": "stdout",
     "output_type": "stream",
     "text": [
      "<class 'pandas.core.frame.DataFrame'>\n",
      "RangeIndex: 9999 entries, 0 to 9998\n",
      "Data columns (total 29 columns):\n",
      "SITE_ACCOUNT_NUMBER          9998 non-null object\n",
      "ACCOUNT_STATUS               9998 non-null object\n",
      "FIRST_COMMUNICATION_DATE     9989 non-null datetime64[ns]\n",
      "UPGRADE_DATE                 9989 non-null datetime64[ns]\n",
      "SERVICE_ PLAN                8760 non-null object\n",
      "MODEL                        9323 non-null object\n",
      "SALES_CHANNEL                7093 non-null object\n",
      "DIRECT_INDIRECT_CHANNEL      9954 non-null object\n",
      "SALES_SOURCE                 9306 non-null object\n",
      "COMPANY_SOURCE_NAME          9988 non-null object\n",
      "FIRST_NAME                   9998 non-null object\n",
      "LAST_NAME                    9998 non-null object\n",
      "ADDRESS                      9945 non-null object\n",
      "CITY                         9998 non-null object\n",
      "STATE                        9977 non-null object\n",
      "ZIPCODE                      9977 non-null object\n",
      "EMAIL_ADDRESS                9979 non-null object\n",
      "FEEDBACK                     8085 non-null object\n",
      "SATELLITE                    9603 non-null object\n",
      "SITE_TYPE_DESC               9988 non-null object\n",
      "WARRANTY_NAME                9042 non-null object\n",
      "MOST_RECENT_SALES_CHANNEL    9992 non-null object\n",
      "GENDER                       8728 non-null float64\n",
      "DATE_OF_BIRTH                9998 non-null object\n",
      "AGE                          9998 non-null object\n",
      "INCOME                       9681 non-null object\n",
      "MARITAL_STATUS               9680 non-null float64\n",
      "PRESENCE_OF_CHILDREN         8684 non-null float64\n",
      "COMPUTER_OWNER               6944 non-null object\n",
      "dtypes: datetime64[ns](2), float64(3), object(24)\n",
      "memory usage: 2.2+ MB\n"
     ]
    }
   ],
   "source": [
    "df_active.info()\n"
   ]
  },
  {
   "cell_type": "code",
   "execution_count": 5,
   "metadata": {
    "collapsed": false
   },
   "outputs": [
    {
     "data": {
      "text/html": [
       "<div>\n",
       "<table border=\"1\" class=\"dataframe\">\n",
       "  <thead>\n",
       "    <tr style=\"text-align: right;\">\n",
       "      <th></th>\n",
       "      <th>GENDER</th>\n",
       "      <th>MARITAL_STATUS</th>\n",
       "      <th>PRESENCE_OF_CHILDREN</th>\n",
       "    </tr>\n",
       "  </thead>\n",
       "  <tbody>\n",
       "    <tr>\n",
       "      <th>count</th>\n",
       "      <td>8728.000000</td>\n",
       "      <td>9680.000000</td>\n",
       "      <td>8684.000000</td>\n",
       "    </tr>\n",
       "    <tr>\n",
       "      <th>mean</th>\n",
       "      <td>1.454056</td>\n",
       "      <td>0.572521</td>\n",
       "      <td>0.235030</td>\n",
       "    </tr>\n",
       "    <tr>\n",
       "      <th>std</th>\n",
       "      <td>0.497913</td>\n",
       "      <td>0.592780</td>\n",
       "      <td>0.424042</td>\n",
       "    </tr>\n",
       "    <tr>\n",
       "      <th>min</th>\n",
       "      <td>1.000000</td>\n",
       "      <td>0.000000</td>\n",
       "      <td>0.000000</td>\n",
       "    </tr>\n",
       "    <tr>\n",
       "      <th>25%</th>\n",
       "      <td>1.000000</td>\n",
       "      <td>0.000000</td>\n",
       "      <td>0.000000</td>\n",
       "    </tr>\n",
       "    <tr>\n",
       "      <th>50%</th>\n",
       "      <td>1.000000</td>\n",
       "      <td>1.000000</td>\n",
       "      <td>0.000000</td>\n",
       "    </tr>\n",
       "    <tr>\n",
       "      <th>75%</th>\n",
       "      <td>2.000000</td>\n",
       "      <td>1.000000</td>\n",
       "      <td>0.000000</td>\n",
       "    </tr>\n",
       "    <tr>\n",
       "      <th>max</th>\n",
       "      <td>2.000000</td>\n",
       "      <td>2.000000</td>\n",
       "      <td>1.000000</td>\n",
       "    </tr>\n",
       "  </tbody>\n",
       "</table>\n",
       "</div>"
      ],
      "text/plain": [
       "            GENDER  MARITAL_STATUS  PRESENCE_OF_CHILDREN\n",
       "count  8728.000000     9680.000000           8684.000000\n",
       "mean      1.454056        0.572521              0.235030\n",
       "std       0.497913        0.592780              0.424042\n",
       "min       1.000000        0.000000              0.000000\n",
       "25%       1.000000        0.000000              0.000000\n",
       "50%       1.000000        1.000000              0.000000\n",
       "75%       2.000000        1.000000              0.000000\n",
       "max       2.000000        2.000000              1.000000"
      ]
     },
     "execution_count": 5,
     "metadata": {},
     "output_type": "execute_result"
    }
   ],
   "source": [
    "df_active.describe()"
   ]
  },
  {
   "cell_type": "code",
   "execution_count": 6,
   "metadata": {
    "collapsed": false
   },
   "outputs": [
    {
     "data": {
      "text/plain": [
       "Index([u'SITE_ACCOUNT_NUMBER', u'ACCOUNT_STATUS', u'FIRST_COMMUNICATION_DATE',\n",
       "       u'UPGRADE_DATE', u'SERVICE_ PLAN', u'MODEL', u'SALES_CHANNEL',\n",
       "       u'DIRECT_INDIRECT_CHANNEL', u'SALES_SOURCE', u'COMPANY_SOURCE_NAME',\n",
       "       u'FIRST_NAME', u'LAST_NAME', u'ADDRESS', u'CITY', u'STATE', u'ZIPCODE',\n",
       "       u'EMAIL_ADDRESS', u'FEEDBACK', u'SATELLITE', u'SITE_TYPE_DESC',\n",
       "       u'WARRANTY_NAME', u'MOST_RECENT_SALES_CHANNEL', u'GENDER',\n",
       "       u'DATE_OF_BIRTH', u'AGE', u'INCOME', u'MARITAL_STATUS',\n",
       "       u'PRESENCE_OF_CHILDREN', u'COMPUTER_OWNER'],\n",
       "      dtype='object')"
      ]
     },
     "execution_count": 6,
     "metadata": {},
     "output_type": "execute_result"
    }
   ],
   "source": [
    "df_active.columns[df_active.isnull().any()]"
   ]
  },
  {
   "cell_type": "code",
   "execution_count": 7,
   "metadata": {
    "collapsed": false
   },
   "outputs": [
    {
     "name": "stdout",
     "output_type": "stream",
     "text": [
      "<class 'pandas.core.frame.DataFrame'>\n",
      "RangeIndex: 10000 entries, 0 to 9999\n",
      "Data columns (total 30 columns):\n",
      "SITE_ACCOUNT_NUMBER          10000 non-null object\n",
      "ACCOUNT_STATUS               9985 non-null object\n",
      "FIRST_COMMUNICATION_DATE     10000 non-null datetime64[ns]\n",
      "CHURN_DATE                   10000 non-null datetime64[ns]\n",
      "UPGRADE_DATE                 9121 non-null datetime64[ns]\n",
      "SERVICE_PLAN                 8518 non-null object\n",
      "MODEL                        9290 non-null object\n",
      "SALES_CHANNEL                7398 non-null object\n",
      "DIRECT_INDIRECT_CHANNEL      9216 non-null object\n",
      "SALES_SOURCE                 9710 non-null object\n",
      "COMPANY_SOURCE_NAME          9992 non-null object\n",
      "FIRST_NAME                   9974 non-null object\n",
      "LAST_NAME                    9993 non-null object\n",
      "ADDRESS                      9991 non-null object\n",
      "CITY                         10000 non-null object\n",
      "STATE                        9955 non-null object\n",
      "ZIPCODE                      9955 non-null object\n",
      "EMAIL_ADDRESS                9980 non-null object\n",
      "FEEDBACK                     7972 non-null object\n",
      "SATELLITE                    8987 non-null object\n",
      "SITE_TYPE_DESC               9937 non-null object\n",
      "WARRANTY_NAME                9319 non-null object\n",
      "MOST_RECENT_SALES_CHANNEL    9979 non-null object\n",
      "GENDER                       8762 non-null float64\n",
      "DATE_OF_BIRTH                9992 non-null object\n",
      "AGE                          9992 non-null float64\n",
      "INCOME                       10000 non-null object\n",
      "MARITAL_STATUS               9719 non-null object\n",
      "PRESENCE_OF_CHILDREN         8748 non-null float64\n",
      "COMPUTER_OWNER               6757 non-null object\n",
      "dtypes: datetime64[ns](3), float64(3), object(24)\n",
      "memory usage: 2.3+ MB\n"
     ]
    }
   ],
   "source": [
    "df_churn.info()"
   ]
  },
  {
   "cell_type": "code",
   "execution_count": 8,
   "metadata": {
    "collapsed": false
   },
   "outputs": [
    {
     "data": {
      "text/html": [
       "<div>\n",
       "<table border=\"1\" class=\"dataframe\">\n",
       "  <thead>\n",
       "    <tr style=\"text-align: right;\">\n",
       "      <th></th>\n",
       "      <th>GENDER</th>\n",
       "      <th>AGE</th>\n",
       "      <th>PRESENCE_OF_CHILDREN</th>\n",
       "    </tr>\n",
       "  </thead>\n",
       "  <tbody>\n",
       "    <tr>\n",
       "      <th>count</th>\n",
       "      <td>8762.000000</td>\n",
       "      <td>9992.000000</td>\n",
       "      <td>8748.00000</td>\n",
       "    </tr>\n",
       "    <tr>\n",
       "      <th>mean</th>\n",
       "      <td>1.431408</td>\n",
       "      <td>49.556545</td>\n",
       "      <td>0.38043</td>\n",
       "    </tr>\n",
       "    <tr>\n",
       "      <th>std</th>\n",
       "      <td>0.495301</td>\n",
       "      <td>14.271563</td>\n",
       "      <td>0.48552</td>\n",
       "    </tr>\n",
       "    <tr>\n",
       "      <th>min</th>\n",
       "      <td>1.000000</td>\n",
       "      <td>22.000000</td>\n",
       "      <td>0.00000</td>\n",
       "    </tr>\n",
       "    <tr>\n",
       "      <th>25%</th>\n",
       "      <td>1.000000</td>\n",
       "      <td>38.000000</td>\n",
       "      <td>0.00000</td>\n",
       "    </tr>\n",
       "    <tr>\n",
       "      <th>50%</th>\n",
       "      <td>1.000000</td>\n",
       "      <td>50.000000</td>\n",
       "      <td>0.00000</td>\n",
       "    </tr>\n",
       "    <tr>\n",
       "      <th>75%</th>\n",
       "      <td>2.000000</td>\n",
       "      <td>61.000000</td>\n",
       "      <td>1.00000</td>\n",
       "    </tr>\n",
       "    <tr>\n",
       "      <th>max</th>\n",
       "      <td>2.000000</td>\n",
       "      <td>90.000000</td>\n",
       "      <td>1.00000</td>\n",
       "    </tr>\n",
       "  </tbody>\n",
       "</table>\n",
       "</div>"
      ],
      "text/plain": [
       "            GENDER          AGE  PRESENCE_OF_CHILDREN\n",
       "count  8762.000000  9992.000000            8748.00000\n",
       "mean      1.431408    49.556545               0.38043\n",
       "std       0.495301    14.271563               0.48552\n",
       "min       1.000000    22.000000               0.00000\n",
       "25%       1.000000    38.000000               0.00000\n",
       "50%       1.000000    50.000000               0.00000\n",
       "75%       2.000000    61.000000               1.00000\n",
       "max       2.000000    90.000000               1.00000"
      ]
     },
     "execution_count": 8,
     "metadata": {},
     "output_type": "execute_result"
    }
   ],
   "source": [
    "# Descritptive stats of all numerical variables\n",
    "df_churn.describe()"
   ]
  },
  {
   "cell_type": "code",
   "execution_count": 9,
   "metadata": {
    "collapsed": true
   },
   "outputs": [],
   "source": [
    "# Deriving new variable subscription period :how long customers were subscribed \n",
    "df_churn['Sub_period']=df_churn['CHURN_DATE']-df_churn['FIRST_COMMUNICATION_DATE']"
   ]
  },
  {
   "cell_type": "code",
   "execution_count": 10,
   "metadata": {
    "collapsed": false
   },
   "outputs": [
    {
     "data": {
      "text/plain": [
       "0   1535 days\n",
       "1   1649 days\n",
       "2   2550 days\n",
       "3    957 days\n",
       "4   1685 days\n",
       "Name: Sub_period, dtype: timedelta64[ns]"
      ]
     },
     "execution_count": 10,
     "metadata": {},
     "output_type": "execute_result"
    }
   ],
   "source": [
    "df_churn['Sub_period'].head()"
   ]
  },
  {
   "cell_type": "code",
   "execution_count": 11,
   "metadata": {
    "collapsed": true
   },
   "outputs": [],
   "source": [
    "# converitng Sub_period into int \n",
    "df_churn['Sub_period']=df_churn['Sub_period'].apply(lambda x: x.days)"
   ]
  },
  {
   "cell_type": "code",
   "execution_count": 12,
   "metadata": {
    "collapsed": false
   },
   "outputs": [
    {
     "data": {
      "text/plain": [
       "0    1535\n",
       "1    1649\n",
       "2    2550\n",
       "3     957\n",
       "4    1685\n",
       "Name: Sub_period, dtype: int64"
      ]
     },
     "execution_count": 12,
     "metadata": {},
     "output_type": "execute_result"
    }
   ],
   "source": [
    "df_churn['Sub_period'].head()"
   ]
  },
  {
   "cell_type": "code",
   "execution_count": 13,
   "metadata": {
    "collapsed": false
   },
   "outputs": [
    {
     "data": {
      "text/plain": [
       "<matplotlib.axes._subplots.AxesSubplot at 0xd4b1ef0>"
      ]
     },
     "execution_count": 13,
     "metadata": {},
     "output_type": "execute_result"
    },
    {
     "data": {
      "image/png": "[encoded data removed]",
      "text/plain": [
       "<matplotlib.figure.Figure at 0xd4c1898>"
      ]
     },
     "metadata": {},
     "output_type": "display_data"
    }
   ],
   "source": [
    "sns.boxplot(data=df_churn['Sub_period'])"
   ]
  },
  {
   "cell_type": "code",
   "execution_count": 14,
   "metadata": {
    "collapsed": false
   },
   "outputs": [
    {
     "data": {
      "text/plain": [
       "HN9000     2850\n",
       "HN7000S    1899\n",
       "DW4000     1618\n",
       "DW7000     1500\n",
       "DW6000     1380\n",
       "UNK          43\n",
       "Name: MODEL, dtype: int64"
      ]
     },
     "execution_count": 14,
     "metadata": {},
     "output_type": "execute_result"
    }
   ],
   "source": [
    "# Univariate Analysis : MODEL\n",
    "df_churn.MODEL.value_counts()"
   ]
  },
  {
   "cell_type": "code",
   "execution_count": 15,
   "metadata": {
    "collapsed": false
   },
   "outputs": [
    {
     "data": {
      "text/plain": [
       "False    9290\n",
       "True      710\n",
       "Name: MODEL, dtype: int64"
      ]
     },
     "execution_count": 15,
     "metadata": {},
     "output_type": "execute_result"
    }
   ],
   "source": [
    "df_churn.MODEL.isnull().value_counts()"
   ]
  },
  {
   "cell_type": "code",
   "execution_count": 16,
   "metadata": {
    "collapsed": false
   },
   "outputs": [
    {
     "data": {
      "text/plain": [
       "Call Centers     1675\n",
       "Retail/Others    1576\n",
       "Web Orders       1419\n",
       "Sales Agents     1371\n",
       "Vars             1357\n",
       "Name: SALES_CHANNEL, dtype: int64"
      ]
     },
     "execution_count": 16,
     "metadata": {},
     "output_type": "execute_result"
    }
   ],
   "source": [
    "# SALES CHANNEL\n",
    "df_churn.SALES_CHANNEL.value_counts()"
   ]
  },
  {
   "cell_type": "code",
   "execution_count": 17,
   "metadata": {
    "collapsed": false
   },
   "outputs": [
    {
     "data": {
      "text/plain": [
       "False    7398\n",
       "True     2602\n",
       "Name: SALES_CHANNEL, dtype: int64"
      ]
     },
     "execution_count": 17,
     "metadata": {},
     "output_type": "execute_result"
    }
   ],
   "source": [
    "df_churn.SALES_CHANNEL.isnull().value_counts()"
   ]
  },
  {
   "cell_type": "code",
   "execution_count": 18,
   "metadata": {
    "collapsed": false
   },
   "outputs": [
    {
     "data": {
      "text/plain": [
       "False    9216\n",
       "True      784\n",
       "Name: DIRECT_INDIRECT_CHANNEL, dtype: int64"
      ]
     },
     "execution_count": 18,
     "metadata": {},
     "output_type": "execute_result"
    }
   ],
   "source": [
    "df_churn.DIRECT_INDIRECT_CHANNEL.isnull().value_counts()"
   ]
  },
  {
   "cell_type": "code",
   "execution_count": 19,
   "metadata": {
    "collapsed": false
   },
   "outputs": [
    {
     "data": {
      "text/plain": [
       "Indirect    6411\n",
       "Direct      2805\n",
       "Name: DIRECT_INDIRECT_CHANNEL, dtype: int64"
      ]
     },
     "execution_count": 19,
     "metadata": {},
     "output_type": "execute_result"
    }
   ],
   "source": [
    "df_churn.DIRECT_INDIRECT_CHANNEL.value_counts()"
   ]
  },
  {
   "cell_type": "code",
   "execution_count": 20,
   "metadata": {
    "collapsed": false
   },
   "outputs": [
    {
     "data": {
      "text/html": [
       "<div>\n",
       "<table border=\"1\" class=\"dataframe\">\n",
       "  <thead>\n",
       "    <tr style=\"text-align: right;\">\n",
       "      <th>DIRECT_INDIRECT_CHANNEL</th>\n",
       "      <th>Direct</th>\n",
       "      <th>Indirect</th>\n",
       "      <th>All</th>\n",
       "    </tr>\n",
       "    <tr>\n",
       "      <th>SALES_CHANNEL</th>\n",
       "      <th></th>\n",
       "      <th></th>\n",
       "      <th></th>\n",
       "    </tr>\n",
       "  </thead>\n",
       "  <tbody>\n",
       "    <tr>\n",
       "      <th>Call Centers</th>\n",
       "      <td>476</td>\n",
       "      <td>1185</td>\n",
       "      <td>1661</td>\n",
       "    </tr>\n",
       "    <tr>\n",
       "      <th>Retail/Others</th>\n",
       "      <td>446</td>\n",
       "      <td>1126</td>\n",
       "      <td>1572</td>\n",
       "    </tr>\n",
       "    <tr>\n",
       "      <th>Sales Agents</th>\n",
       "      <td>384</td>\n",
       "      <td>977</td>\n",
       "      <td>1361</td>\n",
       "    </tr>\n",
       "    <tr>\n",
       "      <th>Vars</th>\n",
       "      <td>402</td>\n",
       "      <td>944</td>\n",
       "      <td>1346</td>\n",
       "    </tr>\n",
       "    <tr>\n",
       "      <th>Web Orders</th>\n",
       "      <td>393</td>\n",
       "      <td>1018</td>\n",
       "      <td>1411</td>\n",
       "    </tr>\n",
       "    <tr>\n",
       "      <th>All</th>\n",
       "      <td>2101</td>\n",
       "      <td>5250</td>\n",
       "      <td>7351</td>\n",
       "    </tr>\n",
       "  </tbody>\n",
       "</table>\n",
       "</div>"
      ],
      "text/plain": [
       "DIRECT_INDIRECT_CHANNEL  Direct  Indirect   All\n",
       "SALES_CHANNEL                                  \n",
       "Call Centers                476      1185  1661\n",
       "Retail/Others               446      1126  1572\n",
       "Sales Agents                384       977  1361\n",
       "Vars                        402       944  1346\n",
       "Web Orders                  393      1018  1411\n",
       "All                        2101      5250  7351"
      ]
     },
     "execution_count": 20,
     "metadata": {},
     "output_type": "execute_result"
    }
   ],
   "source": [
    "pd.crosstab(df_churn.SALES_CHANNEL,df_churn.DIRECT_INDIRECT_CHANNEL,margins=True)"
   ]
  },
  {
   "cell_type": "code",
   "execution_count": 21,
   "metadata": {
    "collapsed": true
   },
   "outputs": [],
   "source": [
    "from scipy.stats import chi2_contingency"
   ]
  },
  {
   "cell_type": "code",
   "execution_count": 22,
   "metadata": {
    "collapsed": false
   },
   "outputs": [
    {
     "data": {
      "text/plain": [
       "(1.584142852133579,\n",
       " 0.8116392962033514,\n",
       " 4L,\n",
       " array([[  474.73282547,  1186.26717453],\n",
       "        [  449.29560604,  1122.70439396],\n",
       "        [  388.9893892 ,   972.0106108 ],\n",
       "        [  384.70221739,   961.29778261],\n",
       "        [  403.27996191,  1007.72003809]]))"
      ]
     },
     "execution_count": 22,
     "metadata": {},
     "output_type": "execute_result"
    }
   ],
   "source": [
    "chi2_contingency(pd.crosstab(df_churn.SALES_CHANNEL,df_churn.DIRECT_INDIRECT_CHANNEL))"
   ]
  },
  {
   "cell_type": "markdown",
   "metadata": {},
   "source": [
    "## Chi2 test shows that Sales_Channel & Direct_indirect_channel has no relationship"
   ]
  },
  {
   "cell_type": "code",
   "execution_count": 23,
   "metadata": {
    "collapsed": false
   },
   "outputs": [
    {
     "data": {
      "text/plain": [
       "(1846.1224230581781,\n",
       " 0.0,\n",
       " 20L,\n",
       " array([[ 229.17650531,  198.90791027,  213.60979929,  293.82157615,\n",
       "          521.91706021,    7.56714876],\n",
       "        [ 239.81404959,  208.14049587,  223.52479339,  307.45971074,\n",
       "          546.14256198,    7.91838843],\n",
       "        [ 189.75501771,  164.69303424,  176.86599764,  243.28025384,\n",
       "          432.14020071,    6.26549587],\n",
       "        [ 197.42030697,  171.3459268 ,  184.01062574,  253.10773318,\n",
       "          449.59681228,    6.51859504],\n",
       "        [ 203.83412043,  176.91263282,  189.98878394,  261.33072609,\n",
       "          464.20336482,    6.7303719 ]]))"
      ]
     },
     "execution_count": 23,
     "metadata": {},
     "output_type": "execute_result"
    }
   ],
   "source": [
    "chi2_contingency(pd.crosstab(df_churn.SALES_CHANNEL,df_churn.MODEL))"
   ]
  },
  {
   "cell_type": "markdown",
   "metadata": {},
   "source": [
    "##  Chi2 test shows that Sales_Channel & Model have relationship: so we can use one variable "
   ]
  },
  {
   "cell_type": "code",
   "execution_count": 24,
   "metadata": {
    "collapsed": false
   },
   "outputs": [
    {
     "data": {
      "text/plain": [
       "HNS Customers    9992\n",
       "Name: COMPANY_SOURCE_NAME, dtype: int64"
      ]
     },
     "execution_count": 24,
     "metadata": {},
     "output_type": "execute_result"
    }
   ],
   "source": [
    "# Company source\n",
    "df_churn.COMPANY_SOURCE_NAME.value_counts()"
   ]
  },
  {
   "cell_type": "code",
   "execution_count": 25,
   "metadata": {
    "collapsed": false
   },
   "outputs": [
    {
     "data": {
      "text/plain": [
       "TAG                                        1191\n",
       "Red Ventures LLC (SA)                      1092\n",
       "DialAmerica Marketing Inc (CC)              647\n",
       "Communication Solutions LLC (CC)            623\n",
       "OKS Ameridial Inc (CC)                      586\n",
       "Hughes Web Order                            568\n",
       "LiveBridge Communications LLC               523\n",
       "I-Dish.com LLC (SA)                         405\n",
       "ALORAD Inc (SA)                             382\n",
       "ACS                                         376\n",
       "NationWide Satellite (SA)                   335\n",
       "ACS Pre-Install                             162\n",
       "Electronic Express (SA)                     131\n",
       "RS&I                                        123\n",
       "EBN Financial dba Dish Systems (SA)         118\n",
       "Best Buy                                    107\n",
       "AmericanSat                                 106\n",
       "Elite Satellite and Home Theater Inc (S     105\n",
       "Buy Telco                                    95\n",
       "Perfect 10                                   94\n",
       "GoDish.com Ltd LLP (SA)                      78\n",
       "Satex                                        75\n",
       "Satellite Dish Marketing LLC dba Digita      71\n",
       "Qcorps Residential Inc dba WhiteFence (      66\n",
       "MyNet LLC (SA)                               64\n",
       "Direct SAT Broadband LLC (SA)                64\n",
       "Altitude Marketing LLC dba 4DigitalTV (      55\n",
       "Satellite Country Inc (SA)                   52\n",
       "Infodish (SA)                                50\n",
       "Jon Comer dba Satellite Internet Americ      49\n",
       "                                           ... \n",
       "CommLink Services Maryland                    9\n",
       "Beans Satellite (RSI568671)                   9\n",
       "Advanced Com Systems Inc (P10)                9\n",
       "CAIS Acquisition II LLC dba VMC Satelli       8\n",
       "Sharp Electronics (P10)                       8\n",
       "Digistar Genesis                              8\n",
       "Direc Vizion (P10)                            8\n",
       "Syntelesys Inc dba Ytech (DSAR)               8\n",
       "Creel Services Inc dba Creels the Dish        8\n",
       "Direct Satellite Internet & TV (RSI5780       8\n",
       "A & A LLC (SA)                                8\n",
       "Professional Satellite & Communications       7\n",
       "Lonestar Communications (RSI570694)           7\n",
       "Remoteworks Inc (SA)                          7\n",
       "Get Wired (DOW)                               7\n",
       "Highland Electronics NC                       7\n",
       "Five Star Satellite Communications (RSI       7\n",
       "Skyview Broadband LLC (SA)                    7\n",
       "Dish Direct Network Inc dba Dish Direct       7\n",
       "Atwood Satellite (P10)                        7\n",
       "South Texas Satellite (RSI568232)             6\n",
       "DigitalMojo Inc (SA)                          6\n",
       "Midwest Satellite Systems (P10)(SV)           6\n",
       "Brad's Electronics                            6\n",
       "Tulsa Audio & Video (RSI578633)               6\n",
       "B & B Satellite (P10)                         5\n",
       "American Satellite & Ent Inc (SA)             5\n",
       "ECC Retention Orders                          5\n",
       "Compu Mobile Tech Store Inc                   4\n",
       "Rapid Satellite (SA)                          3\n",
       "Name: SALES_SOURCE, dtype: int64"
      ]
     },
     "execution_count": 25,
     "metadata": {},
     "output_type": "execute_result"
    }
   ],
   "source": [
    "# Sales source\n",
    "df_churn.SALES_SOURCE.value_counts()"
   ]
  },
  {
   "cell_type": "code",
   "execution_count": 26,
   "metadata": {
    "collapsed": false
   },
   "outputs": [
    {
     "data": {
      "text/plain": [
       "Spaceway            6113\n",
       "Broadband Remote    3824\n",
       "Name: SITE_TYPE_DESC, dtype: int64"
      ]
     },
     "execution_count": 26,
     "metadata": {},
     "output_type": "execute_result"
    }
   ],
   "source": [
    "# SITE_TYPE_DESC\n",
    "df_churn.SITE_TYPE_DESC.value_counts()"
   ]
  },
  {
   "cell_type": "code",
   "execution_count": 27,
   "metadata": {
    "collapsed": false
   },
   "outputs": [
    {
     "data": {
      "text/plain": [
       "BAD     5053\n",
       "GOOD    2919\n",
       "Name: FEEDBACK, dtype: int64"
      ]
     },
     "execution_count": 27,
     "metadata": {},
     "output_type": "execute_result"
    }
   ],
   "source": [
    "# feedback\n",
    "df_churn.FEEDBACK.value_counts()"
   ]
  },
  {
   "cell_type": "code",
   "execution_count": 28,
   "metadata": {
    "collapsed": false
   },
   "outputs": [
    {
     "data": {
      "text/plain": [
       "False    9719\n",
       "True      281\n",
       "Name: MARITAL_STATUS, dtype: int64"
      ]
     },
     "execution_count": 28,
     "metadata": {},
     "output_type": "execute_result"
    }
   ],
   "source": [
    "# Marital stats\n",
    "df_churn.MARITAL_STATUS.isnull().value_counts()"
   ]
  },
  {
   "cell_type": "code",
   "execution_count": 29,
   "metadata": {
    "collapsed": false
   },
   "outputs": [
    {
     "data": {
      "text/plain": [
       ".    3341\n",
       "0    3053\n",
       "1    2841\n",
       "2     484\n",
       "Name: MARITAL_STATUS, dtype: int64"
      ]
     },
     "execution_count": 29,
     "metadata": {},
     "output_type": "execute_result"
    }
   ],
   "source": [
    "df_churn.MARITAL_STATUS.value_counts()"
   ]
  },
  {
   "cell_type": "code",
   "execution_count": 30,
   "metadata": {
    "collapsed": false
   },
   "outputs": [
    {
     "data": {
      "text/plain": [
       "0.0    4654\n",
       "1.0    4510\n",
       "2.0     516\n",
       "Name: MARITAL_STATUS, dtype: int64"
      ]
     },
     "execution_count": 30,
     "metadata": {},
     "output_type": "execute_result"
    }
   ],
   "source": [
    "df_active.MARITAL_STATUS.value_counts()"
   ]
  },
  {
   "cell_type": "markdown",
   "metadata": {},
   "source": [
    "## Since we have not consistent values in Marital Stats column in both churn & active data set so for simplicity , I will drop this column in model building\n"
   ]
  },
  {
   "cell_type": "code",
   "execution_count": 31,
   "metadata": {
    "collapsed": false
   },
   "outputs": [
    {
     "data": {
      "text/plain": [
       "Y    3932\n",
       "N    2825\n",
       "Name: COMPUTER_OWNER, dtype: int64"
      ]
     },
     "execution_count": 31,
     "metadata": {},
     "output_type": "execute_result"
    }
   ],
   "source": [
    "# Computer own\n",
    "df_churn.COMPUTER_OWNER.value_counts()"
   ]
  },
  {
   "cell_type": "code",
   "execution_count": 32,
   "metadata": {
    "collapsed": false
   },
   "outputs": [
    {
     "data": {
      "text/plain": [
       "N    5819\n",
       "Y    1125\n",
       "Name: COMPUTER_OWNER, dtype: int64"
      ]
     },
     "execution_count": 32,
     "metadata": {},
     "output_type": "execute_result"
    }
   ],
   "source": [
    "df_active.COMPUTER_OWNER.value_counts()"
   ]
  },
  {
   "cell_type": "code",
   "execution_count": 33,
   "metadata": {
    "collapsed": false
   },
   "outputs": [
    {
     "data": {
      "text/plain": [
       "0.0    5420\n",
       "1.0    3328\n",
       "Name: PRESENCE_OF_CHILDREN, dtype: int64"
      ]
     },
     "execution_count": 33,
     "metadata": {},
     "output_type": "execute_result"
    }
   ],
   "source": [
    "# Presence of children\n",
    "df_churn.PRESENCE_OF_CHILDREN.value_counts()"
   ]
  },
  {
   "cell_type": "code",
   "execution_count": 34,
   "metadata": {
    "collapsed": false
   },
   "outputs": [
    {
     "data": {
      "text/plain": [
       "0.0    6643\n",
       "1.0    2041\n",
       "Name: PRESENCE_OF_CHILDREN, dtype: int64"
      ]
     },
     "execution_count": 34,
     "metadata": {},
     "output_type": "execute_result"
    }
   ],
   "source": [
    "df_active.PRESENCE_OF_CHILDREN.value_counts()"
   ]
  },
  {
   "cell_type": "code",
   "execution_count": 35,
   "metadata": {
    "collapsed": false
   },
   "outputs": [
    {
     "data": {
      "text/plain": [
       "Index([u'SITE_ACCOUNT_NUMBER', u'ACCOUNT_STATUS', u'FIRST_COMMUNICATION_DATE',\n",
       "       u'UPGRADE_DATE', u'SERVICE_ PLAN', u'MODEL', u'SALES_CHANNEL',\n",
       "       u'DIRECT_INDIRECT_CHANNEL', u'SALES_SOURCE', u'COMPANY_SOURCE_NAME',\n",
       "       u'FIRST_NAME', u'LAST_NAME', u'ADDRESS', u'CITY', u'STATE', u'ZIPCODE',\n",
       "       u'EMAIL_ADDRESS', u'FEEDBACK', u'SATELLITE', u'SITE_TYPE_DESC',\n",
       "       u'WARRANTY_NAME', u'MOST_RECENT_SALES_CHANNEL', u'GENDER',\n",
       "       u'DATE_OF_BIRTH', u'AGE', u'INCOME', u'MARITAL_STATUS',\n",
       "       u'PRESENCE_OF_CHILDREN', u'COMPUTER_OWNER'],\n",
       "      dtype='object')"
      ]
     },
     "execution_count": 35,
     "metadata": {},
     "output_type": "execute_result"
    }
   ],
   "source": [
    "df_active.columns"
   ]
  },
  {
   "cell_type": "code",
   "execution_count": 36,
   "metadata": {
    "collapsed": false
   },
   "outputs": [
    {
     "data": {
      "text/plain": [
       "Proplus      1272\n",
       "Basic_Ltd    1268\n",
       "Basic        1263\n",
       "Elite        1256\n",
       "Power150     1248\n",
       "Home         1243\n",
       "Pro          1210\n",
       "Name: SERVICE_ PLAN, dtype: int64"
      ]
     },
     "execution_count": 36,
     "metadata": {},
     "output_type": "execute_result"
    }
   ],
   "source": [
    "df_active['SERVICE_ PLAN'].value_counts()"
   ]
  },
  {
   "cell_type": "code",
   "execution_count": 37,
   "metadata": {
    "collapsed": false
   },
   "outputs": [
    {
     "data": {
      "text/plain": [
       "False    8518\n",
       "True     1482\n",
       "Name: SERVICE_PLAN, dtype: int64"
      ]
     },
     "execution_count": 37,
     "metadata": {},
     "output_type": "execute_result"
    }
   ],
   "source": [
    "df_churn.SERVICE_PLAN.isnull().value_counts()"
   ]
  },
  {
   "cell_type": "code",
   "execution_count": 38,
   "metadata": {
    "collapsed": false
   },
   "outputs": [
    {
     "data": {
      "text/plain": [
       "Elite                1795\n",
       "SO                   1184\n",
       "Home                 1122\n",
       "Professional          780\n",
       "Basic_Ltd             666\n",
       "Proplus               664\n",
       "Power15               624\n",
       "Basic                 623\n",
       "Pro                   555\n",
       "Professional Plus     505\n",
       "Name: SERVICE_PLAN, dtype: int64"
      ]
     },
     "execution_count": 38,
     "metadata": {},
     "output_type": "execute_result"
    }
   ],
   "source": [
    "df_churn.SERVICE_PLAN.value_counts()"
   ]
  },
  {
   "cell_type": "code",
   "execution_count": 39,
   "metadata": {
    "collapsed": false
   },
   "outputs": [
    {
     "data": {
      "text/plain": [
       "0                                               6116\n",
       "EXPRESS REPAIR BASIC                            2472\n",
       "EXPRESS REPAIR HOME WITH TERM                    303\n",
       "SRVC ASSUR STD NEW CUST                          298\n",
       "Broadband Remote                                  39\n",
       "SRVC ASSUR PLUS NEW CUST                          28\n",
       "EXPRESS REPAIR BUSINESS WITH TERM                 23\n",
       "Spaceway                                          16\n",
       "EXPRESS REPAIR HOME                               14\n",
       "EXPRESS REPAIR HOME W/O COMMITMENT WITH TERM      10\n",
       "Name: WARRANTY_NAME, dtype: int64"
      ]
     },
     "execution_count": 39,
     "metadata": {},
     "output_type": "execute_result"
    }
   ],
   "source": [
    "df_churn.WARRANTY_NAME.value_counts()"
   ]
  },
  {
   "cell_type": "code",
   "execution_count": 40,
   "metadata": {
    "collapsed": false
   },
   "outputs": [
    {
     "data": {
      "text/plain": [
       "Index([      u'SITE_ACCOUNT_NUMBER',            u'ACCOUNT_STATUS',\n",
       "        u'FIRST_COMMUNICATION_DATE',                u'CHURN_DATE',\n",
       "                    u'UPGRADE_DATE',              u'SERVICE_PLAN',\n",
       "                           u'MODEL',             u'SALES_CHANNEL',\n",
       "         u'DIRECT_INDIRECT_CHANNEL',              u'SALES_SOURCE',\n",
       "             u'COMPANY_SOURCE_NAME',                u'FIRST_NAME',\n",
       "                       u'LAST_NAME',                   u'ADDRESS',\n",
       "                            u'CITY',                     u'STATE',\n",
       "                         u'ZIPCODE',             u'EMAIL_ADDRESS',\n",
       "                        u'FEEDBACK',                 u'SATELLITE',\n",
       "                  u'SITE_TYPE_DESC',             u'WARRANTY_NAME',\n",
       "       u'MOST_RECENT_SALES_CHANNEL',                    u'GENDER',\n",
       "                   u'DATE_OF_BIRTH',                       u'AGE',\n",
       "                          u'INCOME',            u'MARITAL_STATUS',\n",
       "            u'PRESENCE_OF_CHILDREN',            u'COMPUTER_OWNER',\n",
       "                      u'Sub_period'],\n",
       "      dtype='object')"
      ]
     },
     "execution_count": 40,
     "metadata": {},
     "output_type": "execute_result"
    }
   ],
   "source": [
    "df_churn.columns"
   ]
  },
  {
   "cell_type": "code",
   "execution_count": 41,
   "metadata": {
    "collapsed": true
   },
   "outputs": [],
   "source": [
    "drp_col=['SITE_ACCOUNT_NUMBER','ACCOUNT_STATUS','FIRST_COMMUNICATION_DATE','CHURN_DATE','UPGRADE_DATE','COMPANY_SOURCE_NAME',\n",
    "         'SALES_CHANNEL','COMPANY_SOURCE_NAME','FIRST_NAME','LAST_NAME','ADDRESS','CITY','ZIPCODE','EMAIL_ADDRESS',\n",
    "         'WARRANTY_NAME','MOST_RECENT_SALES_CHANNEL','MARITAL_STATUS']"
   ]
  },
  {
   "cell_type": "code",
   "execution_count": 42,
   "metadata": {
    "collapsed": true
   },
   "outputs": [],
   "source": [
    "df_churn_drp=df_churn.drop(drp_col,axis=1)"
   ]
  },
  {
   "cell_type": "code",
   "execution_count": 43,
   "metadata": {
    "collapsed": true
   },
   "outputs": [],
   "source": [
    "df_churn_drp.AGE.fillna(df_churn_drp.AGE.mean(),inplace=True)\n",
    "df_churn_drp.AGE=df_churn_drp.AGE.astype('int')"
   ]
  },
  {
   "cell_type": "code",
   "execution_count": 44,
   "metadata": {
    "collapsed": true
   },
   "outputs": [],
   "source": [
    "df_churn_drp.drop('DATE_OF_BIRTH',axis=1,inplace=True)"
   ]
  },
  {
   "cell_type": "code",
   "execution_count": 45,
   "metadata": {
    "collapsed": false
   },
   "outputs": [
    {
     "data": {
      "text/plain": [
       "1.0    4982\n",
       "2.0    3780\n",
       "Name: GENDER, dtype: int64"
      ]
     },
     "execution_count": 45,
     "metadata": {},
     "output_type": "execute_result"
    }
   ],
   "source": [
    "df_churn_drp.GENDER.value_counts()"
   ]
  },
  {
   "cell_type": "code",
   "execution_count": 46,
   "metadata": {
    "collapsed": true
   },
   "outputs": [],
   "source": [
    "df_churn_drp.GENDER.fillna(1.0,inplace=True)\n",
    "df_churn_drp.GENDER=df_churn_drp.GENDER.astype('object')"
   ]
  },
  {
   "cell_type": "code",
   "execution_count": 47,
   "metadata": {
    "collapsed": true
   },
   "outputs": [],
   "source": [
    "df_churn_drp['CHURN']=1\n",
    "\n",
    "df_churn_drp.CHURN=df_churn_drp.CHURN\n"
   ]
  },
  {
   "cell_type": "code",
   "execution_count": 48,
   "metadata": {
    "collapsed": false
   },
   "outputs": [
    {
     "name": "stdout",
     "output_type": "stream",
     "text": [
      "<class 'pandas.core.frame.DataFrame'>\n",
      "RangeIndex: 10000 entries, 0 to 9999\n",
      "Data columns (total 15 columns):\n",
      "SERVICE_PLAN               8518 non-null object\n",
      "MODEL                      9290 non-null object\n",
      "DIRECT_INDIRECT_CHANNEL    9216 non-null object\n",
      "SALES_SOURCE               9710 non-null object\n",
      "STATE                      9955 non-null object\n",
      "FEEDBACK                   7972 non-null object\n",
      "SATELLITE                  8987 non-null object\n",
      "SITE_TYPE_DESC             9937 non-null object\n",
      "GENDER                     10000 non-null object\n",
      "AGE                        10000 non-null int32\n",
      "INCOME                     10000 non-null object\n",
      "PRESENCE_OF_CHILDREN       8748 non-null float64\n",
      "COMPUTER_OWNER             6757 non-null object\n",
      "Sub_period                 10000 non-null int64\n",
      "CHURN                      10000 non-null int64\n",
      "dtypes: float64(1), int32(1), int64(2), object(11)\n",
      "memory usage: 1.1+ MB\n"
     ]
    }
   ],
   "source": [
    "df_churn_drp.info()"
   ]
  },
  {
   "cell_type": "markdown",
   "metadata": {},
   "source": [
    "# Prepraing Active customer data:"
   ]
  },
  {
   "cell_type": "code",
   "execution_count": 49,
   "metadata": {
    "collapsed": false
   },
   "outputs": [
    {
     "name": "stdout",
     "output_type": "stream",
     "text": [
      "<class 'pandas.core.frame.DataFrame'>\n",
      "RangeIndex: 9999 entries, 0 to 9998\n",
      "Data columns (total 29 columns):\n",
      "SITE_ACCOUNT_NUMBER          9998 non-null object\n",
      "ACCOUNT_STATUS               9998 non-null object\n",
      "FIRST_COMMUNICATION_DATE     9989 non-null datetime64[ns]\n",
      "UPGRADE_DATE                 9989 non-null datetime64[ns]\n",
      "SERVICE_ PLAN                8760 non-null object\n",
      "MODEL                        9323 non-null object\n",
      "SALES_CHANNEL                7093 non-null object\n",
      "DIRECT_INDIRECT_CHANNEL      9954 non-null object\n",
      "SALES_SOURCE                 9306 non-null object\n",
      "COMPANY_SOURCE_NAME          9988 non-null object\n",
      "FIRST_NAME                   9998 non-null object\n",
      "LAST_NAME                    9998 non-null object\n",
      "ADDRESS                      9945 non-null object\n",
      "CITY                         9998 non-null object\n",
      "STATE                        9977 non-null object\n",
      "ZIPCODE                      9977 non-null object\n",
      "EMAIL_ADDRESS                9979 non-null object\n",
      "FEEDBACK                     8085 non-null object\n",
      "SATELLITE                    9603 non-null object\n",
      "SITE_TYPE_DESC               9988 non-null object\n",
      "WARRANTY_NAME                9042 non-null object\n",
      "MOST_RECENT_SALES_CHANNEL    9992 non-null object\n",
      "GENDER                       8728 non-null float64\n",
      "DATE_OF_BIRTH                9998 non-null object\n",
      "AGE                          9998 non-null object\n",
      "INCOME                       9681 non-null object\n",
      "MARITAL_STATUS               9680 non-null float64\n",
      "PRESENCE_OF_CHILDREN         8684 non-null float64\n",
      "COMPUTER_OWNER               6944 non-null object\n",
      "dtypes: datetime64[ns](2), float64(3), object(24)\n",
      "memory usage: 2.2+ MB\n"
     ]
    }
   ],
   "source": [
    "df_active.info()"
   ]
  },
  {
   "cell_type": "markdown",
   "metadata": {},
   "source": [
    "### There are rows with no information on First Comm date & Upgrade date so we can;t find out how long ciustomers are with the provider. For simplicity sake, dropping off those rows"
   ]
  },
  {
   "cell_type": "code",
   "execution_count": 50,
   "metadata": {
    "collapsed": false
   },
   "outputs": [],
   "source": [
    "index=df_active.loc[df_active.FIRST_COMMUNICATION_DATE.isnull(),:].index"
   ]
  },
  {
   "cell_type": "code",
   "execution_count": 51,
   "metadata": {
    "collapsed": false
   },
   "outputs": [],
   "source": [
    "df_active.drop(index,axis=0,inplace=True)\n"
   ]
  },
  {
   "cell_type": "code",
   "execution_count": 52,
   "metadata": {
    "collapsed": false
   },
   "outputs": [
    {
     "data": {
      "text/plain": [
       "(9989, 29)"
      ]
     },
     "execution_count": 52,
     "metadata": {},
     "output_type": "execute_result"
    }
   ],
   "source": [
    "df_active.shape"
   ]
  },
  {
   "cell_type": "code",
   "execution_count": 53,
   "metadata": {
    "collapsed": false
   },
   "outputs": [],
   "source": [
    "df_active['SERVICE_PLAN']=df_active['SERVICE_ PLAN']\n",
    "df_active.SERVICE_PLAN.value_counts()\n",
    "df_active.SERVICE_PLAN.isnull().value_counts()\n",
    "df_active.drop('SERVICE_ PLAN',axis=1,inplace=True)"
   ]
  },
  {
   "cell_type": "code",
   "execution_count": 54,
   "metadata": {
    "collapsed": true
   },
   "outputs": [],
   "source": [
    "df_active['Sub_period']=df_active.UPGRADE_DATE - df_active.FIRST_COMMUNICATION_DATE"
   ]
  },
  {
   "cell_type": "code",
   "execution_count": 55,
   "metadata": {
    "collapsed": false
   },
   "outputs": [],
   "source": [
    "df_active.Sub_period=df_active.Sub_period.apply(lambda x: x.days)"
   ]
  },
  {
   "cell_type": "code",
   "execution_count": 56,
   "metadata": {
    "collapsed": true
   },
   "outputs": [],
   "source": [
    "drp_col_active=['SITE_ACCOUNT_NUMBER','ACCOUNT_STATUS','FIRST_COMMUNICATION_DATE','UPGRADE_DATE','COMPANY_SOURCE_NAME',\n",
    "         'SALES_CHANNEL','COMPANY_SOURCE_NAME','FIRST_NAME','LAST_NAME','ADDRESS','CITY','ZIPCODE','EMAIL_ADDRESS',\n",
    "         'WARRANTY_NAME','MOST_RECENT_SALES_CHANNEL','MARITAL_STATUS']"
   ]
  },
  {
   "cell_type": "code",
   "execution_count": 57,
   "metadata": {
    "collapsed": false
   },
   "outputs": [],
   "source": [
    "df_active_drp=df_active.drop(drp_col_active,axis=1)"
   ]
  },
  {
   "cell_type": "code",
   "execution_count": 58,
   "metadata": {
    "collapsed": false
   },
   "outputs": [
    {
     "name": "stdout",
     "output_type": "stream",
     "text": [
      "<class 'pandas.core.frame.DataFrame'>\n",
      "Int64Index: 9989 entries, 0 to 9997\n",
      "Data columns (total 15 columns):\n",
      "MODEL                      9315 non-null object\n",
      "DIRECT_INDIRECT_CHANNEL    9945 non-null object\n",
      "SALES_SOURCE               9297 non-null object\n",
      "STATE                      9968 non-null object\n",
      "FEEDBACK                   8077 non-null object\n",
      "SATELLITE                  9594 non-null object\n",
      "SITE_TYPE_DESC             9979 non-null object\n",
      "GENDER                     8719 non-null float64\n",
      "DATE_OF_BIRTH              9989 non-null object\n",
      "AGE                        9989 non-null object\n",
      "INCOME                     9672 non-null object\n",
      "PRESENCE_OF_CHILDREN       8677 non-null float64\n",
      "COMPUTER_OWNER             6938 non-null object\n",
      "SERVICE_PLAN               8753 non-null object\n",
      "Sub_period                 9989 non-null int64\n",
      "dtypes: float64(2), int64(1), object(12)\n",
      "memory usage: 1.2+ MB\n"
     ]
    }
   ],
   "source": [
    "df_active_drp.info()"
   ]
  },
  {
   "cell_type": "code",
   "execution_count": 59,
   "metadata": {
    "collapsed": false
   },
   "outputs": [],
   "source": [
    "df_active_drp.drop('DATE_OF_BIRTH',axis=1,inplace=True)"
   ]
  },
  {
   "cell_type": "code",
   "execution_count": 60,
   "metadata": {
    "collapsed": false
   },
   "outputs": [
    {
     "data": {
      "text/plain": [
       "False    9989\n",
       "Name: AGE, dtype: int64"
      ]
     },
     "execution_count": 60,
     "metadata": {},
     "output_type": "execute_result"
    }
   ],
   "source": [
    "df_active_drp.AGE.isnull().value_counts()\n"
   ]
  },
  {
   "cell_type": "code",
   "execution_count": 61,
   "metadata": {
    "collapsed": false
   },
   "outputs": [],
   "source": [
    "md_age=df_active_drp.AGE.mode()[0]"
   ]
  },
  {
   "cell_type": "code",
   "execution_count": 62,
   "metadata": {
    "collapsed": false
   },
   "outputs": [],
   "source": [
    "df_active_drp.loc[df_active_drp.AGE=='.','AGE']=md_age"
   ]
  },
  {
   "cell_type": "code",
   "execution_count": 63,
   "metadata": {
    "collapsed": false
   },
   "outputs": [],
   "source": [
    "df_active_drp.AGE=df_active_drp.AGE.astype('int')"
   ]
  },
  {
   "cell_type": "code",
   "execution_count": 64,
   "metadata": {
    "collapsed": false
   },
   "outputs": [
    {
     "data": {
      "text/plain": [
       "<matplotlib.axes._subplots.AxesSubplot at 0xb1c4ef0>"
      ]
     },
     "execution_count": 64,
     "metadata": {},
     "output_type": "execute_result"
    },
    {
     "data": {
      "image/png": "[encoded data removed]",
      "text/plain": [
       "<matplotlib.figure.Figure at 0xb1c4828>"
      ]
     },
     "metadata": {},
     "output_type": "display_data"
    }
   ],
   "source": [
    "sns.boxplot(data=df_active_drp.AGE)"
   ]
  },
  {
   "cell_type": "markdown",
   "metadata": {},
   "source": [
    "### Since there are no outliers so we need not do any outlier treatment"
   ]
  },
  {
   "cell_type": "code",
   "execution_count": 65,
   "metadata": {
    "collapsed": false
   },
   "outputs": [
    {
     "data": {
      "text/plain": [
       "False"
      ]
     },
     "execution_count": 65,
     "metadata": {},
     "output_type": "execute_result"
    }
   ],
   "source": [
    "df_active_drp.AGE.isnull().any()"
   ]
  },
  {
   "cell_type": "code",
   "execution_count": 66,
   "metadata": {
    "collapsed": false
   },
   "outputs": [
    {
     "data": {
      "text/plain": [
       "0.0    6642\n",
       "1.0    2035\n",
       "Name: PRESENCE_OF_CHILDREN, dtype: int64"
      ]
     },
     "execution_count": 66,
     "metadata": {},
     "output_type": "execute_result"
    }
   ],
   "source": [
    "df_active_drp.PRESENCE_OF_CHILDREN.value_counts()"
   ]
  },
  {
   "cell_type": "code",
   "execution_count": 67,
   "metadata": {
    "collapsed": false
   },
   "outputs": [],
   "source": [
    "df_active_drp.PRESENCE_OF_CHILDREN.fillna(0.0,inplace=True)"
   ]
  },
  {
   "cell_type": "code",
   "execution_count": 68,
   "metadata": {
    "collapsed": true
   },
   "outputs": [],
   "source": [
    "df_active_drp.PRESENCE_OF_CHILDREN=df_active_drp.PRESENCE_OF_CHILDREN.astype('object')"
   ]
  },
  {
   "cell_type": "code",
   "execution_count": 69,
   "metadata": {
    "collapsed": false
   },
   "outputs": [],
   "source": [
    "df_active_drp.GENDER.fillna(1.0,inplace=True)\n",
    "df_active_drp.GENDER=df_active_drp.GENDER.astype('object')"
   ]
  },
  {
   "cell_type": "code",
   "execution_count": 70,
   "metadata": {
    "collapsed": false
   },
   "outputs": [
    {
     "name": "stdout",
     "output_type": "stream",
     "text": [
      "<class 'pandas.core.frame.DataFrame'>\n",
      "Int64Index: 9989 entries, 0 to 9997\n",
      "Data columns (total 14 columns):\n",
      "MODEL                      9315 non-null object\n",
      "DIRECT_INDIRECT_CHANNEL    9945 non-null object\n",
      "SALES_SOURCE               9297 non-null object\n",
      "STATE                      9968 non-null object\n",
      "FEEDBACK                   8077 non-null object\n",
      "SATELLITE                  9594 non-null object\n",
      "SITE_TYPE_DESC             9979 non-null object\n",
      "GENDER                     9989 non-null object\n",
      "AGE                        9989 non-null int32\n",
      "INCOME                     9672 non-null object\n",
      "PRESENCE_OF_CHILDREN       9989 non-null object\n",
      "COMPUTER_OWNER             6938 non-null object\n",
      "SERVICE_PLAN               8753 non-null object\n",
      "Sub_period                 9989 non-null int64\n",
      "dtypes: int32(1), int64(1), object(12)\n",
      "memory usage: 1.1+ MB\n"
     ]
    }
   ],
   "source": [
    "df_active_drp.info()"
   ]
  },
  {
   "cell_type": "code",
   "execution_count": 71,
   "metadata": {
    "collapsed": false
   },
   "outputs": [
    {
     "name": "stdout",
     "output_type": "stream",
     "text": [
      "<class 'pandas.core.frame.DataFrame'>\n",
      "Int64Index: 9989 entries, 0 to 9997\n",
      "Data columns (total 15 columns):\n",
      "MODEL                      9315 non-null object\n",
      "DIRECT_INDIRECT_CHANNEL    9945 non-null object\n",
      "SALES_SOURCE               9297 non-null object\n",
      "STATE                      9968 non-null object\n",
      "FEEDBACK                   8077 non-null object\n",
      "SATELLITE                  9594 non-null object\n",
      "SITE_TYPE_DESC             9979 non-null object\n",
      "GENDER                     9989 non-null object\n",
      "AGE                        9989 non-null int32\n",
      "INCOME                     9672 non-null object\n",
      "PRESENCE_OF_CHILDREN       9989 non-null object\n",
      "COMPUTER_OWNER             6938 non-null object\n",
      "SERVICE_PLAN               8753 non-null object\n",
      "Sub_period                 9989 non-null int64\n",
      "CHURN                      9989 non-null int64\n",
      "dtypes: int32(1), int64(2), object(12)\n",
      "memory usage: 1.2+ MB\n"
     ]
    }
   ],
   "source": [
    "df_active_drp['CHURN']=0\n",
    "\n",
    "df_active_drp.CHURN=df_active_drp.CHURN\n",
    "df_active_drp.info()"
   ]
  },
  {
   "cell_type": "code",
   "execution_count": 72,
   "metadata": {
    "collapsed": false
   },
   "outputs": [
    {
     "name": "stdout",
     "output_type": "stream",
     "text": [
      "<class 'pandas.core.frame.DataFrame'>\n",
      "RangeIndex: 10000 entries, 0 to 9999\n",
      "Data columns (total 15 columns):\n",
      "SERVICE_PLAN               8518 non-null object\n",
      "MODEL                      9290 non-null object\n",
      "DIRECT_INDIRECT_CHANNEL    9216 non-null object\n",
      "SALES_SOURCE               9710 non-null object\n",
      "STATE                      9955 non-null object\n",
      "FEEDBACK                   7972 non-null object\n",
      "SATELLITE                  8987 non-null object\n",
      "SITE_TYPE_DESC             9937 non-null object\n",
      "GENDER                     10000 non-null object\n",
      "AGE                        10000 non-null int32\n",
      "INCOME                     10000 non-null object\n",
      "PRESENCE_OF_CHILDREN       8748 non-null float64\n",
      "COMPUTER_OWNER             6757 non-null object\n",
      "Sub_period                 10000 non-null int64\n",
      "CHURN                      10000 non-null int64\n",
      "dtypes: float64(1), int32(1), int64(2), object(11)\n",
      "memory usage: 1.1+ MB\n"
     ]
    }
   ],
   "source": [
    "df_churn_drp.info()"
   ]
  },
  {
   "cell_type": "markdown",
   "metadata": {},
   "source": [
    "# Concatinating both datasets\n"
   ]
  },
  {
   "cell_type": "code",
   "execution_count": 357,
   "metadata": {
    "collapsed": false
   },
   "outputs": [],
   "source": [
    "df_final=pd.concat([df_active_drp,df_churn_drp],axis=0)"
   ]
  },
  {
   "cell_type": "code",
   "execution_count": null,
   "metadata": {
    "collapsed": true
   },
   "outputs": [],
   "source": []
  },
  {
   "cell_type": "code",
   "execution_count": 318,
   "metadata": {
    "collapsed": false
   },
   "outputs": [
    {
     "data": {
      "text/plain": [
       "(19989, 15)"
      ]
     },
     "execution_count": 318,
     "metadata": {},
     "output_type": "execute_result"
    }
   ],
   "source": [
    "df_final.shape"
   ]
  },
  {
   "cell_type": "code",
   "execution_count": 359,
   "metadata": {
    "collapsed": false
   },
   "outputs": [
    {
     "data": {
      "text/plain": [
       "Index([                    u'AGE',                   u'CHURN',\n",
       "                u'COMPUTER_OWNER', u'DIRECT_INDIRECT_CHANNEL',\n",
       "                      u'FEEDBACK',                  u'GENDER',\n",
       "                        u'INCOME',                   u'MODEL',\n",
       "          u'PRESENCE_OF_CHILDREN',            u'SALES_SOURCE',\n",
       "                     u'SATELLITE',            u'SERVICE_PLAN',\n",
       "                u'SITE_TYPE_DESC',                   u'STATE',\n",
       "                    u'Sub_period'],\n",
       "      dtype='object')"
      ]
     },
     "execution_count": 359,
     "metadata": {},
     "output_type": "execute_result"
    }
   ],
   "source": [
    "df_final.columns"
   ]
  },
  {
   "cell_type": "code",
   "execution_count": 360,
   "metadata": {
    "collapsed": false
   },
   "outputs": [
    {
     "data": {
      "text/html": [
       "<div>\n",
       "<table border=\"1\" class=\"dataframe\">\n",
       "  <thead>\n",
       "    <tr style=\"text-align: right;\">\n",
       "      <th></th>\n",
       "      <th>AGE</th>\n",
       "      <th>CHURN</th>\n",
       "      <th>COMPUTER_OWNER</th>\n",
       "      <th>DIRECT_INDIRECT_CHANNEL</th>\n",
       "      <th>FEEDBACK</th>\n",
       "      <th>GENDER</th>\n",
       "      <th>INCOME</th>\n",
       "      <th>MODEL</th>\n",
       "      <th>PRESENCE_OF_CHILDREN</th>\n",
       "      <th>SALES_SOURCE</th>\n",
       "      <th>SATELLITE</th>\n",
       "      <th>SERVICE_PLAN</th>\n",
       "      <th>SITE_TYPE_DESC</th>\n",
       "      <th>STATE</th>\n",
       "      <th>Sub_period</th>\n",
       "    </tr>\n",
       "  </thead>\n",
       "  <tbody>\n",
       "    <tr>\n",
       "      <th>0</th>\n",
       "      <td>69</td>\n",
       "      <td>0</td>\n",
       "      <td>N</td>\n",
       "      <td>Indirect</td>\n",
       "      <td>NaN</td>\n",
       "      <td>2</td>\n",
       "      <td>0</td>\n",
       "      <td>HN9000</td>\n",
       "      <td>0</td>\n",
       "      <td>UNKNOWN</td>\n",
       "      <td>SPACEWAY3</td>\n",
       "      <td>NaN</td>\n",
       "      <td>Broadband Remote</td>\n",
       "      <td>MD</td>\n",
       "      <td>747</td>\n",
       "    </tr>\n",
       "    <tr>\n",
       "      <th>1</th>\n",
       "      <td>43</td>\n",
       "      <td>0</td>\n",
       "      <td>N</td>\n",
       "      <td>Indirect</td>\n",
       "      <td>GOOD</td>\n",
       "      <td>2</td>\n",
       "      <td>4</td>\n",
       "      <td>HN7000S</td>\n",
       "      <td>0</td>\n",
       "      <td>NCC</td>\n",
       "      <td>HZN2-VER-4K</td>\n",
       "      <td>Pro</td>\n",
       "      <td>Spaceway</td>\n",
       "      <td>NJ</td>\n",
       "      <td>1194</td>\n",
       "    </tr>\n",
       "    <tr>\n",
       "      <th>2</th>\n",
       "      <td>58</td>\n",
       "      <td>0</td>\n",
       "      <td>N</td>\n",
       "      <td>Indirect</td>\n",
       "      <td>BAD</td>\n",
       "      <td>2</td>\n",
       "      <td>4</td>\n",
       "      <td>HN9000</td>\n",
       "      <td>0</td>\n",
       "      <td>NCC</td>\n",
       "      <td>SM5-VER-15K</td>\n",
       "      <td>Power150</td>\n",
       "      <td>Broadband Remote</td>\n",
       "      <td>LA</td>\n",
       "      <td>1144</td>\n",
       "    </tr>\n",
       "    <tr>\n",
       "      <th>3</th>\n",
       "      <td>22</td>\n",
       "      <td>0</td>\n",
       "      <td>NaN</td>\n",
       "      <td>Direct</td>\n",
       "      <td>NaN</td>\n",
       "      <td>1</td>\n",
       "      <td>6</td>\n",
       "      <td>DW6000</td>\n",
       "      <td>1</td>\n",
       "      <td>NaN</td>\n",
       "      <td>SPACEWAY3</td>\n",
       "      <td>Power150</td>\n",
       "      <td>Spaceway</td>\n",
       "      <td>OH</td>\n",
       "      <td>1223</td>\n",
       "    </tr>\n",
       "    <tr>\n",
       "      <th>4</th>\n",
       "      <td>36</td>\n",
       "      <td>0</td>\n",
       "      <td>NaN</td>\n",
       "      <td>Indirect</td>\n",
       "      <td>GOOD</td>\n",
       "      <td>1</td>\n",
       "      <td>7</td>\n",
       "      <td>HN7000S</td>\n",
       "      <td>0</td>\n",
       "      <td>TAG</td>\n",
       "      <td>0</td>\n",
       "      <td>Home</td>\n",
       "      <td>Broadband Remote</td>\n",
       "      <td>NY</td>\n",
       "      <td>838</td>\n",
       "    </tr>\n",
       "    <tr>\n",
       "      <th>5</th>\n",
       "      <td>51</td>\n",
       "      <td>0</td>\n",
       "      <td>NaN</td>\n",
       "      <td>Indirect</td>\n",
       "      <td>GOOD</td>\n",
       "      <td>2</td>\n",
       "      <td>7</td>\n",
       "      <td>HN9000</td>\n",
       "      <td>0</td>\n",
       "      <td>UNKNOWN</td>\n",
       "      <td>SPACEWAY3</td>\n",
       "      <td>Pro</td>\n",
       "      <td>Broadband Remote</td>\n",
       "      <td>TX</td>\n",
       "      <td>1254</td>\n",
       "    </tr>\n",
       "    <tr>\n",
       "      <th>6</th>\n",
       "      <td>56</td>\n",
       "      <td>0</td>\n",
       "      <td>NaN</td>\n",
       "      <td>Indirect</td>\n",
       "      <td>NaN</td>\n",
       "      <td>1</td>\n",
       "      <td>3</td>\n",
       "      <td>HN7000S</td>\n",
       "      <td>0</td>\n",
       "      <td>ValueElectronics</td>\n",
       "      <td>G17-HOR-2K</td>\n",
       "      <td>Power150</td>\n",
       "      <td>Broadband Remote</td>\n",
       "      <td>MO</td>\n",
       "      <td>561</td>\n",
       "    </tr>\n",
       "    <tr>\n",
       "      <th>7</th>\n",
       "      <td>57</td>\n",
       "      <td>0</td>\n",
       "      <td>Y</td>\n",
       "      <td>Indirect</td>\n",
       "      <td>GOOD</td>\n",
       "      <td>1</td>\n",
       "      <td>7</td>\n",
       "      <td>HN7000S</td>\n",
       "      <td>0</td>\n",
       "      <td>TAG</td>\n",
       "      <td>SM5-VER-5K</td>\n",
       "      <td>Power150</td>\n",
       "      <td>Broadband Remote</td>\n",
       "      <td>MD</td>\n",
       "      <td>919</td>\n",
       "    </tr>\n",
       "    <tr>\n",
       "      <th>8</th>\n",
       "      <td>42</td>\n",
       "      <td>0</td>\n",
       "      <td>NaN</td>\n",
       "      <td>Indirect</td>\n",
       "      <td>GOOD</td>\n",
       "      <td>2</td>\n",
       "      <td>4</td>\n",
       "      <td>DW6000</td>\n",
       "      <td>0</td>\n",
       "      <td>NaN</td>\n",
       "      <td>AM6-HOR-21K</td>\n",
       "      <td>Home</td>\n",
       "      <td>Broadband Remote</td>\n",
       "      <td>AR</td>\n",
       "      <td>1412</td>\n",
       "    </tr>\n",
       "    <tr>\n",
       "      <th>9</th>\n",
       "      <td>34</td>\n",
       "      <td>0</td>\n",
       "      <td>N</td>\n",
       "      <td>Indirect</td>\n",
       "      <td>BAD</td>\n",
       "      <td>2</td>\n",
       "      <td>4</td>\n",
       "      <td>HN7000S</td>\n",
       "      <td>1</td>\n",
       "      <td>Hughes Web Order</td>\n",
       "      <td>G17-HOR-6K</td>\n",
       "      <td>Basic_Ltd</td>\n",
       "      <td>Broadband Remote</td>\n",
       "      <td>MD</td>\n",
       "      <td>881</td>\n",
       "    </tr>\n",
       "    <tr>\n",
       "      <th>10</th>\n",
       "      <td>54</td>\n",
       "      <td>0</td>\n",
       "      <td>N</td>\n",
       "      <td>Indirect</td>\n",
       "      <td>GOOD</td>\n",
       "      <td>2</td>\n",
       "      <td>3</td>\n",
       "      <td>HN7000S</td>\n",
       "      <td>1</td>\n",
       "      <td>TAG</td>\n",
       "      <td>G3C-VER-24K</td>\n",
       "      <td>Basic</td>\n",
       "      <td>Broadband Remote</td>\n",
       "      <td>AZ</td>\n",
       "      <td>1023</td>\n",
       "    </tr>\n",
       "    <tr>\n",
       "      <th>11</th>\n",
       "      <td>57</td>\n",
       "      <td>0</td>\n",
       "      <td>NaN</td>\n",
       "      <td>Direct</td>\n",
       "      <td>BAD</td>\n",
       "      <td>1</td>\n",
       "      <td>6</td>\n",
       "      <td>HN7000S</td>\n",
       "      <td>0</td>\n",
       "      <td>InfoDish</td>\n",
       "      <td>0</td>\n",
       "      <td>Proplus</td>\n",
       "      <td>Broadband Remote</td>\n",
       "      <td>NV</td>\n",
       "      <td>1029</td>\n",
       "    </tr>\n",
       "    <tr>\n",
       "      <th>12</th>\n",
       "      <td>52</td>\n",
       "      <td>0</td>\n",
       "      <td>Y</td>\n",
       "      <td>Indirect</td>\n",
       "      <td>BAD</td>\n",
       "      <td>2</td>\n",
       "      <td>A</td>\n",
       "      <td>HN7000S</td>\n",
       "      <td>0</td>\n",
       "      <td>InfoDish</td>\n",
       "      <td>SM5-VER-15K</td>\n",
       "      <td>Power150</td>\n",
       "      <td>Broadband Remote</td>\n",
       "      <td>WY</td>\n",
       "      <td>805</td>\n",
       "    </tr>\n",
       "    <tr>\n",
       "      <th>13</th>\n",
       "      <td>39</td>\n",
       "      <td>0</td>\n",
       "      <td>Y</td>\n",
       "      <td>Indirect</td>\n",
       "      <td>BAD</td>\n",
       "      <td>1</td>\n",
       "      <td>6</td>\n",
       "      <td>DW6000</td>\n",
       "      <td>0</td>\n",
       "      <td>Hughes Web Order</td>\n",
       "      <td>SPACEWAY3</td>\n",
       "      <td>Basic_Ltd</td>\n",
       "      <td>Broadband Remote</td>\n",
       "      <td>WI</td>\n",
       "      <td>983</td>\n",
       "    </tr>\n",
       "    <tr>\n",
       "      <th>14</th>\n",
       "      <td>24</td>\n",
       "      <td>0</td>\n",
       "      <td>NaN</td>\n",
       "      <td>Indirect</td>\n",
       "      <td>GOOD</td>\n",
       "      <td>1</td>\n",
       "      <td>6</td>\n",
       "      <td>HN7000S</td>\n",
       "      <td>0</td>\n",
       "      <td>NRTC</td>\n",
       "      <td>HZN-HOR-19K</td>\n",
       "      <td>Basic</td>\n",
       "      <td>Broadband Remote</td>\n",
       "      <td>AZ</td>\n",
       "      <td>796</td>\n",
       "    </tr>\n",
       "    <tr>\n",
       "      <th>15</th>\n",
       "      <td>45</td>\n",
       "      <td>0</td>\n",
       "      <td>NaN</td>\n",
       "      <td>Indirect</td>\n",
       "      <td>GOOD</td>\n",
       "      <td>1</td>\n",
       "      <td>7</td>\n",
       "      <td>HN7000S</td>\n",
       "      <td>0</td>\n",
       "      <td>RS&amp;I</td>\n",
       "      <td>SM5-VER-15K</td>\n",
       "      <td>Power150</td>\n",
       "      <td>Broadband Remote</td>\n",
       "      <td>NY</td>\n",
       "      <td>728</td>\n",
       "    </tr>\n",
       "    <tr>\n",
       "      <th>16</th>\n",
       "      <td>58</td>\n",
       "      <td>0</td>\n",
       "      <td>NaN</td>\n",
       "      <td>Indirect</td>\n",
       "      <td>BAD</td>\n",
       "      <td>1</td>\n",
       "      <td>NaN</td>\n",
       "      <td>DW4020</td>\n",
       "      <td>0</td>\n",
       "      <td>InfoDish</td>\n",
       "      <td>AM9-VER-2K</td>\n",
       "      <td>Proplus</td>\n",
       "      <td>Broadband Remote</td>\n",
       "      <td>NM</td>\n",
       "      <td>1039</td>\n",
       "    </tr>\n",
       "    <tr>\n",
       "      <th>17</th>\n",
       "      <td>62</td>\n",
       "      <td>0</td>\n",
       "      <td>Y</td>\n",
       "      <td>Indirect</td>\n",
       "      <td>BAD</td>\n",
       "      <td>1</td>\n",
       "      <td>0</td>\n",
       "      <td>UNK</td>\n",
       "      <td>0</td>\n",
       "      <td>Hughes Web Order</td>\n",
       "      <td>AM9-VER-2K</td>\n",
       "      <td>Home</td>\n",
       "      <td>Spaceway</td>\n",
       "      <td>AR</td>\n",
       "      <td>931</td>\n",
       "    </tr>\n",
       "    <tr>\n",
       "      <th>18</th>\n",
       "      <td>64</td>\n",
       "      <td>0</td>\n",
       "      <td>N</td>\n",
       "      <td>Indirect</td>\n",
       "      <td>BAD</td>\n",
       "      <td>2</td>\n",
       "      <td>5</td>\n",
       "      <td>NaN</td>\n",
       "      <td>0</td>\n",
       "      <td>InfoDish</td>\n",
       "      <td>SM5-VER-15K</td>\n",
       "      <td>Elite</td>\n",
       "      <td>Broadband Remote</td>\n",
       "      <td>CA</td>\n",
       "      <td>1207</td>\n",
       "    </tr>\n",
       "    <tr>\n",
       "      <th>19</th>\n",
       "      <td>30</td>\n",
       "      <td>0</td>\n",
       "      <td>NaN</td>\n",
       "      <td>Indirect</td>\n",
       "      <td>BAD</td>\n",
       "      <td>2</td>\n",
       "      <td>C</td>\n",
       "      <td>DW4020</td>\n",
       "      <td>0</td>\n",
       "      <td>Hughes Web Order</td>\n",
       "      <td>SM5-VER-7K</td>\n",
       "      <td>Proplus</td>\n",
       "      <td>Broadband Remote</td>\n",
       "      <td>TX</td>\n",
       "      <td>1152</td>\n",
       "    </tr>\n",
       "    <tr>\n",
       "      <th>20</th>\n",
       "      <td>68</td>\n",
       "      <td>0</td>\n",
       "      <td>N</td>\n",
       "      <td>Indirect</td>\n",
       "      <td>GOOD</td>\n",
       "      <td>1</td>\n",
       "      <td>9</td>\n",
       "      <td>HN9000</td>\n",
       "      <td>0</td>\n",
       "      <td>Verisign Web Ordering</td>\n",
       "      <td>SM5-HOR-14K</td>\n",
       "      <td>Basic_Ltd</td>\n",
       "      <td>Spaceway</td>\n",
       "      <td>CO</td>\n",
       "      <td>913</td>\n",
       "    </tr>\n",
       "    <tr>\n",
       "      <th>21</th>\n",
       "      <td>63</td>\n",
       "      <td>0</td>\n",
       "      <td>N</td>\n",
       "      <td>Indirect</td>\n",
       "      <td>NaN</td>\n",
       "      <td>2</td>\n",
       "      <td>0</td>\n",
       "      <td>DW6000</td>\n",
       "      <td>1</td>\n",
       "      <td>Hughes Web Order</td>\n",
       "      <td>NaN</td>\n",
       "      <td>Basic_Ltd</td>\n",
       "      <td>Broadband Remote</td>\n",
       "      <td>TN</td>\n",
       "      <td>644</td>\n",
       "    </tr>\n",
       "    <tr>\n",
       "      <th>22</th>\n",
       "      <td>33</td>\n",
       "      <td>0</td>\n",
       "      <td>N</td>\n",
       "      <td>Indirect</td>\n",
       "      <td>GOOD</td>\n",
       "      <td>2</td>\n",
       "      <td>6</td>\n",
       "      <td>HN7000S</td>\n",
       "      <td>0</td>\n",
       "      <td>ACS Pre-Install</td>\n",
       "      <td>HZN-HOR-8K</td>\n",
       "      <td>Home</td>\n",
       "      <td>Broadband Remote</td>\n",
       "      <td>GA</td>\n",
       "      <td>1496</td>\n",
       "    </tr>\n",
       "    <tr>\n",
       "      <th>23</th>\n",
       "      <td>51</td>\n",
       "      <td>0</td>\n",
       "      <td>NaN</td>\n",
       "      <td>Indirect</td>\n",
       "      <td>NaN</td>\n",
       "      <td>1</td>\n",
       "      <td>0</td>\n",
       "      <td>HN7000S</td>\n",
       "      <td>0</td>\n",
       "      <td>LiveBridge Communications LLC</td>\n",
       "      <td>AM9-HOR-21K</td>\n",
       "      <td>Basic</td>\n",
       "      <td>Broadband Remote</td>\n",
       "      <td>NC</td>\n",
       "      <td>987</td>\n",
       "    </tr>\n",
       "    <tr>\n",
       "      <th>24</th>\n",
       "      <td>58</td>\n",
       "      <td>0</td>\n",
       "      <td>NaN</td>\n",
       "      <td>Indirect</td>\n",
       "      <td>GOOD</td>\n",
       "      <td>1</td>\n",
       "      <td>NaN</td>\n",
       "      <td>DW4020</td>\n",
       "      <td>0</td>\n",
       "      <td>RS&amp;I</td>\n",
       "      <td>AM9-VER-2K</td>\n",
       "      <td>Home</td>\n",
       "      <td>Broadband Remote</td>\n",
       "      <td>CA</td>\n",
       "      <td>1422</td>\n",
       "    </tr>\n",
       "    <tr>\n",
       "      <th>25</th>\n",
       "      <td>23</td>\n",
       "      <td>0</td>\n",
       "      <td>N</td>\n",
       "      <td>Direct</td>\n",
       "      <td>NaN</td>\n",
       "      <td>1</td>\n",
       "      <td>D</td>\n",
       "      <td>HN7000S</td>\n",
       "      <td>0</td>\n",
       "      <td>NaN</td>\n",
       "      <td>SPACEWAY3</td>\n",
       "      <td>Basic</td>\n",
       "      <td>Spaceway</td>\n",
       "      <td>CA</td>\n",
       "      <td>913</td>\n",
       "    </tr>\n",
       "    <tr>\n",
       "      <th>26</th>\n",
       "      <td>58</td>\n",
       "      <td>0</td>\n",
       "      <td>N</td>\n",
       "      <td>Indirect</td>\n",
       "      <td>BAD</td>\n",
       "      <td>2</td>\n",
       "      <td>7</td>\n",
       "      <td>HN9000</td>\n",
       "      <td>1</td>\n",
       "      <td>Perfect 10</td>\n",
       "      <td>G17-HOR-6K</td>\n",
       "      <td>Basic_Ltd</td>\n",
       "      <td>Spaceway</td>\n",
       "      <td>WV</td>\n",
       "      <td>1250</td>\n",
       "    </tr>\n",
       "    <tr>\n",
       "      <th>27</th>\n",
       "      <td>57</td>\n",
       "      <td>0</td>\n",
       "      <td>N</td>\n",
       "      <td>Indirect</td>\n",
       "      <td>GOOD</td>\n",
       "      <td>2</td>\n",
       "      <td>4</td>\n",
       "      <td>HN9000</td>\n",
       "      <td>0</td>\n",
       "      <td>AmericanSat</td>\n",
       "      <td>SPACEWAY3</td>\n",
       "      <td>Power150</td>\n",
       "      <td>Broadband Remote</td>\n",
       "      <td>AL</td>\n",
       "      <td>1191</td>\n",
       "    </tr>\n",
       "    <tr>\n",
       "      <th>28</th>\n",
       "      <td>50</td>\n",
       "      <td>0</td>\n",
       "      <td>N</td>\n",
       "      <td>Indirect</td>\n",
       "      <td>GOOD</td>\n",
       "      <td>2</td>\n",
       "      <td>0</td>\n",
       "      <td>HN9000</td>\n",
       "      <td>0</td>\n",
       "      <td>AmericanSat</td>\n",
       "      <td>G17-HOR-6K</td>\n",
       "      <td>Basic</td>\n",
       "      <td>Broadband Remote</td>\n",
       "      <td>VA</td>\n",
       "      <td>1261</td>\n",
       "    </tr>\n",
       "    <tr>\n",
       "      <th>29</th>\n",
       "      <td>43</td>\n",
       "      <td>0</td>\n",
       "      <td>N</td>\n",
       "      <td>Indirect</td>\n",
       "      <td>GOOD</td>\n",
       "      <td>1</td>\n",
       "      <td>4</td>\n",
       "      <td>HN7000S</td>\n",
       "      <td>0</td>\n",
       "      <td>Best Buy</td>\n",
       "      <td>G17-HOR-2K</td>\n",
       "      <td>Home</td>\n",
       "      <td>Broadband Remote</td>\n",
       "      <td>IN</td>\n",
       "      <td>865</td>\n",
       "    </tr>\n",
       "    <tr>\n",
       "      <th>...</th>\n",
       "      <td>...</td>\n",
       "      <td>...</td>\n",
       "      <td>...</td>\n",
       "      <td>...</td>\n",
       "      <td>...</td>\n",
       "      <td>...</td>\n",
       "      <td>...</td>\n",
       "      <td>...</td>\n",
       "      <td>...</td>\n",
       "      <td>...</td>\n",
       "      <td>...</td>\n",
       "      <td>...</td>\n",
       "      <td>...</td>\n",
       "      <td>...</td>\n",
       "      <td>...</td>\n",
       "    </tr>\n",
       "    <tr>\n",
       "      <th>9970</th>\n",
       "      <td>32</td>\n",
       "      <td>1</td>\n",
       "      <td>Y</td>\n",
       "      <td>Direct</td>\n",
       "      <td>BAD</td>\n",
       "      <td>1</td>\n",
       "      <td>B</td>\n",
       "      <td>HN9000</td>\n",
       "      <td>0</td>\n",
       "      <td>RS&amp;I</td>\n",
       "      <td>NaN</td>\n",
       "      <td>Basic_Ltd</td>\n",
       "      <td>Broadband Remote</td>\n",
       "      <td>NY</td>\n",
       "      <td>400</td>\n",
       "    </tr>\n",
       "    <tr>\n",
       "      <th>9971</th>\n",
       "      <td>63</td>\n",
       "      <td>1</td>\n",
       "      <td>NaN</td>\n",
       "      <td>Indirect</td>\n",
       "      <td>NaN</td>\n",
       "      <td>1</td>\n",
       "      <td>0</td>\n",
       "      <td>HN7000S</td>\n",
       "      <td>1</td>\n",
       "      <td>GoDish.com Ltd LLP (SA)</td>\n",
       "      <td>G26-HOR-14K</td>\n",
       "      <td>Pro</td>\n",
       "      <td>Spaceway</td>\n",
       "      <td>IL</td>\n",
       "      <td>1264</td>\n",
       "    </tr>\n",
       "    <tr>\n",
       "      <th>9972</th>\n",
       "      <td>72</td>\n",
       "      <td>1</td>\n",
       "      <td>Y</td>\n",
       "      <td>Direct</td>\n",
       "      <td>BAD</td>\n",
       "      <td>1</td>\n",
       "      <td>7</td>\n",
       "      <td>DW7000</td>\n",
       "      <td>0</td>\n",
       "      <td>Hughes Web Order</td>\n",
       "      <td>AM6-HOR-21K</td>\n",
       "      <td>Professional</td>\n",
       "      <td>Spaceway</td>\n",
       "      <td>MD</td>\n",
       "      <td>1111</td>\n",
       "    </tr>\n",
       "    <tr>\n",
       "      <th>9973</th>\n",
       "      <td>45</td>\n",
       "      <td>1</td>\n",
       "      <td>Y</td>\n",
       "      <td>Direct</td>\n",
       "      <td>BAD</td>\n",
       "      <td>1</td>\n",
       "      <td>8</td>\n",
       "      <td>HN7000S</td>\n",
       "      <td>0</td>\n",
       "      <td>OKS Ameridial Inc (CC)</td>\n",
       "      <td>SM6-HOR-10K</td>\n",
       "      <td>Basic</td>\n",
       "      <td>Spaceway</td>\n",
       "      <td>CO</td>\n",
       "      <td>495</td>\n",
       "    </tr>\n",
       "    <tr>\n",
       "      <th>9974</th>\n",
       "      <td>30</td>\n",
       "      <td>1</td>\n",
       "      <td>Y</td>\n",
       "      <td>Indirect</td>\n",
       "      <td>GOOD</td>\n",
       "      <td>2</td>\n",
       "      <td>6</td>\n",
       "      <td>HN9000</td>\n",
       "      <td>1</td>\n",
       "      <td>Valley Satellite (RSI561377)</td>\n",
       "      <td>SPACEWAY3</td>\n",
       "      <td>Elite</td>\n",
       "      <td>Broadband Remote</td>\n",
       "      <td>CA</td>\n",
       "      <td>424</td>\n",
       "    </tr>\n",
       "    <tr>\n",
       "      <th>9975</th>\n",
       "      <td>46</td>\n",
       "      <td>1</td>\n",
       "      <td>Y</td>\n",
       "      <td>Indirect</td>\n",
       "      <td>GOOD</td>\n",
       "      <td>2</td>\n",
       "      <td>5</td>\n",
       "      <td>HN9000</td>\n",
       "      <td>0</td>\n",
       "      <td>American Satellite &amp; Ent Inc (SA)</td>\n",
       "      <td>G3C-VER-24K</td>\n",
       "      <td>Home</td>\n",
       "      <td>Broadband Remote</td>\n",
       "      <td>VA</td>\n",
       "      <td>409</td>\n",
       "    </tr>\n",
       "    <tr>\n",
       "      <th>9976</th>\n",
       "      <td>46</td>\n",
       "      <td>1</td>\n",
       "      <td>N</td>\n",
       "      <td>Indirect</td>\n",
       "      <td>BAD</td>\n",
       "      <td>1</td>\n",
       "      <td>0</td>\n",
       "      <td>DW7000</td>\n",
       "      <td>1</td>\n",
       "      <td>LiveBridge Communications LLC</td>\n",
       "      <td>HZN-HOR-8K</td>\n",
       "      <td>Elite</td>\n",
       "      <td>Spaceway</td>\n",
       "      <td>OR</td>\n",
       "      <td>795</td>\n",
       "    </tr>\n",
       "    <tr>\n",
       "      <th>9977</th>\n",
       "      <td>67</td>\n",
       "      <td>1</td>\n",
       "      <td>N</td>\n",
       "      <td>Indirect</td>\n",
       "      <td>BAD</td>\n",
       "      <td>2</td>\n",
       "      <td>0</td>\n",
       "      <td>HN9000</td>\n",
       "      <td>1</td>\n",
       "      <td>Satellite Dish Marketing LLC dba Digita</td>\n",
       "      <td>AMC-VER-5K</td>\n",
       "      <td>Basic</td>\n",
       "      <td>Spaceway</td>\n",
       "      <td>CA</td>\n",
       "      <td>1396</td>\n",
       "    </tr>\n",
       "    <tr>\n",
       "      <th>9978</th>\n",
       "      <td>35</td>\n",
       "      <td>1</td>\n",
       "      <td>NaN</td>\n",
       "      <td>Indirect</td>\n",
       "      <td>GOOD</td>\n",
       "      <td>1</td>\n",
       "      <td>5</td>\n",
       "      <td>DW7000</td>\n",
       "      <td>0</td>\n",
       "      <td>Electronic Express (SA)</td>\n",
       "      <td>G3C-VER-24K</td>\n",
       "      <td>Home</td>\n",
       "      <td>Broadband Remote</td>\n",
       "      <td>IA</td>\n",
       "      <td>493</td>\n",
       "    </tr>\n",
       "    <tr>\n",
       "      <th>9979</th>\n",
       "      <td>35</td>\n",
       "      <td>1</td>\n",
       "      <td>NaN</td>\n",
       "      <td>Indirect</td>\n",
       "      <td>GOOD</td>\n",
       "      <td>2</td>\n",
       "      <td>1</td>\n",
       "      <td>HN9000</td>\n",
       "      <td>NaN</td>\n",
       "      <td>DialAmerica Marketing Inc (CC)</td>\n",
       "      <td>NaN</td>\n",
       "      <td>Basic_Ltd</td>\n",
       "      <td>Broadband Remote</td>\n",
       "      <td>IL</td>\n",
       "      <td>499</td>\n",
       "    </tr>\n",
       "    <tr>\n",
       "      <th>9980</th>\n",
       "      <td>61</td>\n",
       "      <td>1</td>\n",
       "      <td>Y</td>\n",
       "      <td>Indirect</td>\n",
       "      <td>BAD</td>\n",
       "      <td>1</td>\n",
       "      <td>8</td>\n",
       "      <td>HN9000</td>\n",
       "      <td>0</td>\n",
       "      <td>TAG</td>\n",
       "      <td>HZN-HOR-8K</td>\n",
       "      <td>Elite</td>\n",
       "      <td>Broadband Remote</td>\n",
       "      <td>MD</td>\n",
       "      <td>416</td>\n",
       "    </tr>\n",
       "    <tr>\n",
       "      <th>9981</th>\n",
       "      <td>64</td>\n",
       "      <td>1</td>\n",
       "      <td>NaN</td>\n",
       "      <td>Direct</td>\n",
       "      <td>GOOD</td>\n",
       "      <td>1</td>\n",
       "      <td>0</td>\n",
       "      <td>HN9000</td>\n",
       "      <td>1</td>\n",
       "      <td>Communication Solutions LLC (CC)</td>\n",
       "      <td>G3C-VER-24K</td>\n",
       "      <td>Basic</td>\n",
       "      <td>Spaceway</td>\n",
       "      <td>OK</td>\n",
       "      <td>1322</td>\n",
       "    </tr>\n",
       "    <tr>\n",
       "      <th>9982</th>\n",
       "      <td>40</td>\n",
       "      <td>1</td>\n",
       "      <td>NaN</td>\n",
       "      <td>Indirect</td>\n",
       "      <td>GOOD</td>\n",
       "      <td>1</td>\n",
       "      <td>0</td>\n",
       "      <td>HN9000</td>\n",
       "      <td>1</td>\n",
       "      <td>DialAmerica Marketing Inc (CC)</td>\n",
       "      <td>AMC-VER-5K</td>\n",
       "      <td>Basic</td>\n",
       "      <td>Spaceway</td>\n",
       "      <td>IL</td>\n",
       "      <td>316</td>\n",
       "    </tr>\n",
       "    <tr>\n",
       "      <th>9983</th>\n",
       "      <td>61</td>\n",
       "      <td>1</td>\n",
       "      <td>Y</td>\n",
       "      <td>Indirect</td>\n",
       "      <td>BAD</td>\n",
       "      <td>2</td>\n",
       "      <td>6</td>\n",
       "      <td>HN9000</td>\n",
       "      <td>1</td>\n",
       "      <td>LiveBridge Communications LLC</td>\n",
       "      <td>SM6-HOR-10K</td>\n",
       "      <td>Basic</td>\n",
       "      <td>Broadband Remote</td>\n",
       "      <td>CA</td>\n",
       "      <td>817</td>\n",
       "    </tr>\n",
       "    <tr>\n",
       "      <th>9984</th>\n",
       "      <td>61</td>\n",
       "      <td>1</td>\n",
       "      <td>NaN</td>\n",
       "      <td>Indirect</td>\n",
       "      <td>NaN</td>\n",
       "      <td>2</td>\n",
       "      <td>6</td>\n",
       "      <td>DW6000</td>\n",
       "      <td>0</td>\n",
       "      <td>Perfect 10</td>\n",
       "      <td>G16-VER-15K</td>\n",
       "      <td>Professional</td>\n",
       "      <td>Spaceway</td>\n",
       "      <td>NJ</td>\n",
       "      <td>450</td>\n",
       "    </tr>\n",
       "    <tr>\n",
       "      <th>9985</th>\n",
       "      <td>53</td>\n",
       "      <td>1</td>\n",
       "      <td>N</td>\n",
       "      <td>Indirect</td>\n",
       "      <td>BAD</td>\n",
       "      <td>2</td>\n",
       "      <td>3</td>\n",
       "      <td>HN9000</td>\n",
       "      <td>0</td>\n",
       "      <td>OKS Ameridial Inc (CC)</td>\n",
       "      <td>AMC-VER-5K</td>\n",
       "      <td>Basic</td>\n",
       "      <td>Spaceway</td>\n",
       "      <td>NM</td>\n",
       "      <td>324</td>\n",
       "    </tr>\n",
       "    <tr>\n",
       "      <th>9986</th>\n",
       "      <td>59</td>\n",
       "      <td>1</td>\n",
       "      <td>NaN</td>\n",
       "      <td>NaN</td>\n",
       "      <td>GOOD</td>\n",
       "      <td>1</td>\n",
       "      <td>5</td>\n",
       "      <td>HN7000S</td>\n",
       "      <td>1</td>\n",
       "      <td>EBN Financial dba Dish Systems (SA)</td>\n",
       "      <td>NaN</td>\n",
       "      <td>Pro</td>\n",
       "      <td>Broadband Remote</td>\n",
       "      <td>SC</td>\n",
       "      <td>347</td>\n",
       "    </tr>\n",
       "    <tr>\n",
       "      <th>9987</th>\n",
       "      <td>65</td>\n",
       "      <td>1</td>\n",
       "      <td>N</td>\n",
       "      <td>Indirect</td>\n",
       "      <td>GOOD</td>\n",
       "      <td>1</td>\n",
       "      <td>0</td>\n",
       "      <td>HN9000</td>\n",
       "      <td>1</td>\n",
       "      <td>Professional Technical Services (P10)</td>\n",
       "      <td>G28-HOR-16K</td>\n",
       "      <td>Basic</td>\n",
       "      <td>Spaceway</td>\n",
       "      <td>VA</td>\n",
       "      <td>365</td>\n",
       "    </tr>\n",
       "    <tr>\n",
       "      <th>9988</th>\n",
       "      <td>70</td>\n",
       "      <td>1</td>\n",
       "      <td>NaN</td>\n",
       "      <td>Indirect</td>\n",
       "      <td>GOOD</td>\n",
       "      <td>2</td>\n",
       "      <td>9</td>\n",
       "      <td>HN9000</td>\n",
       "      <td>0</td>\n",
       "      <td>OKS Ameridial Inc (CC)</td>\n",
       "      <td>G28-HOR-16K</td>\n",
       "      <td>Basic</td>\n",
       "      <td>Spaceway</td>\n",
       "      <td>MI</td>\n",
       "      <td>1188</td>\n",
       "    </tr>\n",
       "    <tr>\n",
       "      <th>9989</th>\n",
       "      <td>68</td>\n",
       "      <td>1</td>\n",
       "      <td>Y</td>\n",
       "      <td>Indirect</td>\n",
       "      <td>BAD</td>\n",
       "      <td>1</td>\n",
       "      <td>3</td>\n",
       "      <td>HN7000S</td>\n",
       "      <td>1</td>\n",
       "      <td>TAG</td>\n",
       "      <td>NaN</td>\n",
       "      <td>Pro</td>\n",
       "      <td>Broadband Remote</td>\n",
       "      <td>MA</td>\n",
       "      <td>1110</td>\n",
       "    </tr>\n",
       "    <tr>\n",
       "      <th>9990</th>\n",
       "      <td>43</td>\n",
       "      <td>1</td>\n",
       "      <td>NaN</td>\n",
       "      <td>Indirect</td>\n",
       "      <td>GOOD</td>\n",
       "      <td>2</td>\n",
       "      <td>4</td>\n",
       "      <td>NaN</td>\n",
       "      <td>0</td>\n",
       "      <td>Direct SAT Broadband LLC (SA)</td>\n",
       "      <td>NaN</td>\n",
       "      <td>Elite</td>\n",
       "      <td>Broadband Remote</td>\n",
       "      <td>VA</td>\n",
       "      <td>1329</td>\n",
       "    </tr>\n",
       "    <tr>\n",
       "      <th>9991</th>\n",
       "      <td>40</td>\n",
       "      <td>1</td>\n",
       "      <td>N</td>\n",
       "      <td>NaN</td>\n",
       "      <td>BAD</td>\n",
       "      <td>2</td>\n",
       "      <td>3</td>\n",
       "      <td>DW6000</td>\n",
       "      <td>0</td>\n",
       "      <td>Elite Satellite and Home Theater Inc (S</td>\n",
       "      <td>AM6-HOR-21K</td>\n",
       "      <td>Proplus</td>\n",
       "      <td>Spaceway</td>\n",
       "      <td>NV</td>\n",
       "      <td>344</td>\n",
       "    </tr>\n",
       "    <tr>\n",
       "      <th>9992</th>\n",
       "      <td>66</td>\n",
       "      <td>1</td>\n",
       "      <td>Y</td>\n",
       "      <td>Direct</td>\n",
       "      <td>BAD</td>\n",
       "      <td>1</td>\n",
       "      <td>0</td>\n",
       "      <td>NaN</td>\n",
       "      <td>1</td>\n",
       "      <td>OKS Ameridial Inc (CC)</td>\n",
       "      <td>AM9-HOR-17K</td>\n",
       "      <td>Elite</td>\n",
       "      <td>Spaceway</td>\n",
       "      <td>NE</td>\n",
       "      <td>383</td>\n",
       "    </tr>\n",
       "    <tr>\n",
       "      <th>9993</th>\n",
       "      <td>49</td>\n",
       "      <td>1</td>\n",
       "      <td>Y</td>\n",
       "      <td>Indirect</td>\n",
       "      <td>BAD</td>\n",
       "      <td>1</td>\n",
       "      <td>3</td>\n",
       "      <td>HN7000S</td>\n",
       "      <td>0</td>\n",
       "      <td>DialAmerica Marketing Inc (CC)</td>\n",
       "      <td>SPACEWAY3</td>\n",
       "      <td>Basic</td>\n",
       "      <td>Broadband Remote</td>\n",
       "      <td>CA</td>\n",
       "      <td>429</td>\n",
       "    </tr>\n",
       "    <tr>\n",
       "      <th>9994</th>\n",
       "      <td>28</td>\n",
       "      <td>1</td>\n",
       "      <td>Y</td>\n",
       "      <td>Direct</td>\n",
       "      <td>BAD</td>\n",
       "      <td>1</td>\n",
       "      <td>9</td>\n",
       "      <td>HN9000</td>\n",
       "      <td>0</td>\n",
       "      <td>TAG</td>\n",
       "      <td>HZN-VER-23K</td>\n",
       "      <td>Elite</td>\n",
       "      <td>Broadband Remote</td>\n",
       "      <td>MO</td>\n",
       "      <td>337</td>\n",
       "    </tr>\n",
       "    <tr>\n",
       "      <th>9995</th>\n",
       "      <td>49</td>\n",
       "      <td>1</td>\n",
       "      <td>N</td>\n",
       "      <td>Indirect</td>\n",
       "      <td>GOOD</td>\n",
       "      <td>2</td>\n",
       "      <td>3</td>\n",
       "      <td>HN9000</td>\n",
       "      <td>1</td>\n",
       "      <td>Red Ventures LLC (SA)</td>\n",
       "      <td>G28-HOR-16K</td>\n",
       "      <td>Basic</td>\n",
       "      <td>Spaceway</td>\n",
       "      <td>LA</td>\n",
       "      <td>460</td>\n",
       "    </tr>\n",
       "    <tr>\n",
       "      <th>9996</th>\n",
       "      <td>38</td>\n",
       "      <td>1</td>\n",
       "      <td>Y</td>\n",
       "      <td>Direct</td>\n",
       "      <td>NaN</td>\n",
       "      <td>2</td>\n",
       "      <td>2</td>\n",
       "      <td>DW6000</td>\n",
       "      <td>1</td>\n",
       "      <td>Communication Solutions LLC (CC)</td>\n",
       "      <td>G28-HOR-10K</td>\n",
       "      <td>Professional Plus</td>\n",
       "      <td>Spaceway</td>\n",
       "      <td>TX</td>\n",
       "      <td>360</td>\n",
       "    </tr>\n",
       "    <tr>\n",
       "      <th>9997</th>\n",
       "      <td>67</td>\n",
       "      <td>1</td>\n",
       "      <td>NaN</td>\n",
       "      <td>Indirect</td>\n",
       "      <td>BAD</td>\n",
       "      <td>2</td>\n",
       "      <td>8</td>\n",
       "      <td>DW4000</td>\n",
       "      <td>0</td>\n",
       "      <td>TAG</td>\n",
       "      <td>SPACEWAY3</td>\n",
       "      <td>Home</td>\n",
       "      <td>Broadband Remote</td>\n",
       "      <td>MS</td>\n",
       "      <td>324</td>\n",
       "    </tr>\n",
       "    <tr>\n",
       "      <th>9998</th>\n",
       "      <td>63</td>\n",
       "      <td>1</td>\n",
       "      <td>NaN</td>\n",
       "      <td>NaN</td>\n",
       "      <td>BAD</td>\n",
       "      <td>1</td>\n",
       "      <td>0</td>\n",
       "      <td>DW6000</td>\n",
       "      <td>NaN</td>\n",
       "      <td>TAG</td>\n",
       "      <td>SPACEWAY3</td>\n",
       "      <td>Power15</td>\n",
       "      <td>Broadband Remote</td>\n",
       "      <td>TX</td>\n",
       "      <td>1112</td>\n",
       "    </tr>\n",
       "    <tr>\n",
       "      <th>9999</th>\n",
       "      <td>43</td>\n",
       "      <td>1</td>\n",
       "      <td>N</td>\n",
       "      <td>Indirect</td>\n",
       "      <td>BAD</td>\n",
       "      <td>1</td>\n",
       "      <td>0</td>\n",
       "      <td>HN7000S</td>\n",
       "      <td>NaN</td>\n",
       "      <td>TAG</td>\n",
       "      <td>SPACEWAY3</td>\n",
       "      <td>Professional Plus</td>\n",
       "      <td>Broadband Remote</td>\n",
       "      <td>OR</td>\n",
       "      <td>1448</td>\n",
       "    </tr>\n",
       "  </tbody>\n",
       "</table>\n",
       "<p>19989 rows × 15 columns</p>\n",
       "</div>"
      ],
      "text/plain": [
       "      AGE  CHURN COMPUTER_OWNER DIRECT_INDIRECT_CHANNEL FEEDBACK GENDER  \\\n",
       "0      69      0              N                Indirect      NaN      2   \n",
       "1      43      0              N                Indirect     GOOD      2   \n",
       "2      58      0              N                Indirect      BAD      2   \n",
       "3      22      0            NaN                  Direct      NaN      1   \n",
       "4      36      0            NaN                Indirect     GOOD      1   \n",
       "5      51      0            NaN                Indirect     GOOD      2   \n",
       "6      56      0            NaN                Indirect      NaN      1   \n",
       "7      57      0              Y                Indirect     GOOD      1   \n",
       "8      42      0            NaN                Indirect     GOOD      2   \n",
       "9      34      0              N                Indirect      BAD      2   \n",
       "10     54      0              N                Indirect     GOOD      2   \n",
       "11     57      0            NaN                  Direct      BAD      1   \n",
       "12     52      0              Y                Indirect      BAD      2   \n",
       "13     39      0              Y                Indirect      BAD      1   \n",
       "14     24      0            NaN                Indirect     GOOD      1   \n",
       "15     45      0            NaN                Indirect     GOOD      1   \n",
       "16     58      0            NaN                Indirect      BAD      1   \n",
       "17     62      0              Y                Indirect      BAD      1   \n",
       "18     64      0              N                Indirect      BAD      2   \n",
       "19     30      0            NaN                Indirect      BAD      2   \n",
       "20     68      0              N                Indirect     GOOD      1   \n",
       "21     63      0              N                Indirect      NaN      2   \n",
       "22     33      0              N                Indirect     GOOD      2   \n",
       "23     51      0            NaN                Indirect      NaN      1   \n",
       "24     58      0            NaN                Indirect     GOOD      1   \n",
       "25     23      0              N                  Direct      NaN      1   \n",
       "26     58      0              N                Indirect      BAD      2   \n",
       "27     57      0              N                Indirect     GOOD      2   \n",
       "28     50      0              N                Indirect     GOOD      2   \n",
       "29     43      0              N                Indirect     GOOD      1   \n",
       "...   ...    ...            ...                     ...      ...    ...   \n",
       "9970   32      1              Y                  Direct      BAD      1   \n",
       "9971   63      1            NaN                Indirect      NaN      1   \n",
       "9972   72      1              Y                  Direct      BAD      1   \n",
       "9973   45      1              Y                  Direct      BAD      1   \n",
       "9974   30      1              Y                Indirect     GOOD      2   \n",
       "9975   46      1              Y                Indirect     GOOD      2   \n",
       "9976   46      1              N                Indirect      BAD      1   \n",
       "9977   67      1              N                Indirect      BAD      2   \n",
       "9978   35      1            NaN                Indirect     GOOD      1   \n",
       "9979   35      1            NaN                Indirect     GOOD      2   \n",
       "9980   61      1              Y                Indirect      BAD      1   \n",
       "9981   64      1            NaN                  Direct     GOOD      1   \n",
       "9982   40      1            NaN                Indirect     GOOD      1   \n",
       "9983   61      1              Y                Indirect      BAD      2   \n",
       "9984   61      1            NaN                Indirect      NaN      2   \n",
       "9985   53      1              N                Indirect      BAD      2   \n",
       "9986   59      1            NaN                     NaN     GOOD      1   \n",
       "9987   65      1              N                Indirect     GOOD      1   \n",
       "9988   70      1            NaN                Indirect     GOOD      2   \n",
       "9989   68      1              Y                Indirect      BAD      1   \n",
       "9990   43      1            NaN                Indirect     GOOD      2   \n",
       "9991   40      1              N                     NaN      BAD      2   \n",
       "9992   66      1              Y                  Direct      BAD      1   \n",
       "9993   49      1              Y                Indirect      BAD      1   \n",
       "9994   28      1              Y                  Direct      BAD      1   \n",
       "9995   49      1              N                Indirect     GOOD      2   \n",
       "9996   38      1              Y                  Direct      NaN      2   \n",
       "9997   67      1            NaN                Indirect      BAD      2   \n",
       "9998   63      1            NaN                     NaN      BAD      1   \n",
       "9999   43      1              N                Indirect      BAD      1   \n",
       "\n",
       "     INCOME    MODEL PRESENCE_OF_CHILDREN  \\\n",
       "0         0   HN9000                    0   \n",
       "1         4  HN7000S                    0   \n",
       "2         4   HN9000                    0   \n",
       "3         6   DW6000                    1   \n",
       "4         7  HN7000S                    0   \n",
       "5         7   HN9000                    0   \n",
       "6         3  HN7000S                    0   \n",
       "7         7  HN7000S                    0   \n",
       "8         4   DW6000                    0   \n",
       "9         4  HN7000S                    1   \n",
       "10        3  HN7000S                    1   \n",
       "11        6  HN7000S                    0   \n",
       "12        A  HN7000S                    0   \n",
       "13        6   DW6000                    0   \n",
       "14        6  HN7000S                    0   \n",
       "15        7  HN7000S                    0   \n",
       "16      NaN   DW4020                    0   \n",
       "17        0      UNK                    0   \n",
       "18        5      NaN                    0   \n",
       "19        C   DW4020                    0   \n",
       "20        9   HN9000                    0   \n",
       "21        0   DW6000                    1   \n",
       "22        6  HN7000S                    0   \n",
       "23        0  HN7000S                    0   \n",
       "24      NaN   DW4020                    0   \n",
       "25        D  HN7000S                    0   \n",
       "26        7   HN9000                    1   \n",
       "27        4   HN9000                    0   \n",
       "28        0   HN9000                    0   \n",
       "29        4  HN7000S                    0   \n",
       "...     ...      ...                  ...   \n",
       "9970      B   HN9000                    0   \n",
       "9971      0  HN7000S                    1   \n",
       "9972      7   DW7000                    0   \n",
       "9973      8  HN7000S                    0   \n",
       "9974      6   HN9000                    1   \n",
       "9975      5   HN9000                    0   \n",
       "9976      0   DW7000                    1   \n",
       "9977      0   HN9000                    1   \n",
       "9978      5   DW7000                    0   \n",
       "9979      1   HN9000                  NaN   \n",
       "9980      8   HN9000                    0   \n",
       "9981      0   HN9000                    1   \n",
       "9982      0   HN9000                    1   \n",
       "9983      6   HN9000                    1   \n",
       "9984      6   DW6000                    0   \n",
       "9985      3   HN9000                    0   \n",
       "9986      5  HN7000S                    1   \n",
       "9987      0   HN9000                    1   \n",
       "9988      9   HN9000                    0   \n",
       "9989      3  HN7000S                    1   \n",
       "9990      4      NaN                    0   \n",
       "9991      3   DW6000                    0   \n",
       "9992      0      NaN                    1   \n",
       "9993      3  HN7000S                    0   \n",
       "9994      9   HN9000                    0   \n",
       "9995      3   HN9000                    1   \n",
       "9996      2   DW6000                    1   \n",
       "9997      8   DW4000                    0   \n",
       "9998      0   DW6000                  NaN   \n",
       "9999      0  HN7000S                  NaN   \n",
       "\n",
       "                                 SALES_SOURCE    SATELLITE       SERVICE_PLAN  \\\n",
       "0                                     UNKNOWN    SPACEWAY3                NaN   \n",
       "1                                         NCC  HZN2-VER-4K                Pro   \n",
       "2                                         NCC  SM5-VER-15K           Power150   \n",
       "3                                         NaN    SPACEWAY3           Power150   \n",
       "4                                         TAG            0               Home   \n",
       "5                                     UNKNOWN    SPACEWAY3                Pro   \n",
       "6                            ValueElectronics   G17-HOR-2K           Power150   \n",
       "7                                         TAG   SM5-VER-5K           Power150   \n",
       "8                                         NaN  AM6-HOR-21K               Home   \n",
       "9                            Hughes Web Order   G17-HOR-6K          Basic_Ltd   \n",
       "10                                        TAG  G3C-VER-24K              Basic   \n",
       "11                                   InfoDish            0            Proplus   \n",
       "12                                   InfoDish  SM5-VER-15K           Power150   \n",
       "13                           Hughes Web Order    SPACEWAY3          Basic_Ltd   \n",
       "14                                       NRTC  HZN-HOR-19K              Basic   \n",
       "15                                       RS&I  SM5-VER-15K           Power150   \n",
       "16                                   InfoDish  AM9-VER-2K             Proplus   \n",
       "17                           Hughes Web Order  AM9-VER-2K                Home   \n",
       "18                                   InfoDish  SM5-VER-15K              Elite   \n",
       "19                           Hughes Web Order   SM5-VER-7K            Proplus   \n",
       "20                      Verisign Web Ordering  SM5-HOR-14K          Basic_Ltd   \n",
       "21                           Hughes Web Order          NaN          Basic_Ltd   \n",
       "22                            ACS Pre-Install   HZN-HOR-8K               Home   \n",
       "23              LiveBridge Communications LLC  AM9-HOR-21K              Basic   \n",
       "24                                       RS&I  AM9-VER-2K                Home   \n",
       "25                                        NaN    SPACEWAY3              Basic   \n",
       "26                                 Perfect 10   G17-HOR-6K          Basic_Ltd   \n",
       "27                                AmericanSat    SPACEWAY3           Power150   \n",
       "28                                AmericanSat   G17-HOR-6K              Basic   \n",
       "29                                   Best Buy   G17-HOR-2K               Home   \n",
       "...                                       ...          ...                ...   \n",
       "9970                                     RS&I          NaN          Basic_Ltd   \n",
       "9971                  GoDish.com Ltd LLP (SA)  G26-HOR-14K                Pro   \n",
       "9972                         Hughes Web Order  AM6-HOR-21K       Professional   \n",
       "9973                   OKS Ameridial Inc (CC)  SM6-HOR-10K              Basic   \n",
       "9974             Valley Satellite (RSI561377)    SPACEWAY3              Elite   \n",
       "9975        American Satellite & Ent Inc (SA)  G3C-VER-24K               Home   \n",
       "9976            LiveBridge Communications LLC   HZN-HOR-8K              Elite   \n",
       "9977  Satellite Dish Marketing LLC dba Digita   AMC-VER-5K              Basic   \n",
       "9978                  Electronic Express (SA)  G3C-VER-24K               Home   \n",
       "9979           DialAmerica Marketing Inc (CC)          NaN          Basic_Ltd   \n",
       "9980                                      TAG   HZN-HOR-8K              Elite   \n",
       "9981         Communication Solutions LLC (CC)  G3C-VER-24K              Basic   \n",
       "9982           DialAmerica Marketing Inc (CC)   AMC-VER-5K              Basic   \n",
       "9983            LiveBridge Communications LLC  SM6-HOR-10K              Basic   \n",
       "9984                               Perfect 10  G16-VER-15K       Professional   \n",
       "9985                   OKS Ameridial Inc (CC)   AMC-VER-5K              Basic   \n",
       "9986      EBN Financial dba Dish Systems (SA)          NaN                Pro   \n",
       "9987    Professional Technical Services (P10)  G28-HOR-16K              Basic   \n",
       "9988                   OKS Ameridial Inc (CC)  G28-HOR-16K              Basic   \n",
       "9989                                      TAG          NaN                Pro   \n",
       "9990            Direct SAT Broadband LLC (SA)          NaN              Elite   \n",
       "9991  Elite Satellite and Home Theater Inc (S  AM6-HOR-21K            Proplus   \n",
       "9992                   OKS Ameridial Inc (CC)  AM9-HOR-17K              Elite   \n",
       "9993           DialAmerica Marketing Inc (CC)    SPACEWAY3              Basic   \n",
       "9994                                      TAG  HZN-VER-23K              Elite   \n",
       "9995                    Red Ventures LLC (SA)  G28-HOR-16K              Basic   \n",
       "9996         Communication Solutions LLC (CC)  G28-HOR-10K  Professional Plus   \n",
       "9997                                      TAG    SPACEWAY3               Home   \n",
       "9998                                      TAG    SPACEWAY3            Power15   \n",
       "9999                                      TAG    SPACEWAY3  Professional Plus   \n",
       "\n",
       "        SITE_TYPE_DESC STATE  Sub_period  \n",
       "0     Broadband Remote    MD         747  \n",
       "1             Spaceway    NJ        1194  \n",
       "2     Broadband Remote    LA        1144  \n",
       "3             Spaceway    OH        1223  \n",
       "4     Broadband Remote    NY         838  \n",
       "5     Broadband Remote    TX        1254  \n",
       "6     Broadband Remote    MO         561  \n",
       "7     Broadband Remote    MD         919  \n",
       "8     Broadband Remote    AR        1412  \n",
       "9     Broadband Remote    MD         881  \n",
       "10    Broadband Remote    AZ        1023  \n",
       "11    Broadband Remote    NV        1029  \n",
       "12    Broadband Remote    WY         805  \n",
       "13    Broadband Remote    WI         983  \n",
       "14    Broadband Remote    AZ         796  \n",
       "15    Broadband Remote    NY         728  \n",
       "16    Broadband Remote    NM        1039  \n",
       "17            Spaceway    AR         931  \n",
       "18    Broadband Remote    CA        1207  \n",
       "19    Broadband Remote    TX        1152  \n",
       "20            Spaceway    CO         913  \n",
       "21    Broadband Remote    TN         644  \n",
       "22    Broadband Remote    GA        1496  \n",
       "23    Broadband Remote    NC         987  \n",
       "24    Broadband Remote    CA        1422  \n",
       "25            Spaceway    CA         913  \n",
       "26            Spaceway    WV        1250  \n",
       "27    Broadband Remote    AL        1191  \n",
       "28    Broadband Remote    VA        1261  \n",
       "29    Broadband Remote    IN         865  \n",
       "...                ...   ...         ...  \n",
       "9970  Broadband Remote    NY         400  \n",
       "9971          Spaceway    IL        1264  \n",
       "9972          Spaceway    MD        1111  \n",
       "9973          Spaceway    CO         495  \n",
       "9974  Broadband Remote    CA         424  \n",
       "9975  Broadband Remote    VA         409  \n",
       "9976          Spaceway    OR         795  \n",
       "9977          Spaceway    CA        1396  \n",
       "9978  Broadband Remote    IA         493  \n",
       "9979  Broadband Remote    IL         499  \n",
       "9980  Broadband Remote    MD         416  \n",
       "9981          Spaceway    OK        1322  \n",
       "9982          Spaceway    IL         316  \n",
       "9983  Broadband Remote    CA         817  \n",
       "9984          Spaceway    NJ         450  \n",
       "9985          Spaceway    NM         324  \n",
       "9986  Broadband Remote    SC         347  \n",
       "9987          Spaceway    VA         365  \n",
       "9988          Spaceway    MI        1188  \n",
       "9989  Broadband Remote    MA        1110  \n",
       "9990  Broadband Remote    VA        1329  \n",
       "9991          Spaceway    NV         344  \n",
       "9992          Spaceway    NE         383  \n",
       "9993  Broadband Remote    CA         429  \n",
       "9994  Broadband Remote    MO         337  \n",
       "9995          Spaceway    LA         460  \n",
       "9996          Spaceway    TX         360  \n",
       "9997  Broadband Remote    MS         324  \n",
       "9998  Broadband Remote    TX        1112  \n",
       "9999  Broadband Remote    OR        1448  \n",
       "\n",
       "[19989 rows x 15 columns]"
      ]
     },
     "execution_count": 360,
     "metadata": {},
     "output_type": "execute_result"
    }
   ],
   "source": [
    "df_final"
   ]
  },
  {
   "cell_type": "code",
   "execution_count": 361,
   "metadata": {
    "collapsed": false
   },
   "outputs": [
    {
     "data": {
      "text/plain": [
       "Index([         u'COMPUTER_OWNER', u'DIRECT_INDIRECT_CHANNEL',\n",
       "                      u'FEEDBACK',                  u'INCOME',\n",
       "                         u'MODEL',    u'PRESENCE_OF_CHILDREN',\n",
       "                  u'SALES_SOURCE',               u'SATELLITE',\n",
       "                  u'SERVICE_PLAN',          u'SITE_TYPE_DESC',\n",
       "                         u'STATE'],\n",
       "      dtype='object')"
      ]
     },
     "execution_count": 361,
     "metadata": {},
     "output_type": "execute_result"
    }
   ],
   "source": [
    "null_col=df_final.columns[df_final.isnull().any()]\n",
    "null_col"
   ]
  },
  {
   "cell_type": "code",
   "execution_count": 362,
   "metadata": {
    "collapsed": false
   },
   "outputs": [
    {
     "name": "stdout",
     "output_type": "stream",
     "text": [
      "<class 'pandas.core.frame.DataFrame'>\n",
      "Int64Index: 19989 entries, 0 to 9999\n",
      "Data columns (total 15 columns):\n",
      "AGE                        19989 non-null int32\n",
      "CHURN                      19989 non-null int64\n",
      "COMPUTER_OWNER             13695 non-null object\n",
      "DIRECT_INDIRECT_CHANNEL    19161 non-null object\n",
      "FEEDBACK                   16049 non-null object\n",
      "GENDER                     19989 non-null object\n",
      "INCOME                     19672 non-null object\n",
      "MODEL                      18605 non-null object\n",
      "PRESENCE_OF_CHILDREN       18737 non-null object\n",
      "SALES_SOURCE               19007 non-null object\n",
      "SATELLITE                  18581 non-null object\n",
      "SERVICE_PLAN               17271 non-null object\n",
      "SITE_TYPE_DESC             19916 non-null object\n",
      "STATE                      19923 non-null object\n",
      "Sub_period                 19989 non-null int64\n",
      "dtypes: int32(1), int64(2), object(12)\n",
      "memory usage: 2.4+ MB\n"
     ]
    }
   ],
   "source": [
    "df_final.info()"
   ]
  },
  {
   "cell_type": "code",
   "execution_count": 363,
   "metadata": {
    "collapsed": true
   },
   "outputs": [],
   "source": [
    "# Filling null values . since all are categorical columns so we will fill with Mode values\n",
    "for c in null_col:\n",
    "    df_final[c].fillna(df_final[c].mode()[0],inplace=True)"
   ]
  },
  {
   "cell_type": "code",
   "execution_count": 364,
   "metadata": {
    "collapsed": false
   },
   "outputs": [
    {
     "data": {
      "text/plain": [
       "AGE                        False\n",
       "CHURN                      False\n",
       "COMPUTER_OWNER             False\n",
       "DIRECT_INDIRECT_CHANNEL    False\n",
       "FEEDBACK                   False\n",
       "GENDER                     False\n",
       "INCOME                     False\n",
       "MODEL                      False\n",
       "PRESENCE_OF_CHILDREN       False\n",
       "SALES_SOURCE               False\n",
       "SATELLITE                  False\n",
       "SERVICE_PLAN               False\n",
       "SITE_TYPE_DESC             False\n",
       "STATE                      False\n",
       "Sub_period                 False\n",
       "dtype: bool"
      ]
     },
     "execution_count": 364,
     "metadata": {},
     "output_type": "execute_result"
    }
   ],
   "source": [
    "df_final.isnull().any()"
   ]
  },
  {
   "cell_type": "code",
   "execution_count": 365,
   "metadata": {
    "collapsed": false
   },
   "outputs": [
    {
     "data": {
      "text/plain": [
       "(3092.9675169539923, 0.0, 1L, array([[ 5819.79558757,  4169.20441243],\n",
       "        [ 5826.20441243,  4173.79558757]]))"
      ]
     },
     "execution_count": 365,
     "metadata": {},
     "output_type": "execute_result"
    }
   ],
   "source": [
    "chi2_contingency(pd.crosstab(df_final.CHURN,df_final.SITE_TYPE_DESC))"
   ]
  },
  {
   "cell_type": "code",
   "execution_count": 366,
   "metadata": {
    "collapsed": false
   },
   "outputs": [
    {
     "data": {
      "text/plain": [
       "(7.0040177928797052,\n",
       " 0.0081326981890451119,\n",
       " 1L,\n",
       " array([[ 6121.62939617,  3867.37060383],\n",
       "        [ 6128.37060383,  3871.62939617]]))"
      ]
     },
     "execution_count": 366,
     "metadata": {},
     "output_type": "execute_result"
    }
   ],
   "source": [
    "chi2_contingency(pd.crosstab(df_final.CHURN,df_final.GENDER))"
   ]
  },
  {
   "cell_type": "code",
   "execution_count": 367,
   "metadata": {
    "collapsed": false
   },
   "outputs": [
    {
     "data": {
      "text/html": [
       "<div>\n",
       "<table border=\"1\" class=\"dataframe\">\n",
       "  <thead>\n",
       "    <tr style=\"text-align: right;\">\n",
       "      <th></th>\n",
       "      <th>AGE</th>\n",
       "      <th>CHURN</th>\n",
       "      <th>PRESENCE_OF_CHILDREN</th>\n",
       "      <th>Sub_period</th>\n",
       "    </tr>\n",
       "  </thead>\n",
       "  <tbody>\n",
       "    <tr>\n",
       "      <th>count</th>\n",
       "      <td>19989.000000</td>\n",
       "      <td>19989.000000</td>\n",
       "      <td>19989.000000</td>\n",
       "      <td>19989.000000</td>\n",
       "    </tr>\n",
       "    <tr>\n",
       "      <th>mean</th>\n",
       "      <td>46.993296</td>\n",
       "      <td>0.500275</td>\n",
       "      <td>0.268298</td>\n",
       "      <td>773.487468</td>\n",
       "    </tr>\n",
       "    <tr>\n",
       "      <th>std</th>\n",
       "      <td>14.237485</td>\n",
       "      <td>0.500012</td>\n",
       "      <td>0.443084</td>\n",
       "      <td>390.297292</td>\n",
       "    </tr>\n",
       "    <tr>\n",
       "      <th>min</th>\n",
       "      <td>22.000000</td>\n",
       "      <td>0.000000</td>\n",
       "      <td>0.000000</td>\n",
       "      <td>0.000000</td>\n",
       "    </tr>\n",
       "    <tr>\n",
       "      <th>25%</th>\n",
       "      <td>35.000000</td>\n",
       "      <td>0.000000</td>\n",
       "      <td>0.000000</td>\n",
       "      <td>433.000000</td>\n",
       "    </tr>\n",
       "    <tr>\n",
       "      <th>50%</th>\n",
       "      <td>47.000000</td>\n",
       "      <td>1.000000</td>\n",
       "      <td>0.000000</td>\n",
       "      <td>717.000000</td>\n",
       "    </tr>\n",
       "    <tr>\n",
       "      <th>75%</th>\n",
       "      <td>58.000000</td>\n",
       "      <td>1.000000</td>\n",
       "      <td>1.000000</td>\n",
       "      <td>1100.000000</td>\n",
       "    </tr>\n",
       "    <tr>\n",
       "      <th>max</th>\n",
       "      <td>92.000000</td>\n",
       "      <td>1.000000</td>\n",
       "      <td>1.000000</td>\n",
       "      <td>3221.000000</td>\n",
       "    </tr>\n",
       "  </tbody>\n",
       "</table>\n",
       "</div>"
      ],
      "text/plain": [
       "                AGE         CHURN  PRESENCE_OF_CHILDREN    Sub_period\n",
       "count  19989.000000  19989.000000          19989.000000  19989.000000\n",
       "mean      46.993296      0.500275              0.268298    773.487468\n",
       "std       14.237485      0.500012              0.443084    390.297292\n",
       "min       22.000000      0.000000              0.000000      0.000000\n",
       "25%       35.000000      0.000000              0.000000    433.000000\n",
       "50%       47.000000      1.000000              0.000000    717.000000\n",
       "75%       58.000000      1.000000              1.000000   1100.000000\n",
       "max       92.000000      1.000000              1.000000   3221.000000"
      ]
     },
     "execution_count": 367,
     "metadata": {},
     "output_type": "execute_result"
    }
   ],
   "source": [
    "df_final.describe()"
   ]
  },
  {
   "cell_type": "code",
   "execution_count": 368,
   "metadata": {
    "collapsed": false
   },
   "outputs": [
    {
     "data": {
      "text/plain": [
       "dtype('float64')"
      ]
     },
     "execution_count": 368,
     "metadata": {},
     "output_type": "execute_result"
    }
   ],
   "source": [
    "df_final.PRESENCE_OF_CHILDREN.dtype"
   ]
  },
  {
   "cell_type": "code",
   "execution_count": 369,
   "metadata": {
    "collapsed": true
   },
   "outputs": [],
   "source": [
    "df_final.PRESENCE_OF_CHILDREN=df_final.PRESENCE_OF_CHILDREN.astype('int').astype('object')"
   ]
  },
  {
   "cell_type": "code",
   "execution_count": 370,
   "metadata": {
    "collapsed": false
   },
   "outputs": [
    {
     "data": {
      "text/plain": [
       "dtype('O')"
      ]
     },
     "execution_count": 370,
     "metadata": {},
     "output_type": "execute_result"
    }
   ],
   "source": [
    "df_final.PRESENCE_OF_CHILDREN.dtype"
   ]
  },
  {
   "cell_type": "code",
   "execution_count": 371,
   "metadata": {
    "collapsed": false
   },
   "outputs": [
    {
     "data": {
      "text/html": [
       "<div>\n",
       "<table border=\"1\" class=\"dataframe\">\n",
       "  <thead>\n",
       "    <tr style=\"text-align: right;\">\n",
       "      <th></th>\n",
       "      <th>AGE</th>\n",
       "      <th>CHURN</th>\n",
       "      <th>Sub_period</th>\n",
       "    </tr>\n",
       "  </thead>\n",
       "  <tbody>\n",
       "    <tr>\n",
       "      <th>count</th>\n",
       "      <td>19989.000000</td>\n",
       "      <td>19989.000000</td>\n",
       "      <td>19989.000000</td>\n",
       "    </tr>\n",
       "    <tr>\n",
       "      <th>mean</th>\n",
       "      <td>46.993296</td>\n",
       "      <td>0.500275</td>\n",
       "      <td>773.487468</td>\n",
       "    </tr>\n",
       "    <tr>\n",
       "      <th>std</th>\n",
       "      <td>14.237485</td>\n",
       "      <td>0.500012</td>\n",
       "      <td>390.297292</td>\n",
       "    </tr>\n",
       "    <tr>\n",
       "      <th>min</th>\n",
       "      <td>22.000000</td>\n",
       "      <td>0.000000</td>\n",
       "      <td>0.000000</td>\n",
       "    </tr>\n",
       "    <tr>\n",
       "      <th>25%</th>\n",
       "      <td>35.000000</td>\n",
       "      <td>0.000000</td>\n",
       "      <td>433.000000</td>\n",
       "    </tr>\n",
       "    <tr>\n",
       "      <th>50%</th>\n",
       "      <td>47.000000</td>\n",
       "      <td>1.000000</td>\n",
       "      <td>717.000000</td>\n",
       "    </tr>\n",
       "    <tr>\n",
       "      <th>75%</th>\n",
       "      <td>58.000000</td>\n",
       "      <td>1.000000</td>\n",
       "      <td>1100.000000</td>\n",
       "    </tr>\n",
       "    <tr>\n",
       "      <th>max</th>\n",
       "      <td>92.000000</td>\n",
       "      <td>1.000000</td>\n",
       "      <td>3221.000000</td>\n",
       "    </tr>\n",
       "  </tbody>\n",
       "</table>\n",
       "</div>"
      ],
      "text/plain": [
       "                AGE         CHURN    Sub_period\n",
       "count  19989.000000  19989.000000  19989.000000\n",
       "mean      46.993296      0.500275    773.487468\n",
       "std       14.237485      0.500012    390.297292\n",
       "min       22.000000      0.000000      0.000000\n",
       "25%       35.000000      0.000000    433.000000\n",
       "50%       47.000000      1.000000    717.000000\n",
       "75%       58.000000      1.000000   1100.000000\n",
       "max       92.000000      1.000000   3221.000000"
      ]
     },
     "execution_count": 371,
     "metadata": {},
     "output_type": "execute_result"
    }
   ],
   "source": [
    "df_final.describe()"
   ]
  },
  {
   "cell_type": "code",
   "execution_count": 372,
   "metadata": {
    "collapsed": false
   },
   "outputs": [
    {
     "data": {
      "text/plain": [
       "<matplotlib.axes._subplots.AxesSubplot at 0x2a81d128>"
      ]
     },
     "execution_count": 372,
     "metadata": {},
     "output_type": "execute_result"
    },
    {
     "data": {
      "image/png": "[encoded data removed]",
      "text/plain": [
       "<matplotlib.figure.Figure at 0x1e9613c8>"
      ]
     },
     "metadata": {},
     "output_type": "display_data"
    }
   ],
   "source": [
    "df_final.Sub_period.hist(bins=50)"
   ]
  },
  {
   "cell_type": "code",
   "execution_count": 373,
   "metadata": {
    "collapsed": false
   },
   "outputs": [
    {
     "data": {
      "text/html": [
       "<div>\n",
       "<table border=\"1\" class=\"dataframe\">\n",
       "  <thead>\n",
       "    <tr style=\"text-align: right;\">\n",
       "      <th></th>\n",
       "      <th>AGE</th>\n",
       "      <th>CHURN</th>\n",
       "      <th>COMPUTER_OWNER</th>\n",
       "      <th>DIRECT_INDIRECT_CHANNEL</th>\n",
       "      <th>FEEDBACK</th>\n",
       "      <th>GENDER</th>\n",
       "      <th>INCOME</th>\n",
       "      <th>MODEL</th>\n",
       "      <th>PRESENCE_OF_CHILDREN</th>\n",
       "      <th>SALES_SOURCE</th>\n",
       "      <th>SATELLITE</th>\n",
       "      <th>SERVICE_PLAN</th>\n",
       "      <th>SITE_TYPE_DESC</th>\n",
       "      <th>STATE</th>\n",
       "      <th>Sub_period</th>\n",
       "    </tr>\n",
       "  </thead>\n",
       "  <tbody>\n",
       "    <tr>\n",
       "      <th>0</th>\n",
       "      <td>69</td>\n",
       "      <td>0</td>\n",
       "      <td>N</td>\n",
       "      <td>Indirect</td>\n",
       "      <td>BAD</td>\n",
       "      <td>2</td>\n",
       "      <td>0</td>\n",
       "      <td>HN9000</td>\n",
       "      <td>0</td>\n",
       "      <td>UNKNOWN</td>\n",
       "      <td>SPACEWAY3</td>\n",
       "      <td>Elite</td>\n",
       "      <td>Broadband Remote</td>\n",
       "      <td>MD</td>\n",
       "      <td>747</td>\n",
       "    </tr>\n",
       "    <tr>\n",
       "      <th>1</th>\n",
       "      <td>43</td>\n",
       "      <td>0</td>\n",
       "      <td>N</td>\n",
       "      <td>Indirect</td>\n",
       "      <td>GOOD</td>\n",
       "      <td>2</td>\n",
       "      <td>4</td>\n",
       "      <td>HN7000S</td>\n",
       "      <td>0</td>\n",
       "      <td>NCC</td>\n",
       "      <td>HZN2-VER-4K</td>\n",
       "      <td>Pro</td>\n",
       "      <td>Spaceway</td>\n",
       "      <td>NJ</td>\n",
       "      <td>1194</td>\n",
       "    </tr>\n",
       "    <tr>\n",
       "      <th>2</th>\n",
       "      <td>58</td>\n",
       "      <td>0</td>\n",
       "      <td>N</td>\n",
       "      <td>Indirect</td>\n",
       "      <td>BAD</td>\n",
       "      <td>2</td>\n",
       "      <td>4</td>\n",
       "      <td>HN9000</td>\n",
       "      <td>0</td>\n",
       "      <td>NCC</td>\n",
       "      <td>SM5-VER-15K</td>\n",
       "      <td>Power150</td>\n",
       "      <td>Broadband Remote</td>\n",
       "      <td>LA</td>\n",
       "      <td>1144</td>\n",
       "    </tr>\n",
       "    <tr>\n",
       "      <th>3</th>\n",
       "      <td>22</td>\n",
       "      <td>0</td>\n",
       "      <td>N</td>\n",
       "      <td>Direct</td>\n",
       "      <td>BAD</td>\n",
       "      <td>1</td>\n",
       "      <td>6</td>\n",
       "      <td>DW6000</td>\n",
       "      <td>1</td>\n",
       "      <td>TAG</td>\n",
       "      <td>SPACEWAY3</td>\n",
       "      <td>Power150</td>\n",
       "      <td>Spaceway</td>\n",
       "      <td>OH</td>\n",
       "      <td>1223</td>\n",
       "    </tr>\n",
       "    <tr>\n",
       "      <th>4</th>\n",
       "      <td>36</td>\n",
       "      <td>0</td>\n",
       "      <td>N</td>\n",
       "      <td>Indirect</td>\n",
       "      <td>GOOD</td>\n",
       "      <td>1</td>\n",
       "      <td>7</td>\n",
       "      <td>HN7000S</td>\n",
       "      <td>0</td>\n",
       "      <td>TAG</td>\n",
       "      <td>0</td>\n",
       "      <td>Home</td>\n",
       "      <td>Broadband Remote</td>\n",
       "      <td>NY</td>\n",
       "      <td>838</td>\n",
       "    </tr>\n",
       "    <tr>\n",
       "      <th>5</th>\n",
       "      <td>51</td>\n",
       "      <td>0</td>\n",
       "      <td>N</td>\n",
       "      <td>Indirect</td>\n",
       "      <td>GOOD</td>\n",
       "      <td>2</td>\n",
       "      <td>7</td>\n",
       "      <td>HN9000</td>\n",
       "      <td>0</td>\n",
       "      <td>UNKNOWN</td>\n",
       "      <td>SPACEWAY3</td>\n",
       "      <td>Pro</td>\n",
       "      <td>Broadband Remote</td>\n",
       "      <td>TX</td>\n",
       "      <td>1254</td>\n",
       "    </tr>\n",
       "    <tr>\n",
       "      <th>6</th>\n",
       "      <td>56</td>\n",
       "      <td>0</td>\n",
       "      <td>N</td>\n",
       "      <td>Indirect</td>\n",
       "      <td>BAD</td>\n",
       "      <td>1</td>\n",
       "      <td>3</td>\n",
       "      <td>HN7000S</td>\n",
       "      <td>0</td>\n",
       "      <td>ValueElectronics</td>\n",
       "      <td>G17-HOR-2K</td>\n",
       "      <td>Power150</td>\n",
       "      <td>Broadband Remote</td>\n",
       "      <td>MO</td>\n",
       "      <td>561</td>\n",
       "    </tr>\n",
       "    <tr>\n",
       "      <th>7</th>\n",
       "      <td>57</td>\n",
       "      <td>0</td>\n",
       "      <td>Y</td>\n",
       "      <td>Indirect</td>\n",
       "      <td>GOOD</td>\n",
       "      <td>1</td>\n",
       "      <td>7</td>\n",
       "      <td>HN7000S</td>\n",
       "      <td>0</td>\n",
       "      <td>TAG</td>\n",
       "      <td>SM5-VER-5K</td>\n",
       "      <td>Power150</td>\n",
       "      <td>Broadband Remote</td>\n",
       "      <td>MD</td>\n",
       "      <td>919</td>\n",
       "    </tr>\n",
       "    <tr>\n",
       "      <th>8</th>\n",
       "      <td>42</td>\n",
       "      <td>0</td>\n",
       "      <td>N</td>\n",
       "      <td>Indirect</td>\n",
       "      <td>GOOD</td>\n",
       "      <td>2</td>\n",
       "      <td>4</td>\n",
       "      <td>DW6000</td>\n",
       "      <td>0</td>\n",
       "      <td>TAG</td>\n",
       "      <td>AM6-HOR-21K</td>\n",
       "      <td>Home</td>\n",
       "      <td>Broadband Remote</td>\n",
       "      <td>AR</td>\n",
       "      <td>1412</td>\n",
       "    </tr>\n",
       "    <tr>\n",
       "      <th>9</th>\n",
       "      <td>34</td>\n",
       "      <td>0</td>\n",
       "      <td>N</td>\n",
       "      <td>Indirect</td>\n",
       "      <td>BAD</td>\n",
       "      <td>2</td>\n",
       "      <td>4</td>\n",
       "      <td>HN7000S</td>\n",
       "      <td>1</td>\n",
       "      <td>Hughes Web Order</td>\n",
       "      <td>G17-HOR-6K</td>\n",
       "      <td>Basic_Ltd</td>\n",
       "      <td>Broadband Remote</td>\n",
       "      <td>MD</td>\n",
       "      <td>881</td>\n",
       "    </tr>\n",
       "    <tr>\n",
       "      <th>10</th>\n",
       "      <td>54</td>\n",
       "      <td>0</td>\n",
       "      <td>N</td>\n",
       "      <td>Indirect</td>\n",
       "      <td>GOOD</td>\n",
       "      <td>2</td>\n",
       "      <td>3</td>\n",
       "      <td>HN7000S</td>\n",
       "      <td>1</td>\n",
       "      <td>TAG</td>\n",
       "      <td>G3C-VER-24K</td>\n",
       "      <td>Basic</td>\n",
       "      <td>Broadband Remote</td>\n",
       "      <td>AZ</td>\n",
       "      <td>1023</td>\n",
       "    </tr>\n",
       "    <tr>\n",
       "      <th>11</th>\n",
       "      <td>57</td>\n",
       "      <td>0</td>\n",
       "      <td>N</td>\n",
       "      <td>Direct</td>\n",
       "      <td>BAD</td>\n",
       "      <td>1</td>\n",
       "      <td>6</td>\n",
       "      <td>HN7000S</td>\n",
       "      <td>0</td>\n",
       "      <td>InfoDish</td>\n",
       "      <td>0</td>\n",
       "      <td>Proplus</td>\n",
       "      <td>Broadband Remote</td>\n",
       "      <td>NV</td>\n",
       "      <td>1029</td>\n",
       "    </tr>\n",
       "    <tr>\n",
       "      <th>12</th>\n",
       "      <td>52</td>\n",
       "      <td>0</td>\n",
       "      <td>Y</td>\n",
       "      <td>Indirect</td>\n",
       "      <td>BAD</td>\n",
       "      <td>2</td>\n",
       "      <td>A</td>\n",
       "      <td>HN7000S</td>\n",
       "      <td>0</td>\n",
       "      <td>InfoDish</td>\n",
       "      <td>SM5-VER-15K</td>\n",
       "      <td>Power150</td>\n",
       "      <td>Broadband Remote</td>\n",
       "      <td>WY</td>\n",
       "      <td>805</td>\n",
       "    </tr>\n",
       "    <tr>\n",
       "      <th>13</th>\n",
       "      <td>39</td>\n",
       "      <td>0</td>\n",
       "      <td>Y</td>\n",
       "      <td>Indirect</td>\n",
       "      <td>BAD</td>\n",
       "      <td>1</td>\n",
       "      <td>6</td>\n",
       "      <td>DW6000</td>\n",
       "      <td>0</td>\n",
       "      <td>Hughes Web Order</td>\n",
       "      <td>SPACEWAY3</td>\n",
       "      <td>Basic_Ltd</td>\n",
       "      <td>Broadband Remote</td>\n",
       "      <td>WI</td>\n",
       "      <td>983</td>\n",
       "    </tr>\n",
       "    <tr>\n",
       "      <th>14</th>\n",
       "      <td>24</td>\n",
       "      <td>0</td>\n",
       "      <td>N</td>\n",
       "      <td>Indirect</td>\n",
       "      <td>GOOD</td>\n",
       "      <td>1</td>\n",
       "      <td>6</td>\n",
       "      <td>HN7000S</td>\n",
       "      <td>0</td>\n",
       "      <td>NRTC</td>\n",
       "      <td>HZN-HOR-19K</td>\n",
       "      <td>Basic</td>\n",
       "      <td>Broadband Remote</td>\n",
       "      <td>AZ</td>\n",
       "      <td>796</td>\n",
       "    </tr>\n",
       "    <tr>\n",
       "      <th>15</th>\n",
       "      <td>45</td>\n",
       "      <td>0</td>\n",
       "      <td>N</td>\n",
       "      <td>Indirect</td>\n",
       "      <td>GOOD</td>\n",
       "      <td>1</td>\n",
       "      <td>7</td>\n",
       "      <td>HN7000S</td>\n",
       "      <td>0</td>\n",
       "      <td>RS&amp;I</td>\n",
       "      <td>SM5-VER-15K</td>\n",
       "      <td>Power150</td>\n",
       "      <td>Broadband Remote</td>\n",
       "      <td>NY</td>\n",
       "      <td>728</td>\n",
       "    </tr>\n",
       "    <tr>\n",
       "      <th>16</th>\n",
       "      <td>58</td>\n",
       "      <td>0</td>\n",
       "      <td>N</td>\n",
       "      <td>Indirect</td>\n",
       "      <td>BAD</td>\n",
       "      <td>1</td>\n",
       "      <td>0</td>\n",
       "      <td>DW4020</td>\n",
       "      <td>0</td>\n",
       "      <td>InfoDish</td>\n",
       "      <td>AM9-VER-2K</td>\n",
       "      <td>Proplus</td>\n",
       "      <td>Broadband Remote</td>\n",
       "      <td>NM</td>\n",
       "      <td>1039</td>\n",
       "    </tr>\n",
       "    <tr>\n",
       "      <th>17</th>\n",
       "      <td>62</td>\n",
       "      <td>0</td>\n",
       "      <td>Y</td>\n",
       "      <td>Indirect</td>\n",
       "      <td>BAD</td>\n",
       "      <td>1</td>\n",
       "      <td>0</td>\n",
       "      <td>UNK</td>\n",
       "      <td>0</td>\n",
       "      <td>Hughes Web Order</td>\n",
       "      <td>AM9-VER-2K</td>\n",
       "      <td>Home</td>\n",
       "      <td>Spaceway</td>\n",
       "      <td>AR</td>\n",
       "      <td>931</td>\n",
       "    </tr>\n",
       "    <tr>\n",
       "      <th>18</th>\n",
       "      <td>64</td>\n",
       "      <td>0</td>\n",
       "      <td>N</td>\n",
       "      <td>Indirect</td>\n",
       "      <td>BAD</td>\n",
       "      <td>2</td>\n",
       "      <td>5</td>\n",
       "      <td>HN7000S</td>\n",
       "      <td>0</td>\n",
       "      <td>InfoDish</td>\n",
       "      <td>SM5-VER-15K</td>\n",
       "      <td>Elite</td>\n",
       "      <td>Broadband Remote</td>\n",
       "      <td>CA</td>\n",
       "      <td>1207</td>\n",
       "    </tr>\n",
       "    <tr>\n",
       "      <th>19</th>\n",
       "      <td>30</td>\n",
       "      <td>0</td>\n",
       "      <td>N</td>\n",
       "      <td>Indirect</td>\n",
       "      <td>BAD</td>\n",
       "      <td>2</td>\n",
       "      <td>C</td>\n",
       "      <td>DW4020</td>\n",
       "      <td>0</td>\n",
       "      <td>Hughes Web Order</td>\n",
       "      <td>SM5-VER-7K</td>\n",
       "      <td>Proplus</td>\n",
       "      <td>Broadband Remote</td>\n",
       "      <td>TX</td>\n",
       "      <td>1152</td>\n",
       "    </tr>\n",
       "    <tr>\n",
       "      <th>20</th>\n",
       "      <td>68</td>\n",
       "      <td>0</td>\n",
       "      <td>N</td>\n",
       "      <td>Indirect</td>\n",
       "      <td>GOOD</td>\n",
       "      <td>1</td>\n",
       "      <td>9</td>\n",
       "      <td>HN9000</td>\n",
       "      <td>0</td>\n",
       "      <td>Verisign Web Ordering</td>\n",
       "      <td>SM5-HOR-14K</td>\n",
       "      <td>Basic_Ltd</td>\n",
       "      <td>Spaceway</td>\n",
       "      <td>CO</td>\n",
       "      <td>913</td>\n",
       "    </tr>\n",
       "    <tr>\n",
       "      <th>21</th>\n",
       "      <td>63</td>\n",
       "      <td>0</td>\n",
       "      <td>N</td>\n",
       "      <td>Indirect</td>\n",
       "      <td>BAD</td>\n",
       "      <td>2</td>\n",
       "      <td>0</td>\n",
       "      <td>DW6000</td>\n",
       "      <td>1</td>\n",
       "      <td>Hughes Web Order</td>\n",
       "      <td>SPACEWAY3</td>\n",
       "      <td>Basic_Ltd</td>\n",
       "      <td>Broadband Remote</td>\n",
       "      <td>TN</td>\n",
       "      <td>644</td>\n",
       "    </tr>\n",
       "    <tr>\n",
       "      <th>22</th>\n",
       "      <td>33</td>\n",
       "      <td>0</td>\n",
       "      <td>N</td>\n",
       "      <td>Indirect</td>\n",
       "      <td>GOOD</td>\n",
       "      <td>2</td>\n",
       "      <td>6</td>\n",
       "      <td>HN7000S</td>\n",
       "      <td>0</td>\n",
       "      <td>ACS Pre-Install</td>\n",
       "      <td>HZN-HOR-8K</td>\n",
       "      <td>Home</td>\n",
       "      <td>Broadband Remote</td>\n",
       "      <td>GA</td>\n",
       "      <td>1496</td>\n",
       "    </tr>\n",
       "    <tr>\n",
       "      <th>23</th>\n",
       "      <td>51</td>\n",
       "      <td>0</td>\n",
       "      <td>N</td>\n",
       "      <td>Indirect</td>\n",
       "      <td>BAD</td>\n",
       "      <td>1</td>\n",
       "      <td>0</td>\n",
       "      <td>HN7000S</td>\n",
       "      <td>0</td>\n",
       "      <td>LiveBridge Communications LLC</td>\n",
       "      <td>AM9-HOR-21K</td>\n",
       "      <td>Basic</td>\n",
       "      <td>Broadband Remote</td>\n",
       "      <td>NC</td>\n",
       "      <td>987</td>\n",
       "    </tr>\n",
       "    <tr>\n",
       "      <th>24</th>\n",
       "      <td>58</td>\n",
       "      <td>0</td>\n",
       "      <td>N</td>\n",
       "      <td>Indirect</td>\n",
       "      <td>GOOD</td>\n",
       "      <td>1</td>\n",
       "      <td>0</td>\n",
       "      <td>DW4020</td>\n",
       "      <td>0</td>\n",
       "      <td>RS&amp;I</td>\n",
       "      <td>AM9-VER-2K</td>\n",
       "      <td>Home</td>\n",
       "      <td>Broadband Remote</td>\n",
       "      <td>CA</td>\n",
       "      <td>1422</td>\n",
       "    </tr>\n",
       "    <tr>\n",
       "      <th>25</th>\n",
       "      <td>23</td>\n",
       "      <td>0</td>\n",
       "      <td>N</td>\n",
       "      <td>Direct</td>\n",
       "      <td>BAD</td>\n",
       "      <td>1</td>\n",
       "      <td>D</td>\n",
       "      <td>HN7000S</td>\n",
       "      <td>0</td>\n",
       "      <td>TAG</td>\n",
       "      <td>SPACEWAY3</td>\n",
       "      <td>Basic</td>\n",
       "      <td>Spaceway</td>\n",
       "      <td>CA</td>\n",
       "      <td>913</td>\n",
       "    </tr>\n",
       "    <tr>\n",
       "      <th>26</th>\n",
       "      <td>58</td>\n",
       "      <td>0</td>\n",
       "      <td>N</td>\n",
       "      <td>Indirect</td>\n",
       "      <td>BAD</td>\n",
       "      <td>2</td>\n",
       "      <td>7</td>\n",
       "      <td>HN9000</td>\n",
       "      <td>1</td>\n",
       "      <td>Perfect 10</td>\n",
       "      <td>G17-HOR-6K</td>\n",
       "      <td>Basic_Ltd</td>\n",
       "      <td>Spaceway</td>\n",
       "      <td>WV</td>\n",
       "      <td>1250</td>\n",
       "    </tr>\n",
       "    <tr>\n",
       "      <th>27</th>\n",
       "      <td>57</td>\n",
       "      <td>0</td>\n",
       "      <td>N</td>\n",
       "      <td>Indirect</td>\n",
       "      <td>GOOD</td>\n",
       "      <td>2</td>\n",
       "      <td>4</td>\n",
       "      <td>HN9000</td>\n",
       "      <td>0</td>\n",
       "      <td>AmericanSat</td>\n",
       "      <td>SPACEWAY3</td>\n",
       "      <td>Power150</td>\n",
       "      <td>Broadband Remote</td>\n",
       "      <td>AL</td>\n",
       "      <td>1191</td>\n",
       "    </tr>\n",
       "    <tr>\n",
       "      <th>28</th>\n",
       "      <td>50</td>\n",
       "      <td>0</td>\n",
       "      <td>N</td>\n",
       "      <td>Indirect</td>\n",
       "      <td>GOOD</td>\n",
       "      <td>2</td>\n",
       "      <td>0</td>\n",
       "      <td>HN9000</td>\n",
       "      <td>0</td>\n",
       "      <td>AmericanSat</td>\n",
       "      <td>G17-HOR-6K</td>\n",
       "      <td>Basic</td>\n",
       "      <td>Broadband Remote</td>\n",
       "      <td>VA</td>\n",
       "      <td>1261</td>\n",
       "    </tr>\n",
       "    <tr>\n",
       "      <th>29</th>\n",
       "      <td>43</td>\n",
       "      <td>0</td>\n",
       "      <td>N</td>\n",
       "      <td>Indirect</td>\n",
       "      <td>GOOD</td>\n",
       "      <td>1</td>\n",
       "      <td>4</td>\n",
       "      <td>HN7000S</td>\n",
       "      <td>0</td>\n",
       "      <td>Best Buy</td>\n",
       "      <td>G17-HOR-2K</td>\n",
       "      <td>Home</td>\n",
       "      <td>Broadband Remote</td>\n",
       "      <td>IN</td>\n",
       "      <td>865</td>\n",
       "    </tr>\n",
       "    <tr>\n",
       "      <th>...</th>\n",
       "      <td>...</td>\n",
       "      <td>...</td>\n",
       "      <td>...</td>\n",
       "      <td>...</td>\n",
       "      <td>...</td>\n",
       "      <td>...</td>\n",
       "      <td>...</td>\n",
       "      <td>...</td>\n",
       "      <td>...</td>\n",
       "      <td>...</td>\n",
       "      <td>...</td>\n",
       "      <td>...</td>\n",
       "      <td>...</td>\n",
       "      <td>...</td>\n",
       "      <td>...</td>\n",
       "    </tr>\n",
       "    <tr>\n",
       "      <th>9970</th>\n",
       "      <td>32</td>\n",
       "      <td>1</td>\n",
       "      <td>Y</td>\n",
       "      <td>Direct</td>\n",
       "      <td>BAD</td>\n",
       "      <td>1</td>\n",
       "      <td>B</td>\n",
       "      <td>HN9000</td>\n",
       "      <td>0</td>\n",
       "      <td>RS&amp;I</td>\n",
       "      <td>SPACEWAY3</td>\n",
       "      <td>Basic_Ltd</td>\n",
       "      <td>Broadband Remote</td>\n",
       "      <td>NY</td>\n",
       "      <td>400</td>\n",
       "    </tr>\n",
       "    <tr>\n",
       "      <th>9971</th>\n",
       "      <td>63</td>\n",
       "      <td>1</td>\n",
       "      <td>N</td>\n",
       "      <td>Indirect</td>\n",
       "      <td>BAD</td>\n",
       "      <td>1</td>\n",
       "      <td>0</td>\n",
       "      <td>HN7000S</td>\n",
       "      <td>1</td>\n",
       "      <td>GoDish.com Ltd LLP (SA)</td>\n",
       "      <td>G26-HOR-14K</td>\n",
       "      <td>Pro</td>\n",
       "      <td>Spaceway</td>\n",
       "      <td>IL</td>\n",
       "      <td>1264</td>\n",
       "    </tr>\n",
       "    <tr>\n",
       "      <th>9972</th>\n",
       "      <td>72</td>\n",
       "      <td>1</td>\n",
       "      <td>Y</td>\n",
       "      <td>Direct</td>\n",
       "      <td>BAD</td>\n",
       "      <td>1</td>\n",
       "      <td>7</td>\n",
       "      <td>DW7000</td>\n",
       "      <td>0</td>\n",
       "      <td>Hughes Web Order</td>\n",
       "      <td>AM6-HOR-21K</td>\n",
       "      <td>Professional</td>\n",
       "      <td>Spaceway</td>\n",
       "      <td>MD</td>\n",
       "      <td>1111</td>\n",
       "    </tr>\n",
       "    <tr>\n",
       "      <th>9973</th>\n",
       "      <td>45</td>\n",
       "      <td>1</td>\n",
       "      <td>Y</td>\n",
       "      <td>Direct</td>\n",
       "      <td>BAD</td>\n",
       "      <td>1</td>\n",
       "      <td>8</td>\n",
       "      <td>HN7000S</td>\n",
       "      <td>0</td>\n",
       "      <td>OKS Ameridial Inc (CC)</td>\n",
       "      <td>SM6-HOR-10K</td>\n",
       "      <td>Basic</td>\n",
       "      <td>Spaceway</td>\n",
       "      <td>CO</td>\n",
       "      <td>495</td>\n",
       "    </tr>\n",
       "    <tr>\n",
       "      <th>9974</th>\n",
       "      <td>30</td>\n",
       "      <td>1</td>\n",
       "      <td>Y</td>\n",
       "      <td>Indirect</td>\n",
       "      <td>GOOD</td>\n",
       "      <td>2</td>\n",
       "      <td>6</td>\n",
       "      <td>HN9000</td>\n",
       "      <td>1</td>\n",
       "      <td>Valley Satellite (RSI561377)</td>\n",
       "      <td>SPACEWAY3</td>\n",
       "      <td>Elite</td>\n",
       "      <td>Broadband Remote</td>\n",
       "      <td>CA</td>\n",
       "      <td>424</td>\n",
       "    </tr>\n",
       "    <tr>\n",
       "      <th>9975</th>\n",
       "      <td>46</td>\n",
       "      <td>1</td>\n",
       "      <td>Y</td>\n",
       "      <td>Indirect</td>\n",
       "      <td>GOOD</td>\n",
       "      <td>2</td>\n",
       "      <td>5</td>\n",
       "      <td>HN9000</td>\n",
       "      <td>0</td>\n",
       "      <td>American Satellite &amp; Ent Inc (SA)</td>\n",
       "      <td>G3C-VER-24K</td>\n",
       "      <td>Home</td>\n",
       "      <td>Broadband Remote</td>\n",
       "      <td>VA</td>\n",
       "      <td>409</td>\n",
       "    </tr>\n",
       "    <tr>\n",
       "      <th>9976</th>\n",
       "      <td>46</td>\n",
       "      <td>1</td>\n",
       "      <td>N</td>\n",
       "      <td>Indirect</td>\n",
       "      <td>BAD</td>\n",
       "      <td>1</td>\n",
       "      <td>0</td>\n",
       "      <td>DW7000</td>\n",
       "      <td>1</td>\n",
       "      <td>LiveBridge Communications LLC</td>\n",
       "      <td>HZN-HOR-8K</td>\n",
       "      <td>Elite</td>\n",
       "      <td>Spaceway</td>\n",
       "      <td>OR</td>\n",
       "      <td>795</td>\n",
       "    </tr>\n",
       "    <tr>\n",
       "      <th>9977</th>\n",
       "      <td>67</td>\n",
       "      <td>1</td>\n",
       "      <td>N</td>\n",
       "      <td>Indirect</td>\n",
       "      <td>BAD</td>\n",
       "      <td>2</td>\n",
       "      <td>0</td>\n",
       "      <td>HN9000</td>\n",
       "      <td>1</td>\n",
       "      <td>Satellite Dish Marketing LLC dba Digita</td>\n",
       "      <td>AMC-VER-5K</td>\n",
       "      <td>Basic</td>\n",
       "      <td>Spaceway</td>\n",
       "      <td>CA</td>\n",
       "      <td>1396</td>\n",
       "    </tr>\n",
       "    <tr>\n",
       "      <th>9978</th>\n",
       "      <td>35</td>\n",
       "      <td>1</td>\n",
       "      <td>N</td>\n",
       "      <td>Indirect</td>\n",
       "      <td>GOOD</td>\n",
       "      <td>1</td>\n",
       "      <td>5</td>\n",
       "      <td>DW7000</td>\n",
       "      <td>0</td>\n",
       "      <td>Electronic Express (SA)</td>\n",
       "      <td>G3C-VER-24K</td>\n",
       "      <td>Home</td>\n",
       "      <td>Broadband Remote</td>\n",
       "      <td>IA</td>\n",
       "      <td>493</td>\n",
       "    </tr>\n",
       "    <tr>\n",
       "      <th>9979</th>\n",
       "      <td>35</td>\n",
       "      <td>1</td>\n",
       "      <td>N</td>\n",
       "      <td>Indirect</td>\n",
       "      <td>GOOD</td>\n",
       "      <td>2</td>\n",
       "      <td>1</td>\n",
       "      <td>HN9000</td>\n",
       "      <td>0</td>\n",
       "      <td>DialAmerica Marketing Inc (CC)</td>\n",
       "      <td>SPACEWAY3</td>\n",
       "      <td>Basic_Ltd</td>\n",
       "      <td>Broadband Remote</td>\n",
       "      <td>IL</td>\n",
       "      <td>499</td>\n",
       "    </tr>\n",
       "    <tr>\n",
       "      <th>9980</th>\n",
       "      <td>61</td>\n",
       "      <td>1</td>\n",
       "      <td>Y</td>\n",
       "      <td>Indirect</td>\n",
       "      <td>BAD</td>\n",
       "      <td>1</td>\n",
       "      <td>8</td>\n",
       "      <td>HN9000</td>\n",
       "      <td>0</td>\n",
       "      <td>TAG</td>\n",
       "      <td>HZN-HOR-8K</td>\n",
       "      <td>Elite</td>\n",
       "      <td>Broadband Remote</td>\n",
       "      <td>MD</td>\n",
       "      <td>416</td>\n",
       "    </tr>\n",
       "    <tr>\n",
       "      <th>9981</th>\n",
       "      <td>64</td>\n",
       "      <td>1</td>\n",
       "      <td>N</td>\n",
       "      <td>Direct</td>\n",
       "      <td>GOOD</td>\n",
       "      <td>1</td>\n",
       "      <td>0</td>\n",
       "      <td>HN9000</td>\n",
       "      <td>1</td>\n",
       "      <td>Communication Solutions LLC (CC)</td>\n",
       "      <td>G3C-VER-24K</td>\n",
       "      <td>Basic</td>\n",
       "      <td>Spaceway</td>\n",
       "      <td>OK</td>\n",
       "      <td>1322</td>\n",
       "    </tr>\n",
       "    <tr>\n",
       "      <th>9982</th>\n",
       "      <td>40</td>\n",
       "      <td>1</td>\n",
       "      <td>N</td>\n",
       "      <td>Indirect</td>\n",
       "      <td>GOOD</td>\n",
       "      <td>1</td>\n",
       "      <td>0</td>\n",
       "      <td>HN9000</td>\n",
       "      <td>1</td>\n",
       "      <td>DialAmerica Marketing Inc (CC)</td>\n",
       "      <td>AMC-VER-5K</td>\n",
       "      <td>Basic</td>\n",
       "      <td>Spaceway</td>\n",
       "      <td>IL</td>\n",
       "      <td>316</td>\n",
       "    </tr>\n",
       "    <tr>\n",
       "      <th>9983</th>\n",
       "      <td>61</td>\n",
       "      <td>1</td>\n",
       "      <td>Y</td>\n",
       "      <td>Indirect</td>\n",
       "      <td>BAD</td>\n",
       "      <td>2</td>\n",
       "      <td>6</td>\n",
       "      <td>HN9000</td>\n",
       "      <td>1</td>\n",
       "      <td>LiveBridge Communications LLC</td>\n",
       "      <td>SM6-HOR-10K</td>\n",
       "      <td>Basic</td>\n",
       "      <td>Broadband Remote</td>\n",
       "      <td>CA</td>\n",
       "      <td>817</td>\n",
       "    </tr>\n",
       "    <tr>\n",
       "      <th>9984</th>\n",
       "      <td>61</td>\n",
       "      <td>1</td>\n",
       "      <td>N</td>\n",
       "      <td>Indirect</td>\n",
       "      <td>BAD</td>\n",
       "      <td>2</td>\n",
       "      <td>6</td>\n",
       "      <td>DW6000</td>\n",
       "      <td>0</td>\n",
       "      <td>Perfect 10</td>\n",
       "      <td>G16-VER-15K</td>\n",
       "      <td>Professional</td>\n",
       "      <td>Spaceway</td>\n",
       "      <td>NJ</td>\n",
       "      <td>450</td>\n",
       "    </tr>\n",
       "    <tr>\n",
       "      <th>9985</th>\n",
       "      <td>53</td>\n",
       "      <td>1</td>\n",
       "      <td>N</td>\n",
       "      <td>Indirect</td>\n",
       "      <td>BAD</td>\n",
       "      <td>2</td>\n",
       "      <td>3</td>\n",
       "      <td>HN9000</td>\n",
       "      <td>0</td>\n",
       "      <td>OKS Ameridial Inc (CC)</td>\n",
       "      <td>AMC-VER-5K</td>\n",
       "      <td>Basic</td>\n",
       "      <td>Spaceway</td>\n",
       "      <td>NM</td>\n",
       "      <td>324</td>\n",
       "    </tr>\n",
       "    <tr>\n",
       "      <th>9986</th>\n",
       "      <td>59</td>\n",
       "      <td>1</td>\n",
       "      <td>N</td>\n",
       "      <td>Indirect</td>\n",
       "      <td>GOOD</td>\n",
       "      <td>1</td>\n",
       "      <td>5</td>\n",
       "      <td>HN7000S</td>\n",
       "      <td>1</td>\n",
       "      <td>EBN Financial dba Dish Systems (SA)</td>\n",
       "      <td>SPACEWAY3</td>\n",
       "      <td>Pro</td>\n",
       "      <td>Broadband Remote</td>\n",
       "      <td>SC</td>\n",
       "      <td>347</td>\n",
       "    </tr>\n",
       "    <tr>\n",
       "      <th>9987</th>\n",
       "      <td>65</td>\n",
       "      <td>1</td>\n",
       "      <td>N</td>\n",
       "      <td>Indirect</td>\n",
       "      <td>GOOD</td>\n",
       "      <td>1</td>\n",
       "      <td>0</td>\n",
       "      <td>HN9000</td>\n",
       "      <td>1</td>\n",
       "      <td>Professional Technical Services (P10)</td>\n",
       "      <td>G28-HOR-16K</td>\n",
       "      <td>Basic</td>\n",
       "      <td>Spaceway</td>\n",
       "      <td>VA</td>\n",
       "      <td>365</td>\n",
       "    </tr>\n",
       "    <tr>\n",
       "      <th>9988</th>\n",
       "      <td>70</td>\n",
       "      <td>1</td>\n",
       "      <td>N</td>\n",
       "      <td>Indirect</td>\n",
       "      <td>GOOD</td>\n",
       "      <td>2</td>\n",
       "      <td>9</td>\n",
       "      <td>HN9000</td>\n",
       "      <td>0</td>\n",
       "      <td>OKS Ameridial Inc (CC)</td>\n",
       "      <td>G28-HOR-16K</td>\n",
       "      <td>Basic</td>\n",
       "      <td>Spaceway</td>\n",
       "      <td>MI</td>\n",
       "      <td>1188</td>\n",
       "    </tr>\n",
       "    <tr>\n",
       "      <th>9989</th>\n",
       "      <td>68</td>\n",
       "      <td>1</td>\n",
       "      <td>Y</td>\n",
       "      <td>Indirect</td>\n",
       "      <td>BAD</td>\n",
       "      <td>1</td>\n",
       "      <td>3</td>\n",
       "      <td>HN7000S</td>\n",
       "      <td>1</td>\n",
       "      <td>TAG</td>\n",
       "      <td>SPACEWAY3</td>\n",
       "      <td>Pro</td>\n",
       "      <td>Broadband Remote</td>\n",
       "      <td>MA</td>\n",
       "      <td>1110</td>\n",
       "    </tr>\n",
       "    <tr>\n",
       "      <th>9990</th>\n",
       "      <td>43</td>\n",
       "      <td>1</td>\n",
       "      <td>N</td>\n",
       "      <td>Indirect</td>\n",
       "      <td>GOOD</td>\n",
       "      <td>2</td>\n",
       "      <td>4</td>\n",
       "      <td>HN7000S</td>\n",
       "      <td>0</td>\n",
       "      <td>Direct SAT Broadband LLC (SA)</td>\n",
       "      <td>SPACEWAY3</td>\n",
       "      <td>Elite</td>\n",
       "      <td>Broadband Remote</td>\n",
       "      <td>VA</td>\n",
       "      <td>1329</td>\n",
       "    </tr>\n",
       "    <tr>\n",
       "      <th>9991</th>\n",
       "      <td>40</td>\n",
       "      <td>1</td>\n",
       "      <td>N</td>\n",
       "      <td>Indirect</td>\n",
       "      <td>BAD</td>\n",
       "      <td>2</td>\n",
       "      <td>3</td>\n",
       "      <td>DW6000</td>\n",
       "      <td>0</td>\n",
       "      <td>Elite Satellite and Home Theater Inc (S</td>\n",
       "      <td>AM6-HOR-21K</td>\n",
       "      <td>Proplus</td>\n",
       "      <td>Spaceway</td>\n",
       "      <td>NV</td>\n",
       "      <td>344</td>\n",
       "    </tr>\n",
       "    <tr>\n",
       "      <th>9992</th>\n",
       "      <td>66</td>\n",
       "      <td>1</td>\n",
       "      <td>Y</td>\n",
       "      <td>Direct</td>\n",
       "      <td>BAD</td>\n",
       "      <td>1</td>\n",
       "      <td>0</td>\n",
       "      <td>HN7000S</td>\n",
       "      <td>1</td>\n",
       "      <td>OKS Ameridial Inc (CC)</td>\n",
       "      <td>AM9-HOR-17K</td>\n",
       "      <td>Elite</td>\n",
       "      <td>Spaceway</td>\n",
       "      <td>NE</td>\n",
       "      <td>383</td>\n",
       "    </tr>\n",
       "    <tr>\n",
       "      <th>9993</th>\n",
       "      <td>49</td>\n",
       "      <td>1</td>\n",
       "      <td>Y</td>\n",
       "      <td>Indirect</td>\n",
       "      <td>BAD</td>\n",
       "      <td>1</td>\n",
       "      <td>3</td>\n",
       "      <td>HN7000S</td>\n",
       "      <td>0</td>\n",
       "      <td>DialAmerica Marketing Inc (CC)</td>\n",
       "      <td>SPACEWAY3</td>\n",
       "      <td>Basic</td>\n",
       "      <td>Broadband Remote</td>\n",
       "      <td>CA</td>\n",
       "      <td>429</td>\n",
       "    </tr>\n",
       "    <tr>\n",
       "      <th>9994</th>\n",
       "      <td>28</td>\n",
       "      <td>1</td>\n",
       "      <td>Y</td>\n",
       "      <td>Direct</td>\n",
       "      <td>BAD</td>\n",
       "      <td>1</td>\n",
       "      <td>9</td>\n",
       "      <td>HN9000</td>\n",
       "      <td>0</td>\n",
       "      <td>TAG</td>\n",
       "      <td>HZN-VER-23K</td>\n",
       "      <td>Elite</td>\n",
       "      <td>Broadband Remote</td>\n",
       "      <td>MO</td>\n",
       "      <td>337</td>\n",
       "    </tr>\n",
       "    <tr>\n",
       "      <th>9995</th>\n",
       "      <td>49</td>\n",
       "      <td>1</td>\n",
       "      <td>N</td>\n",
       "      <td>Indirect</td>\n",
       "      <td>GOOD</td>\n",
       "      <td>2</td>\n",
       "      <td>3</td>\n",
       "      <td>HN9000</td>\n",
       "      <td>1</td>\n",
       "      <td>Red Ventures LLC (SA)</td>\n",
       "      <td>G28-HOR-16K</td>\n",
       "      <td>Basic</td>\n",
       "      <td>Spaceway</td>\n",
       "      <td>LA</td>\n",
       "      <td>460</td>\n",
       "    </tr>\n",
       "    <tr>\n",
       "      <th>9996</th>\n",
       "      <td>38</td>\n",
       "      <td>1</td>\n",
       "      <td>Y</td>\n",
       "      <td>Direct</td>\n",
       "      <td>BAD</td>\n",
       "      <td>2</td>\n",
       "      <td>2</td>\n",
       "      <td>DW6000</td>\n",
       "      <td>1</td>\n",
       "      <td>Communication Solutions LLC (CC)</td>\n",
       "      <td>G28-HOR-10K</td>\n",
       "      <td>Professional Plus</td>\n",
       "      <td>Spaceway</td>\n",
       "      <td>TX</td>\n",
       "      <td>360</td>\n",
       "    </tr>\n",
       "    <tr>\n",
       "      <th>9997</th>\n",
       "      <td>67</td>\n",
       "      <td>1</td>\n",
       "      <td>N</td>\n",
       "      <td>Indirect</td>\n",
       "      <td>BAD</td>\n",
       "      <td>2</td>\n",
       "      <td>8</td>\n",
       "      <td>DW4000</td>\n",
       "      <td>0</td>\n",
       "      <td>TAG</td>\n",
       "      <td>SPACEWAY3</td>\n",
       "      <td>Home</td>\n",
       "      <td>Broadband Remote</td>\n",
       "      <td>MS</td>\n",
       "      <td>324</td>\n",
       "    </tr>\n",
       "    <tr>\n",
       "      <th>9998</th>\n",
       "      <td>63</td>\n",
       "      <td>1</td>\n",
       "      <td>N</td>\n",
       "      <td>Indirect</td>\n",
       "      <td>BAD</td>\n",
       "      <td>1</td>\n",
       "      <td>0</td>\n",
       "      <td>DW6000</td>\n",
       "      <td>0</td>\n",
       "      <td>TAG</td>\n",
       "      <td>SPACEWAY3</td>\n",
       "      <td>Power15</td>\n",
       "      <td>Broadband Remote</td>\n",
       "      <td>TX</td>\n",
       "      <td>1112</td>\n",
       "    </tr>\n",
       "    <tr>\n",
       "      <th>9999</th>\n",
       "      <td>43</td>\n",
       "      <td>1</td>\n",
       "      <td>N</td>\n",
       "      <td>Indirect</td>\n",
       "      <td>BAD</td>\n",
       "      <td>1</td>\n",
       "      <td>0</td>\n",
       "      <td>HN7000S</td>\n",
       "      <td>0</td>\n",
       "      <td>TAG</td>\n",
       "      <td>SPACEWAY3</td>\n",
       "      <td>Professional Plus</td>\n",
       "      <td>Broadband Remote</td>\n",
       "      <td>OR</td>\n",
       "      <td>1448</td>\n",
       "    </tr>\n",
       "  </tbody>\n",
       "</table>\n",
       "<p>19989 rows × 15 columns</p>\n",
       "</div>"
      ],
      "text/plain": [
       "      AGE  CHURN COMPUTER_OWNER DIRECT_INDIRECT_CHANNEL FEEDBACK GENDER  \\\n",
       "0      69      0              N                Indirect      BAD      2   \n",
       "1      43      0              N                Indirect     GOOD      2   \n",
       "2      58      0              N                Indirect      BAD      2   \n",
       "3      22      0              N                  Direct      BAD      1   \n",
       "4      36      0              N                Indirect     GOOD      1   \n",
       "5      51      0              N                Indirect     GOOD      2   \n",
       "6      56      0              N                Indirect      BAD      1   \n",
       "7      57      0              Y                Indirect     GOOD      1   \n",
       "8      42      0              N                Indirect     GOOD      2   \n",
       "9      34      0              N                Indirect      BAD      2   \n",
       "10     54      0              N                Indirect     GOOD      2   \n",
       "11     57      0              N                  Direct      BAD      1   \n",
       "12     52      0              Y                Indirect      BAD      2   \n",
       "13     39      0              Y                Indirect      BAD      1   \n",
       "14     24      0              N                Indirect     GOOD      1   \n",
       "15     45      0              N                Indirect     GOOD      1   \n",
       "16     58      0              N                Indirect      BAD      1   \n",
       "17     62      0              Y                Indirect      BAD      1   \n",
       "18     64      0              N                Indirect      BAD      2   \n",
       "19     30      0              N                Indirect      BAD      2   \n",
       "20     68      0              N                Indirect     GOOD      1   \n",
       "21     63      0              N                Indirect      BAD      2   \n",
       "22     33      0              N                Indirect     GOOD      2   \n",
       "23     51      0              N                Indirect      BAD      1   \n",
       "24     58      0              N                Indirect     GOOD      1   \n",
       "25     23      0              N                  Direct      BAD      1   \n",
       "26     58      0              N                Indirect      BAD      2   \n",
       "27     57      0              N                Indirect     GOOD      2   \n",
       "28     50      0              N                Indirect     GOOD      2   \n",
       "29     43      0              N                Indirect     GOOD      1   \n",
       "...   ...    ...            ...                     ...      ...    ...   \n",
       "9970   32      1              Y                  Direct      BAD      1   \n",
       "9971   63      1              N                Indirect      BAD      1   \n",
       "9972   72      1              Y                  Direct      BAD      1   \n",
       "9973   45      1              Y                  Direct      BAD      1   \n",
       "9974   30      1              Y                Indirect     GOOD      2   \n",
       "9975   46      1              Y                Indirect     GOOD      2   \n",
       "9976   46      1              N                Indirect      BAD      1   \n",
       "9977   67      1              N                Indirect      BAD      2   \n",
       "9978   35      1              N                Indirect     GOOD      1   \n",
       "9979   35      1              N                Indirect     GOOD      2   \n",
       "9980   61      1              Y                Indirect      BAD      1   \n",
       "9981   64      1              N                  Direct     GOOD      1   \n",
       "9982   40      1              N                Indirect     GOOD      1   \n",
       "9983   61      1              Y                Indirect      BAD      2   \n",
       "9984   61      1              N                Indirect      BAD      2   \n",
       "9985   53      1              N                Indirect      BAD      2   \n",
       "9986   59      1              N                Indirect     GOOD      1   \n",
       "9987   65      1              N                Indirect     GOOD      1   \n",
       "9988   70      1              N                Indirect     GOOD      2   \n",
       "9989   68      1              Y                Indirect      BAD      1   \n",
       "9990   43      1              N                Indirect     GOOD      2   \n",
       "9991   40      1              N                Indirect      BAD      2   \n",
       "9992   66      1              Y                  Direct      BAD      1   \n",
       "9993   49      1              Y                Indirect      BAD      1   \n",
       "9994   28      1              Y                  Direct      BAD      1   \n",
       "9995   49      1              N                Indirect     GOOD      2   \n",
       "9996   38      1              Y                  Direct      BAD      2   \n",
       "9997   67      1              N                Indirect      BAD      2   \n",
       "9998   63      1              N                Indirect      BAD      1   \n",
       "9999   43      1              N                Indirect      BAD      1   \n",
       "\n",
       "     INCOME    MODEL PRESENCE_OF_CHILDREN  \\\n",
       "0         0   HN9000                    0   \n",
       "1         4  HN7000S                    0   \n",
       "2         4   HN9000                    0   \n",
       "3         6   DW6000                    1   \n",
       "4         7  HN7000S                    0   \n",
       "5         7   HN9000                    0   \n",
       "6         3  HN7000S                    0   \n",
       "7         7  HN7000S                    0   \n",
       "8         4   DW6000                    0   \n",
       "9         4  HN7000S                    1   \n",
       "10        3  HN7000S                    1   \n",
       "11        6  HN7000S                    0   \n",
       "12        A  HN7000S                    0   \n",
       "13        6   DW6000                    0   \n",
       "14        6  HN7000S                    0   \n",
       "15        7  HN7000S                    0   \n",
       "16        0   DW4020                    0   \n",
       "17        0      UNK                    0   \n",
       "18        5  HN7000S                    0   \n",
       "19        C   DW4020                    0   \n",
       "20        9   HN9000                    0   \n",
       "21        0   DW6000                    1   \n",
       "22        6  HN7000S                    0   \n",
       "23        0  HN7000S                    0   \n",
       "24        0   DW4020                    0   \n",
       "25        D  HN7000S                    0   \n",
       "26        7   HN9000                    1   \n",
       "27        4   HN9000                    0   \n",
       "28        0   HN9000                    0   \n",
       "29        4  HN7000S                    0   \n",
       "...     ...      ...                  ...   \n",
       "9970      B   HN9000                    0   \n",
       "9971      0  HN7000S                    1   \n",
       "9972      7   DW7000                    0   \n",
       "9973      8  HN7000S                    0   \n",
       "9974      6   HN9000                    1   \n",
       "9975      5   HN9000                    0   \n",
       "9976      0   DW7000                    1   \n",
       "9977      0   HN9000                    1   \n",
       "9978      5   DW7000                    0   \n",
       "9979      1   HN9000                    0   \n",
       "9980      8   HN9000                    0   \n",
       "9981      0   HN9000                    1   \n",
       "9982      0   HN9000                    1   \n",
       "9983      6   HN9000                    1   \n",
       "9984      6   DW6000                    0   \n",
       "9985      3   HN9000                    0   \n",
       "9986      5  HN7000S                    1   \n",
       "9987      0   HN9000                    1   \n",
       "9988      9   HN9000                    0   \n",
       "9989      3  HN7000S                    1   \n",
       "9990      4  HN7000S                    0   \n",
       "9991      3   DW6000                    0   \n",
       "9992      0  HN7000S                    1   \n",
       "9993      3  HN7000S                    0   \n",
       "9994      9   HN9000                    0   \n",
       "9995      3   HN9000                    1   \n",
       "9996      2   DW6000                    1   \n",
       "9997      8   DW4000                    0   \n",
       "9998      0   DW6000                    0   \n",
       "9999      0  HN7000S                    0   \n",
       "\n",
       "                                 SALES_SOURCE    SATELLITE       SERVICE_PLAN  \\\n",
       "0                                     UNKNOWN    SPACEWAY3              Elite   \n",
       "1                                         NCC  HZN2-VER-4K                Pro   \n",
       "2                                         NCC  SM5-VER-15K           Power150   \n",
       "3                                         TAG    SPACEWAY3           Power150   \n",
       "4                                         TAG            0               Home   \n",
       "5                                     UNKNOWN    SPACEWAY3                Pro   \n",
       "6                            ValueElectronics   G17-HOR-2K           Power150   \n",
       "7                                         TAG   SM5-VER-5K           Power150   \n",
       "8                                         TAG  AM6-HOR-21K               Home   \n",
       "9                            Hughes Web Order   G17-HOR-6K          Basic_Ltd   \n",
       "10                                        TAG  G3C-VER-24K              Basic   \n",
       "11                                   InfoDish            0            Proplus   \n",
       "12                                   InfoDish  SM5-VER-15K           Power150   \n",
       "13                           Hughes Web Order    SPACEWAY3          Basic_Ltd   \n",
       "14                                       NRTC  HZN-HOR-19K              Basic   \n",
       "15                                       RS&I  SM5-VER-15K           Power150   \n",
       "16                                   InfoDish  AM9-VER-2K             Proplus   \n",
       "17                           Hughes Web Order  AM9-VER-2K                Home   \n",
       "18                                   InfoDish  SM5-VER-15K              Elite   \n",
       "19                           Hughes Web Order   SM5-VER-7K            Proplus   \n",
       "20                      Verisign Web Ordering  SM5-HOR-14K          Basic_Ltd   \n",
       "21                           Hughes Web Order    SPACEWAY3          Basic_Ltd   \n",
       "22                            ACS Pre-Install   HZN-HOR-8K               Home   \n",
       "23              LiveBridge Communications LLC  AM9-HOR-21K              Basic   \n",
       "24                                       RS&I  AM9-VER-2K                Home   \n",
       "25                                        TAG    SPACEWAY3              Basic   \n",
       "26                                 Perfect 10   G17-HOR-6K          Basic_Ltd   \n",
       "27                                AmericanSat    SPACEWAY3           Power150   \n",
       "28                                AmericanSat   G17-HOR-6K              Basic   \n",
       "29                                   Best Buy   G17-HOR-2K               Home   \n",
       "...                                       ...          ...                ...   \n",
       "9970                                     RS&I    SPACEWAY3          Basic_Ltd   \n",
       "9971                  GoDish.com Ltd LLP (SA)  G26-HOR-14K                Pro   \n",
       "9972                         Hughes Web Order  AM6-HOR-21K       Professional   \n",
       "9973                   OKS Ameridial Inc (CC)  SM6-HOR-10K              Basic   \n",
       "9974             Valley Satellite (RSI561377)    SPACEWAY3              Elite   \n",
       "9975        American Satellite & Ent Inc (SA)  G3C-VER-24K               Home   \n",
       "9976            LiveBridge Communications LLC   HZN-HOR-8K              Elite   \n",
       "9977  Satellite Dish Marketing LLC dba Digita   AMC-VER-5K              Basic   \n",
       "9978                  Electronic Express (SA)  G3C-VER-24K               Home   \n",
       "9979           DialAmerica Marketing Inc (CC)    SPACEWAY3          Basic_Ltd   \n",
       "9980                                      TAG   HZN-HOR-8K              Elite   \n",
       "9981         Communication Solutions LLC (CC)  G3C-VER-24K              Basic   \n",
       "9982           DialAmerica Marketing Inc (CC)   AMC-VER-5K              Basic   \n",
       "9983            LiveBridge Communications LLC  SM6-HOR-10K              Basic   \n",
       "9984                               Perfect 10  G16-VER-15K       Professional   \n",
       "9985                   OKS Ameridial Inc (CC)   AMC-VER-5K              Basic   \n",
       "9986      EBN Financial dba Dish Systems (SA)    SPACEWAY3                Pro   \n",
       "9987    Professional Technical Services (P10)  G28-HOR-16K              Basic   \n",
       "9988                   OKS Ameridial Inc (CC)  G28-HOR-16K              Basic   \n",
       "9989                                      TAG    SPACEWAY3                Pro   \n",
       "9990            Direct SAT Broadband LLC (SA)    SPACEWAY3              Elite   \n",
       "9991  Elite Satellite and Home Theater Inc (S  AM6-HOR-21K            Proplus   \n",
       "9992                   OKS Ameridial Inc (CC)  AM9-HOR-17K              Elite   \n",
       "9993           DialAmerica Marketing Inc (CC)    SPACEWAY3              Basic   \n",
       "9994                                      TAG  HZN-VER-23K              Elite   \n",
       "9995                    Red Ventures LLC (SA)  G28-HOR-16K              Basic   \n",
       "9996         Communication Solutions LLC (CC)  G28-HOR-10K  Professional Plus   \n",
       "9997                                      TAG    SPACEWAY3               Home   \n",
       "9998                                      TAG    SPACEWAY3            Power15   \n",
       "9999                                      TAG    SPACEWAY3  Professional Plus   \n",
       "\n",
       "        SITE_TYPE_DESC STATE  Sub_period  \n",
       "0     Broadband Remote    MD         747  \n",
       "1             Spaceway    NJ        1194  \n",
       "2     Broadband Remote    LA        1144  \n",
       "3             Spaceway    OH        1223  \n",
       "4     Broadband Remote    NY         838  \n",
       "5     Broadband Remote    TX        1254  \n",
       "6     Broadband Remote    MO         561  \n",
       "7     Broadband Remote    MD         919  \n",
       "8     Broadband Remote    AR        1412  \n",
       "9     Broadband Remote    MD         881  \n",
       "10    Broadband Remote    AZ        1023  \n",
       "11    Broadband Remote    NV        1029  \n",
       "12    Broadband Remote    WY         805  \n",
       "13    Broadband Remote    WI         983  \n",
       "14    Broadband Remote    AZ         796  \n",
       "15    Broadband Remote    NY         728  \n",
       "16    Broadband Remote    NM        1039  \n",
       "17            Spaceway    AR         931  \n",
       "18    Broadband Remote    CA        1207  \n",
       "19    Broadband Remote    TX        1152  \n",
       "20            Spaceway    CO         913  \n",
       "21    Broadband Remote    TN         644  \n",
       "22    Broadband Remote    GA        1496  \n",
       "23    Broadband Remote    NC         987  \n",
       "24    Broadband Remote    CA        1422  \n",
       "25            Spaceway    CA         913  \n",
       "26            Spaceway    WV        1250  \n",
       "27    Broadband Remote    AL        1191  \n",
       "28    Broadband Remote    VA        1261  \n",
       "29    Broadband Remote    IN         865  \n",
       "...                ...   ...         ...  \n",
       "9970  Broadband Remote    NY         400  \n",
       "9971          Spaceway    IL        1264  \n",
       "9972          Spaceway    MD        1111  \n",
       "9973          Spaceway    CO         495  \n",
       "9974  Broadband Remote    CA         424  \n",
       "9975  Broadband Remote    VA         409  \n",
       "9976          Spaceway    OR         795  \n",
       "9977          Spaceway    CA        1396  \n",
       "9978  Broadband Remote    IA         493  \n",
       "9979  Broadband Remote    IL         499  \n",
       "9980  Broadband Remote    MD         416  \n",
       "9981          Spaceway    OK        1322  \n",
       "9982          Spaceway    IL         316  \n",
       "9983  Broadband Remote    CA         817  \n",
       "9984          Spaceway    NJ         450  \n",
       "9985          Spaceway    NM         324  \n",
       "9986  Broadband Remote    SC         347  \n",
       "9987          Spaceway    VA         365  \n",
       "9988          Spaceway    MI        1188  \n",
       "9989  Broadband Remote    MA        1110  \n",
       "9990  Broadband Remote    VA        1329  \n",
       "9991          Spaceway    NV         344  \n",
       "9992          Spaceway    NE         383  \n",
       "9993  Broadband Remote    CA         429  \n",
       "9994  Broadband Remote    MO         337  \n",
       "9995          Spaceway    LA         460  \n",
       "9996          Spaceway    TX         360  \n",
       "9997  Broadband Remote    MS         324  \n",
       "9998  Broadband Remote    TX        1112  \n",
       "9999  Broadband Remote    OR        1448  \n",
       "\n",
       "[19989 rows x 15 columns]"
      ]
     },
     "execution_count": 373,
     "metadata": {},
     "output_type": "execute_result"
    }
   ],
   "source": [
    "df_final"
   ]
  },
  {
   "cell_type": "markdown",
   "metadata": {},
   "source": [
    "## As shown in histogram of Sub_period, there seems to be outliers.extreme values. So we need some treatment on this so our model is not affected by outliers. I am transforming this feature into categorical through Binning."
   ]
  },
  {
   "cell_type": "code",
   "execution_count": 374,
   "metadata": {
    "collapsed": false
   },
   "outputs": [],
   "source": [
    "\n",
    "bins=pd.cut(df_final.Sub_period,4,labels=['B_'+str(i) for i in range(1,5)],retbins=True)"
   ]
  },
  {
   "cell_type": "code",
   "execution_count": 375,
   "metadata": {
    "collapsed": false
   },
   "outputs": [
    {
     "data": {
      "text/plain": [
       "(0       B_1\n",
       " 1       B_2\n",
       " 2       B_2\n",
       " 3       B_2\n",
       " 4       B_2\n",
       " 5       B_2\n",
       " 6       B_1\n",
       " 7       B_2\n",
       " 8       B_2\n",
       " 9       B_2\n",
       " 10      B_2\n",
       " 11      B_2\n",
       " 12      B_1\n",
       " 13      B_2\n",
       " 14      B_1\n",
       " 15      B_1\n",
       " 16      B_2\n",
       " 17      B_2\n",
       " 18      B_2\n",
       " 19      B_2\n",
       " 20      B_2\n",
       " 21      B_1\n",
       " 22      B_2\n",
       " 23      B_2\n",
       " 24      B_2\n",
       " 25      B_2\n",
       " 26      B_2\n",
       " 27      B_2\n",
       " 28      B_2\n",
       " 29      B_2\n",
       "        ... \n",
       " 9970    B_1\n",
       " 9971    B_2\n",
       " 9972    B_2\n",
       " 9973    B_1\n",
       " 9974    B_1\n",
       " 9975    B_1\n",
       " 9976    B_1\n",
       " 9977    B_2\n",
       " 9978    B_1\n",
       " 9979    B_1\n",
       " 9980    B_1\n",
       " 9981    B_2\n",
       " 9982    B_1\n",
       " 9983    B_2\n",
       " 9984    B_1\n",
       " 9985    B_1\n",
       " 9986    B_1\n",
       " 9987    B_1\n",
       " 9988    B_2\n",
       " 9989    B_2\n",
       " 9990    B_2\n",
       " 9991    B_1\n",
       " 9992    B_1\n",
       " 9993    B_1\n",
       " 9994    B_1\n",
       " 9995    B_1\n",
       " 9996    B_1\n",
       " 9997    B_1\n",
       " 9998    B_2\n",
       " 9999    B_2\n",
       " Name: Sub_period, dtype: category\n",
       " Categories (4, object): [B_1 < B_2 < B_3 < B_4],\n",
       " array([   -3.221,   805.25 ,  1610.5  ,  2415.75 ,  3221.   ]))"
      ]
     },
     "execution_count": 375,
     "metadata": {},
     "output_type": "execute_result"
    }
   ],
   "source": [
    "bins"
   ]
  },
  {
   "cell_type": "code",
   "execution_count": 376,
   "metadata": {
    "collapsed": false
   },
   "outputs": [],
   "source": [
    "df_final.Sub_period=bins[0]"
   ]
  },
  {
   "cell_type": "code",
   "execution_count": 377,
   "metadata": {
    "collapsed": false
   },
   "outputs": [
    {
     "data": {
      "text/plain": [
       "0       B_1\n",
       "1       B_2\n",
       "2       B_2\n",
       "3       B_2\n",
       "4       B_2\n",
       "5       B_2\n",
       "6       B_1\n",
       "7       B_2\n",
       "8       B_2\n",
       "9       B_2\n",
       "10      B_2\n",
       "11      B_2\n",
       "12      B_1\n",
       "13      B_2\n",
       "14      B_1\n",
       "15      B_1\n",
       "16      B_2\n",
       "17      B_2\n",
       "18      B_2\n",
       "19      B_2\n",
       "20      B_2\n",
       "21      B_1\n",
       "22      B_2\n",
       "23      B_2\n",
       "24      B_2\n",
       "25      B_2\n",
       "26      B_2\n",
       "27      B_2\n",
       "28      B_2\n",
       "29      B_2\n",
       "       ... \n",
       "9970    B_1\n",
       "9971    B_2\n",
       "9972    B_2\n",
       "9973    B_1\n",
       "9974    B_1\n",
       "9975    B_1\n",
       "9976    B_1\n",
       "9977    B_2\n",
       "9978    B_1\n",
       "9979    B_1\n",
       "9980    B_1\n",
       "9981    B_2\n",
       "9982    B_1\n",
       "9983    B_2\n",
       "9984    B_1\n",
       "9985    B_1\n",
       "9986    B_1\n",
       "9987    B_1\n",
       "9988    B_2\n",
       "9989    B_2\n",
       "9990    B_2\n",
       "9991    B_1\n",
       "9992    B_1\n",
       "9993    B_1\n",
       "9994    B_1\n",
       "9995    B_1\n",
       "9996    B_1\n",
       "9997    B_1\n",
       "9998    B_2\n",
       "9999    B_2\n",
       "Name: Sub_period, dtype: category\n",
       "Categories (4, object): [B_1 < B_2 < B_3 < B_4]"
      ]
     },
     "execution_count": 377,
     "metadata": {},
     "output_type": "execute_result"
    }
   ],
   "source": [
    "df_final.Sub_period"
   ]
  },
  {
   "cell_type": "markdown",
   "metadata": {},
   "source": [
    "\n",
    " ## Bin -\n",
    " \n",
    " <big>\n",
    "  - B1 (-3.221,805)\n",
    "  - B2 (805.25- 1610)\n",
    "  - B3 ( 1611-2415)\n",
    "  - B4 (2415- 3221)"
   ]
  },
  {
   "cell_type": "code",
   "execution_count": 378,
   "metadata": {
    "collapsed": false
   },
   "outputs": [
    {
     "data": {
      "text/plain": [
       "B_1    11136\n",
       "B_2     8787\n",
       "B_3       52\n",
       "B_4       14\n",
       "Name: Sub_period, dtype: int64"
      ]
     },
     "execution_count": 378,
     "metadata": {},
     "output_type": "execute_result"
    }
   ],
   "source": [
    "df_final.Sub_period.value_counts()"
   ]
  },
  {
   "cell_type": "code",
   "execution_count": 379,
   "metadata": {
    "collapsed": false
   },
   "outputs": [
    {
     "data": {
      "text/plain": [
       "<matplotlib.axes._subplots.AxesSubplot at 0x257c59e8>"
      ]
     },
     "execution_count": 379,
     "metadata": {},
     "output_type": "execute_result"
    },
    {
     "data": {
      "image/png": "[encoded data removed]",
      "text/plain": [
       "<matplotlib.figure.Figure at 0x25734240>"
      ]
     },
     "metadata": {},
     "output_type": "display_data"
    }
   ],
   "source": [
    "df_final.groupby('Sub_period').apply(lambda x: x.AGE.mean()).plot()"
   ]
  },
  {
   "cell_type": "markdown",
   "metadata": {},
   "source": [
    "## with age subscription time increases.. (customers becomes loyal or they are satisfied with services)\n",
    "\n",
    "---"
   ]
  },
  {
   "cell_type": "markdown",
   "metadata": {},
   "source": []
  },
  {
   "cell_type": "code",
   "execution_count": 380,
   "metadata": {
    "collapsed": false
   },
   "outputs": [
    {
     "data": {
      "text/html": [
       "<div>\n",
       "<table border=\"1\" class=\"dataframe\">\n",
       "  <thead>\n",
       "    <tr style=\"text-align: right;\">\n",
       "      <th>SITE_TYPE_DESC</th>\n",
       "      <th>Broadband Remote</th>\n",
       "      <th>Spaceway</th>\n",
       "    </tr>\n",
       "    <tr>\n",
       "      <th>Sub_period</th>\n",
       "      <th></th>\n",
       "      <th></th>\n",
       "    </tr>\n",
       "  </thead>\n",
       "  <tbody>\n",
       "    <tr>\n",
       "      <th>B_1</th>\n",
       "      <td>5401</td>\n",
       "      <td>5735</td>\n",
       "    </tr>\n",
       "    <tr>\n",
       "      <th>B_2</th>\n",
       "      <td>6183</td>\n",
       "      <td>2604</td>\n",
       "    </tr>\n",
       "    <tr>\n",
       "      <th>B_3</th>\n",
       "      <td>50</td>\n",
       "      <td>2</td>\n",
       "    </tr>\n",
       "    <tr>\n",
       "      <th>B_4</th>\n",
       "      <td>12</td>\n",
       "      <td>2</td>\n",
       "    </tr>\n",
       "  </tbody>\n",
       "</table>\n",
       "</div>"
      ],
      "text/plain": [
       "SITE_TYPE_DESC  Broadband Remote  Spaceway\n",
       "Sub_period                                \n",
       "B_1                         5401      5735\n",
       "B_2                         6183      2604\n",
       "B_3                           50         2\n",
       "B_4                           12         2"
      ]
     },
     "execution_count": 380,
     "metadata": {},
     "output_type": "execute_result"
    }
   ],
   "source": [
    "pd.crosstab(df_final.Sub_period,df_final.SITE_TYPE_DESC)"
   ]
  },
  {
   "cell_type": "code",
   "execution_count": 381,
   "metadata": {
    "collapsed": false
   },
   "outputs": [
    {
     "data": {
      "text/html": [
       "<div>\n",
       "<table border=\"1\" class=\"dataframe\">\n",
       "  <thead>\n",
       "    <tr style=\"text-align: right;\">\n",
       "      <th>SERVICE_PLAN</th>\n",
       "      <th>Basic</th>\n",
       "      <th>Basic_Ltd</th>\n",
       "      <th>Elite</th>\n",
       "      <th>Home</th>\n",
       "      <th>Power15</th>\n",
       "      <th>Power150</th>\n",
       "      <th>Pro</th>\n",
       "      <th>Professional</th>\n",
       "      <th>Professional Plus</th>\n",
       "      <th>Proplus</th>\n",
       "      <th>SO</th>\n",
       "    </tr>\n",
       "    <tr>\n",
       "      <th>Sub_period</th>\n",
       "      <th></th>\n",
       "      <th></th>\n",
       "      <th></th>\n",
       "      <th></th>\n",
       "      <th></th>\n",
       "      <th></th>\n",
       "      <th></th>\n",
       "      <th></th>\n",
       "      <th></th>\n",
       "      <th></th>\n",
       "      <th></th>\n",
       "    </tr>\n",
       "  </thead>\n",
       "  <tbody>\n",
       "    <tr>\n",
       "      <th>B_1</th>\n",
       "      <td>929</td>\n",
       "      <td>898</td>\n",
       "      <td>3464</td>\n",
       "      <td>1307</td>\n",
       "      <td>494</td>\n",
       "      <td>379</td>\n",
       "      <td>790</td>\n",
       "      <td>629</td>\n",
       "      <td>404</td>\n",
       "      <td>901</td>\n",
       "      <td>941</td>\n",
       "    </tr>\n",
       "    <tr>\n",
       "      <th>B_2</th>\n",
       "      <td>953</td>\n",
       "      <td>1033</td>\n",
       "      <td>2287</td>\n",
       "      <td>1052</td>\n",
       "      <td>129</td>\n",
       "      <td>867</td>\n",
       "      <td>970</td>\n",
       "      <td>137</td>\n",
       "      <td>99</td>\n",
       "      <td>1031</td>\n",
       "      <td>229</td>\n",
       "    </tr>\n",
       "    <tr>\n",
       "      <th>B_3</th>\n",
       "      <td>2</td>\n",
       "      <td>3</td>\n",
       "      <td>12</td>\n",
       "      <td>4</td>\n",
       "      <td>1</td>\n",
       "      <td>0</td>\n",
       "      <td>2</td>\n",
       "      <td>11</td>\n",
       "      <td>2</td>\n",
       "      <td>2</td>\n",
       "      <td>13</td>\n",
       "    </tr>\n",
       "    <tr>\n",
       "      <th>B_4</th>\n",
       "      <td>1</td>\n",
       "      <td>0</td>\n",
       "      <td>5</td>\n",
       "      <td>2</td>\n",
       "      <td>0</td>\n",
       "      <td>0</td>\n",
       "      <td>1</td>\n",
       "      <td>3</td>\n",
       "      <td>0</td>\n",
       "      <td>1</td>\n",
       "      <td>1</td>\n",
       "    </tr>\n",
       "  </tbody>\n",
       "</table>\n",
       "</div>"
      ],
      "text/plain": [
       "SERVICE_PLAN  Basic  Basic_Ltd  Elite  Home  Power15  Power150  Pro  \\\n",
       "Sub_period                                                            \n",
       "B_1             929        898   3464  1307      494       379  790   \n",
       "B_2             953       1033   2287  1052      129       867  970   \n",
       "B_3               2          3     12     4        1         0    2   \n",
       "B_4               1          0      5     2        0         0    1   \n",
       "\n",
       "SERVICE_PLAN  Professional  Professional Plus  Proplus   SO  \n",
       "Sub_period                                                   \n",
       "B_1                    629                404      901  941  \n",
       "B_2                    137                 99     1031  229  \n",
       "B_3                     11                  2        2   13  \n",
       "B_4                      3                  0        1    1  "
      ]
     },
     "execution_count": 381,
     "metadata": {},
     "output_type": "execute_result"
    }
   ],
   "source": [
    "pd.crosstab(df_final.Sub_period,df_final.SERVICE_PLAN)"
   ]
  },
  {
   "cell_type": "markdown",
   "metadata": {},
   "source": [
    "## Most used service plan is `Elite` .\n",
    "---"
   ]
  },
  {
   "cell_type": "code",
   "execution_count": 382,
   "metadata": {
    "collapsed": false
   },
   "outputs": [
    {
     "data": {
      "text/html": [
       "<div>\n",
       "<table border=\"1\" class=\"dataframe\">\n",
       "  <thead>\n",
       "    <tr style=\"text-align: right;\">\n",
       "      <th>CHURN</th>\n",
       "      <th>0</th>\n",
       "      <th>1</th>\n",
       "    </tr>\n",
       "    <tr>\n",
       "      <th>Sub_period</th>\n",
       "      <th></th>\n",
       "      <th></th>\n",
       "    </tr>\n",
       "  </thead>\n",
       "  <tbody>\n",
       "    <tr>\n",
       "      <th>B_1</th>\n",
       "      <td>3050</td>\n",
       "      <td>8086</td>\n",
       "    </tr>\n",
       "    <tr>\n",
       "      <th>B_2</th>\n",
       "      <td>6939</td>\n",
       "      <td>1848</td>\n",
       "    </tr>\n",
       "    <tr>\n",
       "      <th>B_3</th>\n",
       "      <td>0</td>\n",
       "      <td>52</td>\n",
       "    </tr>\n",
       "    <tr>\n",
       "      <th>B_4</th>\n",
       "      <td>0</td>\n",
       "      <td>14</td>\n",
       "    </tr>\n",
       "  </tbody>\n",
       "</table>\n",
       "</div>"
      ],
      "text/plain": [
       "CHURN          0     1\n",
       "Sub_period            \n",
       "B_1         3050  8086\n",
       "B_2         6939  1848\n",
       "B_3            0    52\n",
       "B_4            0    14"
      ]
     },
     "execution_count": 382,
     "metadata": {},
     "output_type": "execute_result"
    }
   ],
   "source": [
    "pd.crosstab(df_final.Sub_period,df_final.CHURN)"
   ]
  },
  {
   "cell_type": "markdown",
   "metadata": {},
   "source": [
    "##  Customers with subscription period between 805 - 1610 days should be the target customers to provide more benefits so that they can be retained more\n",
    "---"
   ]
  },
  {
   "cell_type": "code",
   "execution_count": 383,
   "metadata": {
    "collapsed": false
   },
   "outputs": [
    {
     "data": {
      "text/html": [
       "<div>\n",
       "<table border=\"1\" class=\"dataframe\">\n",
       "  <thead>\n",
       "    <tr style=\"text-align: right;\">\n",
       "      <th>CHURN</th>\n",
       "      <th>0</th>\n",
       "      <th>1</th>\n",
       "    </tr>\n",
       "    <tr>\n",
       "      <th>SITE_TYPE_DESC</th>\n",
       "      <th></th>\n",
       "      <th></th>\n",
       "    </tr>\n",
       "  </thead>\n",
       "  <tbody>\n",
       "    <tr>\n",
       "      <th>Broadband Remote</th>\n",
       "      <td>7759</td>\n",
       "      <td>3887</td>\n",
       "    </tr>\n",
       "    <tr>\n",
       "      <th>Spaceway</th>\n",
       "      <td>2230</td>\n",
       "      <td>6113</td>\n",
       "    </tr>\n",
       "  </tbody>\n",
       "</table>\n",
       "</div>"
      ],
      "text/plain": [
       "CHURN                0     1\n",
       "SITE_TYPE_DESC              \n",
       "Broadband Remote  7759  3887\n",
       "Spaceway          2230  6113"
      ]
     },
     "execution_count": 383,
     "metadata": {},
     "output_type": "execute_result"
    }
   ],
   "source": [
    "pd.crosstab(df_final.SITE_TYPE_DESC,df_final.CHURN)"
   ]
  },
  {
   "cell_type": "markdown",
   "metadata": {},
   "source": [
    "### Cudtomers  who are still active are using Broadband . So speed & services should be improved to increase loyality. "
   ]
  },
  {
   "cell_type": "code",
   "execution_count": 384,
   "metadata": {
    "collapsed": false
   },
   "outputs": [
    {
     "data": {
      "text/html": [
       "<div>\n",
       "<table border=\"1\" class=\"dataframe\">\n",
       "  <thead>\n",
       "    <tr style=\"text-align: right;\">\n",
       "      <th>CHURN</th>\n",
       "      <th>0</th>\n",
       "      <th>1</th>\n",
       "    </tr>\n",
       "    <tr>\n",
       "      <th>COMPUTER_OWNER</th>\n",
       "      <th></th>\n",
       "      <th></th>\n",
       "    </tr>\n",
       "  </thead>\n",
       "  <tbody>\n",
       "    <tr>\n",
       "      <th>N</th>\n",
       "      <td>8866</td>\n",
       "      <td>6068</td>\n",
       "    </tr>\n",
       "    <tr>\n",
       "      <th>Y</th>\n",
       "      <td>1123</td>\n",
       "      <td>3932</td>\n",
       "    </tr>\n",
       "  </tbody>\n",
       "</table>\n",
       "</div>"
      ],
      "text/plain": [
       "CHURN              0     1\n",
       "COMPUTER_OWNER            \n",
       "N               8866  6068\n",
       "Y               1123  3932"
      ]
     },
     "execution_count": 384,
     "metadata": {},
     "output_type": "execute_result"
    }
   ],
   "source": [
    "pd.crosstab(df_final.COMPUTER_OWNER ,df_final.CHURN)"
   ]
  },
  {
   "cell_type": "markdown",
   "metadata": {},
   "source": [
    "### Customers who are still active are those who do not have computer. They might be using some other gadget like tablet, phone etc. So marketing strategy should be made accordingly."
   ]
  },
  {
   "cell_type": "code",
   "execution_count": null,
   "metadata": {
    "collapsed": true
   },
   "outputs": [],
   "source": []
  },
  {
   "cell_type": "markdown",
   "metadata": {},
   "source": [
    "# Model building"
   ]
  },
  {
   "cell_type": "markdown",
   "metadata": {},
   "source": [
    "## 1. Linear Model"
   ]
  },
  {
   "cell_type": "code",
   "execution_count": 387,
   "metadata": {
    "collapsed": true
   },
   "outputs": [],
   "source": [
    "from sklearn.cluster import AgglomerativeClustering"
   ]
  },
  {
   "cell_type": "code",
   "execution_count": 390,
   "metadata": {
    "collapsed": true
   },
   "outputs": [],
   "source": [
    "ag=AgglomerativeClustering(n_clusters=4)"
   ]
  },
  {
   "cell_type": "code",
   "execution_count": 391,
   "metadata": {
    "collapsed": false
   },
   "outputs": [
    {
     "data": {
      "text/plain": [
       "AgglomerativeClustering(affinity='euclidean', compute_full_tree='auto',\n",
       "            connectivity=None, linkage='ward',\n",
       "            memory=Memory(cachedir=None), n_clusters=4,\n",
       "            pooling_func=<function mean at 0x0000000005526048>)"
      ]
     },
     "execution_count": 391,
     "metadata": {},
     "output_type": "execute_result"
    }
   ],
   "source": [
    "ag.fit(x_seg_sc)"
   ]
  },
  {
   "cell_type": "code",
   "execution_count": null,
   "metadata": {
    "collapsed": true
   },
   "outputs": [],
   "source": []
  },
  {
   "cell_type": "code",
   "execution_count": 100,
   "metadata": {
    "collapsed": true
   },
   "outputs": [],
   "source": [
    "from sklearn.linear_model import LogisticRegression"
   ]
  },
  {
   "cell_type": "code",
   "execution_count": 101,
   "metadata": {
    "collapsed": false
   },
   "outputs": [],
   "source": [
    "target=df_final.CHURN.values\n"
   ]
  },
  {
   "cell_type": "code",
   "execution_count": 102,
   "metadata": {
    "collapsed": false
   },
   "outputs": [
    {
     "data": {
      "text/plain": [
       "1    10000\n",
       "0     9989\n",
       "Name: CHURN, dtype: int64"
      ]
     },
     "execution_count": 102,
     "metadata": {},
     "output_type": "execute_result"
    }
   ],
   "source": [
    "df_final.CHURN.value_counts()"
   ]
  },
  {
   "cell_type": "code",
   "execution_count": 103,
   "metadata": {
    "collapsed": true
   },
   "outputs": [],
   "source": [
    "df_final.drop('CHURN',axis=1,inplace=True)"
   ]
  },
  {
   "cell_type": "code",
   "execution_count": 104,
   "metadata": {
    "collapsed": true
   },
   "outputs": [],
   "source": [
    "df_final_dummy=pd.get_dummies(df_final,drop_first=True)"
   ]
  },
  {
   "cell_type": "code",
   "execution_count": 105,
   "metadata": {
    "collapsed": false
   },
   "outputs": [
    {
     "data": {
      "text/html": [
       "<div>\n",
       "<table border=\"1\" class=\"dataframe\">\n",
       "  <thead>\n",
       "    <tr style=\"text-align: right;\">\n",
       "      <th></th>\n",
       "      <th>AGE</th>\n",
       "      <th>COMPUTER_OWNER_Y</th>\n",
       "      <th>DIRECT_INDIRECT_CHANNEL_Direct</th>\n",
       "      <th>DIRECT_INDIRECT_CHANNEL_Indirect</th>\n",
       "      <th>FEEDBACK_GOOD</th>\n",
       "      <th>GENDER_2.0</th>\n",
       "      <th>INCOME_1</th>\n",
       "      <th>INCOME_2</th>\n",
       "      <th>INCOME_3</th>\n",
       "      <th>INCOME_4</th>\n",
       "      <th>...</th>\n",
       "      <th>STATE_ UT</th>\n",
       "      <th>STATE_ VA</th>\n",
       "      <th>STATE_ VT</th>\n",
       "      <th>STATE_ WA</th>\n",
       "      <th>STATE_ WI</th>\n",
       "      <th>STATE_ WV</th>\n",
       "      <th>STATE_ WY</th>\n",
       "      <th>Sub_period_B_2</th>\n",
       "      <th>Sub_period_B_3</th>\n",
       "      <th>Sub_period_B_4</th>\n",
       "    </tr>\n",
       "  </thead>\n",
       "  <tbody>\n",
       "    <tr>\n",
       "      <th>0</th>\n",
       "      <td>69</td>\n",
       "      <td>0</td>\n",
       "      <td>0</td>\n",
       "      <td>1</td>\n",
       "      <td>0</td>\n",
       "      <td>1</td>\n",
       "      <td>0</td>\n",
       "      <td>0</td>\n",
       "      <td>0</td>\n",
       "      <td>0</td>\n",
       "      <td>...</td>\n",
       "      <td>0</td>\n",
       "      <td>0</td>\n",
       "      <td>0</td>\n",
       "      <td>0</td>\n",
       "      <td>0</td>\n",
       "      <td>0</td>\n",
       "      <td>0</td>\n",
       "      <td>0</td>\n",
       "      <td>0</td>\n",
       "      <td>0</td>\n",
       "    </tr>\n",
       "    <tr>\n",
       "      <th>1</th>\n",
       "      <td>43</td>\n",
       "      <td>0</td>\n",
       "      <td>0</td>\n",
       "      <td>1</td>\n",
       "      <td>1</td>\n",
       "      <td>1</td>\n",
       "      <td>0</td>\n",
       "      <td>0</td>\n",
       "      <td>0</td>\n",
       "      <td>1</td>\n",
       "      <td>...</td>\n",
       "      <td>0</td>\n",
       "      <td>0</td>\n",
       "      <td>0</td>\n",
       "      <td>0</td>\n",
       "      <td>0</td>\n",
       "      <td>0</td>\n",
       "      <td>0</td>\n",
       "      <td>1</td>\n",
       "      <td>0</td>\n",
       "      <td>0</td>\n",
       "    </tr>\n",
       "    <tr>\n",
       "      <th>2</th>\n",
       "      <td>58</td>\n",
       "      <td>0</td>\n",
       "      <td>0</td>\n",
       "      <td>1</td>\n",
       "      <td>0</td>\n",
       "      <td>1</td>\n",
       "      <td>0</td>\n",
       "      <td>0</td>\n",
       "      <td>0</td>\n",
       "      <td>1</td>\n",
       "      <td>...</td>\n",
       "      <td>0</td>\n",
       "      <td>0</td>\n",
       "      <td>0</td>\n",
       "      <td>0</td>\n",
       "      <td>0</td>\n",
       "      <td>0</td>\n",
       "      <td>0</td>\n",
       "      <td>1</td>\n",
       "      <td>0</td>\n",
       "      <td>0</td>\n",
       "    </tr>\n",
       "    <tr>\n",
       "      <th>3</th>\n",
       "      <td>22</td>\n",
       "      <td>0</td>\n",
       "      <td>1</td>\n",
       "      <td>0</td>\n",
       "      <td>0</td>\n",
       "      <td>0</td>\n",
       "      <td>0</td>\n",
       "      <td>0</td>\n",
       "      <td>0</td>\n",
       "      <td>0</td>\n",
       "      <td>...</td>\n",
       "      <td>0</td>\n",
       "      <td>0</td>\n",
       "      <td>0</td>\n",
       "      <td>0</td>\n",
       "      <td>0</td>\n",
       "      <td>0</td>\n",
       "      <td>0</td>\n",
       "      <td>1</td>\n",
       "      <td>0</td>\n",
       "      <td>0</td>\n",
       "    </tr>\n",
       "    <tr>\n",
       "      <th>4</th>\n",
       "      <td>36</td>\n",
       "      <td>0</td>\n",
       "      <td>0</td>\n",
       "      <td>1</td>\n",
       "      <td>1</td>\n",
       "      <td>0</td>\n",
       "      <td>0</td>\n",
       "      <td>0</td>\n",
       "      <td>0</td>\n",
       "      <td>0</td>\n",
       "      <td>...</td>\n",
       "      <td>0</td>\n",
       "      <td>0</td>\n",
       "      <td>0</td>\n",
       "      <td>0</td>\n",
       "      <td>0</td>\n",
       "      <td>0</td>\n",
       "      <td>0</td>\n",
       "      <td>1</td>\n",
       "      <td>0</td>\n",
       "      <td>0</td>\n",
       "    </tr>\n",
       "  </tbody>\n",
       "</table>\n",
       "<p>5 rows × 279 columns</p>\n",
       "</div>"
      ],
      "text/plain": [
       "   AGE  COMPUTER_OWNER_Y  DIRECT_INDIRECT_CHANNEL_Direct  \\\n",
       "0   69                 0                               0   \n",
       "1   43                 0                               0   \n",
       "2   58                 0                               0   \n",
       "3   22                 0                               1   \n",
       "4   36                 0                               0   \n",
       "\n",
       "   DIRECT_INDIRECT_CHANNEL_Indirect  FEEDBACK_GOOD  GENDER_2.0  INCOME_1  \\\n",
       "0                                 1              0           1         0   \n",
       "1                                 1              1           1         0   \n",
       "2                                 1              0           1         0   \n",
       "3                                 0              0           0         0   \n",
       "4                                 1              1           0         0   \n",
       "\n",
       "   INCOME_2  INCOME_3  INCOME_4       ...        STATE_ UT  STATE_ VA  \\\n",
       "0         0         0         0       ...                0          0   \n",
       "1         0         0         1       ...                0          0   \n",
       "2         0         0         1       ...                0          0   \n",
       "3         0         0         0       ...                0          0   \n",
       "4         0         0         0       ...                0          0   \n",
       "\n",
       "   STATE_ VT  STATE_ WA  STATE_ WI  STATE_ WV  STATE_ WY  Sub_period_B_2  \\\n",
       "0          0          0          0          0          0               0   \n",
       "1          0          0          0          0          0               1   \n",
       "2          0          0          0          0          0               1   \n",
       "3          0          0          0          0          0               1   \n",
       "4          0          0          0          0          0               1   \n",
       "\n",
       "   Sub_period_B_3  Sub_period_B_4  \n",
       "0               0               0  \n",
       "1               0               0  \n",
       "2               0               0  \n",
       "3               0               0  \n",
       "4               0               0  \n",
       "\n",
       "[5 rows x 279 columns]"
      ]
     },
     "execution_count": 105,
     "metadata": {},
     "output_type": "execute_result"
    }
   ],
   "source": [
    "df_final_dummy.head()"
   ]
  },
  {
   "cell_type": "code",
   "execution_count": 106,
   "metadata": {
    "collapsed": false
   },
   "outputs": [],
   "source": [
    "#df_final_dummy.drop('index',axis=1,inplace=True)"
   ]
  },
  {
   "cell_type": "code",
   "execution_count": 348,
   "metadata": {
    "collapsed": false
   },
   "outputs": [
    {
     "name": "stderr",
     "output_type": "stream",
     "text": [
      "C:\\Users\\lenovo\\Anaconda2\\lib\\site-packages\\sklearn\\utils\\validation.py:429: DataConversionWarning: Data with input dtype int32 was converted to float64 by StandardScaler.\n",
      "  warnings.warn(msg, _DataConversionWarning)\n"
     ]
    }
   ],
   "source": [
    "x_seg_sc=sc.fit_transform(df_final_dummy.values)"
   ]
  },
  {
   "cell_type": "code",
   "execution_count": 349,
   "metadata": {
    "collapsed": true
   },
   "outputs": [],
   "source": [
    "from sklearn.cluster import KMeans"
   ]
  },
  {
   "cell_type": "code",
   "execution_count": 352,
   "metadata": {
    "collapsed": false
   },
   "outputs": [
    {
     "data": {
      "text/plain": [
       "KMeans(algorithm='auto', copy_x=True, init='k-means++', max_iter=300,\n",
       "    n_clusters=4, n_init=10, n_jobs=1, precompute_distances='auto',\n",
       "    random_state=None, tol=0.0001, verbose=0)"
      ]
     },
     "execution_count": 352,
     "metadata": {},
     "output_type": "execute_result"
    }
   ],
   "source": [
    "km=KMeans(n_clusters=4)\n",
    "km.fit(x_seg_sc)"
   ]
  },
  {
   "cell_type": "code",
   "execution_count": null,
   "metadata": {
    "collapsed": true
   },
   "outputs": [],
   "source": []
  },
  {
   "cell_type": "code",
   "execution_count": null,
   "metadata": {
    "collapsed": true
   },
   "outputs": [],
   "source": []
  },
  {
   "cell_type": "code",
   "execution_count": 107,
   "metadata": {
    "collapsed": true
   },
   "outputs": [],
   "source": [
    "from sklearn.preprocessing import StandardScaler\n",
    "from sklearn.model_selection import train_test_split,cross_val_score,cross_val_predict"
   ]
  },
  {
   "cell_type": "code",
   "execution_count": null,
   "metadata": {
    "collapsed": true
   },
   "outputs": [],
   "source": []
  },
  {
   "cell_type": "code",
   "execution_count": 108,
   "metadata": {
    "collapsed": true
   },
   "outputs": [],
   "source": [
    "x_tr,x_test,y_tr,y_test=train_test_split(df_final_dummy,target,train_size=.8)"
   ]
  },
  {
   "cell_type": "code",
   "execution_count": 109,
   "metadata": {
    "collapsed": false
   },
   "outputs": [
    {
     "data": {
      "text/plain": [
       "((15991, 279), (3998, 279), (15991L,), (3998L,))"
      ]
     },
     "execution_count": 109,
     "metadata": {},
     "output_type": "execute_result"
    }
   ],
   "source": [
    "x_tr.shape, x_test.shape,y_tr.shape,y_test.shape"
   ]
  },
  {
   "cell_type": "code",
   "execution_count": 110,
   "metadata": {
    "collapsed": false
   },
   "outputs": [],
   "source": [
    "sc=StandardScaler()\n",
    "x_tr_sc=sc.fit_transform(x_tr)\n",
    "x_test_sc=sc.fit_transform(x_test)"
   ]
  },
  {
   "cell_type": "code",
   "execution_count": 111,
   "metadata": {
    "collapsed": true
   },
   "outputs": [],
   "source": [
    "lr=LogisticRegression(C=.01)"
   ]
  },
  {
   "cell_type": "code",
   "execution_count": 118,
   "metadata": {
    "collapsed": false
   },
   "outputs": [
    {
     "data": {
      "text/plain": [
       "LogisticRegression(C=0.01, class_weight=None, dual=False, fit_intercept=True,\n",
       "          intercept_scaling=1, max_iter=100, multi_class='ovr', n_jobs=1,\n",
       "          penalty='l2', random_state=None, solver='liblinear', tol=0.0001,\n",
       "          verbose=0, warm_start=False)"
      ]
     },
     "execution_count": 118,
     "metadata": {},
     "output_type": "execute_result"
    }
   ],
   "source": [
    "lr.fit(x_tr_sc,y_tr)"
   ]
  },
  {
   "cell_type": "code",
   "execution_count": 120,
   "metadata": {
    "collapsed": false
   },
   "outputs": [
    {
     "data": {
      "text/plain": [
       "array([-0.03000938, -0.03094717, -0.03001876, -0.02939337, -0.03503284])"
      ]
     },
     "execution_count": 120,
     "metadata": {},
     "output_type": "execute_result"
    }
   ],
   "source": [
    "cross_val_score(cv=5,estimator=lr,X=x_tr_sc,y=y_tr,scoring='neg_mean_squared_error')"
   ]
  },
  {
   "cell_type": "code",
   "execution_count": 121,
   "metadata": {
    "collapsed": true
   },
   "outputs": [],
   "source": [
    "from sklearn.metrics import confusion_matrix,classification_report"
   ]
  },
  {
   "cell_type": "code",
   "execution_count": 122,
   "metadata": {
    "collapsed": false
   },
   "outputs": [
    {
     "data": {
      "text/plain": [
       "array([[7793,  229],\n",
       "       [ 225, 7744]])"
      ]
     },
     "execution_count": 122,
     "metadata": {},
     "output_type": "execute_result"
    }
   ],
   "source": [
    "confusion_matrix(y_pred=lr.predict(x_tr_sc),y_true=y_tr)"
   ]
  },
  {
   "cell_type": "code",
   "execution_count": 125,
   "metadata": {
    "collapsed": false
   },
   "outputs": [
    {
     "name": "stdout",
     "output_type": "stream",
     "text": [
      "Classification Report - Train Set \n",
      "\n",
      "             precision    recall  f1-score   support\n",
      "\n",
      "          0       0.97      0.97      0.97      8022\n",
      "          1       0.97      0.97      0.97      7969\n",
      "\n",
      "avg / total       0.97      0.97      0.97     15991\n",
      "\n"
     ]
    }
   ],
   "source": [
    "print \"Classification Report - Train Set \\n\"\n",
    "print classification_report(y_pred=lr.predict(x_tr_sc),y_true=y_tr)"
   ]
  },
  {
   "cell_type": "code",
   "execution_count": 150,
   "metadata": {
    "collapsed": false
   },
   "outputs": [
    {
     "name": "stdout",
     "output_type": "stream",
     "text": [
      "Classification Report - Test Set \n",
      "\n",
      "             precision    recall  f1-score   support\n",
      "\n",
      "          0       0.96      0.98      0.97      1967\n",
      "          1       0.98      0.97      0.97      2031\n",
      "\n",
      "avg / total       0.97      0.97      0.97      3998\n",
      "\n",
      "\n",
      " CONFUSION MATRIX \n",
      "\n"
     ]
    },
    {
     "data": {
      "text/plain": [
       "array([[1920,   47],\n",
       "       [  71, 1960]])"
      ]
     },
     "execution_count": 150,
     "metadata": {},
     "output_type": "execute_result"
    }
   ],
   "source": [
    "print \"Classification Report - Test Set \\n\"\n",
    "print classification_report(y_pred=lr.predict(x_test_sc),y_true=y_test)\n",
    "\n",
    "print \"\\n CONFUSION MATRIX \\n\"\n",
    "confusion_matrix(y_pred=lr.predict(x_test_sc),y_true=y_test)"
   ]
  },
  {
   "cell_type": "code",
   "execution_count": 141,
   "metadata": {
    "collapsed": false
   },
   "outputs": [
    {
     "data": {
      "text/html": [
       "<div>\n",
       "<table border=\"1\" class=\"dataframe\">\n",
       "  <thead>\n",
       "    <tr style=\"text-align: right;\">\n",
       "      <th></th>\n",
       "      <th>0</th>\n",
       "    </tr>\n",
       "  </thead>\n",
       "  <tbody>\n",
       "    <tr>\n",
       "      <th>SERVICE_PLAN_SO</th>\n",
       "      <td>0.592751</td>\n",
       "    </tr>\n",
       "    <tr>\n",
       "      <th>SALES_SOURCE_Red Ventures LLC (SA)</th>\n",
       "      <td>0.589194</td>\n",
       "    </tr>\n",
       "    <tr>\n",
       "      <th>SATELLITE_SM6-HOR-10K</th>\n",
       "      <td>0.562905</td>\n",
       "    </tr>\n",
       "    <tr>\n",
       "      <th>SATELLITE_SPACEWAY3</th>\n",
       "      <td>0.546523</td>\n",
       "    </tr>\n",
       "    <tr>\n",
       "      <th>SERVICE_PLAN_Professional</th>\n",
       "      <td>0.521394</td>\n",
       "    </tr>\n",
       "    <tr>\n",
       "      <th>SATELLITE_G3C-VER-24K</th>\n",
       "      <td>0.507988</td>\n",
       "    </tr>\n",
       "    <tr>\n",
       "      <th>SATELLITE_G28-HOR-16K</th>\n",
       "      <td>0.492790</td>\n",
       "    </tr>\n",
       "    <tr>\n",
       "      <th>SERVICE_PLAN_Power15</th>\n",
       "      <td>0.491962</td>\n",
       "    </tr>\n",
       "    <tr>\n",
       "      <th>SATELLITE_HZN-HOR-8K</th>\n",
       "      <td>0.474328</td>\n",
       "    </tr>\n",
       "    <tr>\n",
       "      <th>SALES_SOURCE_DialAmerica Marketing Inc (CC)</th>\n",
       "      <td>0.460722</td>\n",
       "    </tr>\n",
       "    <tr>\n",
       "      <th>COMPUTER_OWNER_Y</th>\n",
       "      <td>0.435120</td>\n",
       "    </tr>\n",
       "    <tr>\n",
       "      <th>SALES_SOURCE_Communication Solutions LLC (CC)</th>\n",
       "      <td>0.434145</td>\n",
       "    </tr>\n",
       "    <tr>\n",
       "      <th>SATELLITE_G28-HOR-10K</th>\n",
       "      <td>0.432241</td>\n",
       "    </tr>\n",
       "    <tr>\n",
       "      <th>SATELLITE_AMC-VER-5K</th>\n",
       "      <td>0.401417</td>\n",
       "    </tr>\n",
       "    <tr>\n",
       "      <th>SATELLITE_HZN-VER-23K</th>\n",
       "      <td>0.370596</td>\n",
       "    </tr>\n",
       "    <tr>\n",
       "      <th>SALES_SOURCE_OKS Ameridial Inc (CC)</th>\n",
       "      <td>0.362365</td>\n",
       "    </tr>\n",
       "    <tr>\n",
       "      <th>SATELLITE_G26-HOR-14K</th>\n",
       "      <td>0.358712</td>\n",
       "    </tr>\n",
       "    <tr>\n",
       "      <th>SALES_SOURCE_ALORAD Inc (SA)</th>\n",
       "      <td>0.345591</td>\n",
       "    </tr>\n",
       "    <tr>\n",
       "      <th>SITE_TYPE_DESC_Spaceway</th>\n",
       "      <td>0.337120</td>\n",
       "    </tr>\n",
       "    <tr>\n",
       "      <th>SERVICE_PLAN_Professional Plus</th>\n",
       "      <td>0.330950</td>\n",
       "    </tr>\n",
       "    <tr>\n",
       "      <th>INCOME_A</th>\n",
       "      <td>0.313825</td>\n",
       "    </tr>\n",
       "    <tr>\n",
       "      <th>SALES_SOURCE_I-Dish.com LLC (SA)</th>\n",
       "      <td>0.311167</td>\n",
       "    </tr>\n",
       "    <tr>\n",
       "      <th>SATELLITE_AM9-HOR-17K</th>\n",
       "      <td>0.289116</td>\n",
       "    </tr>\n",
       "    <tr>\n",
       "      <th>SALES_SOURCE_NationWide Satellite (SA)</th>\n",
       "      <td>0.269950</td>\n",
       "    </tr>\n",
       "    <tr>\n",
       "      <th>INCOME_3</th>\n",
       "      <td>0.255688</td>\n",
       "    </tr>\n",
       "    <tr>\n",
       "      <th>AGE</th>\n",
       "      <td>0.249355</td>\n",
       "    </tr>\n",
       "    <tr>\n",
       "      <th>MODEL_DW7000</th>\n",
       "      <td>0.246102</td>\n",
       "    </tr>\n",
       "    <tr>\n",
       "      <th>SALES_SOURCE_Electronic Express (SA)</th>\n",
       "      <td>0.213866</td>\n",
       "    </tr>\n",
       "    <tr>\n",
       "      <th>PRESENCE_OF_CHILDREN_1</th>\n",
       "      <td>0.213372</td>\n",
       "    </tr>\n",
       "    <tr>\n",
       "      <th>SATELLITE_G16-VER-15K</th>\n",
       "      <td>0.202838</td>\n",
       "    </tr>\n",
       "    <tr>\n",
       "      <th>...</th>\n",
       "      <td>...</td>\n",
       "    </tr>\n",
       "    <tr>\n",
       "      <th>SALES_SOURCE_PEGASUS</th>\n",
       "      <td>-0.132768</td>\n",
       "    </tr>\n",
       "    <tr>\n",
       "      <th>SALES_SOURCE_ACS</th>\n",
       "      <td>-0.134340</td>\n",
       "    </tr>\n",
       "    <tr>\n",
       "      <th>SALES_SOURCE_ACS Pre-Install</th>\n",
       "      <td>-0.136796</td>\n",
       "    </tr>\n",
       "    <tr>\n",
       "      <th>SALES_SOURCE_PEGASUS BROADBAND COMMUNICATIO</th>\n",
       "      <td>-0.145000</td>\n",
       "    </tr>\n",
       "    <tr>\n",
       "      <th>SALES_SOURCE_ValueElectronics</th>\n",
       "      <td>-0.146889</td>\n",
       "    </tr>\n",
       "    <tr>\n",
       "      <th>SATELLITE_G3C-VER-21K</th>\n",
       "      <td>-0.152560</td>\n",
       "    </tr>\n",
       "    <tr>\n",
       "      <th>SALES_SOURCE_TAG</th>\n",
       "      <td>-0.174858</td>\n",
       "    </tr>\n",
       "    <tr>\n",
       "      <th>SATELLITE_HZN2-VER-4K</th>\n",
       "      <td>-0.197602</td>\n",
       "    </tr>\n",
       "    <tr>\n",
       "      <th>SALES_SOURCE_UNKNOWN</th>\n",
       "      <td>-0.251242</td>\n",
       "    </tr>\n",
       "    <tr>\n",
       "      <th>SALES_SOURCE_Hughes Web Order</th>\n",
       "      <td>-0.262317</td>\n",
       "    </tr>\n",
       "    <tr>\n",
       "      <th>FEEDBACK_GOOD</th>\n",
       "      <td>-0.264436</td>\n",
       "    </tr>\n",
       "    <tr>\n",
       "      <th>SATELLITE_AM9-VER-2K</th>\n",
       "      <td>-0.281895</td>\n",
       "    </tr>\n",
       "    <tr>\n",
       "      <th>SATELLITE_SM5-HOR-14K</th>\n",
       "      <td>-0.292807</td>\n",
       "    </tr>\n",
       "    <tr>\n",
       "      <th>SATELLITE_SM5-VER-1K</th>\n",
       "      <td>-0.318598</td>\n",
       "    </tr>\n",
       "    <tr>\n",
       "      <th>SATELLITE_SM5-HOR-6K</th>\n",
       "      <td>-0.322664</td>\n",
       "    </tr>\n",
       "    <tr>\n",
       "      <th>SALES_SOURCE_RS&amp;I</th>\n",
       "      <td>-0.330848</td>\n",
       "    </tr>\n",
       "    <tr>\n",
       "      <th>SALES_SOURCE_AmericanSat</th>\n",
       "      <td>-0.331740</td>\n",
       "    </tr>\n",
       "    <tr>\n",
       "      <th>SALES_SOURCE_Verisign Web Ordering</th>\n",
       "      <td>-0.331762</td>\n",
       "    </tr>\n",
       "    <tr>\n",
       "      <th>SATELLITE_G17-HOR-2K</th>\n",
       "      <td>-0.350383</td>\n",
       "    </tr>\n",
       "    <tr>\n",
       "      <th>SALES_SOURCE_Perfect 10</th>\n",
       "      <td>-0.366231</td>\n",
       "    </tr>\n",
       "    <tr>\n",
       "      <th>SATELLITE_G17-HOR-6K</th>\n",
       "      <td>-0.367053</td>\n",
       "    </tr>\n",
       "    <tr>\n",
       "      <th>SATELLITE_SM5-VER-15K</th>\n",
       "      <td>-0.377436</td>\n",
       "    </tr>\n",
       "    <tr>\n",
       "      <th>SATELLITE_SM5-VER-5K</th>\n",
       "      <td>-0.378372</td>\n",
       "    </tr>\n",
       "    <tr>\n",
       "      <th>MODEL_DW4020</th>\n",
       "      <td>-0.418696</td>\n",
       "    </tr>\n",
       "    <tr>\n",
       "      <th>SALES_SOURCE_InfoDish</th>\n",
       "      <td>-0.439543</td>\n",
       "    </tr>\n",
       "    <tr>\n",
       "      <th>MODEL_HN7000S</th>\n",
       "      <td>-0.454306</td>\n",
       "    </tr>\n",
       "    <tr>\n",
       "      <th>MODEL_UNK</th>\n",
       "      <td>-0.478664</td>\n",
       "    </tr>\n",
       "    <tr>\n",
       "      <th>SERVICE_PLAN_Power150</th>\n",
       "      <td>-0.560130</td>\n",
       "    </tr>\n",
       "    <tr>\n",
       "      <th>SALES_SOURCE_NCC</th>\n",
       "      <td>-0.573972</td>\n",
       "    </tr>\n",
       "    <tr>\n",
       "      <th>Sub_period_B_2</th>\n",
       "      <td>-0.705361</td>\n",
       "    </tr>\n",
       "  </tbody>\n",
       "</table>\n",
       "<p>279 rows × 1 columns</p>\n",
       "</div>"
      ],
      "text/plain": [
       "                                                      0\n",
       "SERVICE_PLAN_SO                                0.592751\n",
       "SALES_SOURCE_Red Ventures LLC (SA)             0.589194\n",
       "SATELLITE_SM6-HOR-10K                          0.562905\n",
       "SATELLITE_SPACEWAY3                            0.546523\n",
       "SERVICE_PLAN_Professional                      0.521394\n",
       "SATELLITE_G3C-VER-24K                          0.507988\n",
       "SATELLITE_G28-HOR-16K                          0.492790\n",
       "SERVICE_PLAN_Power15                           0.491962\n",
       "SATELLITE_HZN-HOR-8K                           0.474328\n",
       "SALES_SOURCE_DialAmerica Marketing Inc (CC)    0.460722\n",
       "COMPUTER_OWNER_Y                               0.435120\n",
       "SALES_SOURCE_Communication Solutions LLC (CC)  0.434145\n",
       "SATELLITE_G28-HOR-10K                          0.432241\n",
       "SATELLITE_AMC-VER-5K                           0.401417\n",
       "SATELLITE_HZN-VER-23K                          0.370596\n",
       "SALES_SOURCE_OKS Ameridial Inc (CC)            0.362365\n",
       "SATELLITE_G26-HOR-14K                          0.358712\n",
       "SALES_SOURCE_ALORAD Inc (SA)                   0.345591\n",
       "SITE_TYPE_DESC_Spaceway                        0.337120\n",
       "SERVICE_PLAN_Professional Plus                 0.330950\n",
       "INCOME_A                                       0.313825\n",
       "SALES_SOURCE_I-Dish.com LLC (SA)               0.311167\n",
       "SATELLITE_AM9-HOR-17K                          0.289116\n",
       "SALES_SOURCE_NationWide Satellite (SA)         0.269950\n",
       "INCOME_3                                       0.255688\n",
       "AGE                                            0.249355\n",
       "MODEL_DW7000                                   0.246102\n",
       "SALES_SOURCE_Electronic Express (SA)           0.213866\n",
       "PRESENCE_OF_CHILDREN_1                         0.213372\n",
       "SATELLITE_G16-VER-15K                          0.202838\n",
       "...                                                 ...\n",
       "SALES_SOURCE_PEGASUS                          -0.132768\n",
       "SALES_SOURCE_ACS                              -0.134340\n",
       "SALES_SOURCE_ACS Pre-Install                  -0.136796\n",
       "SALES_SOURCE_PEGASUS BROADBAND COMMUNICATIO   -0.145000\n",
       "SALES_SOURCE_ValueElectronics                 -0.146889\n",
       "SATELLITE_G3C-VER-21K                         -0.152560\n",
       "SALES_SOURCE_TAG                              -0.174858\n",
       "SATELLITE_HZN2-VER-4K                         -0.197602\n",
       "SALES_SOURCE_UNKNOWN                          -0.251242\n",
       "SALES_SOURCE_Hughes Web Order                 -0.262317\n",
       "FEEDBACK_GOOD                                 -0.264436\n",
       "SATELLITE_AM9-VER-2K                          -0.281895\n",
       "SATELLITE_SM5-HOR-14K                         -0.292807\n",
       "SATELLITE_SM5-VER-1K                          -0.318598\n",
       "SATELLITE_SM5-HOR-6K                          -0.322664\n",
       "SALES_SOURCE_RS&I                             -0.330848\n",
       "SALES_SOURCE_AmericanSat                      -0.331740\n",
       "SALES_SOURCE_Verisign Web Ordering            -0.331762\n",
       "SATELLITE_G17-HOR-2K                          -0.350383\n",
       "SALES_SOURCE_Perfect 10                       -0.366231\n",
       "SATELLITE_G17-HOR-6K                          -0.367053\n",
       "SATELLITE_SM5-VER-15K                         -0.377436\n",
       "SATELLITE_SM5-VER-5K                          -0.378372\n",
       "MODEL_DW4020                                  -0.418696\n",
       "SALES_SOURCE_InfoDish                         -0.439543\n",
       "MODEL_HN7000S                                 -0.454306\n",
       "MODEL_UNK                                     -0.478664\n",
       "SERVICE_PLAN_Power150                         -0.560130\n",
       "SALES_SOURCE_NCC                              -0.573972\n",
       "Sub_period_B_2                                -0.705361\n",
       "\n",
       "[279 rows x 1 columns]"
      ]
     },
     "execution_count": 141,
     "metadata": {},
     "output_type": "execute_result"
    }
   ],
   "source": [
    "\n",
    "pd.DataFrame(lr.coef_,columns=df_final_dummy.columns).T.sort_values(by=0,ascending=False)"
   ]
  },
  {
   "cell_type": "markdown",
   "metadata": {},
   "source": [
    "# Random Forest Classifier"
   ]
  },
  {
   "cell_type": "code",
   "execution_count": 113,
   "metadata": {
    "collapsed": false
   },
   "outputs": [],
   "source": [
    "from sklearn.ensemble import RandomForestClassifier"
   ]
  },
  {
   "cell_type": "code",
   "execution_count": 191,
   "metadata": {
    "collapsed": true
   },
   "outputs": [],
   "source": [
    "rf=RandomForestClassifier(n_estimators=100)"
   ]
  },
  {
   "cell_type": "code",
   "execution_count": 192,
   "metadata": {
    "collapsed": false
   },
   "outputs": [
    {
     "data": {
      "text/plain": [
       "RandomForestClassifier(bootstrap=True, class_weight=None, criterion='gini',\n",
       "            max_depth=None, max_features='auto', max_leaf_nodes=None,\n",
       "            min_impurity_split=1e-07, min_samples_leaf=1,\n",
       "            min_samples_split=2, min_weight_fraction_leaf=0.0,\n",
       "            n_estimators=100, n_jobs=1, oob_score=False, random_state=None,\n",
       "            verbose=0, warm_start=False)"
      ]
     },
     "execution_count": 192,
     "metadata": {},
     "output_type": "execute_result"
    }
   ],
   "source": [
    "rf.fit(x_tr_sc,y_tr)"
   ]
  },
  {
   "cell_type": "code",
   "execution_count": 199,
   "metadata": {
    "collapsed": false
   },
   "outputs": [
    {
     "data": {
      "text/html": [
       "<div>\n",
       "<table border=\"1\" class=\"dataframe\">\n",
       "  <thead>\n",
       "    <tr style=\"text-align: right;\">\n",
       "      <th></th>\n",
       "      <th>IMP</th>\n",
       "    </tr>\n",
       "  </thead>\n",
       "  <tbody>\n",
       "    <tr>\n",
       "      <th>AGE</th>\n",
       "      <td>0.036</td>\n",
       "    </tr>\n",
       "    <tr>\n",
       "      <th>COMPUTER_OWNER_Y</th>\n",
       "      <td>0.044</td>\n",
       "    </tr>\n",
       "    <tr>\n",
       "      <th>DIRECT_INDIRECT_CHANNEL_Direct</th>\n",
       "      <td>0.004</td>\n",
       "    </tr>\n",
       "    <tr>\n",
       "      <th>DIRECT_INDIRECT_CHANNEL_Indirect</th>\n",
       "      <td>0.004</td>\n",
       "    </tr>\n",
       "    <tr>\n",
       "      <th>FEEDBACK_GOOD</th>\n",
       "      <td>0.026</td>\n",
       "    </tr>\n",
       "  </tbody>\n",
       "</table>\n",
       "</div>"
      ],
      "text/plain": [
       "                                    IMP\n",
       "AGE                               0.036\n",
       "COMPUTER_OWNER_Y                  0.044\n",
       "DIRECT_INDIRECT_CHANNEL_Direct    0.004\n",
       "DIRECT_INDIRECT_CHANNEL_Indirect  0.004\n",
       "FEEDBACK_GOOD                     0.026"
      ]
     },
     "execution_count": 199,
     "metadata": {},
     "output_type": "execute_result"
    }
   ],
   "source": [
    "feature=pd.DataFrame(np.round((rf.feature_importances_),3),index=df_final_dummy.columns)\n",
    "feature=feature.rename(columns={0:'IMP'})\n",
    "feature.head()"
   ]
  },
  {
   "cell_type": "code",
   "execution_count": 194,
   "metadata": {
    "collapsed": false
   },
   "outputs": [
    {
     "data": {
      "text/plain": [
       "<matplotlib.axes._subplots.AxesSubplot at 0x1d1a2048>"
      ]
     },
     "execution_count": 194,
     "metadata": {},
     "output_type": "execute_result"
    },
    {
     "data": {
      "image/png": "[encoded data removed]",
      "text/plain": [
       "<matplotlib.figure.Figure at 0x1bb91e80>"
      ]
     },
     "metadata": {},
     "output_type": "display_data"
    }
   ],
   "source": [
    "feature.sort_values(ascending=False,by='IMP')[:20].plot(kind='bar')"
   ]
  },
  {
   "cell_type": "markdown",
   "metadata": {},
   "source": [
    "# 1. Sub_period B2 having subscription period between  is the most important feature.\n",
    "# 2. Spaceway type subscription is another important feature that define customer behaviour.\n"
   ]
  },
  {
   "cell_type": "code",
   "execution_count": 195,
   "metadata": {
    "collapsed": false
   },
   "outputs": [
    {
     "name": "stdout",
     "output_type": "stream",
     "text": [
      "             precision    recall  f1-score   support\n",
      "\n",
      "          0       1.00      1.00      1.00      8022\n",
      "          1       1.00      1.00      1.00      7969\n",
      "\n",
      "avg / total       1.00      1.00      1.00     15991\n",
      "\n"
     ]
    }
   ],
   "source": [
    "print classification_report(y_pred=rf.predict(x_tr_sc),y_true=y_tr)"
   ]
  },
  {
   "cell_type": "code",
   "execution_count": 196,
   "metadata": {
    "collapsed": false
   },
   "outputs": [
    {
     "name": "stdout",
     "output_type": "stream",
     "text": [
      "             precision    recall  f1-score   support\n",
      "\n",
      "          0       0.97      0.97      0.97      1967\n",
      "          1       0.97      0.97      0.97      2031\n",
      "\n",
      "avg / total       0.97      0.97      0.97      3998\n",
      "\n"
     ]
    }
   ],
   "source": [
    "print classification_report(y_pred=rf.predict(x_test_sc),y_true=y_test)"
   ]
  },
  {
   "cell_type": "code",
   "execution_count": 197,
   "metadata": {
    "collapsed": false
   },
   "outputs": [
    {
     "name": "stdout",
     "output_type": "stream",
     "text": [
      "TEST SET \n",
      "\n"
     ]
    },
    {
     "data": {
      "text/plain": [
       "array([[1903,   64],\n",
       "       [  54, 1977]])"
      ]
     },
     "execution_count": 197,
     "metadata": {},
     "output_type": "execute_result"
    }
   ],
   "source": [
    "print (\"TEST SET \\n\")\n",
    "confusion_matrix(y_pred=rf.predict(x_test_sc),y_true=y_test)"
   ]
  },
  {
   "cell_type": "code",
   "execution_count": 198,
   "metadata": {
    "collapsed": false
   },
   "outputs": [
    {
     "name": "stdout",
     "output_type": "stream",
     "text": [
      "TRAIN SET \n",
      "\n"
     ]
    },
    {
     "data": {
      "text/plain": [
       "array([[8022,    0],\n",
       "       [   0, 7969]])"
      ]
     },
     "execution_count": 198,
     "metadata": {},
     "output_type": "execute_result"
    }
   ],
   "source": [
    "print (\"TRAIN SET \\n\")\n",
    "confusion_matrix(y_pred=rf.predict(x_tr_sc),y_true=y_tr)"
   ]
  },
  {
   "cell_type": "markdown",
   "metadata": {},
   "source": [
    "# KNN "
   ]
  },
  {
   "cell_type": "code",
   "execution_count": 212,
   "metadata": {
    "collapsed": false
   },
   "outputs": [],
   "source": [
    "from sklearn.neighbors import KNeighborsClassifier\n",
    "from sklearn.grid_search import GridSearchCV"
   ]
  },
  {
   "cell_type": "code",
   "execution_count": 226,
   "metadata": {
    "collapsed": false
   },
   "outputs": [],
   "source": [
    "kn=KNeighborsClassifier\n",
    "grid={'n_neighbors':[10,15,20,25,30]\n",
    "               }"
   ]
  },
  {
   "cell_type": "code",
   "execution_count": null,
   "metadata": {
    "collapsed": true
   },
   "outputs": [],
   "source": [
    "kn=KNeighborsClassifier"
   ]
  },
  {
   "cell_type": "code",
   "execution_count": 224,
   "metadata": {
    "collapsed": false
   },
   "outputs": [],
   "source": [
    "gr=GridSearchCV(estimator=kn,param_grid=grid,cv=5,scoring='accuracy')"
   ]
  },
  {
   "cell_type": "code",
   "execution_count": 227,
   "metadata": {
    "collapsed": false
   },
   "outputs": [
    {
     "data": {
      "text/plain": [
       "GridSearchCV(cv=5, error_score='raise',\n",
       "       estimator=KNeighborsClassifier(algorithm='auto', leaf_size=30, metric='minkowski',\n",
       "           metric_params=None, n_jobs=1, n_neighbors=5, p=2,\n",
       "           weights='uniform'),\n",
       "       fit_params={}, iid=True, n_jobs=1,\n",
       "       param_grid={'n_neighbors': [10, 15, 20, 25, 30]},\n",
       "       pre_dispatch='2*n_jobs', refit=True, scoring='accuracy', verbose=0)"
      ]
     },
     "execution_count": 227,
     "metadata": {},
     "output_type": "execute_result"
    }
   ],
   "source": [
    "gr.fit(x_tr_sc,y_tr)"
   ]
  },
  {
   "cell_type": "code",
   "execution_count": 228,
   "metadata": {
    "collapsed": false
   },
   "outputs": [
    {
     "data": {
      "text/plain": [
       "KNeighborsClassifier(algorithm='auto', leaf_size=30, metric='minkowski',\n",
       "           metric_params=None, n_jobs=1, n_neighbors=15, p=2,\n",
       "           weights='uniform')"
      ]
     },
     "execution_count": 228,
     "metadata": {},
     "output_type": "execute_result"
    }
   ],
   "source": [
    "gr.best_estimator_"
   ]
  },
  {
   "cell_type": "code",
   "execution_count": 230,
   "metadata": {
    "collapsed": false
   },
   "outputs": [
    {
     "name": "stdout",
     "output_type": "stream",
     "text": [
      "             precision    recall  f1-score   support\n",
      "\n",
      "          0       0.91      0.98      0.94      8022\n",
      "          1       0.98      0.90      0.94      7969\n",
      "\n",
      "avg / total       0.94      0.94      0.94     15991\n",
      "\n"
     ]
    }
   ],
   "source": [
    "print classification_report(y_pred=gr.best_estimator_.predict(x_tr_sc),y_true=y_tr)"
   ]
  },
  {
   "cell_type": "code",
   "execution_count": 231,
   "metadata": {
    "collapsed": false
   },
   "outputs": [
    {
     "data": {
      "text/plain": [
       "array([[7861,  161],\n",
       "       [ 798, 7171]])"
      ]
     },
     "execution_count": 231,
     "metadata": {},
     "output_type": "execute_result"
    }
   ],
   "source": [
    "confusion_matrix(y_pred=gr.best_estimator_.predict(x_tr_sc),y_true=y_tr)"
   ]
  },
  {
   "cell_type": "code",
   "execution_count": 232,
   "metadata": {
    "collapsed": false
   },
   "outputs": [
    {
     "data": {
      "text/plain": [
       "array([[1925,   42],\n",
       "       [ 249, 1782]])"
      ]
     },
     "execution_count": 232,
     "metadata": {},
     "output_type": "execute_result"
    }
   ],
   "source": [
    "confusion_matrix(y_pred=gr.best_estimator_.predict(x_test_sc),y_true=y_test)"
   ]
  },
  {
   "cell_type": "code",
   "execution_count": 233,
   "metadata": {
    "collapsed": false
   },
   "outputs": [
    {
     "name": "stdout",
     "output_type": "stream",
     "text": [
      "             precision    recall  f1-score   support\n",
      "\n",
      "          0       0.89      0.98      0.93      1967\n",
      "          1       0.98      0.88      0.92      2031\n",
      "\n",
      "avg / total       0.93      0.93      0.93      3998\n",
      "\n"
     ]
    }
   ],
   "source": [
    "print classification_report(y_pred=gr.best_estimator_.predict(x_test_sc),y_true=y_test)"
   ]
  },
  {
   "cell_type": "markdown",
   "metadata": {},
   "source": [
    "# Best model is Random forest classifier having best accuracy score & recall, precision.\n"
   ]
  },
  {
   "cell_type": "code",
   "execution_count": null,
   "metadata": {
    "collapsed": true
   },
   "outputs": [],
   "source": []
  }
 ],
 "metadata": {
  "kernelspec": {
   "display_name": "Python 2",
   "language": "python",
   "name": "python2"
  },
  "language_info": {
   "codemirror_mode": {
    "name": "ipython",
    "version": 2
   },
   "file_extension": ".py",
   "mimetype": "text/x-python",
   "name": "python",
   "nbconvert_exporter": "python",
   "pygments_lexer": "ipython2",
   "version": "2.7.13"
  }
 },
 "nbformat": 4,
 "nbformat_minor": 2
}
