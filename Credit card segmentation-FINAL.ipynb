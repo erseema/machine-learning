{
 "cells": [
  {
   "cell_type": "markdown",
   "metadata": {},
   "source": [
    "# Project \n",
    "## Credit card Segmentaion problem on GENEral.csv"
   ]
  },
  {
   "cell_type": "code",
   "execution_count": 1,
   "metadata": {
    "collapsed": true
   },
   "outputs": [],
   "source": [
    "import pandas as pd\n",
    "import matplotlib.pyplot as plt\n",
    "import numpy as np\n",
    "%matplotlib inline\n",
    "import seaborn as sns"
   ]
  },
  {
   "cell_type": "code",
   "execution_count": 2,
   "metadata": {
    "collapsed": true
   },
   "outputs": [],
   "source": [
    "# reading data into dataframe\n",
    "\n",
    "credit= pd.read_csv(\"C:credit card/CC GENEral.csv\")\n"
   ]
  },
  {
   "cell_type": "code",
   "execution_count": 3,
   "metadata": {
    "collapsed": false
   },
   "outputs": [
    {
     "data": {
      "text/html": [
       "<div>\n",
       "<table border=\"1\" class=\"dataframe\">\n",
       "  <thead>\n",
       "    <tr style=\"text-align: right;\">\n",
       "      <th></th>\n",
       "      <th>CUST_ID</th>\n",
       "      <th>BALANCE</th>\n",
       "      <th>BALANCE_FREQUENCY</th>\n",
       "      <th>PURCHASES</th>\n",
       "      <th>ONEOFF_PURCHASES</th>\n",
       "      <th>INSTALLMENTS_PURCHASES</th>\n",
       "      <th>CASH_ADVANCE</th>\n",
       "      <th>PURCHASES_FREQUENCY</th>\n",
       "      <th>ONEOFF_PURCHASES_FREQUENCY</th>\n",
       "      <th>PURCHASES_INSTALLMENTS_FREQUENCY</th>\n",
       "      <th>CASH_ADVANCE_FREQUENCY</th>\n",
       "      <th>CASH_ADVANCE_TRX</th>\n",
       "      <th>PURCHASES_TRX</th>\n",
       "      <th>CREDIT_LIMIT</th>\n",
       "      <th>PAYMENTS</th>\n",
       "      <th>MINIMUM_PAYMENTS</th>\n",
       "      <th>PRC_FULL_PAYMENT</th>\n",
       "      <th>TENURE</th>\n",
       "    </tr>\n",
       "  </thead>\n",
       "  <tbody>\n",
       "    <tr>\n",
       "      <th>0</th>\n",
       "      <td>C10001</td>\n",
       "      <td>40.900749</td>\n",
       "      <td>0.818182</td>\n",
       "      <td>95.40</td>\n",
       "      <td>0.00</td>\n",
       "      <td>95.4</td>\n",
       "      <td>0.000000</td>\n",
       "      <td>0.166667</td>\n",
       "      <td>0.000000</td>\n",
       "      <td>0.083333</td>\n",
       "      <td>0.000000</td>\n",
       "      <td>0</td>\n",
       "      <td>2</td>\n",
       "      <td>1000.0</td>\n",
       "      <td>201.802084</td>\n",
       "      <td>139.509787</td>\n",
       "      <td>0.000000</td>\n",
       "      <td>12</td>\n",
       "    </tr>\n",
       "    <tr>\n",
       "      <th>1</th>\n",
       "      <td>C10002</td>\n",
       "      <td>3202.467416</td>\n",
       "      <td>0.909091</td>\n",
       "      <td>0.00</td>\n",
       "      <td>0.00</td>\n",
       "      <td>0.0</td>\n",
       "      <td>6442.945483</td>\n",
       "      <td>0.000000</td>\n",
       "      <td>0.000000</td>\n",
       "      <td>0.000000</td>\n",
       "      <td>0.250000</td>\n",
       "      <td>4</td>\n",
       "      <td>0</td>\n",
       "      <td>7000.0</td>\n",
       "      <td>4103.032597</td>\n",
       "      <td>1072.340217</td>\n",
       "      <td>0.222222</td>\n",
       "      <td>12</td>\n",
       "    </tr>\n",
       "    <tr>\n",
       "      <th>2</th>\n",
       "      <td>C10003</td>\n",
       "      <td>2495.148862</td>\n",
       "      <td>1.000000</td>\n",
       "      <td>773.17</td>\n",
       "      <td>773.17</td>\n",
       "      <td>0.0</td>\n",
       "      <td>0.000000</td>\n",
       "      <td>1.000000</td>\n",
       "      <td>1.000000</td>\n",
       "      <td>0.000000</td>\n",
       "      <td>0.000000</td>\n",
       "      <td>0</td>\n",
       "      <td>12</td>\n",
       "      <td>7500.0</td>\n",
       "      <td>622.066742</td>\n",
       "      <td>627.284787</td>\n",
       "      <td>0.000000</td>\n",
       "      <td>12</td>\n",
       "    </tr>\n",
       "    <tr>\n",
       "      <th>3</th>\n",
       "      <td>C10004</td>\n",
       "      <td>1666.670542</td>\n",
       "      <td>0.636364</td>\n",
       "      <td>1499.00</td>\n",
       "      <td>1499.00</td>\n",
       "      <td>0.0</td>\n",
       "      <td>205.788017</td>\n",
       "      <td>0.083333</td>\n",
       "      <td>0.083333</td>\n",
       "      <td>0.000000</td>\n",
       "      <td>0.083333</td>\n",
       "      <td>1</td>\n",
       "      <td>1</td>\n",
       "      <td>7500.0</td>\n",
       "      <td>0.000000</td>\n",
       "      <td>NaN</td>\n",
       "      <td>0.000000</td>\n",
       "      <td>12</td>\n",
       "    </tr>\n",
       "    <tr>\n",
       "      <th>4</th>\n",
       "      <td>C10005</td>\n",
       "      <td>817.714335</td>\n",
       "      <td>1.000000</td>\n",
       "      <td>16.00</td>\n",
       "      <td>16.00</td>\n",
       "      <td>0.0</td>\n",
       "      <td>0.000000</td>\n",
       "      <td>0.083333</td>\n",
       "      <td>0.083333</td>\n",
       "      <td>0.000000</td>\n",
       "      <td>0.000000</td>\n",
       "      <td>0</td>\n",
       "      <td>1</td>\n",
       "      <td>1200.0</td>\n",
       "      <td>678.334763</td>\n",
       "      <td>244.791237</td>\n",
       "      <td>0.000000</td>\n",
       "      <td>12</td>\n",
       "    </tr>\n",
       "  </tbody>\n",
       "</table>\n",
       "</div>"
      ],
      "text/plain": [
       "  CUST_ID      BALANCE  BALANCE_FREQUENCY  PURCHASES  ONEOFF_PURCHASES  \\\n",
       "0  C10001    40.900749           0.818182      95.40              0.00   \n",
       "1  C10002  3202.467416           0.909091       0.00              0.00   \n",
       "2  C10003  2495.148862           1.000000     773.17            773.17   \n",
       "3  C10004  1666.670542           0.636364    1499.00           1499.00   \n",
       "4  C10005   817.714335           1.000000      16.00             16.00   \n",
       "\n",
       "   INSTALLMENTS_PURCHASES  CASH_ADVANCE  PURCHASES_FREQUENCY  \\\n",
       "0                    95.4      0.000000             0.166667   \n",
       "1                     0.0   6442.945483             0.000000   \n",
       "2                     0.0      0.000000             1.000000   \n",
       "3                     0.0    205.788017             0.083333   \n",
       "4                     0.0      0.000000             0.083333   \n",
       "\n",
       "   ONEOFF_PURCHASES_FREQUENCY  PURCHASES_INSTALLMENTS_FREQUENCY  \\\n",
       "0                    0.000000                          0.083333   \n",
       "1                    0.000000                          0.000000   \n",
       "2                    1.000000                          0.000000   \n",
       "3                    0.083333                          0.000000   \n",
       "4                    0.083333                          0.000000   \n",
       "\n",
       "   CASH_ADVANCE_FREQUENCY  CASH_ADVANCE_TRX  PURCHASES_TRX  CREDIT_LIMIT  \\\n",
       "0                0.000000                 0              2        1000.0   \n",
       "1                0.250000                 4              0        7000.0   \n",
       "2                0.000000                 0             12        7500.0   \n",
       "3                0.083333                 1              1        7500.0   \n",
       "4                0.000000                 0              1        1200.0   \n",
       "\n",
       "      PAYMENTS  MINIMUM_PAYMENTS  PRC_FULL_PAYMENT  TENURE  \n",
       "0   201.802084        139.509787          0.000000      12  \n",
       "1  4103.032597       1072.340217          0.222222      12  \n",
       "2   622.066742        627.284787          0.000000      12  \n",
       "3     0.000000               NaN          0.000000      12  \n",
       "4   678.334763        244.791237          0.000000      12  "
      ]
     },
     "execution_count": 3,
     "metadata": {},
     "output_type": "execute_result"
    }
   ],
   "source": [
    "credit.head()"
   ]
  },
  {
   "cell_type": "code",
   "execution_count": 4,
   "metadata": {
    "collapsed": false
   },
   "outputs": [
    {
     "name": "stdout",
     "output_type": "stream",
     "text": [
      "<class 'pandas.core.frame.DataFrame'>\n",
      "RangeIndex: 8950 entries, 0 to 8949\n",
      "Data columns (total 18 columns):\n",
      "CUST_ID                             8950 non-null object\n",
      "BALANCE                             8950 non-null float64\n",
      "BALANCE_FREQUENCY                   8950 non-null float64\n",
      "PURCHASES                           8950 non-null float64\n",
      "ONEOFF_PURCHASES                    8950 non-null float64\n",
      "INSTALLMENTS_PURCHASES              8950 non-null float64\n",
      "CASH_ADVANCE                        8950 non-null float64\n",
      "PURCHASES_FREQUENCY                 8950 non-null float64\n",
      "ONEOFF_PURCHASES_FREQUENCY          8950 non-null float64\n",
      "PURCHASES_INSTALLMENTS_FREQUENCY    8950 non-null float64\n",
      "CASH_ADVANCE_FREQUENCY              8950 non-null float64\n",
      "CASH_ADVANCE_TRX                    8950 non-null int64\n",
      "PURCHASES_TRX                       8950 non-null int64\n",
      "CREDIT_LIMIT                        8949 non-null float64\n",
      "PAYMENTS                            8950 non-null float64\n",
      "MINIMUM_PAYMENTS                    8637 non-null float64\n",
      "PRC_FULL_PAYMENT                    8950 non-null float64\n",
      "TENURE                              8950 non-null int64\n",
      "dtypes: float64(14), int64(3), object(1)\n",
      "memory usage: 1.2+ MB\n"
     ]
    }
   ],
   "source": [
    "credit.info()"
   ]
  },
  {
   "cell_type": "code",
   "execution_count": 5,
   "metadata": {
    "collapsed": false
   },
   "outputs": [
    {
     "data": {
      "text/plain": [
       "False    8949\n",
       "True        1\n",
       "Name: CREDIT_LIMIT, dtype: int64"
      ]
     },
     "execution_count": 5,
     "metadata": {},
     "output_type": "execute_result"
    }
   ],
   "source": [
    "credit['CREDIT_LIMIT'].isnull().value_counts()"
   ]
  },
  {
   "cell_type": "code",
   "execution_count": 6,
   "metadata": {
    "collapsed": false
   },
   "outputs": [
    {
     "data": {
      "text/plain": [
       "(8950, 18)"
      ]
     },
     "execution_count": 6,
     "metadata": {},
     "output_type": "execute_result"
    }
   ],
   "source": [
    "credit.shape"
   ]
  },
  {
   "cell_type": "code",
   "execution_count": 7,
   "metadata": {
    "collapsed": false
   },
   "outputs": [
    {
     "name": "stdout",
     "output_type": "stream",
     "text": [
      "count     8949.000000\n",
      "mean      4494.449450\n",
      "std       3638.815725\n",
      "min         50.000000\n",
      "25%       1600.000000\n",
      "50%       3000.000000\n",
      "75%       6500.000000\n",
      "max      30000.000000\n",
      "Name: CREDIT_LIMIT, dtype: float64\n"
     ]
    }
   ],
   "source": [
    "print credit['CREDIT_LIMIT'].describe()"
   ]
  },
  {
   "cell_type": "code",
   "execution_count": 8,
   "metadata": {
    "collapsed": false
   },
   "outputs": [
    {
     "data": {
      "text/html": [
       "<div>\n",
       "<table border=\"1\" class=\"dataframe\">\n",
       "  <thead>\n",
       "    <tr style=\"text-align: right;\">\n",
       "      <th></th>\n",
       "      <th>BALANCE</th>\n",
       "      <th>BALANCE_FREQUENCY</th>\n",
       "      <th>PURCHASES</th>\n",
       "      <th>ONEOFF_PURCHASES</th>\n",
       "      <th>INSTALLMENTS_PURCHASES</th>\n",
       "      <th>CASH_ADVANCE</th>\n",
       "      <th>PURCHASES_FREQUENCY</th>\n",
       "      <th>ONEOFF_PURCHASES_FREQUENCY</th>\n",
       "      <th>PURCHASES_INSTALLMENTS_FREQUENCY</th>\n",
       "      <th>CASH_ADVANCE_FREQUENCY</th>\n",
       "      <th>CASH_ADVANCE_TRX</th>\n",
       "      <th>PURCHASES_TRX</th>\n",
       "      <th>CREDIT_LIMIT</th>\n",
       "      <th>PAYMENTS</th>\n",
       "      <th>MINIMUM_PAYMENTS</th>\n",
       "      <th>PRC_FULL_PAYMENT</th>\n",
       "      <th>TENURE</th>\n",
       "    </tr>\n",
       "  </thead>\n",
       "  <tbody>\n",
       "    <tr>\n",
       "      <th>count</th>\n",
       "      <td>8950.000000</td>\n",
       "      <td>8950.000000</td>\n",
       "      <td>8950.000000</td>\n",
       "      <td>8950.000000</td>\n",
       "      <td>8950.000000</td>\n",
       "      <td>8950.000000</td>\n",
       "      <td>8950.000000</td>\n",
       "      <td>8950.000000</td>\n",
       "      <td>8950.000000</td>\n",
       "      <td>8950.000000</td>\n",
       "      <td>8950.000000</td>\n",
       "      <td>8950.000000</td>\n",
       "      <td>8949.000000</td>\n",
       "      <td>8950.000000</td>\n",
       "      <td>8637.000000</td>\n",
       "      <td>8950.000000</td>\n",
       "      <td>8950.000000</td>\n",
       "    </tr>\n",
       "    <tr>\n",
       "      <th>mean</th>\n",
       "      <td>1564.474828</td>\n",
       "      <td>0.877271</td>\n",
       "      <td>1003.204834</td>\n",
       "      <td>592.437371</td>\n",
       "      <td>411.067645</td>\n",
       "      <td>978.871112</td>\n",
       "      <td>0.490351</td>\n",
       "      <td>0.202458</td>\n",
       "      <td>0.364437</td>\n",
       "      <td>0.135144</td>\n",
       "      <td>3.248827</td>\n",
       "      <td>14.709832</td>\n",
       "      <td>4494.449450</td>\n",
       "      <td>1733.143852</td>\n",
       "      <td>864.206542</td>\n",
       "      <td>0.153715</td>\n",
       "      <td>11.517318</td>\n",
       "    </tr>\n",
       "    <tr>\n",
       "      <th>std</th>\n",
       "      <td>2081.531879</td>\n",
       "      <td>0.236904</td>\n",
       "      <td>2136.634782</td>\n",
       "      <td>1659.887917</td>\n",
       "      <td>904.338115</td>\n",
       "      <td>2097.163877</td>\n",
       "      <td>0.401371</td>\n",
       "      <td>0.298336</td>\n",
       "      <td>0.397448</td>\n",
       "      <td>0.200121</td>\n",
       "      <td>6.824647</td>\n",
       "      <td>24.857649</td>\n",
       "      <td>3638.815725</td>\n",
       "      <td>2895.063757</td>\n",
       "      <td>2372.446607</td>\n",
       "      <td>0.292499</td>\n",
       "      <td>1.338331</td>\n",
       "    </tr>\n",
       "    <tr>\n",
       "      <th>min</th>\n",
       "      <td>0.000000</td>\n",
       "      <td>0.000000</td>\n",
       "      <td>0.000000</td>\n",
       "      <td>0.000000</td>\n",
       "      <td>0.000000</td>\n",
       "      <td>0.000000</td>\n",
       "      <td>0.000000</td>\n",
       "      <td>0.000000</td>\n",
       "      <td>0.000000</td>\n",
       "      <td>0.000000</td>\n",
       "      <td>0.000000</td>\n",
       "      <td>0.000000</td>\n",
       "      <td>50.000000</td>\n",
       "      <td>0.000000</td>\n",
       "      <td>0.019163</td>\n",
       "      <td>0.000000</td>\n",
       "      <td>6.000000</td>\n",
       "    </tr>\n",
       "    <tr>\n",
       "      <th>25%</th>\n",
       "      <td>128.281915</td>\n",
       "      <td>0.888889</td>\n",
       "      <td>39.635000</td>\n",
       "      <td>0.000000</td>\n",
       "      <td>0.000000</td>\n",
       "      <td>0.000000</td>\n",
       "      <td>0.083333</td>\n",
       "      <td>0.000000</td>\n",
       "      <td>0.000000</td>\n",
       "      <td>0.000000</td>\n",
       "      <td>0.000000</td>\n",
       "      <td>1.000000</td>\n",
       "      <td>1600.000000</td>\n",
       "      <td>383.276166</td>\n",
       "      <td>169.123707</td>\n",
       "      <td>0.000000</td>\n",
       "      <td>12.000000</td>\n",
       "    </tr>\n",
       "    <tr>\n",
       "      <th>50%</th>\n",
       "      <td>873.385231</td>\n",
       "      <td>1.000000</td>\n",
       "      <td>361.280000</td>\n",
       "      <td>38.000000</td>\n",
       "      <td>89.000000</td>\n",
       "      <td>0.000000</td>\n",
       "      <td>0.500000</td>\n",
       "      <td>0.083333</td>\n",
       "      <td>0.166667</td>\n",
       "      <td>0.000000</td>\n",
       "      <td>0.000000</td>\n",
       "      <td>7.000000</td>\n",
       "      <td>3000.000000</td>\n",
       "      <td>856.901546</td>\n",
       "      <td>312.343947</td>\n",
       "      <td>0.000000</td>\n",
       "      <td>12.000000</td>\n",
       "    </tr>\n",
       "    <tr>\n",
       "      <th>75%</th>\n",
       "      <td>2054.140036</td>\n",
       "      <td>1.000000</td>\n",
       "      <td>1110.130000</td>\n",
       "      <td>577.405000</td>\n",
       "      <td>468.637500</td>\n",
       "      <td>1113.821139</td>\n",
       "      <td>0.916667</td>\n",
       "      <td>0.300000</td>\n",
       "      <td>0.750000</td>\n",
       "      <td>0.222222</td>\n",
       "      <td>4.000000</td>\n",
       "      <td>17.000000</td>\n",
       "      <td>6500.000000</td>\n",
       "      <td>1901.134317</td>\n",
       "      <td>825.485459</td>\n",
       "      <td>0.142857</td>\n",
       "      <td>12.000000</td>\n",
       "    </tr>\n",
       "    <tr>\n",
       "      <th>max</th>\n",
       "      <td>19043.138560</td>\n",
       "      <td>1.000000</td>\n",
       "      <td>49039.570000</td>\n",
       "      <td>40761.250000</td>\n",
       "      <td>22500.000000</td>\n",
       "      <td>47137.211760</td>\n",
       "      <td>1.000000</td>\n",
       "      <td>1.000000</td>\n",
       "      <td>1.000000</td>\n",
       "      <td>1.500000</td>\n",
       "      <td>123.000000</td>\n",
       "      <td>358.000000</td>\n",
       "      <td>30000.000000</td>\n",
       "      <td>50721.483360</td>\n",
       "      <td>76406.207520</td>\n",
       "      <td>1.000000</td>\n",
       "      <td>12.000000</td>\n",
       "    </tr>\n",
       "  </tbody>\n",
       "</table>\n",
       "</div>"
      ],
      "text/plain": [
       "            BALANCE  BALANCE_FREQUENCY     PURCHASES  ONEOFF_PURCHASES  \\\n",
       "count   8950.000000        8950.000000   8950.000000       8950.000000   \n",
       "mean    1564.474828           0.877271   1003.204834        592.437371   \n",
       "std     2081.531879           0.236904   2136.634782       1659.887917   \n",
       "min        0.000000           0.000000      0.000000          0.000000   \n",
       "25%      128.281915           0.888889     39.635000          0.000000   \n",
       "50%      873.385231           1.000000    361.280000         38.000000   \n",
       "75%     2054.140036           1.000000   1110.130000        577.405000   \n",
       "max    19043.138560           1.000000  49039.570000      40761.250000   \n",
       "\n",
       "       INSTALLMENTS_PURCHASES  CASH_ADVANCE  PURCHASES_FREQUENCY  \\\n",
       "count             8950.000000   8950.000000          8950.000000   \n",
       "mean               411.067645    978.871112             0.490351   \n",
       "std                904.338115   2097.163877             0.401371   \n",
       "min                  0.000000      0.000000             0.000000   \n",
       "25%                  0.000000      0.000000             0.083333   \n",
       "50%                 89.000000      0.000000             0.500000   \n",
       "75%                468.637500   1113.821139             0.916667   \n",
       "max              22500.000000  47137.211760             1.000000   \n",
       "\n",
       "       ONEOFF_PURCHASES_FREQUENCY  PURCHASES_INSTALLMENTS_FREQUENCY  \\\n",
       "count                 8950.000000                       8950.000000   \n",
       "mean                     0.202458                          0.364437   \n",
       "std                      0.298336                          0.397448   \n",
       "min                      0.000000                          0.000000   \n",
       "25%                      0.000000                          0.000000   \n",
       "50%                      0.083333                          0.166667   \n",
       "75%                      0.300000                          0.750000   \n",
       "max                      1.000000                          1.000000   \n",
       "\n",
       "       CASH_ADVANCE_FREQUENCY  CASH_ADVANCE_TRX  PURCHASES_TRX  CREDIT_LIMIT  \\\n",
       "count             8950.000000       8950.000000    8950.000000   8949.000000   \n",
       "mean                 0.135144          3.248827      14.709832   4494.449450   \n",
       "std                  0.200121          6.824647      24.857649   3638.815725   \n",
       "min                  0.000000          0.000000       0.000000     50.000000   \n",
       "25%                  0.000000          0.000000       1.000000   1600.000000   \n",
       "50%                  0.000000          0.000000       7.000000   3000.000000   \n",
       "75%                  0.222222          4.000000      17.000000   6500.000000   \n",
       "max                  1.500000        123.000000     358.000000  30000.000000   \n",
       "\n",
       "           PAYMENTS  MINIMUM_PAYMENTS  PRC_FULL_PAYMENT       TENURE  \n",
       "count   8950.000000       8637.000000       8950.000000  8950.000000  \n",
       "mean    1733.143852        864.206542          0.153715    11.517318  \n",
       "std     2895.063757       2372.446607          0.292499     1.338331  \n",
       "min        0.000000          0.019163          0.000000     6.000000  \n",
       "25%      383.276166        169.123707          0.000000    12.000000  \n",
       "50%      856.901546        312.343947          0.000000    12.000000  \n",
       "75%     1901.134317        825.485459          0.142857    12.000000  \n",
       "max    50721.483360      76406.207520          1.000000    12.000000  "
      ]
     },
     "execution_count": 8,
     "metadata": {},
     "output_type": "execute_result"
    }
   ],
   "source": [
    "# Intital descriptive analysis of data.\n",
    "credit.describe()"
   ]
  },
  {
   "cell_type": "code",
   "execution_count": 9,
   "metadata": {
    "collapsed": false
   },
   "outputs": [
    {
     "data": {
      "text/html": [
       "<div>\n",
       "<table border=\"1\" class=\"dataframe\">\n",
       "  <thead>\n",
       "    <tr style=\"text-align: right;\">\n",
       "      <th></th>\n",
       "      <th>CUST_ID</th>\n",
       "      <th>BALANCE</th>\n",
       "      <th>BALANCE_FREQUENCY</th>\n",
       "      <th>PURCHASES</th>\n",
       "      <th>ONEOFF_PURCHASES</th>\n",
       "      <th>INSTALLMENTS_PURCHASES</th>\n",
       "      <th>CASH_ADVANCE</th>\n",
       "      <th>PURCHASES_FREQUENCY</th>\n",
       "      <th>ONEOFF_PURCHASES_FREQUENCY</th>\n",
       "      <th>PURCHASES_INSTALLMENTS_FREQUENCY</th>\n",
       "      <th>CASH_ADVANCE_FREQUENCY</th>\n",
       "      <th>CASH_ADVANCE_TRX</th>\n",
       "      <th>PURCHASES_TRX</th>\n",
       "      <th>CREDIT_LIMIT</th>\n",
       "      <th>PAYMENTS</th>\n",
       "      <th>MINIMUM_PAYMENTS</th>\n",
       "      <th>PRC_FULL_PAYMENT</th>\n",
       "      <th>TENURE</th>\n",
       "    </tr>\n",
       "  </thead>\n",
       "  <tbody>\n",
       "    <tr>\n",
       "      <th>5203</th>\n",
       "      <td>C15349</td>\n",
       "      <td>18.400472</td>\n",
       "      <td>0.166667</td>\n",
       "      <td>0.0</td>\n",
       "      <td>0.0</td>\n",
       "      <td>0.0</td>\n",
       "      <td>186.853063</td>\n",
       "      <td>0.0</td>\n",
       "      <td>0.0</td>\n",
       "      <td>0.0</td>\n",
       "      <td>0.166667</td>\n",
       "      <td>1</td>\n",
       "      <td>0</td>\n",
       "      <td>NaN</td>\n",
       "      <td>9.040017</td>\n",
       "      <td>14.418723</td>\n",
       "      <td>0.0</td>\n",
       "      <td>6</td>\n",
       "    </tr>\n",
       "  </tbody>\n",
       "</table>\n",
       "</div>"
      ],
      "text/plain": [
       "     CUST_ID    BALANCE  BALANCE_FREQUENCY  PURCHASES  ONEOFF_PURCHASES  \\\n",
       "5203  C15349  18.400472           0.166667        0.0               0.0   \n",
       "\n",
       "      INSTALLMENTS_PURCHASES  CASH_ADVANCE  PURCHASES_FREQUENCY  \\\n",
       "5203                     0.0    186.853063                  0.0   \n",
       "\n",
       "      ONEOFF_PURCHASES_FREQUENCY  PURCHASES_INSTALLMENTS_FREQUENCY  \\\n",
       "5203                         0.0                               0.0   \n",
       "\n",
       "      CASH_ADVANCE_FREQUENCY  CASH_ADVANCE_TRX  PURCHASES_TRX  CREDIT_LIMIT  \\\n",
       "5203                0.166667                 1              0           NaN   \n",
       "\n",
       "      PAYMENTS  MINIMUM_PAYMENTS  PRC_FULL_PAYMENT  TENURE  \n",
       "5203  9.040017         14.418723               0.0       6  "
      ]
     },
     "execution_count": 9,
     "metadata": {},
     "output_type": "execute_result"
    }
   ],
   "source": [
    "credit[credit['CREDIT_LIMIT'].isnull()]"
   ]
  },
  {
   "cell_type": "markdown",
   "metadata": {},
   "source": [
    "---\n",
    "\n",
    "# a) Missing Value Treatment\n",
    "       - Since there are missing values in the data so we are imputing them with median.\n",
    "\n",
    "---"
   ]
  },
  {
   "cell_type": "code",
   "execution_count": 10,
   "metadata": {
    "collapsed": false,
    "scrolled": true
   },
   "outputs": [
    {
     "data": {
      "text/plain": [
       "CUST_ID                             False\n",
       "BALANCE                             False\n",
       "BALANCE_FREQUENCY                   False\n",
       "PURCHASES                           False\n",
       "ONEOFF_PURCHASES                    False\n",
       "INSTALLMENTS_PURCHASES              False\n",
       "CASH_ADVANCE                        False\n",
       "PURCHASES_FREQUENCY                 False\n",
       "ONEOFF_PURCHASES_FREQUENCY          False\n",
       "PURCHASES_INSTALLMENTS_FREQUENCY    False\n",
       "CASH_ADVANCE_FREQUENCY              False\n",
       "CASH_ADVANCE_TRX                    False\n",
       "PURCHASES_TRX                       False\n",
       "CREDIT_LIMIT                         True\n",
       "PAYMENTS                            False\n",
       "MINIMUM_PAYMENTS                     True\n",
       "PRC_FULL_PAYMENT                    False\n",
       "TENURE                              False\n",
       "dtype: bool"
      ]
     },
     "execution_count": 10,
     "metadata": {},
     "output_type": "execute_result"
    }
   ],
   "source": [
    "credit.isnull().any()"
   ]
  },
  {
   "cell_type": "code",
   "execution_count": 11,
   "metadata": {
    "collapsed": false
   },
   "outputs": [],
   "source": [
    "credit['CREDIT_LIMIT'].fillna(credit['CREDIT_LIMIT'].median(),inplace=True)\n",
    "\n",
    "credit['CREDIT_LIMIT'].count()\n",
    "\n",
    "\n",
    "credit['MINIMUM_PAYMENTS'].median()\n",
    "credit['MINIMUM_PAYMENTS'].fillna(credit['MINIMUM_PAYMENTS'].median(),inplace=True)\n",
    "\n"
   ]
  },
  {
   "cell_type": "code",
   "execution_count": 12,
   "metadata": {
    "collapsed": false
   },
   "outputs": [
    {
     "data": {
      "text/plain": [
       "CUST_ID                             False\n",
       "BALANCE                             False\n",
       "BALANCE_FREQUENCY                   False\n",
       "PURCHASES                           False\n",
       "ONEOFF_PURCHASES                    False\n",
       "INSTALLMENTS_PURCHASES              False\n",
       "CASH_ADVANCE                        False\n",
       "PURCHASES_FREQUENCY                 False\n",
       "ONEOFF_PURCHASES_FREQUENCY          False\n",
       "PURCHASES_INSTALLMENTS_FREQUENCY    False\n",
       "CASH_ADVANCE_FREQUENCY              False\n",
       "CASH_ADVANCE_TRX                    False\n",
       "PURCHASES_TRX                       False\n",
       "CREDIT_LIMIT                        False\n",
       "PAYMENTS                            False\n",
       "MINIMUM_PAYMENTS                    False\n",
       "PRC_FULL_PAYMENT                    False\n",
       "TENURE                              False\n",
       "dtype: bool"
      ]
     },
     "execution_count": 12,
     "metadata": {},
     "output_type": "execute_result"
    }
   ],
   "source": [
    "credit.isnull().any()"
   ]
  },
  {
   "cell_type": "markdown",
   "metadata": {},
   "source": [
    "----\n",
    "\n",
    "# Deriving New KPI\n",
    "\n",
    "---"
   ]
  },
  {
   "cell_type": "markdown",
   "metadata": {},
   "source": [
    "##  1. Monthly_avg_purchase"
   ]
  },
  {
   "cell_type": "code",
   "execution_count": 13,
   "metadata": {
    "collapsed": false
   },
   "outputs": [],
   "source": [
    "credit['Monthly_avg_purchase']=credit['PURCHASES']/credit['TENURE']"
   ]
  },
  {
   "cell_type": "code",
   "execution_count": 14,
   "metadata": {
    "collapsed": false
   },
   "outputs": [
    {
     "name": "stdout",
     "output_type": "stream",
     "text": [
      "0      7.950000\n",
      "1      0.000000\n",
      "2     64.430833\n",
      "3    124.916667\n",
      "4      1.333333\n",
      "Name: Monthly_avg_purchase, dtype: float64 \n",
      " Tenure:"
     ]
    },
    {
     "data": {
      "text/plain": [
       "(0    12\n",
       " 1    12\n",
       " 2    12\n",
       " 3    12\n",
       " 4    12\n",
       " Name: TENURE, dtype: int64, '\\n Average purchase', 0      95.40\n",
       " 1       0.00\n",
       " 2     773.17\n",
       " 3    1499.00\n",
       " 4      16.00\n",
       " Name: PURCHASES, dtype: float64)"
      ]
     },
     "execution_count": 14,
     "metadata": {},
     "output_type": "execute_result"
    },
    {
     "name": "stdout",
     "output_type": "stream",
     "text": [
      "\n"
     ]
    }
   ],
   "source": [
    "print credit['Monthly_avg_purchase'].head(),'\\n Tenure:' ,\n",
    "credit['TENURE'].head(),'\\n Average purchase', credit['PURCHASES'].head()"
   ]
  },
  {
   "cell_type": "markdown",
   "metadata": {},
   "source": [
    "##  2. Monthly_cash_advance"
   ]
  },
  {
   "cell_type": "code",
   "execution_count": 15,
   "metadata": {
    "collapsed": true
   },
   "outputs": [],
   "source": [
    "credit['Monthly_cash_advance']=credit['CASH_ADVANCE']/credit['TENURE']\n"
   ]
  },
  {
   "cell_type": "code",
   "execution_count": 16,
   "metadata": {
    "collapsed": false
   },
   "outputs": [
    {
     "data": {
      "text/plain": [
       "4302"
      ]
     },
     "execution_count": 16,
     "metadata": {},
     "output_type": "execute_result"
    }
   ],
   "source": [
    "credit[credit['ONEOFF_PURCHASES']==0]['ONEOFF_PURCHASES'].count()"
   ]
  },
  {
   "cell_type": "markdown",
   "metadata": {},
   "source": [
    "##  3. Purchase_type \n",
    "- To find what type of purchases customers are making on credit card"
   ]
  },
  {
   "cell_type": "code",
   "execution_count": 17,
   "metadata": {
    "collapsed": false
   },
   "outputs": [
    {
     "data": {
      "text/html": [
       "<div>\n",
       "<table border=\"1\" class=\"dataframe\">\n",
       "  <thead>\n",
       "    <tr style=\"text-align: right;\">\n",
       "      <th></th>\n",
       "      <th>ONEOFF_PURCHASES</th>\n",
       "      <th>INSTALLMENTS_PURCHASES</th>\n",
       "    </tr>\n",
       "  </thead>\n",
       "  <tbody>\n",
       "    <tr>\n",
       "      <th>0</th>\n",
       "      <td>0.00</td>\n",
       "      <td>95.40</td>\n",
       "    </tr>\n",
       "    <tr>\n",
       "      <th>1</th>\n",
       "      <td>0.00</td>\n",
       "      <td>0.00</td>\n",
       "    </tr>\n",
       "    <tr>\n",
       "      <th>2</th>\n",
       "      <td>773.17</td>\n",
       "      <td>0.00</td>\n",
       "    </tr>\n",
       "    <tr>\n",
       "      <th>3</th>\n",
       "      <td>1499.00</td>\n",
       "      <td>0.00</td>\n",
       "    </tr>\n",
       "    <tr>\n",
       "      <th>4</th>\n",
       "      <td>16.00</td>\n",
       "      <td>0.00</td>\n",
       "    </tr>\n",
       "    <tr>\n",
       "      <th>5</th>\n",
       "      <td>0.00</td>\n",
       "      <td>1333.28</td>\n",
       "    </tr>\n",
       "    <tr>\n",
       "      <th>6</th>\n",
       "      <td>6402.63</td>\n",
       "      <td>688.38</td>\n",
       "    </tr>\n",
       "    <tr>\n",
       "      <th>7</th>\n",
       "      <td>0.00</td>\n",
       "      <td>436.20</td>\n",
       "    </tr>\n",
       "    <tr>\n",
       "      <th>8</th>\n",
       "      <td>661.49</td>\n",
       "      <td>200.00</td>\n",
       "    </tr>\n",
       "    <tr>\n",
       "      <th>9</th>\n",
       "      <td>1281.60</td>\n",
       "      <td>0.00</td>\n",
       "    </tr>\n",
       "    <tr>\n",
       "      <th>10</th>\n",
       "      <td>0.00</td>\n",
       "      <td>920.12</td>\n",
       "    </tr>\n",
       "    <tr>\n",
       "      <th>11</th>\n",
       "      <td>1492.18</td>\n",
       "      <td>0.00</td>\n",
       "    </tr>\n",
       "    <tr>\n",
       "      <th>12</th>\n",
       "      <td>2500.23</td>\n",
       "      <td>717.76</td>\n",
       "    </tr>\n",
       "    <tr>\n",
       "      <th>13</th>\n",
       "      <td>419.96</td>\n",
       "      <td>1717.97</td>\n",
       "    </tr>\n",
       "    <tr>\n",
       "      <th>14</th>\n",
       "      <td>0.00</td>\n",
       "      <td>0.00</td>\n",
       "    </tr>\n",
       "    <tr>\n",
       "      <th>15</th>\n",
       "      <td>0.00</td>\n",
       "      <td>1611.70</td>\n",
       "    </tr>\n",
       "    <tr>\n",
       "      <th>16</th>\n",
       "      <td>0.00</td>\n",
       "      <td>0.00</td>\n",
       "    </tr>\n",
       "    <tr>\n",
       "      <th>17</th>\n",
       "      <td>0.00</td>\n",
       "      <td>519.00</td>\n",
       "    </tr>\n",
       "    <tr>\n",
       "      <th>18</th>\n",
       "      <td>166.00</td>\n",
       "      <td>338.35</td>\n",
       "    </tr>\n",
       "    <tr>\n",
       "      <th>19</th>\n",
       "      <td>0.00</td>\n",
       "      <td>398.64</td>\n",
       "    </tr>\n",
       "    <tr>\n",
       "      <th>20</th>\n",
       "      <td>0.00</td>\n",
       "      <td>176.68</td>\n",
       "    </tr>\n",
       "    <tr>\n",
       "      <th>21</th>\n",
       "      <td>5910.04</td>\n",
       "      <td>449.91</td>\n",
       "    </tr>\n",
       "    <tr>\n",
       "      <th>22</th>\n",
       "      <td>0.00</td>\n",
       "      <td>815.90</td>\n",
       "    </tr>\n",
       "    <tr>\n",
       "      <th>23</th>\n",
       "      <td>3454.56</td>\n",
       "      <td>793.79</td>\n",
       "    </tr>\n",
       "    <tr>\n",
       "      <th>24</th>\n",
       "      <td>0.00</td>\n",
       "      <td>0.00</td>\n",
       "    </tr>\n",
       "    <tr>\n",
       "      <th>25</th>\n",
       "      <td>0.00</td>\n",
       "      <td>399.60</td>\n",
       "    </tr>\n",
       "    <tr>\n",
       "      <th>26</th>\n",
       "      <td>102.00</td>\n",
       "      <td>0.00</td>\n",
       "    </tr>\n",
       "    <tr>\n",
       "      <th>27</th>\n",
       "      <td>0.00</td>\n",
       "      <td>233.28</td>\n",
       "    </tr>\n",
       "    <tr>\n",
       "      <th>28</th>\n",
       "      <td>204.55</td>\n",
       "      <td>182.50</td>\n",
       "    </tr>\n",
       "    <tr>\n",
       "      <th>29</th>\n",
       "      <td>0.00</td>\n",
       "      <td>100.00</td>\n",
       "    </tr>\n",
       "    <tr>\n",
       "      <th>...</th>\n",
       "      <td>...</td>\n",
       "      <td>...</td>\n",
       "    </tr>\n",
       "    <tr>\n",
       "      <th>8920</th>\n",
       "      <td>0.00</td>\n",
       "      <td>0.00</td>\n",
       "    </tr>\n",
       "    <tr>\n",
       "      <th>8921</th>\n",
       "      <td>0.00</td>\n",
       "      <td>57.42</td>\n",
       "    </tr>\n",
       "    <tr>\n",
       "      <th>8922</th>\n",
       "      <td>0.00</td>\n",
       "      <td>145.98</td>\n",
       "    </tr>\n",
       "    <tr>\n",
       "      <th>8923</th>\n",
       "      <td>939.09</td>\n",
       "      <td>959.79</td>\n",
       "    </tr>\n",
       "    <tr>\n",
       "      <th>8924</th>\n",
       "      <td>74.00</td>\n",
       "      <td>0.00</td>\n",
       "    </tr>\n",
       "    <tr>\n",
       "      <th>8925</th>\n",
       "      <td>0.00</td>\n",
       "      <td>418.59</td>\n",
       "    </tr>\n",
       "    <tr>\n",
       "      <th>8926</th>\n",
       "      <td>0.00</td>\n",
       "      <td>580.00</td>\n",
       "    </tr>\n",
       "    <tr>\n",
       "      <th>8927</th>\n",
       "      <td>147.80</td>\n",
       "      <td>167.40</td>\n",
       "    </tr>\n",
       "    <tr>\n",
       "      <th>8928</th>\n",
       "      <td>0.00</td>\n",
       "      <td>500.00</td>\n",
       "    </tr>\n",
       "    <tr>\n",
       "      <th>8929</th>\n",
       "      <td>0.00</td>\n",
       "      <td>0.00</td>\n",
       "    </tr>\n",
       "    <tr>\n",
       "      <th>8930</th>\n",
       "      <td>0.00</td>\n",
       "      <td>84.00</td>\n",
       "    </tr>\n",
       "    <tr>\n",
       "      <th>8931</th>\n",
       "      <td>0.00</td>\n",
       "      <td>235.80</td>\n",
       "    </tr>\n",
       "    <tr>\n",
       "      <th>8932</th>\n",
       "      <td>0.00</td>\n",
       "      <td>180.00</td>\n",
       "    </tr>\n",
       "    <tr>\n",
       "      <th>8933</th>\n",
       "      <td>255.62</td>\n",
       "      <td>363.98</td>\n",
       "    </tr>\n",
       "    <tr>\n",
       "      <th>8934</th>\n",
       "      <td>0.00</td>\n",
       "      <td>110.50</td>\n",
       "    </tr>\n",
       "    <tr>\n",
       "      <th>8935</th>\n",
       "      <td>0.00</td>\n",
       "      <td>465.90</td>\n",
       "    </tr>\n",
       "    <tr>\n",
       "      <th>8936</th>\n",
       "      <td>0.00</td>\n",
       "      <td>712.50</td>\n",
       "    </tr>\n",
       "    <tr>\n",
       "      <th>8937</th>\n",
       "      <td>0.00</td>\n",
       "      <td>0.00</td>\n",
       "    </tr>\n",
       "    <tr>\n",
       "      <th>8938</th>\n",
       "      <td>0.00</td>\n",
       "      <td>0.00</td>\n",
       "    </tr>\n",
       "    <tr>\n",
       "      <th>8939</th>\n",
       "      <td>734.40</td>\n",
       "      <td>0.00</td>\n",
       "    </tr>\n",
       "    <tr>\n",
       "      <th>8940</th>\n",
       "      <td>0.00</td>\n",
       "      <td>591.24</td>\n",
       "    </tr>\n",
       "    <tr>\n",
       "      <th>8941</th>\n",
       "      <td>0.00</td>\n",
       "      <td>214.55</td>\n",
       "    </tr>\n",
       "    <tr>\n",
       "      <th>8942</th>\n",
       "      <td>0.00</td>\n",
       "      <td>113.28</td>\n",
       "    </tr>\n",
       "    <tr>\n",
       "      <th>8943</th>\n",
       "      <td>20.90</td>\n",
       "      <td>0.00</td>\n",
       "    </tr>\n",
       "    <tr>\n",
       "      <th>8944</th>\n",
       "      <td>1012.73</td>\n",
       "      <td>0.00</td>\n",
       "    </tr>\n",
       "    <tr>\n",
       "      <th>8945</th>\n",
       "      <td>0.00</td>\n",
       "      <td>291.12</td>\n",
       "    </tr>\n",
       "    <tr>\n",
       "      <th>8946</th>\n",
       "      <td>0.00</td>\n",
       "      <td>300.00</td>\n",
       "    </tr>\n",
       "    <tr>\n",
       "      <th>8947</th>\n",
       "      <td>0.00</td>\n",
       "      <td>144.40</td>\n",
       "    </tr>\n",
       "    <tr>\n",
       "      <th>8948</th>\n",
       "      <td>0.00</td>\n",
       "      <td>0.00</td>\n",
       "    </tr>\n",
       "    <tr>\n",
       "      <th>8949</th>\n",
       "      <td>1093.25</td>\n",
       "      <td>0.00</td>\n",
       "    </tr>\n",
       "  </tbody>\n",
       "</table>\n",
       "<p>8950 rows × 2 columns</p>\n",
       "</div>"
      ],
      "text/plain": [
       "      ONEOFF_PURCHASES  INSTALLMENTS_PURCHASES\n",
       "0                 0.00                   95.40\n",
       "1                 0.00                    0.00\n",
       "2               773.17                    0.00\n",
       "3              1499.00                    0.00\n",
       "4                16.00                    0.00\n",
       "5                 0.00                 1333.28\n",
       "6              6402.63                  688.38\n",
       "7                 0.00                  436.20\n",
       "8               661.49                  200.00\n",
       "9              1281.60                    0.00\n",
       "10                0.00                  920.12\n",
       "11             1492.18                    0.00\n",
       "12             2500.23                  717.76\n",
       "13              419.96                 1717.97\n",
       "14                0.00                    0.00\n",
       "15                0.00                 1611.70\n",
       "16                0.00                    0.00\n",
       "17                0.00                  519.00\n",
       "18              166.00                  338.35\n",
       "19                0.00                  398.64\n",
       "20                0.00                  176.68\n",
       "21             5910.04                  449.91\n",
       "22                0.00                  815.90\n",
       "23             3454.56                  793.79\n",
       "24                0.00                    0.00\n",
       "25                0.00                  399.60\n",
       "26              102.00                    0.00\n",
       "27                0.00                  233.28\n",
       "28              204.55                  182.50\n",
       "29                0.00                  100.00\n",
       "...                ...                     ...\n",
       "8920              0.00                    0.00\n",
       "8921              0.00                   57.42\n",
       "8922              0.00                  145.98\n",
       "8923            939.09                  959.79\n",
       "8924             74.00                    0.00\n",
       "8925              0.00                  418.59\n",
       "8926              0.00                  580.00\n",
       "8927            147.80                  167.40\n",
       "8928              0.00                  500.00\n",
       "8929              0.00                    0.00\n",
       "8930              0.00                   84.00\n",
       "8931              0.00                  235.80\n",
       "8932              0.00                  180.00\n",
       "8933            255.62                  363.98\n",
       "8934              0.00                  110.50\n",
       "8935              0.00                  465.90\n",
       "8936              0.00                  712.50\n",
       "8937              0.00                    0.00\n",
       "8938              0.00                    0.00\n",
       "8939            734.40                    0.00\n",
       "8940              0.00                  591.24\n",
       "8941              0.00                  214.55\n",
       "8942              0.00                  113.28\n",
       "8943             20.90                    0.00\n",
       "8944           1012.73                    0.00\n",
       "8945              0.00                  291.12\n",
       "8946              0.00                  300.00\n",
       "8947              0.00                  144.40\n",
       "8948              0.00                    0.00\n",
       "8949           1093.25                    0.00\n",
       "\n",
       "[8950 rows x 2 columns]"
      ]
     },
     "execution_count": 17,
     "metadata": {},
     "output_type": "execute_result"
    }
   ],
   "source": [
    "credit.loc[:,['ONEOFF_PURCHASES','INSTALLMENTS_PURCHASES']]\n"
   ]
  },
  {
   "cell_type": "code",
   "execution_count": 18,
   "metadata": {
    "collapsed": false
   },
   "outputs": [
    {
     "data": {
      "text/plain": [
       "(2042, 20)"
      ]
     },
     "execution_count": 18,
     "metadata": {},
     "output_type": "execute_result"
    }
   ],
   "source": [
    "credit[(credit['ONEOFF_PURCHASES']==0) & (credit['INSTALLMENTS_PURCHASES']==0)].shape"
   ]
  },
  {
   "cell_type": "code",
   "execution_count": 19,
   "metadata": {
    "collapsed": false
   },
   "outputs": [
    {
     "data": {
      "text/plain": [
       "(2774, 20)"
      ]
     },
     "execution_count": 19,
     "metadata": {},
     "output_type": "execute_result"
    }
   ],
   "source": [
    "credit[(credit['ONEOFF_PURCHASES']>0) & (credit['INSTALLMENTS_PURCHASES']>0)].shape"
   ]
  },
  {
   "cell_type": "code",
   "execution_count": 20,
   "metadata": {
    "collapsed": false
   },
   "outputs": [
    {
     "data": {
      "text/plain": [
       "(1874, 20)"
      ]
     },
     "execution_count": 20,
     "metadata": {},
     "output_type": "execute_result"
    }
   ],
   "source": [
    "credit[(credit['ONEOFF_PURCHASES']>0) & (credit['INSTALLMENTS_PURCHASES']==0)].shape"
   ]
  },
  {
   "cell_type": "code",
   "execution_count": 21,
   "metadata": {
    "collapsed": false
   },
   "outputs": [
    {
     "data": {
      "text/plain": [
       "(2260, 20)"
      ]
     },
     "execution_count": 21,
     "metadata": {},
     "output_type": "execute_result"
    }
   ],
   "source": [
    "credit[(credit['ONEOFF_PURCHASES']==0) & (credit['INSTALLMENTS_PURCHASES']>0)].shape"
   ]
  },
  {
   "cell_type": "markdown",
   "metadata": {},
   "source": [
    "### I found out that there are 4 types of purchase behaviour in the data set. So deriving a categorical variable based on the behaviour"
   ]
  },
  {
   "cell_type": "code",
   "execution_count": 22,
   "metadata": {
    "collapsed": false
   },
   "outputs": [],
   "source": [
    "def purchase(credit):\n",
    "    \n",
    "   \n",
    "    if (credit['ONEOFF_PURCHASES']==0) & (credit['INSTALLMENTS_PURCHASES']==0):\n",
    "        return 'none'\n",
    "    if (credit['ONEOFF_PURCHASES']>0) & (credit['INSTALLMENTS_PURCHASES']>0):\n",
    "         return 'both_oneoff_installment'\n",
    "    if (credit['ONEOFF_PURCHASES']>0) & (credit['INSTALLMENTS_PURCHASES']==0):\n",
    "        return 'one_off'\n",
    "    if (credit['ONEOFF_PURCHASES']==0) & (credit['INSTALLMENTS_PURCHASES']>0):\n",
    "        return 'istallment'\n",
    "    \n",
    "    "
   ]
  },
  {
   "cell_type": "code",
   "execution_count": 23,
   "metadata": {
    "collapsed": false
   },
   "outputs": [],
   "source": [
    "credit['purchase_type']=credit.apply(purchase,axis=1)"
   ]
  },
  {
   "cell_type": "code",
   "execution_count": 24,
   "metadata": {
    "collapsed": false
   },
   "outputs": [
    {
     "data": {
      "text/plain": [
       "both_oneoff_installment    2774\n",
       "istallment                 2260\n",
       "none                       2042\n",
       "one_off                    1874\n",
       "Name: purchase_type, dtype: int64"
      ]
     },
     "execution_count": 24,
     "metadata": {},
     "output_type": "execute_result"
    }
   ],
   "source": [
    "credit['purchase_type'].value_counts()"
   ]
  },
  {
   "cell_type": "code",
   "execution_count": 25,
   "metadata": {
    "collapsed": false
   },
   "outputs": [
    {
     "data": {
      "text/html": [
       "<div>\n",
       "<table border=\"1\" class=\"dataframe\">\n",
       "  <thead>\n",
       "    <tr style=\"text-align: right;\">\n",
       "      <th></th>\n",
       "      <th>CUST_ID</th>\n",
       "      <th>BALANCE</th>\n",
       "      <th>BALANCE_FREQUENCY</th>\n",
       "      <th>PURCHASES</th>\n",
       "      <th>ONEOFF_PURCHASES</th>\n",
       "      <th>INSTALLMENTS_PURCHASES</th>\n",
       "      <th>CASH_ADVANCE</th>\n",
       "      <th>PURCHASES_FREQUENCY</th>\n",
       "      <th>ONEOFF_PURCHASES_FREQUENCY</th>\n",
       "      <th>PURCHASES_INSTALLMENTS_FREQUENCY</th>\n",
       "      <th>...</th>\n",
       "      <th>CASH_ADVANCE_TRX</th>\n",
       "      <th>PURCHASES_TRX</th>\n",
       "      <th>CREDIT_LIMIT</th>\n",
       "      <th>PAYMENTS</th>\n",
       "      <th>MINIMUM_PAYMENTS</th>\n",
       "      <th>PRC_FULL_PAYMENT</th>\n",
       "      <th>TENURE</th>\n",
       "      <th>Monthly_avg_purchase</th>\n",
       "      <th>Monthly_cash_advance</th>\n",
       "      <th>purchase_type</th>\n",
       "    </tr>\n",
       "  </thead>\n",
       "  <tbody>\n",
       "  </tbody>\n",
       "</table>\n",
       "<p>0 rows × 21 columns</p>\n",
       "</div>"
      ],
      "text/plain": [
       "Empty DataFrame\n",
       "Columns: [CUST_ID, BALANCE, BALANCE_FREQUENCY, PURCHASES, ONEOFF_PURCHASES, INSTALLMENTS_PURCHASES, CASH_ADVANCE, PURCHASES_FREQUENCY, ONEOFF_PURCHASES_FREQUENCY, PURCHASES_INSTALLMENTS_FREQUENCY, CASH_ADVANCE_FREQUENCY, CASH_ADVANCE_TRX, PURCHASES_TRX, CREDIT_LIMIT, PAYMENTS, MINIMUM_PAYMENTS, PRC_FULL_PAYMENT, TENURE, Monthly_avg_purchase, Monthly_cash_advance, purchase_type]\n",
       "Index: []\n",
       "\n",
       "[0 rows x 21 columns]"
      ]
     },
     "execution_count": 25,
     "metadata": {},
     "output_type": "execute_result"
    }
   ],
   "source": [
    "credit[credit['CREDIT_LIMIT'].isnull()]"
   ]
  },
  {
   "cell_type": "markdown",
   "metadata": {},
   "source": [
    "---\n",
    "## 4. Limit_usage (shows credit-score ) credit card utilization\n",
    "   - Lower value implies cutomers are maintaing thier balance properly. Lower value means good credit score"
   ]
  },
  {
   "cell_type": "code",
   "execution_count": 26,
   "metadata": {
    "collapsed": false
   },
   "outputs": [],
   "source": [
    "credit['limit_usage']=credit.apply(lambda x: x['BALANCE']/x['CREDIT_LIMIT'], axis=1)"
   ]
  },
  {
   "cell_type": "code",
   "execution_count": 27,
   "metadata": {
    "collapsed": false
   },
   "outputs": [
    {
     "data": {
      "text/plain": [
       "0    0.040901\n",
       "1    0.457495\n",
       "2    0.332687\n",
       "3    0.222223\n",
       "4    0.681429\n",
       "Name: limit_usage, dtype: float64"
      ]
     },
     "execution_count": 27,
     "metadata": {},
     "output_type": "execute_result"
    }
   ],
   "source": [
    "credit['limit_usage'].head()"
   ]
  },
  {
   "cell_type": "code",
   "execution_count": 28,
   "metadata": {
    "collapsed": false
   },
   "outputs": [
    {
     "data": {
      "text/plain": [
       "False    8950\n",
       "Name: MINIMUM_PAYMENTS, dtype: int64"
      ]
     },
     "execution_count": 28,
     "metadata": {},
     "output_type": "execute_result"
    }
   ],
   "source": [
    "credit['PAYMENTS'].isnull().any()\n",
    "credit['MINIMUM_PAYMENTS'].isnull().value_counts()"
   ]
  },
  {
   "cell_type": "code",
   "execution_count": 29,
   "metadata": {
    "collapsed": false
   },
   "outputs": [
    {
     "data": {
      "text/plain": [
       "count     8950.000000\n",
       "mean       844.906767\n",
       "std       2332.792322\n",
       "min          0.019163\n",
       "25%        170.857654\n",
       "50%        312.343947\n",
       "75%        788.713501\n",
       "max      76406.207520\n",
       "Name: MINIMUM_PAYMENTS, dtype: float64"
      ]
     },
     "execution_count": 29,
     "metadata": {},
     "output_type": "execute_result"
    }
   ],
   "source": [
    "credit['MINIMUM_PAYMENTS'].describe()"
   ]
  },
  {
   "cell_type": "code",
   "execution_count": 30,
   "metadata": {
    "collapsed": true
   },
   "outputs": [],
   "source": [
    "credit['payment_minpay']=credit.apply(lambda x:x['PAYMENTS']/x['MINIMUM_PAYMENTS'],axis=1)"
   ]
  },
  {
   "cell_type": "code",
   "execution_count": 31,
   "metadata": {
    "collapsed": false
   },
   "outputs": [
    {
     "data": {
      "text/plain": [
       "CUST_ID                              object\n",
       "BALANCE                             float64\n",
       "BALANCE_FREQUENCY                   float64\n",
       "PURCHASES                           float64\n",
       "ONEOFF_PURCHASES                    float64\n",
       "INSTALLMENTS_PURCHASES              float64\n",
       "CASH_ADVANCE                        float64\n",
       "PURCHASES_FREQUENCY                 float64\n",
       "ONEOFF_PURCHASES_FREQUENCY          float64\n",
       "PURCHASES_INSTALLMENTS_FREQUENCY    float64\n",
       "CASH_ADVANCE_FREQUENCY              float64\n",
       "CASH_ADVANCE_TRX                      int64\n",
       "PURCHASES_TRX                         int64\n",
       "CREDIT_LIMIT                        float64\n",
       "PAYMENTS                            float64\n",
       "MINIMUM_PAYMENTS                    float64\n",
       "PRC_FULL_PAYMENT                    float64\n",
       "TENURE                                int64\n",
       "Monthly_avg_purchase                float64\n",
       "Monthly_cash_advance                float64\n",
       "purchase_type                        object\n",
       "limit_usage                         float64\n",
       "payment_minpay                      float64\n",
       "dtype: object"
      ]
     },
     "execution_count": 31,
     "metadata": {},
     "output_type": "execute_result"
    }
   ],
   "source": [
    "credit.dtypes"
   ]
  },
  {
   "cell_type": "markdown",
   "metadata": {},
   "source": [
    "# b) Extreme value Treatment\n",
    "- Since there are variables having extreme values, I am doing log-transformation on the dataset to remove outlier effect "
   ]
  },
  {
   "cell_type": "code",
   "execution_count": 95,
   "metadata": {
    "collapsed": false
   },
   "outputs": [],
   "source": [
    "\n",
    "# log tranformation\n",
    "#cr_log=credit.drop(['CUST_ID','purchase_type'],axis=1).applymap(lambda x: np.log(x+1))\n",
    "cr_log=credit.drop(['CUST_ID','purchase_type'],axis=1)"
   ]
  },
  {
   "cell_type": "code",
   "execution_count": 96,
   "metadata": {
    "collapsed": false
   },
   "outputs": [
    {
     "data": {
      "text/html": [
       "<div>\n",
       "<table border=\"1\" class=\"dataframe\">\n",
       "  <thead>\n",
       "    <tr style=\"text-align: right;\">\n",
       "      <th></th>\n",
       "      <th>BALANCE</th>\n",
       "      <th>BALANCE_FREQUENCY</th>\n",
       "      <th>PURCHASES</th>\n",
       "      <th>ONEOFF_PURCHASES</th>\n",
       "      <th>INSTALLMENTS_PURCHASES</th>\n",
       "      <th>CASH_ADVANCE</th>\n",
       "      <th>PURCHASES_FREQUENCY</th>\n",
       "      <th>ONEOFF_PURCHASES_FREQUENCY</th>\n",
       "      <th>PURCHASES_INSTALLMENTS_FREQUENCY</th>\n",
       "      <th>CASH_ADVANCE_FREQUENCY</th>\n",
       "      <th>...</th>\n",
       "      <th>PURCHASES_TRX</th>\n",
       "      <th>CREDIT_LIMIT</th>\n",
       "      <th>PAYMENTS</th>\n",
       "      <th>MINIMUM_PAYMENTS</th>\n",
       "      <th>PRC_FULL_PAYMENT</th>\n",
       "      <th>TENURE</th>\n",
       "      <th>Monthly_avg_purchase</th>\n",
       "      <th>Monthly_cash_advance</th>\n",
       "      <th>limit_usage</th>\n",
       "      <th>payment_minpay</th>\n",
       "    </tr>\n",
       "  </thead>\n",
       "  <tbody>\n",
       "    <tr>\n",
       "      <th>count</th>\n",
       "      <td>8950.000000</td>\n",
       "      <td>8950.000000</td>\n",
       "      <td>8950.000000</td>\n",
       "      <td>8950.000000</td>\n",
       "      <td>8950.000000</td>\n",
       "      <td>8950.000000</td>\n",
       "      <td>8950.000000</td>\n",
       "      <td>8950.000000</td>\n",
       "      <td>8950.000000</td>\n",
       "      <td>8950.000000</td>\n",
       "      <td>...</td>\n",
       "      <td>8950.000000</td>\n",
       "      <td>8950.000000</td>\n",
       "      <td>8950.000000</td>\n",
       "      <td>8950.000000</td>\n",
       "      <td>8950.000000</td>\n",
       "      <td>8950.000000</td>\n",
       "      <td>8950.000000</td>\n",
       "      <td>8950.000000</td>\n",
       "      <td>8950.000000</td>\n",
       "      <td>8950.000000</td>\n",
       "    </tr>\n",
       "    <tr>\n",
       "      <th>mean</th>\n",
       "      <td>1564.474828</td>\n",
       "      <td>0.877271</td>\n",
       "      <td>1003.204834</td>\n",
       "      <td>592.437371</td>\n",
       "      <td>411.067645</td>\n",
       "      <td>978.871112</td>\n",
       "      <td>0.490351</td>\n",
       "      <td>0.202458</td>\n",
       "      <td>0.364437</td>\n",
       "      <td>0.135144</td>\n",
       "      <td>...</td>\n",
       "      <td>14.709832</td>\n",
       "      <td>4494.282473</td>\n",
       "      <td>1733.143852</td>\n",
       "      <td>844.906767</td>\n",
       "      <td>0.153715</td>\n",
       "      <td>11.517318</td>\n",
       "      <td>86.175173</td>\n",
       "      <td>88.977984</td>\n",
       "      <td>0.388884</td>\n",
       "      <td>9.059164</td>\n",
       "    </tr>\n",
       "    <tr>\n",
       "      <th>std</th>\n",
       "      <td>2081.531879</td>\n",
       "      <td>0.236904</td>\n",
       "      <td>2136.634782</td>\n",
       "      <td>1659.887917</td>\n",
       "      <td>904.338115</td>\n",
       "      <td>2097.163877</td>\n",
       "      <td>0.401371</td>\n",
       "      <td>0.298336</td>\n",
       "      <td>0.397448</td>\n",
       "      <td>0.200121</td>\n",
       "      <td>...</td>\n",
       "      <td>24.857649</td>\n",
       "      <td>3638.646702</td>\n",
       "      <td>2895.063757</td>\n",
       "      <td>2332.792322</td>\n",
       "      <td>0.292499</td>\n",
       "      <td>1.338331</td>\n",
       "      <td>180.508787</td>\n",
       "      <td>193.136115</td>\n",
       "      <td>0.389722</td>\n",
       "      <td>118.180526</td>\n",
       "    </tr>\n",
       "    <tr>\n",
       "      <th>min</th>\n",
       "      <td>0.000000</td>\n",
       "      <td>0.000000</td>\n",
       "      <td>0.000000</td>\n",
       "      <td>0.000000</td>\n",
       "      <td>0.000000</td>\n",
       "      <td>0.000000</td>\n",
       "      <td>0.000000</td>\n",
       "      <td>0.000000</td>\n",
       "      <td>0.000000</td>\n",
       "      <td>0.000000</td>\n",
       "      <td>...</td>\n",
       "      <td>0.000000</td>\n",
       "      <td>50.000000</td>\n",
       "      <td>0.000000</td>\n",
       "      <td>0.019163</td>\n",
       "      <td>0.000000</td>\n",
       "      <td>6.000000</td>\n",
       "      <td>0.000000</td>\n",
       "      <td>0.000000</td>\n",
       "      <td>0.000000</td>\n",
       "      <td>0.000000</td>\n",
       "    </tr>\n",
       "    <tr>\n",
       "      <th>25%</th>\n",
       "      <td>128.281915</td>\n",
       "      <td>0.888889</td>\n",
       "      <td>39.635000</td>\n",
       "      <td>0.000000</td>\n",
       "      <td>0.000000</td>\n",
       "      <td>0.000000</td>\n",
       "      <td>0.083333</td>\n",
       "      <td>0.000000</td>\n",
       "      <td>0.000000</td>\n",
       "      <td>0.000000</td>\n",
       "      <td>...</td>\n",
       "      <td>1.000000</td>\n",
       "      <td>1600.000000</td>\n",
       "      <td>383.276166</td>\n",
       "      <td>170.857654</td>\n",
       "      <td>0.000000</td>\n",
       "      <td>12.000000</td>\n",
       "      <td>3.399375</td>\n",
       "      <td>0.000000</td>\n",
       "      <td>0.041494</td>\n",
       "      <td>0.913275</td>\n",
       "    </tr>\n",
       "    <tr>\n",
       "      <th>50%</th>\n",
       "      <td>873.385231</td>\n",
       "      <td>1.000000</td>\n",
       "      <td>361.280000</td>\n",
       "      <td>38.000000</td>\n",
       "      <td>89.000000</td>\n",
       "      <td>0.000000</td>\n",
       "      <td>0.500000</td>\n",
       "      <td>0.083333</td>\n",
       "      <td>0.166667</td>\n",
       "      <td>0.000000</td>\n",
       "      <td>...</td>\n",
       "      <td>7.000000</td>\n",
       "      <td>3000.000000</td>\n",
       "      <td>856.901546</td>\n",
       "      <td>312.343947</td>\n",
       "      <td>0.000000</td>\n",
       "      <td>12.000000</td>\n",
       "      <td>31.936667</td>\n",
       "      <td>0.000000</td>\n",
       "      <td>0.302720</td>\n",
       "      <td>2.032717</td>\n",
       "    </tr>\n",
       "    <tr>\n",
       "      <th>75%</th>\n",
       "      <td>2054.140036</td>\n",
       "      <td>1.000000</td>\n",
       "      <td>1110.130000</td>\n",
       "      <td>577.405000</td>\n",
       "      <td>468.637500</td>\n",
       "      <td>1113.821139</td>\n",
       "      <td>0.916667</td>\n",
       "      <td>0.300000</td>\n",
       "      <td>0.750000</td>\n",
       "      <td>0.222222</td>\n",
       "      <td>...</td>\n",
       "      <td>17.000000</td>\n",
       "      <td>6500.000000</td>\n",
       "      <td>1901.134317</td>\n",
       "      <td>788.713501</td>\n",
       "      <td>0.142857</td>\n",
       "      <td>12.000000</td>\n",
       "      <td>97.228333</td>\n",
       "      <td>99.085196</td>\n",
       "      <td>0.717571</td>\n",
       "      <td>6.052729</td>\n",
       "    </tr>\n",
       "    <tr>\n",
       "      <th>max</th>\n",
       "      <td>19043.138560</td>\n",
       "      <td>1.000000</td>\n",
       "      <td>49039.570000</td>\n",
       "      <td>40761.250000</td>\n",
       "      <td>22500.000000</td>\n",
       "      <td>47137.211760</td>\n",
       "      <td>1.000000</td>\n",
       "      <td>1.000000</td>\n",
       "      <td>1.000000</td>\n",
       "      <td>1.500000</td>\n",
       "      <td>...</td>\n",
       "      <td>358.000000</td>\n",
       "      <td>30000.000000</td>\n",
       "      <td>50721.483360</td>\n",
       "      <td>76406.207520</td>\n",
       "      <td>1.000000</td>\n",
       "      <td>12.000000</td>\n",
       "      <td>4086.630833</td>\n",
       "      <td>3928.100980</td>\n",
       "      <td>15.909951</td>\n",
       "      <td>6840.528861</td>\n",
       "    </tr>\n",
       "  </tbody>\n",
       "</table>\n",
       "<p>8 rows × 21 columns</p>\n",
       "</div>"
      ],
      "text/plain": [
       "            BALANCE  BALANCE_FREQUENCY     PURCHASES  ONEOFF_PURCHASES  \\\n",
       "count   8950.000000        8950.000000   8950.000000       8950.000000   \n",
       "mean    1564.474828           0.877271   1003.204834        592.437371   \n",
       "std     2081.531879           0.236904   2136.634782       1659.887917   \n",
       "min        0.000000           0.000000      0.000000          0.000000   \n",
       "25%      128.281915           0.888889     39.635000          0.000000   \n",
       "50%      873.385231           1.000000    361.280000         38.000000   \n",
       "75%     2054.140036           1.000000   1110.130000        577.405000   \n",
       "max    19043.138560           1.000000  49039.570000      40761.250000   \n",
       "\n",
       "       INSTALLMENTS_PURCHASES  CASH_ADVANCE  PURCHASES_FREQUENCY  \\\n",
       "count             8950.000000   8950.000000          8950.000000   \n",
       "mean               411.067645    978.871112             0.490351   \n",
       "std                904.338115   2097.163877             0.401371   \n",
       "min                  0.000000      0.000000             0.000000   \n",
       "25%                  0.000000      0.000000             0.083333   \n",
       "50%                 89.000000      0.000000             0.500000   \n",
       "75%                468.637500   1113.821139             0.916667   \n",
       "max              22500.000000  47137.211760             1.000000   \n",
       "\n",
       "       ONEOFF_PURCHASES_FREQUENCY  PURCHASES_INSTALLMENTS_FREQUENCY  \\\n",
       "count                 8950.000000                       8950.000000   \n",
       "mean                     0.202458                          0.364437   \n",
       "std                      0.298336                          0.397448   \n",
       "min                      0.000000                          0.000000   \n",
       "25%                      0.000000                          0.000000   \n",
       "50%                      0.083333                          0.166667   \n",
       "75%                      0.300000                          0.750000   \n",
       "max                      1.000000                          1.000000   \n",
       "\n",
       "       CASH_ADVANCE_FREQUENCY       ...        PURCHASES_TRX  CREDIT_LIMIT  \\\n",
       "count             8950.000000       ...          8950.000000   8950.000000   \n",
       "mean                 0.135144       ...            14.709832   4494.282473   \n",
       "std                  0.200121       ...            24.857649   3638.646702   \n",
       "min                  0.000000       ...             0.000000     50.000000   \n",
       "25%                  0.000000       ...             1.000000   1600.000000   \n",
       "50%                  0.000000       ...             7.000000   3000.000000   \n",
       "75%                  0.222222       ...            17.000000   6500.000000   \n",
       "max                  1.500000       ...           358.000000  30000.000000   \n",
       "\n",
       "           PAYMENTS  MINIMUM_PAYMENTS  PRC_FULL_PAYMENT       TENURE  \\\n",
       "count   8950.000000       8950.000000       8950.000000  8950.000000   \n",
       "mean    1733.143852        844.906767          0.153715    11.517318   \n",
       "std     2895.063757       2332.792322          0.292499     1.338331   \n",
       "min        0.000000          0.019163          0.000000     6.000000   \n",
       "25%      383.276166        170.857654          0.000000    12.000000   \n",
       "50%      856.901546        312.343947          0.000000    12.000000   \n",
       "75%     1901.134317        788.713501          0.142857    12.000000   \n",
       "max    50721.483360      76406.207520          1.000000    12.000000   \n",
       "\n",
       "       Monthly_avg_purchase  Monthly_cash_advance  limit_usage  payment_minpay  \n",
       "count           8950.000000           8950.000000  8950.000000     8950.000000  \n",
       "mean              86.175173             88.977984     0.388884        9.059164  \n",
       "std              180.508787            193.136115     0.389722      118.180526  \n",
       "min                0.000000              0.000000     0.000000        0.000000  \n",
       "25%                3.399375              0.000000     0.041494        0.913275  \n",
       "50%               31.936667              0.000000     0.302720        2.032717  \n",
       "75%               97.228333             99.085196     0.717571        6.052729  \n",
       "max             4086.630833           3928.100980    15.909951     6840.528861  \n",
       "\n",
       "[8 rows x 21 columns]"
      ]
     },
     "execution_count": 96,
     "metadata": {},
     "output_type": "execute_result"
    }
   ],
   "source": [
    "cr_log.describe()"
   ]
  },
  {
   "cell_type": "code",
   "execution_count": 97,
   "metadata": {
    "collapsed": false
   },
   "outputs": [],
   "source": [
    "col=['BALANCE','PURCHASES','CASH_ADVANCE','TENURE','PAYMENTS','MINIMUM_PAYMENTS','PRC_FULL_PAYMENT','CREDIT_LIMIT']\n",
    "cr_pre=cr_log[[x for x in cr_log.columns if x not in col ]]"
   ]
  },
  {
   "cell_type": "markdown",
   "metadata": {},
   "source": [
    "---\n",
    "\n",
    "# Insights from new KPIs\n",
    "\n",
    "---"
   ]
  },
  {
   "cell_type": "code",
   "execution_count": 98,
   "metadata": {
    "collapsed": false
   },
   "outputs": [
    {
     "data": {
      "text/plain": [
       "array([  7.23698216,  13.2590037 ,  10.08745106,   5.57108156])"
      ]
     },
     "execution_count": 98,
     "metadata": {},
     "output_type": "execute_result"
    }
   ],
   "source": [
    "# Average payment_minpayment ratio for each purchse type.\n",
    "x=credit.groupby('purchase_type').apply(lambda x: np.mean(x['payment_minpay']))\n",
    "type(x)\n",
    "x.values\n",
    "\n"
   ]
  },
  {
   "cell_type": "code",
   "execution_count": 99,
   "metadata": {
    "collapsed": false,
    "scrolled": true
   },
   "outputs": [
    {
     "data": {
      "text/plain": [
       "<matplotlib.text.Text at 0x15eb59e8>"
      ]
     },
     "execution_count": 99,
     "metadata": {},
     "output_type": "execute_result"
    },
    {
     "data": {
      "image/png": "[encoded data removed]",
      "text/plain": [
       "<matplotlib.figure.Figure at 0x15a94908>"
      ]
     },
     "metadata": {},
     "output_type": "display_data"
    }
   ],
   "source": [
    "#plt.barh(left=np.arange(len(x)),bottom=x.values)\n",
    "fig,ax=plt.subplots()\n",
    "ax.barh(bottom=range(len(x)),width=x.values)\n",
    "ax.set(yticks= np.arange(len(x)),yticklabels=x.index);\n",
    "sns.plt.title('Mean payment_minpayment ratio for each purchse type')\n",
    "\n"
   ]
  },
  {
   "cell_type": "code",
   "execution_count": 100,
   "metadata": {
    "collapsed": false
   },
   "outputs": [
    {
     "data": {
      "text/html": [
       "<div>\n",
       "<table border=\"1\" class=\"dataframe\">\n",
       "  <thead>\n",
       "    <tr style=\"text-align: right;\">\n",
       "      <th></th>\n",
       "      <th>BALANCE</th>\n",
       "      <th>BALANCE_FREQUENCY</th>\n",
       "      <th>PURCHASES</th>\n",
       "      <th>ONEOFF_PURCHASES</th>\n",
       "      <th>INSTALLMENTS_PURCHASES</th>\n",
       "      <th>CASH_ADVANCE</th>\n",
       "      <th>PURCHASES_FREQUENCY</th>\n",
       "      <th>ONEOFF_PURCHASES_FREQUENCY</th>\n",
       "      <th>PURCHASES_INSTALLMENTS_FREQUENCY</th>\n",
       "      <th>CASH_ADVANCE_FREQUENCY</th>\n",
       "      <th>...</th>\n",
       "      <th>PURCHASES_TRX</th>\n",
       "      <th>CREDIT_LIMIT</th>\n",
       "      <th>PAYMENTS</th>\n",
       "      <th>MINIMUM_PAYMENTS</th>\n",
       "      <th>PRC_FULL_PAYMENT</th>\n",
       "      <th>TENURE</th>\n",
       "      <th>Monthly_avg_purchase</th>\n",
       "      <th>Monthly_cash_advance</th>\n",
       "      <th>limit_usage</th>\n",
       "      <th>payment_minpay</th>\n",
       "    </tr>\n",
       "  </thead>\n",
       "  <tbody>\n",
       "    <tr>\n",
       "      <th>count</th>\n",
       "      <td>8950.000000</td>\n",
       "      <td>8950.000000</td>\n",
       "      <td>8950.000000</td>\n",
       "      <td>8950.000000</td>\n",
       "      <td>8950.000000</td>\n",
       "      <td>8950.000000</td>\n",
       "      <td>8950.000000</td>\n",
       "      <td>8950.000000</td>\n",
       "      <td>8950.000000</td>\n",
       "      <td>8950.000000</td>\n",
       "      <td>...</td>\n",
       "      <td>8950.000000</td>\n",
       "      <td>8950.000000</td>\n",
       "      <td>8950.000000</td>\n",
       "      <td>8950.000000</td>\n",
       "      <td>8950.000000</td>\n",
       "      <td>8950.000000</td>\n",
       "      <td>8950.000000</td>\n",
       "      <td>8950.000000</td>\n",
       "      <td>8950.000000</td>\n",
       "      <td>8950.000000</td>\n",
       "    </tr>\n",
       "    <tr>\n",
       "      <th>mean</th>\n",
       "      <td>1564.474828</td>\n",
       "      <td>0.877271</td>\n",
       "      <td>1003.204834</td>\n",
       "      <td>592.437371</td>\n",
       "      <td>411.067645</td>\n",
       "      <td>978.871112</td>\n",
       "      <td>0.490351</td>\n",
       "      <td>0.202458</td>\n",
       "      <td>0.364437</td>\n",
       "      <td>0.135144</td>\n",
       "      <td>...</td>\n",
       "      <td>14.709832</td>\n",
       "      <td>4494.282473</td>\n",
       "      <td>1733.143852</td>\n",
       "      <td>844.906767</td>\n",
       "      <td>0.153715</td>\n",
       "      <td>11.517318</td>\n",
       "      <td>86.175173</td>\n",
       "      <td>88.977984</td>\n",
       "      <td>0.388884</td>\n",
       "      <td>9.059164</td>\n",
       "    </tr>\n",
       "    <tr>\n",
       "      <th>std</th>\n",
       "      <td>2081.531879</td>\n",
       "      <td>0.236904</td>\n",
       "      <td>2136.634782</td>\n",
       "      <td>1659.887917</td>\n",
       "      <td>904.338115</td>\n",
       "      <td>2097.163877</td>\n",
       "      <td>0.401371</td>\n",
       "      <td>0.298336</td>\n",
       "      <td>0.397448</td>\n",
       "      <td>0.200121</td>\n",
       "      <td>...</td>\n",
       "      <td>24.857649</td>\n",
       "      <td>3638.646702</td>\n",
       "      <td>2895.063757</td>\n",
       "      <td>2332.792322</td>\n",
       "      <td>0.292499</td>\n",
       "      <td>1.338331</td>\n",
       "      <td>180.508787</td>\n",
       "      <td>193.136115</td>\n",
       "      <td>0.389722</td>\n",
       "      <td>118.180526</td>\n",
       "    </tr>\n",
       "    <tr>\n",
       "      <th>min</th>\n",
       "      <td>0.000000</td>\n",
       "      <td>0.000000</td>\n",
       "      <td>0.000000</td>\n",
       "      <td>0.000000</td>\n",
       "      <td>0.000000</td>\n",
       "      <td>0.000000</td>\n",
       "      <td>0.000000</td>\n",
       "      <td>0.000000</td>\n",
       "      <td>0.000000</td>\n",
       "      <td>0.000000</td>\n",
       "      <td>...</td>\n",
       "      <td>0.000000</td>\n",
       "      <td>50.000000</td>\n",
       "      <td>0.000000</td>\n",
       "      <td>0.019163</td>\n",
       "      <td>0.000000</td>\n",
       "      <td>6.000000</td>\n",
       "      <td>0.000000</td>\n",
       "      <td>0.000000</td>\n",
       "      <td>0.000000</td>\n",
       "      <td>0.000000</td>\n",
       "    </tr>\n",
       "    <tr>\n",
       "      <th>25%</th>\n",
       "      <td>128.281915</td>\n",
       "      <td>0.888889</td>\n",
       "      <td>39.635000</td>\n",
       "      <td>0.000000</td>\n",
       "      <td>0.000000</td>\n",
       "      <td>0.000000</td>\n",
       "      <td>0.083333</td>\n",
       "      <td>0.000000</td>\n",
       "      <td>0.000000</td>\n",
       "      <td>0.000000</td>\n",
       "      <td>...</td>\n",
       "      <td>1.000000</td>\n",
       "      <td>1600.000000</td>\n",
       "      <td>383.276166</td>\n",
       "      <td>170.857654</td>\n",
       "      <td>0.000000</td>\n",
       "      <td>12.000000</td>\n",
       "      <td>3.399375</td>\n",
       "      <td>0.000000</td>\n",
       "      <td>0.041494</td>\n",
       "      <td>0.913275</td>\n",
       "    </tr>\n",
       "    <tr>\n",
       "      <th>50%</th>\n",
       "      <td>873.385231</td>\n",
       "      <td>1.000000</td>\n",
       "      <td>361.280000</td>\n",
       "      <td>38.000000</td>\n",
       "      <td>89.000000</td>\n",
       "      <td>0.000000</td>\n",
       "      <td>0.500000</td>\n",
       "      <td>0.083333</td>\n",
       "      <td>0.166667</td>\n",
       "      <td>0.000000</td>\n",
       "      <td>...</td>\n",
       "      <td>7.000000</td>\n",
       "      <td>3000.000000</td>\n",
       "      <td>856.901546</td>\n",
       "      <td>312.343947</td>\n",
       "      <td>0.000000</td>\n",
       "      <td>12.000000</td>\n",
       "      <td>31.936667</td>\n",
       "      <td>0.000000</td>\n",
       "      <td>0.302720</td>\n",
       "      <td>2.032717</td>\n",
       "    </tr>\n",
       "    <tr>\n",
       "      <th>75%</th>\n",
       "      <td>2054.140036</td>\n",
       "      <td>1.000000</td>\n",
       "      <td>1110.130000</td>\n",
       "      <td>577.405000</td>\n",
       "      <td>468.637500</td>\n",
       "      <td>1113.821139</td>\n",
       "      <td>0.916667</td>\n",
       "      <td>0.300000</td>\n",
       "      <td>0.750000</td>\n",
       "      <td>0.222222</td>\n",
       "      <td>...</td>\n",
       "      <td>17.000000</td>\n",
       "      <td>6500.000000</td>\n",
       "      <td>1901.134317</td>\n",
       "      <td>788.713501</td>\n",
       "      <td>0.142857</td>\n",
       "      <td>12.000000</td>\n",
       "      <td>97.228333</td>\n",
       "      <td>99.085196</td>\n",
       "      <td>0.717571</td>\n",
       "      <td>6.052729</td>\n",
       "    </tr>\n",
       "    <tr>\n",
       "      <th>max</th>\n",
       "      <td>19043.138560</td>\n",
       "      <td>1.000000</td>\n",
       "      <td>49039.570000</td>\n",
       "      <td>40761.250000</td>\n",
       "      <td>22500.000000</td>\n",
       "      <td>47137.211760</td>\n",
       "      <td>1.000000</td>\n",
       "      <td>1.000000</td>\n",
       "      <td>1.000000</td>\n",
       "      <td>1.500000</td>\n",
       "      <td>...</td>\n",
       "      <td>358.000000</td>\n",
       "      <td>30000.000000</td>\n",
       "      <td>50721.483360</td>\n",
       "      <td>76406.207520</td>\n",
       "      <td>1.000000</td>\n",
       "      <td>12.000000</td>\n",
       "      <td>4086.630833</td>\n",
       "      <td>3928.100980</td>\n",
       "      <td>15.909951</td>\n",
       "      <td>6840.528861</td>\n",
       "    </tr>\n",
       "  </tbody>\n",
       "</table>\n",
       "<p>8 rows × 21 columns</p>\n",
       "</div>"
      ],
      "text/plain": [
       "            BALANCE  BALANCE_FREQUENCY     PURCHASES  ONEOFF_PURCHASES  \\\n",
       "count   8950.000000        8950.000000   8950.000000       8950.000000   \n",
       "mean    1564.474828           0.877271   1003.204834        592.437371   \n",
       "std     2081.531879           0.236904   2136.634782       1659.887917   \n",
       "min        0.000000           0.000000      0.000000          0.000000   \n",
       "25%      128.281915           0.888889     39.635000          0.000000   \n",
       "50%      873.385231           1.000000    361.280000         38.000000   \n",
       "75%     2054.140036           1.000000   1110.130000        577.405000   \n",
       "max    19043.138560           1.000000  49039.570000      40761.250000   \n",
       "\n",
       "       INSTALLMENTS_PURCHASES  CASH_ADVANCE  PURCHASES_FREQUENCY  \\\n",
       "count             8950.000000   8950.000000          8950.000000   \n",
       "mean               411.067645    978.871112             0.490351   \n",
       "std                904.338115   2097.163877             0.401371   \n",
       "min                  0.000000      0.000000             0.000000   \n",
       "25%                  0.000000      0.000000             0.083333   \n",
       "50%                 89.000000      0.000000             0.500000   \n",
       "75%                468.637500   1113.821139             0.916667   \n",
       "max              22500.000000  47137.211760             1.000000   \n",
       "\n",
       "       ONEOFF_PURCHASES_FREQUENCY  PURCHASES_INSTALLMENTS_FREQUENCY  \\\n",
       "count                 8950.000000                       8950.000000   \n",
       "mean                     0.202458                          0.364437   \n",
       "std                      0.298336                          0.397448   \n",
       "min                      0.000000                          0.000000   \n",
       "25%                      0.000000                          0.000000   \n",
       "50%                      0.083333                          0.166667   \n",
       "75%                      0.300000                          0.750000   \n",
       "max                      1.000000                          1.000000   \n",
       "\n",
       "       CASH_ADVANCE_FREQUENCY       ...        PURCHASES_TRX  CREDIT_LIMIT  \\\n",
       "count             8950.000000       ...          8950.000000   8950.000000   \n",
       "mean                 0.135144       ...            14.709832   4494.282473   \n",
       "std                  0.200121       ...            24.857649   3638.646702   \n",
       "min                  0.000000       ...             0.000000     50.000000   \n",
       "25%                  0.000000       ...             1.000000   1600.000000   \n",
       "50%                  0.000000       ...             7.000000   3000.000000   \n",
       "75%                  0.222222       ...            17.000000   6500.000000   \n",
       "max                  1.500000       ...           358.000000  30000.000000   \n",
       "\n",
       "           PAYMENTS  MINIMUM_PAYMENTS  PRC_FULL_PAYMENT       TENURE  \\\n",
       "count   8950.000000       8950.000000       8950.000000  8950.000000   \n",
       "mean    1733.143852        844.906767          0.153715    11.517318   \n",
       "std     2895.063757       2332.792322          0.292499     1.338331   \n",
       "min        0.000000          0.019163          0.000000     6.000000   \n",
       "25%      383.276166        170.857654          0.000000    12.000000   \n",
       "50%      856.901546        312.343947          0.000000    12.000000   \n",
       "75%     1901.134317        788.713501          0.142857    12.000000   \n",
       "max    50721.483360      76406.207520          1.000000    12.000000   \n",
       "\n",
       "       Monthly_avg_purchase  Monthly_cash_advance  limit_usage  payment_minpay  \n",
       "count           8950.000000           8950.000000  8950.000000     8950.000000  \n",
       "mean              86.175173             88.977984     0.388884        9.059164  \n",
       "std              180.508787            193.136115     0.389722      118.180526  \n",
       "min                0.000000              0.000000     0.000000        0.000000  \n",
       "25%                3.399375              0.000000     0.041494        0.913275  \n",
       "50%               31.936667              0.000000     0.302720        2.032717  \n",
       "75%               97.228333             99.085196     0.717571        6.052729  \n",
       "max             4086.630833           3928.100980    15.909951     6840.528861  \n",
       "\n",
       "[8 rows x 21 columns]"
      ]
     },
     "execution_count": 100,
     "metadata": {},
     "output_type": "execute_result"
    }
   ],
   "source": [
    "credit.describe()"
   ]
  },
  {
   "cell_type": "markdown",
   "metadata": {},
   "source": [
    "## 1. customers with installment purchases are paying dues \n",
    "\n",
    "---\n",
    "\n"
   ]
  },
  {
   "cell_type": "code",
   "execution_count": 101,
   "metadata": {
    "collapsed": false
   },
   "outputs": [
    {
     "data": {
      "text/html": [
       "<div>\n",
       "<table border=\"1\" class=\"dataframe\">\n",
       "  <thead>\n",
       "    <tr style=\"text-align: right;\">\n",
       "      <th></th>\n",
       "      <th>CUST_ID</th>\n",
       "      <th>BALANCE</th>\n",
       "      <th>BALANCE_FREQUENCY</th>\n",
       "      <th>PURCHASES</th>\n",
       "      <th>ONEOFF_PURCHASES</th>\n",
       "      <th>INSTALLMENTS_PURCHASES</th>\n",
       "      <th>CASH_ADVANCE</th>\n",
       "      <th>PURCHASES_FREQUENCY</th>\n",
       "      <th>ONEOFF_PURCHASES_FREQUENCY</th>\n",
       "      <th>PURCHASES_INSTALLMENTS_FREQUENCY</th>\n",
       "      <th>...</th>\n",
       "      <th>CREDIT_LIMIT</th>\n",
       "      <th>PAYMENTS</th>\n",
       "      <th>MINIMUM_PAYMENTS</th>\n",
       "      <th>PRC_FULL_PAYMENT</th>\n",
       "      <th>TENURE</th>\n",
       "      <th>Monthly_avg_purchase</th>\n",
       "      <th>Monthly_cash_advance</th>\n",
       "      <th>purchase_type</th>\n",
       "      <th>limit_usage</th>\n",
       "      <th>payment_minpay</th>\n",
       "    </tr>\n",
       "  </thead>\n",
       "  <tbody>\n",
       "  </tbody>\n",
       "</table>\n",
       "<p>0 rows × 23 columns</p>\n",
       "</div>"
      ],
      "text/plain": [
       "Empty DataFrame\n",
       "Columns: [CUST_ID, BALANCE, BALANCE_FREQUENCY, PURCHASES, ONEOFF_PURCHASES, INSTALLMENTS_PURCHASES, CASH_ADVANCE, PURCHASES_FREQUENCY, ONEOFF_PURCHASES_FREQUENCY, PURCHASES_INSTALLMENTS_FREQUENCY, CASH_ADVANCE_FREQUENCY, CASH_ADVANCE_TRX, PURCHASES_TRX, CREDIT_LIMIT, PAYMENTS, MINIMUM_PAYMENTS, PRC_FULL_PAYMENT, TENURE, Monthly_avg_purchase, Monthly_cash_advance, purchase_type, limit_usage, payment_minpay]\n",
       "Index: []\n",
       "\n",
       "[0 rows x 23 columns]"
      ]
     },
     "execution_count": 101,
     "metadata": {},
     "output_type": "execute_result"
    }
   ],
   "source": [
    "credit[credit['purchase_type']=='n']"
   ]
  },
  {
   "cell_type": "code",
   "execution_count": 102,
   "metadata": {
    "collapsed": false
   },
   "outputs": [
    {
     "data": {
      "text/plain": [
       "<matplotlib.text.Text at 0x15f16550>"
      ]
     },
     "execution_count": 102,
     "metadata": {},
     "output_type": "execute_result"
    },
    {
     "data": {
      "image/png": "[encoded data removed]",
      "text/plain": [
       "<matplotlib.figure.Figure at 0x157bf6a0>"
      ]
     },
     "metadata": {},
     "output_type": "display_data"
    }
   ],
   "source": [
    "credit.groupby('purchase_type').apply(lambda x: np.mean(x['Monthly_cash_advance'])).plot.barh()\n",
    "\n",
    "sns.plt.title('Average cash advance taken by customers of different Purchase type : Both, None,Installment,One_Off')"
   ]
  },
  {
   "cell_type": "markdown",
   "metadata": {
    "collapsed": true
   },
   "source": [
    "## 2. Customers who don't do either one-off or installment purchases take more cash on advance\n",
    "\n",
    "---"
   ]
  },
  {
   "cell_type": "code",
   "execution_count": 103,
   "metadata": {
    "collapsed": false
   },
   "outputs": [
    {
     "data": {
      "text/plain": [
       "<matplotlib.axes._subplots.AxesSubplot at 0x162019e8>"
      ]
     },
     "execution_count": 103,
     "metadata": {},
     "output_type": "execute_result"
    },
    {
     "data": {
      "image/png": "[encoded data removed]",
      "text/plain": [
       "<matplotlib.figure.Figure at 0x162176a0>"
      ]
     },
     "metadata": {},
     "output_type": "display_data"
    }
   ],
   "source": [
    "credit.groupby('purchase_type').apply(lambda x: np.mean(x['limit_usage'])).plot.barh()"
   ]
  },
  {
   "cell_type": "markdown",
   "metadata": {},
   "source": [
    "## 3. Customers with installment purchases have good credit score\n",
    "\n",
    "---"
   ]
  },
  {
   "cell_type": "code",
   "execution_count": 104,
   "metadata": {
    "collapsed": false
   },
   "outputs": [],
   "source": [
    "# Original dataset with categorical column converted to number type.\n",
    "cre_original=pd.concat([credit,pd.get_dummies(credit['purchase_type'])],axis=1)"
   ]
  },
  {
   "cell_type": "markdown",
   "metadata": {},
   "source": [
    "******\n",
    "# c) Preparing for Machine learning\n",
    "******"
   ]
  },
  {
   "cell_type": "code",
   "execution_count": 105,
   "metadata": {
    "collapsed": false
   },
   "outputs": [
    {
     "name": "stderr",
     "output_type": "stream",
     "text": [
      "C:\\Users\\lenovo\\Anaconda2\\lib\\site-packages\\ipykernel\\__main__.py:2: SettingWithCopyWarning: \n",
      "A value is trying to be set on a copy of a slice from a DataFrame.\n",
      "Try using .loc[row_indexer,col_indexer] = value instead\n",
      "\n",
      "See the caveats in the documentation: http://pandas.pydata.org/pandas-docs/stable/indexing.html#indexing-view-versus-copy\n",
      "  from ipykernel import kernelapp as app\n"
     ]
    },
    {
     "data": {
      "text/html": [
       "<div>\n",
       "<table border=\"1\" class=\"dataframe\">\n",
       "  <thead>\n",
       "    <tr style=\"text-align: right;\">\n",
       "      <th></th>\n",
       "      <th>both_oneoff_installment</th>\n",
       "      <th>istallment</th>\n",
       "      <th>none</th>\n",
       "      <th>one_off</th>\n",
       "    </tr>\n",
       "  </thead>\n",
       "  <tbody>\n",
       "    <tr>\n",
       "      <th>0</th>\n",
       "      <td>0</td>\n",
       "      <td>1</td>\n",
       "      <td>0</td>\n",
       "      <td>0</td>\n",
       "    </tr>\n",
       "    <tr>\n",
       "      <th>1</th>\n",
       "      <td>0</td>\n",
       "      <td>0</td>\n",
       "      <td>1</td>\n",
       "      <td>0</td>\n",
       "    </tr>\n",
       "    <tr>\n",
       "      <th>2</th>\n",
       "      <td>0</td>\n",
       "      <td>0</td>\n",
       "      <td>0</td>\n",
       "      <td>1</td>\n",
       "    </tr>\n",
       "    <tr>\n",
       "      <th>3</th>\n",
       "      <td>0</td>\n",
       "      <td>0</td>\n",
       "      <td>0</td>\n",
       "      <td>1</td>\n",
       "    </tr>\n",
       "    <tr>\n",
       "      <th>4</th>\n",
       "      <td>0</td>\n",
       "      <td>0</td>\n",
       "      <td>0</td>\n",
       "      <td>1</td>\n",
       "    </tr>\n",
       "    <tr>\n",
       "      <th>5</th>\n",
       "      <td>0</td>\n",
       "      <td>1</td>\n",
       "      <td>0</td>\n",
       "      <td>0</td>\n",
       "    </tr>\n",
       "    <tr>\n",
       "      <th>6</th>\n",
       "      <td>1</td>\n",
       "      <td>0</td>\n",
       "      <td>0</td>\n",
       "      <td>0</td>\n",
       "    </tr>\n",
       "    <tr>\n",
       "      <th>7</th>\n",
       "      <td>0</td>\n",
       "      <td>1</td>\n",
       "      <td>0</td>\n",
       "      <td>0</td>\n",
       "    </tr>\n",
       "    <tr>\n",
       "      <th>8</th>\n",
       "      <td>1</td>\n",
       "      <td>0</td>\n",
       "      <td>0</td>\n",
       "      <td>0</td>\n",
       "    </tr>\n",
       "    <tr>\n",
       "      <th>9</th>\n",
       "      <td>0</td>\n",
       "      <td>0</td>\n",
       "      <td>0</td>\n",
       "      <td>1</td>\n",
       "    </tr>\n",
       "    <tr>\n",
       "      <th>10</th>\n",
       "      <td>0</td>\n",
       "      <td>1</td>\n",
       "      <td>0</td>\n",
       "      <td>0</td>\n",
       "    </tr>\n",
       "    <tr>\n",
       "      <th>11</th>\n",
       "      <td>0</td>\n",
       "      <td>0</td>\n",
       "      <td>0</td>\n",
       "      <td>1</td>\n",
       "    </tr>\n",
       "    <tr>\n",
       "      <th>12</th>\n",
       "      <td>1</td>\n",
       "      <td>0</td>\n",
       "      <td>0</td>\n",
       "      <td>0</td>\n",
       "    </tr>\n",
       "    <tr>\n",
       "      <th>13</th>\n",
       "      <td>1</td>\n",
       "      <td>0</td>\n",
       "      <td>0</td>\n",
       "      <td>0</td>\n",
       "    </tr>\n",
       "    <tr>\n",
       "      <th>14</th>\n",
       "      <td>0</td>\n",
       "      <td>0</td>\n",
       "      <td>1</td>\n",
       "      <td>0</td>\n",
       "    </tr>\n",
       "    <tr>\n",
       "      <th>15</th>\n",
       "      <td>0</td>\n",
       "      <td>1</td>\n",
       "      <td>0</td>\n",
       "      <td>0</td>\n",
       "    </tr>\n",
       "    <tr>\n",
       "      <th>16</th>\n",
       "      <td>0</td>\n",
       "      <td>0</td>\n",
       "      <td>1</td>\n",
       "      <td>0</td>\n",
       "    </tr>\n",
       "    <tr>\n",
       "      <th>17</th>\n",
       "      <td>0</td>\n",
       "      <td>1</td>\n",
       "      <td>0</td>\n",
       "      <td>0</td>\n",
       "    </tr>\n",
       "    <tr>\n",
       "      <th>18</th>\n",
       "      <td>1</td>\n",
       "      <td>0</td>\n",
       "      <td>0</td>\n",
       "      <td>0</td>\n",
       "    </tr>\n",
       "    <tr>\n",
       "      <th>19</th>\n",
       "      <td>0</td>\n",
       "      <td>1</td>\n",
       "      <td>0</td>\n",
       "      <td>0</td>\n",
       "    </tr>\n",
       "    <tr>\n",
       "      <th>20</th>\n",
       "      <td>0</td>\n",
       "      <td>1</td>\n",
       "      <td>0</td>\n",
       "      <td>0</td>\n",
       "    </tr>\n",
       "    <tr>\n",
       "      <th>21</th>\n",
       "      <td>1</td>\n",
       "      <td>0</td>\n",
       "      <td>0</td>\n",
       "      <td>0</td>\n",
       "    </tr>\n",
       "    <tr>\n",
       "      <th>22</th>\n",
       "      <td>0</td>\n",
       "      <td>1</td>\n",
       "      <td>0</td>\n",
       "      <td>0</td>\n",
       "    </tr>\n",
       "    <tr>\n",
       "      <th>23</th>\n",
       "      <td>1</td>\n",
       "      <td>0</td>\n",
       "      <td>0</td>\n",
       "      <td>0</td>\n",
       "    </tr>\n",
       "    <tr>\n",
       "      <th>24</th>\n",
       "      <td>0</td>\n",
       "      <td>0</td>\n",
       "      <td>1</td>\n",
       "      <td>0</td>\n",
       "    </tr>\n",
       "    <tr>\n",
       "      <th>25</th>\n",
       "      <td>0</td>\n",
       "      <td>1</td>\n",
       "      <td>0</td>\n",
       "      <td>0</td>\n",
       "    </tr>\n",
       "    <tr>\n",
       "      <th>26</th>\n",
       "      <td>0</td>\n",
       "      <td>0</td>\n",
       "      <td>0</td>\n",
       "      <td>1</td>\n",
       "    </tr>\n",
       "    <tr>\n",
       "      <th>27</th>\n",
       "      <td>0</td>\n",
       "      <td>1</td>\n",
       "      <td>0</td>\n",
       "      <td>0</td>\n",
       "    </tr>\n",
       "    <tr>\n",
       "      <th>28</th>\n",
       "      <td>1</td>\n",
       "      <td>0</td>\n",
       "      <td>0</td>\n",
       "      <td>0</td>\n",
       "    </tr>\n",
       "    <tr>\n",
       "      <th>29</th>\n",
       "      <td>0</td>\n",
       "      <td>1</td>\n",
       "      <td>0</td>\n",
       "      <td>0</td>\n",
       "    </tr>\n",
       "    <tr>\n",
       "      <th>...</th>\n",
       "      <td>...</td>\n",
       "      <td>...</td>\n",
       "      <td>...</td>\n",
       "      <td>...</td>\n",
       "    </tr>\n",
       "    <tr>\n",
       "      <th>8920</th>\n",
       "      <td>0</td>\n",
       "      <td>0</td>\n",
       "      <td>1</td>\n",
       "      <td>0</td>\n",
       "    </tr>\n",
       "    <tr>\n",
       "      <th>8921</th>\n",
       "      <td>0</td>\n",
       "      <td>1</td>\n",
       "      <td>0</td>\n",
       "      <td>0</td>\n",
       "    </tr>\n",
       "    <tr>\n",
       "      <th>8922</th>\n",
       "      <td>0</td>\n",
       "      <td>1</td>\n",
       "      <td>0</td>\n",
       "      <td>0</td>\n",
       "    </tr>\n",
       "    <tr>\n",
       "      <th>8923</th>\n",
       "      <td>1</td>\n",
       "      <td>0</td>\n",
       "      <td>0</td>\n",
       "      <td>0</td>\n",
       "    </tr>\n",
       "    <tr>\n",
       "      <th>8924</th>\n",
       "      <td>0</td>\n",
       "      <td>0</td>\n",
       "      <td>0</td>\n",
       "      <td>1</td>\n",
       "    </tr>\n",
       "    <tr>\n",
       "      <th>8925</th>\n",
       "      <td>0</td>\n",
       "      <td>1</td>\n",
       "      <td>0</td>\n",
       "      <td>0</td>\n",
       "    </tr>\n",
       "    <tr>\n",
       "      <th>8926</th>\n",
       "      <td>0</td>\n",
       "      <td>1</td>\n",
       "      <td>0</td>\n",
       "      <td>0</td>\n",
       "    </tr>\n",
       "    <tr>\n",
       "      <th>8927</th>\n",
       "      <td>1</td>\n",
       "      <td>0</td>\n",
       "      <td>0</td>\n",
       "      <td>0</td>\n",
       "    </tr>\n",
       "    <tr>\n",
       "      <th>8928</th>\n",
       "      <td>0</td>\n",
       "      <td>1</td>\n",
       "      <td>0</td>\n",
       "      <td>0</td>\n",
       "    </tr>\n",
       "    <tr>\n",
       "      <th>8929</th>\n",
       "      <td>0</td>\n",
       "      <td>0</td>\n",
       "      <td>1</td>\n",
       "      <td>0</td>\n",
       "    </tr>\n",
       "    <tr>\n",
       "      <th>8930</th>\n",
       "      <td>0</td>\n",
       "      <td>1</td>\n",
       "      <td>0</td>\n",
       "      <td>0</td>\n",
       "    </tr>\n",
       "    <tr>\n",
       "      <th>8931</th>\n",
       "      <td>0</td>\n",
       "      <td>1</td>\n",
       "      <td>0</td>\n",
       "      <td>0</td>\n",
       "    </tr>\n",
       "    <tr>\n",
       "      <th>8932</th>\n",
       "      <td>0</td>\n",
       "      <td>1</td>\n",
       "      <td>0</td>\n",
       "      <td>0</td>\n",
       "    </tr>\n",
       "    <tr>\n",
       "      <th>8933</th>\n",
       "      <td>1</td>\n",
       "      <td>0</td>\n",
       "      <td>0</td>\n",
       "      <td>0</td>\n",
       "    </tr>\n",
       "    <tr>\n",
       "      <th>8934</th>\n",
       "      <td>0</td>\n",
       "      <td>1</td>\n",
       "      <td>0</td>\n",
       "      <td>0</td>\n",
       "    </tr>\n",
       "    <tr>\n",
       "      <th>8935</th>\n",
       "      <td>0</td>\n",
       "      <td>1</td>\n",
       "      <td>0</td>\n",
       "      <td>0</td>\n",
       "    </tr>\n",
       "    <tr>\n",
       "      <th>8936</th>\n",
       "      <td>0</td>\n",
       "      <td>1</td>\n",
       "      <td>0</td>\n",
       "      <td>0</td>\n",
       "    </tr>\n",
       "    <tr>\n",
       "      <th>8937</th>\n",
       "      <td>0</td>\n",
       "      <td>0</td>\n",
       "      <td>1</td>\n",
       "      <td>0</td>\n",
       "    </tr>\n",
       "    <tr>\n",
       "      <th>8938</th>\n",
       "      <td>0</td>\n",
       "      <td>0</td>\n",
       "      <td>1</td>\n",
       "      <td>0</td>\n",
       "    </tr>\n",
       "    <tr>\n",
       "      <th>8939</th>\n",
       "      <td>0</td>\n",
       "      <td>0</td>\n",
       "      <td>0</td>\n",
       "      <td>1</td>\n",
       "    </tr>\n",
       "    <tr>\n",
       "      <th>8940</th>\n",
       "      <td>0</td>\n",
       "      <td>1</td>\n",
       "      <td>0</td>\n",
       "      <td>0</td>\n",
       "    </tr>\n",
       "    <tr>\n",
       "      <th>8941</th>\n",
       "      <td>0</td>\n",
       "      <td>1</td>\n",
       "      <td>0</td>\n",
       "      <td>0</td>\n",
       "    </tr>\n",
       "    <tr>\n",
       "      <th>8942</th>\n",
       "      <td>0</td>\n",
       "      <td>1</td>\n",
       "      <td>0</td>\n",
       "      <td>0</td>\n",
       "    </tr>\n",
       "    <tr>\n",
       "      <th>8943</th>\n",
       "      <td>0</td>\n",
       "      <td>0</td>\n",
       "      <td>0</td>\n",
       "      <td>1</td>\n",
       "    </tr>\n",
       "    <tr>\n",
       "      <th>8944</th>\n",
       "      <td>0</td>\n",
       "      <td>0</td>\n",
       "      <td>0</td>\n",
       "      <td>1</td>\n",
       "    </tr>\n",
       "    <tr>\n",
       "      <th>8945</th>\n",
       "      <td>0</td>\n",
       "      <td>1</td>\n",
       "      <td>0</td>\n",
       "      <td>0</td>\n",
       "    </tr>\n",
       "    <tr>\n",
       "      <th>8946</th>\n",
       "      <td>0</td>\n",
       "      <td>1</td>\n",
       "      <td>0</td>\n",
       "      <td>0</td>\n",
       "    </tr>\n",
       "    <tr>\n",
       "      <th>8947</th>\n",
       "      <td>0</td>\n",
       "      <td>1</td>\n",
       "      <td>0</td>\n",
       "      <td>0</td>\n",
       "    </tr>\n",
       "    <tr>\n",
       "      <th>8948</th>\n",
       "      <td>0</td>\n",
       "      <td>0</td>\n",
       "      <td>1</td>\n",
       "      <td>0</td>\n",
       "    </tr>\n",
       "    <tr>\n",
       "      <th>8949</th>\n",
       "      <td>0</td>\n",
       "      <td>0</td>\n",
       "      <td>0</td>\n",
       "      <td>1</td>\n",
       "    </tr>\n",
       "  </tbody>\n",
       "</table>\n",
       "<p>8950 rows × 4 columns</p>\n",
       "</div>"
      ],
      "text/plain": [
       "      both_oneoff_installment  istallment  none  one_off\n",
       "0                           0           1     0        0\n",
       "1                           0           0     1        0\n",
       "2                           0           0     0        1\n",
       "3                           0           0     0        1\n",
       "4                           0           0     0        1\n",
       "5                           0           1     0        0\n",
       "6                           1           0     0        0\n",
       "7                           0           1     0        0\n",
       "8                           1           0     0        0\n",
       "9                           0           0     0        1\n",
       "10                          0           1     0        0\n",
       "11                          0           0     0        1\n",
       "12                          1           0     0        0\n",
       "13                          1           0     0        0\n",
       "14                          0           0     1        0\n",
       "15                          0           1     0        0\n",
       "16                          0           0     1        0\n",
       "17                          0           1     0        0\n",
       "18                          1           0     0        0\n",
       "19                          0           1     0        0\n",
       "20                          0           1     0        0\n",
       "21                          1           0     0        0\n",
       "22                          0           1     0        0\n",
       "23                          1           0     0        0\n",
       "24                          0           0     1        0\n",
       "25                          0           1     0        0\n",
       "26                          0           0     0        1\n",
       "27                          0           1     0        0\n",
       "28                          1           0     0        0\n",
       "29                          0           1     0        0\n",
       "...                       ...         ...   ...      ...\n",
       "8920                        0           0     1        0\n",
       "8921                        0           1     0        0\n",
       "8922                        0           1     0        0\n",
       "8923                        1           0     0        0\n",
       "8924                        0           0     0        1\n",
       "8925                        0           1     0        0\n",
       "8926                        0           1     0        0\n",
       "8927                        1           0     0        0\n",
       "8928                        0           1     0        0\n",
       "8929                        0           0     1        0\n",
       "8930                        0           1     0        0\n",
       "8931                        0           1     0        0\n",
       "8932                        0           1     0        0\n",
       "8933                        1           0     0        0\n",
       "8934                        0           1     0        0\n",
       "8935                        0           1     0        0\n",
       "8936                        0           1     0        0\n",
       "8937                        0           0     1        0\n",
       "8938                        0           0     1        0\n",
       "8939                        0           0     0        1\n",
       "8940                        0           1     0        0\n",
       "8941                        0           1     0        0\n",
       "8942                        0           1     0        0\n",
       "8943                        0           0     0        1\n",
       "8944                        0           0     0        1\n",
       "8945                        0           1     0        0\n",
       "8946                        0           1     0        0\n",
       "8947                        0           1     0        0\n",
       "8948                        0           0     1        0\n",
       "8949                        0           0     0        1\n",
       "\n",
       "[8950 rows x 4 columns]"
      ]
     },
     "execution_count": 105,
     "metadata": {},
     "output_type": "execute_result"
    }
   ],
   "source": [
    "# creating Dummies for categorical variable\n",
    "cr_pre['purchase_type']=credit.loc[:,'purchase_type']\n",
    "pd.get_dummies(cr_pre['purchase_type'])"
   ]
  },
  {
   "cell_type": "code",
   "execution_count": 106,
   "metadata": {
    "collapsed": false
   },
   "outputs": [],
   "source": [
    "cr_dummy=pd.concat([cr_pre,pd.get_dummies(cr_pre['purchase_type'])],axis=1)"
   ]
  },
  {
   "cell_type": "code",
   "execution_count": 107,
   "metadata": {
    "collapsed": false
   },
   "outputs": [],
   "source": [
    "\n",
    "l=['purchase_type']"
   ]
  },
  {
   "cell_type": "code",
   "execution_count": 108,
   "metadata": {
    "collapsed": false
   },
   "outputs": [
    {
     "data": {
      "text/plain": [
       "BALANCE_FREQUENCY                   False\n",
       "ONEOFF_PURCHASES                    False\n",
       "INSTALLMENTS_PURCHASES              False\n",
       "PURCHASES_FREQUENCY                 False\n",
       "ONEOFF_PURCHASES_FREQUENCY          False\n",
       "PURCHASES_INSTALLMENTS_FREQUENCY    False\n",
       "CASH_ADVANCE_FREQUENCY              False\n",
       "CASH_ADVANCE_TRX                    False\n",
       "PURCHASES_TRX                       False\n",
       "Monthly_avg_purchase                False\n",
       "Monthly_cash_advance                False\n",
       "limit_usage                         False\n",
       "payment_minpay                      False\n",
       "both_oneoff_installment             False\n",
       "istallment                          False\n",
       "none                                False\n",
       "one_off                             False\n",
       "dtype: bool"
      ]
     },
     "execution_count": 108,
     "metadata": {},
     "output_type": "execute_result"
    }
   ],
   "source": [
    "cr_dummy=cr_dummy.drop(l,axis=1)\n",
    "cr_dummy.isnull().any()\n",
    "\n"
   ]
  },
  {
   "cell_type": "code",
   "execution_count": 109,
   "metadata": {
    "collapsed": false
   },
   "outputs": [
    {
     "data": {
      "text/html": [
       "<div>\n",
       "<table border=\"1\" class=\"dataframe\">\n",
       "  <thead>\n",
       "    <tr style=\"text-align: right;\">\n",
       "      <th></th>\n",
       "      <th>BALANCE_FREQUENCY</th>\n",
       "      <th>ONEOFF_PURCHASES</th>\n",
       "      <th>INSTALLMENTS_PURCHASES</th>\n",
       "      <th>PURCHASES_FREQUENCY</th>\n",
       "      <th>ONEOFF_PURCHASES_FREQUENCY</th>\n",
       "      <th>PURCHASES_INSTALLMENTS_FREQUENCY</th>\n",
       "      <th>CASH_ADVANCE_FREQUENCY</th>\n",
       "      <th>CASH_ADVANCE_TRX</th>\n",
       "      <th>PURCHASES_TRX</th>\n",
       "      <th>Monthly_avg_purchase</th>\n",
       "      <th>Monthly_cash_advance</th>\n",
       "      <th>limit_usage</th>\n",
       "      <th>payment_minpay</th>\n",
       "      <th>both_oneoff_installment</th>\n",
       "      <th>istallment</th>\n",
       "      <th>none</th>\n",
       "      <th>one_off</th>\n",
       "    </tr>\n",
       "  </thead>\n",
       "  <tbody>\n",
       "    <tr>\n",
       "      <th>count</th>\n",
       "      <td>8950.000000</td>\n",
       "      <td>8950.000000</td>\n",
       "      <td>8950.000000</td>\n",
       "      <td>8950.000000</td>\n",
       "      <td>8950.000000</td>\n",
       "      <td>8950.000000</td>\n",
       "      <td>8950.000000</td>\n",
       "      <td>8950.000000</td>\n",
       "      <td>8950.000000</td>\n",
       "      <td>8950.000000</td>\n",
       "      <td>8950.000000</td>\n",
       "      <td>8950.000000</td>\n",
       "      <td>8950.000000</td>\n",
       "      <td>8950.000000</td>\n",
       "      <td>8950.000000</td>\n",
       "      <td>8950.000000</td>\n",
       "      <td>8950.000000</td>\n",
       "    </tr>\n",
       "    <tr>\n",
       "      <th>mean</th>\n",
       "      <td>0.877271</td>\n",
       "      <td>592.437371</td>\n",
       "      <td>411.067645</td>\n",
       "      <td>0.490351</td>\n",
       "      <td>0.202458</td>\n",
       "      <td>0.364437</td>\n",
       "      <td>0.135144</td>\n",
       "      <td>3.248827</td>\n",
       "      <td>14.709832</td>\n",
       "      <td>86.175173</td>\n",
       "      <td>88.977984</td>\n",
       "      <td>0.388884</td>\n",
       "      <td>9.059164</td>\n",
       "      <td>0.309944</td>\n",
       "      <td>0.252514</td>\n",
       "      <td>0.228156</td>\n",
       "      <td>0.209385</td>\n",
       "    </tr>\n",
       "    <tr>\n",
       "      <th>std</th>\n",
       "      <td>0.236904</td>\n",
       "      <td>1659.887917</td>\n",
       "      <td>904.338115</td>\n",
       "      <td>0.401371</td>\n",
       "      <td>0.298336</td>\n",
       "      <td>0.397448</td>\n",
       "      <td>0.200121</td>\n",
       "      <td>6.824647</td>\n",
       "      <td>24.857649</td>\n",
       "      <td>180.508787</td>\n",
       "      <td>193.136115</td>\n",
       "      <td>0.389722</td>\n",
       "      <td>118.180526</td>\n",
       "      <td>0.462496</td>\n",
       "      <td>0.434479</td>\n",
       "      <td>0.419667</td>\n",
       "      <td>0.406893</td>\n",
       "    </tr>\n",
       "    <tr>\n",
       "      <th>min</th>\n",
       "      <td>0.000000</td>\n",
       "      <td>0.000000</td>\n",
       "      <td>0.000000</td>\n",
       "      <td>0.000000</td>\n",
       "      <td>0.000000</td>\n",
       "      <td>0.000000</td>\n",
       "      <td>0.000000</td>\n",
       "      <td>0.000000</td>\n",
       "      <td>0.000000</td>\n",
       "      <td>0.000000</td>\n",
       "      <td>0.000000</td>\n",
       "      <td>0.000000</td>\n",
       "      <td>0.000000</td>\n",
       "      <td>0.000000</td>\n",
       "      <td>0.000000</td>\n",
       "      <td>0.000000</td>\n",
       "      <td>0.000000</td>\n",
       "    </tr>\n",
       "    <tr>\n",
       "      <th>25%</th>\n",
       "      <td>0.888889</td>\n",
       "      <td>0.000000</td>\n",
       "      <td>0.000000</td>\n",
       "      <td>0.083333</td>\n",
       "      <td>0.000000</td>\n",
       "      <td>0.000000</td>\n",
       "      <td>0.000000</td>\n",
       "      <td>0.000000</td>\n",
       "      <td>1.000000</td>\n",
       "      <td>3.399375</td>\n",
       "      <td>0.000000</td>\n",
       "      <td>0.041494</td>\n",
       "      <td>0.913275</td>\n",
       "      <td>0.000000</td>\n",
       "      <td>0.000000</td>\n",
       "      <td>0.000000</td>\n",
       "      <td>0.000000</td>\n",
       "    </tr>\n",
       "    <tr>\n",
       "      <th>50%</th>\n",
       "      <td>1.000000</td>\n",
       "      <td>38.000000</td>\n",
       "      <td>89.000000</td>\n",
       "      <td>0.500000</td>\n",
       "      <td>0.083333</td>\n",
       "      <td>0.166667</td>\n",
       "      <td>0.000000</td>\n",
       "      <td>0.000000</td>\n",
       "      <td>7.000000</td>\n",
       "      <td>31.936667</td>\n",
       "      <td>0.000000</td>\n",
       "      <td>0.302720</td>\n",
       "      <td>2.032717</td>\n",
       "      <td>0.000000</td>\n",
       "      <td>0.000000</td>\n",
       "      <td>0.000000</td>\n",
       "      <td>0.000000</td>\n",
       "    </tr>\n",
       "    <tr>\n",
       "      <th>75%</th>\n",
       "      <td>1.000000</td>\n",
       "      <td>577.405000</td>\n",
       "      <td>468.637500</td>\n",
       "      <td>0.916667</td>\n",
       "      <td>0.300000</td>\n",
       "      <td>0.750000</td>\n",
       "      <td>0.222222</td>\n",
       "      <td>4.000000</td>\n",
       "      <td>17.000000</td>\n",
       "      <td>97.228333</td>\n",
       "      <td>99.085196</td>\n",
       "      <td>0.717571</td>\n",
       "      <td>6.052729</td>\n",
       "      <td>1.000000</td>\n",
       "      <td>1.000000</td>\n",
       "      <td>0.000000</td>\n",
       "      <td>0.000000</td>\n",
       "    </tr>\n",
       "    <tr>\n",
       "      <th>max</th>\n",
       "      <td>1.000000</td>\n",
       "      <td>40761.250000</td>\n",
       "      <td>22500.000000</td>\n",
       "      <td>1.000000</td>\n",
       "      <td>1.000000</td>\n",
       "      <td>1.000000</td>\n",
       "      <td>1.500000</td>\n",
       "      <td>123.000000</td>\n",
       "      <td>358.000000</td>\n",
       "      <td>4086.630833</td>\n",
       "      <td>3928.100980</td>\n",
       "      <td>15.909951</td>\n",
       "      <td>6840.528861</td>\n",
       "      <td>1.000000</td>\n",
       "      <td>1.000000</td>\n",
       "      <td>1.000000</td>\n",
       "      <td>1.000000</td>\n",
       "    </tr>\n",
       "  </tbody>\n",
       "</table>\n",
       "</div>"
      ],
      "text/plain": [
       "       BALANCE_FREQUENCY  ONEOFF_PURCHASES  INSTALLMENTS_PURCHASES  \\\n",
       "count        8950.000000       8950.000000             8950.000000   \n",
       "mean            0.877271        592.437371              411.067645   \n",
       "std             0.236904       1659.887917              904.338115   \n",
       "min             0.000000          0.000000                0.000000   \n",
       "25%             0.888889          0.000000                0.000000   \n",
       "50%             1.000000         38.000000               89.000000   \n",
       "75%             1.000000        577.405000              468.637500   \n",
       "max             1.000000      40761.250000            22500.000000   \n",
       "\n",
       "       PURCHASES_FREQUENCY  ONEOFF_PURCHASES_FREQUENCY  \\\n",
       "count          8950.000000                 8950.000000   \n",
       "mean              0.490351                    0.202458   \n",
       "std               0.401371                    0.298336   \n",
       "min               0.000000                    0.000000   \n",
       "25%               0.083333                    0.000000   \n",
       "50%               0.500000                    0.083333   \n",
       "75%               0.916667                    0.300000   \n",
       "max               1.000000                    1.000000   \n",
       "\n",
       "       PURCHASES_INSTALLMENTS_FREQUENCY  CASH_ADVANCE_FREQUENCY  \\\n",
       "count                       8950.000000             8950.000000   \n",
       "mean                           0.364437                0.135144   \n",
       "std                            0.397448                0.200121   \n",
       "min                            0.000000                0.000000   \n",
       "25%                            0.000000                0.000000   \n",
       "50%                            0.166667                0.000000   \n",
       "75%                            0.750000                0.222222   \n",
       "max                            1.000000                1.500000   \n",
       "\n",
       "       CASH_ADVANCE_TRX  PURCHASES_TRX  Monthly_avg_purchase  \\\n",
       "count       8950.000000    8950.000000           8950.000000   \n",
       "mean           3.248827      14.709832             86.175173   \n",
       "std            6.824647      24.857649            180.508787   \n",
       "min            0.000000       0.000000              0.000000   \n",
       "25%            0.000000       1.000000              3.399375   \n",
       "50%            0.000000       7.000000             31.936667   \n",
       "75%            4.000000      17.000000             97.228333   \n",
       "max          123.000000     358.000000           4086.630833   \n",
       "\n",
       "       Monthly_cash_advance  limit_usage  payment_minpay  \\\n",
       "count           8950.000000  8950.000000     8950.000000   \n",
       "mean              88.977984     0.388884        9.059164   \n",
       "std              193.136115     0.389722      118.180526   \n",
       "min                0.000000     0.000000        0.000000   \n",
       "25%                0.000000     0.041494        0.913275   \n",
       "50%                0.000000     0.302720        2.032717   \n",
       "75%               99.085196     0.717571        6.052729   \n",
       "max             3928.100980    15.909951     6840.528861   \n",
       "\n",
       "       both_oneoff_installment   istallment         none      one_off  \n",
       "count              8950.000000  8950.000000  8950.000000  8950.000000  \n",
       "mean                  0.309944     0.252514     0.228156     0.209385  \n",
       "std                   0.462496     0.434479     0.419667     0.406893  \n",
       "min                   0.000000     0.000000     0.000000     0.000000  \n",
       "25%                   0.000000     0.000000     0.000000     0.000000  \n",
       "50%                   0.000000     0.000000     0.000000     0.000000  \n",
       "75%                   1.000000     1.000000     0.000000     0.000000  \n",
       "max                   1.000000     1.000000     1.000000     1.000000  "
      ]
     },
     "execution_count": 109,
     "metadata": {},
     "output_type": "execute_result"
    }
   ],
   "source": [
    "cr_dummy.describe()"
   ]
  },
  {
   "cell_type": "code",
   "execution_count": 110,
   "metadata": {
    "collapsed": false
   },
   "outputs": [
    {
     "data": {
      "text/plain": [
       "<matplotlib.axes._subplots.AxesSubplot at 0x15eee668>"
      ]
     },
     "execution_count": 110,
     "metadata": {},
     "output_type": "execute_result"
    },
    {
     "data": {
      "image/png": "[encoded data removed]",
      "text/plain": [
       "<matplotlib.figure.Figure at 0x1263ac50>"
      ]
     },
     "metadata": {},
     "output_type": "display_data"
    }
   ],
   "source": [
    "sns.heatmap(cr_dummy.corr())"
   ]
  },
  {
   "cell_type": "markdown",
   "metadata": {},
   "source": [
    "<big>\n",
    "- Heat map shows that many features are co-related so applying dimensionality reduction will help negating multi-colinearity in data\n",
    "</big>\n",
    "\n",
    "\n",
    "- Before applying PCA we will standardize data  to avoid effect of scale on our result. Centering and Scaling will make all features with equal weight."
   ]
  },
  {
   "cell_type": "markdown",
   "metadata": {},
   "source": [
    "# d). Standardrizing data \n",
    "- To put data on the same scale "
   ]
  },
  {
   "cell_type": "code",
   "execution_count": 111,
   "metadata": {
    "collapsed": false
   },
   "outputs": [],
   "source": [
    "from sklearn.preprocessing import  StandardScaler\n",
    "\n"
   ]
  },
  {
   "cell_type": "code",
   "execution_count": 112,
   "metadata": {
    "collapsed": false
   },
   "outputs": [],
   "source": [
    "sc=StandardScaler()\n",
    "\n"
   ]
  },
  {
   "cell_type": "code",
   "execution_count": 157,
   "metadata": {
    "collapsed": false
   },
   "outputs": [
    {
     "data": {
      "text/html": [
       "<div>\n",
       "<table border=\"1\" class=\"dataframe\">\n",
       "  <thead>\n",
       "    <tr style=\"text-align: right;\">\n",
       "      <th></th>\n",
       "      <th>BALANCE_FREQUENCY</th>\n",
       "      <th>ONEOFF_PURCHASES</th>\n",
       "      <th>INSTALLMENTS_PURCHASES</th>\n",
       "      <th>PURCHASES_FREQUENCY</th>\n",
       "      <th>ONEOFF_PURCHASES_FREQUENCY</th>\n",
       "      <th>PURCHASES_INSTALLMENTS_FREQUENCY</th>\n",
       "      <th>CASH_ADVANCE_FREQUENCY</th>\n",
       "      <th>CASH_ADVANCE_TRX</th>\n",
       "      <th>PURCHASES_TRX</th>\n",
       "      <th>Monthly_avg_purchase</th>\n",
       "      <th>Monthly_cash_advance</th>\n",
       "      <th>limit_usage</th>\n",
       "      <th>payment_minpay</th>\n",
       "      <th>both_oneoff_installment</th>\n",
       "      <th>istallment</th>\n",
       "      <th>none</th>\n",
       "      <th>one_off</th>\n",
       "    </tr>\n",
       "  </thead>\n",
       "  <tbody>\n",
       "    <tr>\n",
       "      <th>count</th>\n",
       "      <td>8.950000e+03</td>\n",
       "      <td>8.950000e+03</td>\n",
       "      <td>8.950000e+03</td>\n",
       "      <td>8.950000e+03</td>\n",
       "      <td>8.950000e+03</td>\n",
       "      <td>8.950000e+03</td>\n",
       "      <td>8.950000e+03</td>\n",
       "      <td>8.950000e+03</td>\n",
       "      <td>8.950000e+03</td>\n",
       "      <td>8.950000e+03</td>\n",
       "      <td>8.950000e+03</td>\n",
       "      <td>8.950000e+03</td>\n",
       "      <td>8.950000e+03</td>\n",
       "      <td>8.950000e+03</td>\n",
       "      <td>8.950000e+03</td>\n",
       "      <td>8.950000e+03</td>\n",
       "      <td>8.950000e+03</td>\n",
       "    </tr>\n",
       "    <tr>\n",
       "      <th>mean</th>\n",
       "      <td>1.209548e-14</td>\n",
       "      <td>3.916048e-15</td>\n",
       "      <td>2.275424e-15</td>\n",
       "      <td>-3.716084e-16</td>\n",
       "      <td>2.021052e-15</td>\n",
       "      <td>2.353921e-16</td>\n",
       "      <td>5.729495e-16</td>\n",
       "      <td>-7.151821e-16</td>\n",
       "      <td>-3.570713e-15</td>\n",
       "      <td>-3.041862e-15</td>\n",
       "      <td>-8.728152e-16</td>\n",
       "      <td>7.807225e-17</td>\n",
       "      <td>4.842495e-18</td>\n",
       "      <td>-3.752852e-15</td>\n",
       "      <td>8.733374e-15</td>\n",
       "      <td>-4.507133e-16</td>\n",
       "      <td>-2.274580e-15</td>\n",
       "    </tr>\n",
       "    <tr>\n",
       "      <th>std</th>\n",
       "      <td>1.000056e+00</td>\n",
       "      <td>1.000056e+00</td>\n",
       "      <td>1.000056e+00</td>\n",
       "      <td>1.000056e+00</td>\n",
       "      <td>1.000056e+00</td>\n",
       "      <td>1.000056e+00</td>\n",
       "      <td>1.000056e+00</td>\n",
       "      <td>1.000056e+00</td>\n",
       "      <td>1.000056e+00</td>\n",
       "      <td>1.000056e+00</td>\n",
       "      <td>1.000056e+00</td>\n",
       "      <td>1.000056e+00</td>\n",
       "      <td>1.000056e+00</td>\n",
       "      <td>1.000056e+00</td>\n",
       "      <td>1.000056e+00</td>\n",
       "      <td>1.000056e+00</td>\n",
       "      <td>1.000056e+00</td>\n",
       "    </tr>\n",
       "    <tr>\n",
       "      <th>min</th>\n",
       "      <td>-3.703271e+00</td>\n",
       "      <td>-3.569340e-01</td>\n",
       "      <td>-4.545762e-01</td>\n",
       "      <td>-1.221758e+00</td>\n",
       "      <td>-6.786608e-01</td>\n",
       "      <td>-9.169952e-01</td>\n",
       "      <td>-6.753489e-01</td>\n",
       "      <td>-4.760698e-01</td>\n",
       "      <td>-5.917959e-01</td>\n",
       "      <td>-4.774282e-01</td>\n",
       "      <td>-4.607266e-01</td>\n",
       "      <td>-9.979057e-01</td>\n",
       "      <td>-7.665959e-02</td>\n",
       "      <td>-6.701925e-01</td>\n",
       "      <td>-5.812208e-01</td>\n",
       "      <td>-5.436904e-01</td>\n",
       "      <td>-5.146250e-01</td>\n",
       "    </tr>\n",
       "    <tr>\n",
       "      <th>25%</th>\n",
       "      <td>4.904486e-02</td>\n",
       "      <td>-3.569340e-01</td>\n",
       "      <td>-4.545762e-01</td>\n",
       "      <td>-1.014125e+00</td>\n",
       "      <td>-6.786608e-01</td>\n",
       "      <td>-9.169952e-01</td>\n",
       "      <td>-6.753489e-01</td>\n",
       "      <td>-4.760698e-01</td>\n",
       "      <td>-5.515646e-01</td>\n",
       "      <td>-4.585950e-01</td>\n",
       "      <td>-4.607266e-01</td>\n",
       "      <td>-8.914292e-01</td>\n",
       "      <td>-6.893135e-02</td>\n",
       "      <td>-6.701925e-01</td>\n",
       "      <td>-5.812208e-01</td>\n",
       "      <td>-5.436904e-01</td>\n",
       "      <td>-5.146250e-01</td>\n",
       "    </tr>\n",
       "    <tr>\n",
       "      <th>50%</th>\n",
       "      <td>5.180838e-01</td>\n",
       "      <td>-3.340396e-01</td>\n",
       "      <td>-3.561562e-01</td>\n",
       "      <td>2.404259e-02</td>\n",
       "      <td>-3.993193e-01</td>\n",
       "      <td>-4.976286e-01</td>\n",
       "      <td>-6.753489e-01</td>\n",
       "      <td>-4.760698e-01</td>\n",
       "      <td>-3.101767e-01</td>\n",
       "      <td>-3.004925e-01</td>\n",
       "      <td>-4.607266e-01</td>\n",
       "      <td>-2.211018e-01</td>\n",
       "      <td>-5.945853e-02</td>\n",
       "      <td>-6.701925e-01</td>\n",
       "      <td>-5.812208e-01</td>\n",
       "      <td>-5.436904e-01</td>\n",
       "      <td>-5.146250e-01</td>\n",
       "    </tr>\n",
       "    <tr>\n",
       "      <th>75%</th>\n",
       "      <td>5.180838e-01</td>\n",
       "      <td>-9.056763e-03</td>\n",
       "      <td>6.366321e-02</td>\n",
       "      <td>1.062211e+00</td>\n",
       "      <td>3.269728e-01</td>\n",
       "      <td>9.701506e-01</td>\n",
       "      <td>4.351492e-01</td>\n",
       "      <td>1.100739e-01</td>\n",
       "      <td>9.213645e-02</td>\n",
       "      <td>6.123679e-02</td>\n",
       "      <td>5.233499e-02</td>\n",
       "      <td>8.434381e-01</td>\n",
       "      <td>-2.544077e-02</td>\n",
       "      <td>1.492109e+00</td>\n",
       "      <td>1.720516e+00</td>\n",
       "      <td>-5.436904e-01</td>\n",
       "      <td>-5.146250e-01</td>\n",
       "    </tr>\n",
       "    <tr>\n",
       "      <th>max</th>\n",
       "      <td>5.180838e-01</td>\n",
       "      <td>2.420107e+01</td>\n",
       "      <td>2.442689e+01</td>\n",
       "      <td>1.269843e+00</td>\n",
       "      <td>2.673451e+00</td>\n",
       "      <td>1.599199e+00</td>\n",
       "      <td>6.820521e+00</td>\n",
       "      <td>1.754785e+01</td>\n",
       "      <td>1.381101e+01</td>\n",
       "      <td>2.216335e+01</td>\n",
       "      <td>1.987892e+01</td>\n",
       "      <td>3.982827e+01</td>\n",
       "      <td>5.780861e+01</td>\n",
       "      <td>1.492109e+00</td>\n",
       "      <td>1.720516e+00</td>\n",
       "      <td>1.839282e+00</td>\n",
       "      <td>1.943162e+00</td>\n",
       "    </tr>\n",
       "  </tbody>\n",
       "</table>\n",
       "</div>"
      ],
      "text/plain": [
       "       BALANCE_FREQUENCY  ONEOFF_PURCHASES  INSTALLMENTS_PURCHASES  \\\n",
       "count       8.950000e+03      8.950000e+03            8.950000e+03   \n",
       "mean        1.209548e-14      3.916048e-15            2.275424e-15   \n",
       "std         1.000056e+00      1.000056e+00            1.000056e+00   \n",
       "min        -3.703271e+00     -3.569340e-01           -4.545762e-01   \n",
       "25%         4.904486e-02     -3.569340e-01           -4.545762e-01   \n",
       "50%         5.180838e-01     -3.340396e-01           -3.561562e-01   \n",
       "75%         5.180838e-01     -9.056763e-03            6.366321e-02   \n",
       "max         5.180838e-01      2.420107e+01            2.442689e+01   \n",
       "\n",
       "       PURCHASES_FREQUENCY  ONEOFF_PURCHASES_FREQUENCY  \\\n",
       "count         8.950000e+03                8.950000e+03   \n",
       "mean         -3.716084e-16                2.021052e-15   \n",
       "std           1.000056e+00                1.000056e+00   \n",
       "min          -1.221758e+00               -6.786608e-01   \n",
       "25%          -1.014125e+00               -6.786608e-01   \n",
       "50%           2.404259e-02               -3.993193e-01   \n",
       "75%           1.062211e+00                3.269728e-01   \n",
       "max           1.269843e+00                2.673451e+00   \n",
       "\n",
       "       PURCHASES_INSTALLMENTS_FREQUENCY  CASH_ADVANCE_FREQUENCY  \\\n",
       "count                      8.950000e+03            8.950000e+03   \n",
       "mean                       2.353921e-16            5.729495e-16   \n",
       "std                        1.000056e+00            1.000056e+00   \n",
       "min                       -9.169952e-01           -6.753489e-01   \n",
       "25%                       -9.169952e-01           -6.753489e-01   \n",
       "50%                       -4.976286e-01           -6.753489e-01   \n",
       "75%                        9.701506e-01            4.351492e-01   \n",
       "max                        1.599199e+00            6.820521e+00   \n",
       "\n",
       "       CASH_ADVANCE_TRX  PURCHASES_TRX  Monthly_avg_purchase  \\\n",
       "count      8.950000e+03   8.950000e+03          8.950000e+03   \n",
       "mean      -7.151821e-16  -3.570713e-15         -3.041862e-15   \n",
       "std        1.000056e+00   1.000056e+00          1.000056e+00   \n",
       "min       -4.760698e-01  -5.917959e-01         -4.774282e-01   \n",
       "25%       -4.760698e-01  -5.515646e-01         -4.585950e-01   \n",
       "50%       -4.760698e-01  -3.101767e-01         -3.004925e-01   \n",
       "75%        1.100739e-01   9.213645e-02          6.123679e-02   \n",
       "max        1.754785e+01   1.381101e+01          2.216335e+01   \n",
       "\n",
       "       Monthly_cash_advance   limit_usage  payment_minpay  \\\n",
       "count          8.950000e+03  8.950000e+03    8.950000e+03   \n",
       "mean          -8.728152e-16  7.807225e-17    4.842495e-18   \n",
       "std            1.000056e+00  1.000056e+00    1.000056e+00   \n",
       "min           -4.607266e-01 -9.979057e-01   -7.665959e-02   \n",
       "25%           -4.607266e-01 -8.914292e-01   -6.893135e-02   \n",
       "50%           -4.607266e-01 -2.211018e-01   -5.945853e-02   \n",
       "75%            5.233499e-02  8.434381e-01   -2.544077e-02   \n",
       "max            1.987892e+01  3.982827e+01    5.780861e+01   \n",
       "\n",
       "       both_oneoff_installment    istallment          none       one_off  \n",
       "count             8.950000e+03  8.950000e+03  8.950000e+03  8.950000e+03  \n",
       "mean             -3.752852e-15  8.733374e-15 -4.507133e-16 -2.274580e-15  \n",
       "std               1.000056e+00  1.000056e+00  1.000056e+00  1.000056e+00  \n",
       "min              -6.701925e-01 -5.812208e-01 -5.436904e-01 -5.146250e-01  \n",
       "25%              -6.701925e-01 -5.812208e-01 -5.436904e-01 -5.146250e-01  \n",
       "50%              -6.701925e-01 -5.812208e-01 -5.436904e-01 -5.146250e-01  \n",
       "75%               1.492109e+00  1.720516e+00 -5.436904e-01 -5.146250e-01  \n",
       "max               1.492109e+00  1.720516e+00  1.839282e+00  1.943162e+00  "
      ]
     },
     "execution_count": 157,
     "metadata": {},
     "output_type": "execute_result"
    }
   ],
   "source": [
    "cr_scaled=sc.fit_transform(cr_dummy)\n",
    "cr_scaled_data=pd.DataFrame(cr_scaled,columns=cr_dummy.columns)\n",
    "cr_scaled_data.describe()"
   ]
  },
  {
   "cell_type": "markdown",
   "metadata": {},
   "source": [
    "# e) Applying PCA "
   ]
  },
  {
   "cell_type": "code",
   "execution_count": 114,
   "metadata": {
    "collapsed": true
   },
   "outputs": [],
   "source": [
    "from sklearn.decomposition import PCA"
   ]
  },
  {
   "cell_type": "code",
   "execution_count": 115,
   "metadata": {
    "collapsed": false
   },
   "outputs": [],
   "source": [
    "var_ratio={}\n",
    "for n in range(4,15):\n",
    "    pc=PCA(n_components=n)\n",
    "    cr_pca=pc.fit(cr_scaled)\n",
    "    var_ratio[n]=sum(cr_pca.explained_variance_ratio_)"
   ]
  },
  {
   "cell_type": "code",
   "execution_count": 116,
   "metadata": {
    "collapsed": false
   },
   "outputs": [
    {
     "data": {
      "text/plain": [
       "<matplotlib.axes._subplots.AxesSubplot at 0x16ab1f98>"
      ]
     },
     "execution_count": 116,
     "metadata": {},
     "output_type": "execute_result"
    },
    {
     "data": {
      "image/png": "[encoded data removed]",
      "text/plain": [
       "<matplotlib.figure.Figure at 0x15eabf28>"
      ]
     },
     "metadata": {},
     "output_type": "display_data"
    }
   ],
   "source": [
    "pd.Series(var_ratio).plot()"
   ]
  },
  {
   "cell_type": "code",
   "execution_count": null,
   "metadata": {
    "collapsed": false
   },
   "outputs": [],
   "source": []
  },
  {
   "cell_type": "markdown",
   "metadata": {},
   "source": [
    "---\n",
    "# Since 5 components are explaining about 87% variance so we select 5 components\n",
    "\n",
    "---\n",
    "\n"
   ]
  },
  {
   "cell_type": "code",
   "execution_count": 158,
   "metadata": {
    "collapsed": false
   },
   "outputs": [],
   "source": [
    "pc_final=PCA(n_components=7).fit(cr_scaled)\n",
    "\n",
    "reduced_cr=pc_final.fit_transform(cr_scaled)"
   ]
  },
  {
   "cell_type": "code",
   "execution_count": 159,
   "metadata": {
    "collapsed": true
   },
   "outputs": [],
   "source": [
    "col_list=cr_dummy.columns"
   ]
  },
  {
   "cell_type": "code",
   "execution_count": 160,
   "metadata": {
    "collapsed": false
   },
   "outputs": [
    {
     "data": {
      "text/html": [
       "<div>\n",
       "<table border=\"1\" class=\"dataframe\">\n",
       "  <thead>\n",
       "    <tr style=\"text-align: right;\">\n",
       "      <th></th>\n",
       "      <th>PC_0</th>\n",
       "      <th>PC_1</th>\n",
       "      <th>PC_2</th>\n",
       "      <th>PC_3</th>\n",
       "      <th>PC_4</th>\n",
       "      <th>PC_5</th>\n",
       "      <th>PC_6</th>\n",
       "    </tr>\n",
       "  </thead>\n",
       "  <tbody>\n",
       "    <tr>\n",
       "      <th>BALANCE_FREQUENCY</th>\n",
       "      <td>0.081383</td>\n",
       "      <td>0.250454</td>\n",
       "      <td>0.165137</td>\n",
       "      <td>-0.481265</td>\n",
       "      <td>-0.221546</td>\n",
       "      <td>-0.279770</td>\n",
       "      <td>0.247824</td>\n",
       "    </tr>\n",
       "    <tr>\n",
       "      <th>ONEOFF_PURCHASES</th>\n",
       "      <td>0.268594</td>\n",
       "      <td>0.234655</td>\n",
       "      <td>-0.264622</td>\n",
       "      <td>0.299231</td>\n",
       "      <td>-0.039034</td>\n",
       "      <td>-0.216062</td>\n",
       "      <td>-0.017326</td>\n",
       "    </tr>\n",
       "    <tr>\n",
       "      <th>INSTALLMENTS_PURCHASES</th>\n",
       "      <td>0.301251</td>\n",
       "      <td>0.091941</td>\n",
       "      <td>0.150284</td>\n",
       "      <td>0.288944</td>\n",
       "      <td>-0.095317</td>\n",
       "      <td>-0.172192</td>\n",
       "      <td>-0.012892</td>\n",
       "    </tr>\n",
       "    <tr>\n",
       "      <th>PURCHASES_FREQUENCY</th>\n",
       "      <td>0.376263</td>\n",
       "      <td>-0.077029</td>\n",
       "      <td>0.195009</td>\n",
       "      <td>-0.225221</td>\n",
       "      <td>0.204665</td>\n",
       "      <td>0.040594</td>\n",
       "      <td>0.045414</td>\n",
       "    </tr>\n",
       "    <tr>\n",
       "      <th>ONEOFF_PURCHASES_FREQUENCY</th>\n",
       "      <td>0.277679</td>\n",
       "      <td>0.200445</td>\n",
       "      <td>-0.310394</td>\n",
       "      <td>-0.226082</td>\n",
       "      <td>0.120348</td>\n",
       "      <td>0.164076</td>\n",
       "      <td>0.014736</td>\n",
       "    </tr>\n",
       "    <tr>\n",
       "      <th>PURCHASES_INSTALLMENTS_FREQUENCY</th>\n",
       "      <td>0.330793</td>\n",
       "      <td>-0.116507</td>\n",
       "      <td>0.397819</td>\n",
       "      <td>-0.075546</td>\n",
       "      <td>0.064311</td>\n",
       "      <td>0.042265</td>\n",
       "      <td>0.008043</td>\n",
       "    </tr>\n",
       "    <tr>\n",
       "      <th>CASH_ADVANCE_FREQUENCY</th>\n",
       "      <td>-0.189016</td>\n",
       "      <td>0.423331</td>\n",
       "      <td>0.207705</td>\n",
       "      <td>0.021559</td>\n",
       "      <td>0.228217</td>\n",
       "      <td>0.028098</td>\n",
       "      <td>-0.020189</td>\n",
       "    </tr>\n",
       "    <tr>\n",
       "      <th>CASH_ADVANCE_TRX</th>\n",
       "      <td>-0.144620</td>\n",
       "      <td>0.403091</td>\n",
       "      <td>0.228019</td>\n",
       "      <td>0.053105</td>\n",
       "      <td>0.362967</td>\n",
       "      <td>0.061731</td>\n",
       "      <td>-0.063712</td>\n",
       "    </tr>\n",
       "    <tr>\n",
       "      <th>PURCHASES_TRX</th>\n",
       "      <td>0.357781</td>\n",
       "      <td>0.167436</td>\n",
       "      <td>0.019712</td>\n",
       "      <td>0.110327</td>\n",
       "      <td>-0.033497</td>\n",
       "      <td>-0.055573</td>\n",
       "      <td>0.006497</td>\n",
       "    </tr>\n",
       "    <tr>\n",
       "      <th>Monthly_avg_purchase</th>\n",
       "      <td>0.335246</td>\n",
       "      <td>0.222329</td>\n",
       "      <td>-0.142329</td>\n",
       "      <td>0.353670</td>\n",
       "      <td>-0.062017</td>\n",
       "      <td>-0.241221</td>\n",
       "      <td>-0.019721</td>\n",
       "    </tr>\n",
       "    <tr>\n",
       "      <th>Monthly_cash_advance</th>\n",
       "      <td>-0.142529</td>\n",
       "      <td>0.361781</td>\n",
       "      <td>0.199322</td>\n",
       "      <td>0.131793</td>\n",
       "      <td>0.334481</td>\n",
       "      <td>0.059302</td>\n",
       "      <td>-0.081372</td>\n",
       "    </tr>\n",
       "    <tr>\n",
       "      <th>limit_usage</th>\n",
       "      <td>-0.105110</td>\n",
       "      <td>0.276136</td>\n",
       "      <td>0.125658</td>\n",
       "      <td>-0.286024</td>\n",
       "      <td>-0.288459</td>\n",
       "      <td>-0.376158</td>\n",
       "      <td>0.297861</td>\n",
       "    </tr>\n",
       "    <tr>\n",
       "      <th>payment_minpay</th>\n",
       "      <td>0.007937</td>\n",
       "      <td>-0.030614</td>\n",
       "      <td>-0.005706</td>\n",
       "      <td>0.279102</td>\n",
       "      <td>0.089958</td>\n",
       "      <td>0.329227</td>\n",
       "      <td>0.895377</td>\n",
       "    </tr>\n",
       "    <tr>\n",
       "      <th>both_oneoff_installment</th>\n",
       "      <td>0.294636</td>\n",
       "      <td>0.166712</td>\n",
       "      <td>0.025867</td>\n",
       "      <td>-0.216462</td>\n",
       "      <td>-0.136882</td>\n",
       "      <td>0.518670</td>\n",
       "      <td>-0.117314</td>\n",
       "    </tr>\n",
       "    <tr>\n",
       "      <th>istallment</th>\n",
       "      <td>0.036544</td>\n",
       "      <td>-0.356597</td>\n",
       "      <td>0.390830</td>\n",
       "      <td>0.150732</td>\n",
       "      <td>0.230000</td>\n",
       "      <td>-0.364715</td>\n",
       "      <td>0.047597</td>\n",
       "    </tr>\n",
       "    <tr>\n",
       "      <th>none</th>\n",
       "      <td>-0.280313</td>\n",
       "      <td>0.178421</td>\n",
       "      <td>0.060386</td>\n",
       "      <td>0.259447</td>\n",
       "      <td>-0.491929</td>\n",
       "      <td>0.089766</td>\n",
       "      <td>-0.042591</td>\n",
       "    </tr>\n",
       "    <tr>\n",
       "      <th>one_off</th>\n",
       "      <td>-0.084806</td>\n",
       "      <td>0.007257</td>\n",
       "      <td>-0.509011</td>\n",
       "      <td>-0.182501</td>\n",
       "      <td>0.417367</td>\n",
       "      <td>-0.292691</td>\n",
       "      <td>0.126450</td>\n",
       "    </tr>\n",
       "  </tbody>\n",
       "</table>\n",
       "</div>"
      ],
      "text/plain": [
       "                                      PC_0      PC_1      PC_2      PC_3  \\\n",
       "BALANCE_FREQUENCY                 0.081383  0.250454  0.165137 -0.481265   \n",
       "ONEOFF_PURCHASES                  0.268594  0.234655 -0.264622  0.299231   \n",
       "INSTALLMENTS_PURCHASES            0.301251  0.091941  0.150284  0.288944   \n",
       "PURCHASES_FREQUENCY               0.376263 -0.077029  0.195009 -0.225221   \n",
       "ONEOFF_PURCHASES_FREQUENCY        0.277679  0.200445 -0.310394 -0.226082   \n",
       "PURCHASES_INSTALLMENTS_FREQUENCY  0.330793 -0.116507  0.397819 -0.075546   \n",
       "CASH_ADVANCE_FREQUENCY           -0.189016  0.423331  0.207705  0.021559   \n",
       "CASH_ADVANCE_TRX                 -0.144620  0.403091  0.228019  0.053105   \n",
       "PURCHASES_TRX                     0.357781  0.167436  0.019712  0.110327   \n",
       "Monthly_avg_purchase              0.335246  0.222329 -0.142329  0.353670   \n",
       "Monthly_cash_advance             -0.142529  0.361781  0.199322  0.131793   \n",
       "limit_usage                      -0.105110  0.276136  0.125658 -0.286024   \n",
       "payment_minpay                    0.007937 -0.030614 -0.005706  0.279102   \n",
       "both_oneoff_installment           0.294636  0.166712  0.025867 -0.216462   \n",
       "istallment                        0.036544 -0.356597  0.390830  0.150732   \n",
       "none                             -0.280313  0.178421  0.060386  0.259447   \n",
       "one_off                          -0.084806  0.007257 -0.509011 -0.182501   \n",
       "\n",
       "                                      PC_4      PC_5      PC_6  \n",
       "BALANCE_FREQUENCY                -0.221546 -0.279770  0.247824  \n",
       "ONEOFF_PURCHASES                 -0.039034 -0.216062 -0.017326  \n",
       "INSTALLMENTS_PURCHASES           -0.095317 -0.172192 -0.012892  \n",
       "PURCHASES_FREQUENCY               0.204665  0.040594  0.045414  \n",
       "ONEOFF_PURCHASES_FREQUENCY        0.120348  0.164076  0.014736  \n",
       "PURCHASES_INSTALLMENTS_FREQUENCY  0.064311  0.042265  0.008043  \n",
       "CASH_ADVANCE_FREQUENCY            0.228217  0.028098 -0.020189  \n",
       "CASH_ADVANCE_TRX                  0.362967  0.061731 -0.063712  \n",
       "PURCHASES_TRX                    -0.033497 -0.055573  0.006497  \n",
       "Monthly_avg_purchase             -0.062017 -0.241221 -0.019721  \n",
       "Monthly_cash_advance              0.334481  0.059302 -0.081372  \n",
       "limit_usage                      -0.288459 -0.376158  0.297861  \n",
       "payment_minpay                    0.089958  0.329227  0.895377  \n",
       "both_oneoff_installment          -0.136882  0.518670 -0.117314  \n",
       "istallment                        0.230000 -0.364715  0.047597  \n",
       "none                             -0.491929  0.089766 -0.042591  \n",
       "one_off                           0.417367 -0.292691  0.126450  "
      ]
     },
     "execution_count": 160,
     "metadata": {},
     "output_type": "execute_result"
    }
   ],
   "source": [
    "pd.DataFrame(pc_final.components_.T, columns=['PC_' +str(i) for i in range(7)],index=col_list)"
   ]
  },
  {
   "cell_type": "code",
   "execution_count": 161,
   "metadata": {
    "collapsed": false
   },
   "outputs": [
    {
     "data": {
      "text/plain": [
       "PC_0    0.291886\n",
       "PC_1    0.167998\n",
       "PC_2    0.118383\n",
       "PC_3    0.075565\n",
       "PC_4    0.071810\n",
       "PC_5    0.063409\n",
       "PC_6    0.056420\n",
       "dtype: float64"
      ]
     },
     "execution_count": 161,
     "metadata": {},
     "output_type": "execute_result"
    }
   ],
   "source": [
    "# Factor Analysis : variance explained by each component- \n",
    "pd.Series(pc_final.explained_variance_ratio_,index=['PC_'+ str(i) for i in range(7)])"
   ]
  },
  {
   "cell_type": "code",
   "execution_count": 121,
   "metadata": {
    "collapsed": false
   },
   "outputs": [
    {
     "data": {
      "text/plain": [
       "sklearn.decomposition.pca.PCA"
      ]
     },
     "execution_count": 121,
     "metadata": {},
     "output_type": "execute_result"
    }
   ],
   "source": [
    "type(cr_pca)"
   ]
  },
  {
   "cell_type": "markdown",
   "metadata": {},
   "source": [
    "# f). Clustering \n",
    "\n",
    "---\n",
    "<big>\n",
    "\n",
    "Based on the intuition on type of purchases made by customers and their distinctive behavior exhibited based on the purchase_type (as visualized above in Insights from KPI) , I am starting with 4 clusters.\n",
    "\n",
    "</big>\n",
    "\n",
    "---"
   ]
  },
  {
   "cell_type": "code",
   "execution_count": 122,
   "metadata": {
    "collapsed": true
   },
   "outputs": [],
   "source": [
    "from sklearn.cluster import KMeans\n"
   ]
  },
  {
   "cell_type": "code",
   "execution_count": 162,
   "metadata": {
    "collapsed": true
   },
   "outputs": [],
   "source": [
    "km_4=KMeans(n_clusters=4,random_state=123)\n"
   ]
  },
  {
   "cell_type": "code",
   "execution_count": 163,
   "metadata": {
    "collapsed": false
   },
   "outputs": [
    {
     "data": {
      "text/plain": [
       "array([3, 1, 0, ..., 3, 1, 0])"
      ]
     },
     "execution_count": 163,
     "metadata": {},
     "output_type": "execute_result"
    }
   ],
   "source": [
    "km_4.fit(reduced_cr)\n",
    "km_4.labels_\n"
   ]
  },
  {
   "cell_type": "code",
   "execution_count": 164,
   "metadata": {
    "collapsed": false
   },
   "outputs": [
    {
     "data": {
      "text/plain": [
       "2    2652\n",
       "1    2273\n",
       "3    2206\n",
       "0    1819\n",
       "dtype: int64"
      ]
     },
     "execution_count": 164,
     "metadata": {},
     "output_type": "execute_result"
    }
   ],
   "source": [
    "pd.Series(km_4.labels_).value_counts()\n"
   ]
  },
  {
   "cell_type": "code",
   "execution_count": 165,
   "metadata": {
    "collapsed": false
   },
   "outputs": [
    {
     "data": {
      "text/plain": [
       "<matplotlib.collections.PathCollection at 0x1d303ac8>"
      ]
     },
     "execution_count": 165,
     "metadata": {},
     "output_type": "execute_result"
    },
    {
     "data": {
      "image/png": "[encoded data removed]",
      "text/plain": [
       "<matplotlib.figure.Figure at 0x1b6398d0>"
      ]
     },
     "metadata": {},
     "output_type": "display_data"
    }
   ],
   "source": [
    "color_map={0:'r',1:'b',2:'g',3:'y'}\n",
    "label_color=[color_map[l] for l in km_4.labels_]\n",
    "plt.figure(figsize=(7,7))\n",
    "plt.scatter(reduced_cr[:,0],reduced_cr[:,1],c=label_color,cmap='Spectral',alpha=0.5)\n",
    "\n"
   ]
  },
  {
   "cell_type": "code",
   "execution_count": 127,
   "metadata": {
    "collapsed": false
   },
   "outputs": [
    {
     "data": {
      "text/plain": [
       "BALANCE_FREQUENCY                   float64\n",
       "ONEOFF_PURCHASES                    float64\n",
       "INSTALLMENTS_PURCHASES              float64\n",
       "PURCHASES_FREQUENCY                 float64\n",
       "ONEOFF_PURCHASES_FREQUENCY          float64\n",
       "PURCHASES_INSTALLMENTS_FREQUENCY    float64\n",
       "CASH_ADVANCE_FREQUENCY              float64\n",
       "CASH_ADVANCE_TRX                      int64\n",
       "PURCHASES_TRX                         int64\n",
       "Monthly_avg_purchase                float64\n",
       "Monthly_cash_advance                float64\n",
       "limit_usage                         float64\n",
       "payment_minpay                      float64\n",
       "both_oneoff_installment               uint8\n",
       "istallment                            uint8\n",
       "none                                  uint8\n",
       "one_off                               uint8\n",
       "dtype: object"
      ]
     },
     "execution_count": 127,
     "metadata": {},
     "output_type": "execute_result"
    }
   ],
   "source": [
    "cr_dummy.dtypes"
   ]
  },
  {
   "cell_type": "code",
   "execution_count": 166,
   "metadata": {
    "collapsed": false
   },
   "outputs": [],
   "source": [
    "df_pair_plot=pd.DataFrame(reduced_cr,columns=['PC_' +str(i) for i in range(7)])"
   ]
  },
  {
   "cell_type": "code",
   "execution_count": 167,
   "metadata": {
    "collapsed": false
   },
   "outputs": [],
   "source": [
    "df_pair_plot['Cluster']=km_4.labels_"
   ]
  },
  {
   "cell_type": "code",
   "execution_count": 168,
   "metadata": {
    "collapsed": false
   },
   "outputs": [
    {
     "data": {
      "text/plain": [
       "<seaborn.axisgrid.PairGrid at 0x1b314cc0>"
      ]
     },
     "execution_count": 168,
     "metadata": {},
     "output_type": "execute_result"
    },
    {
     "data": {
      "image/png": "[encoded data removed]",
      "text/plain": [
       "<matplotlib.figure.Figure at 0x1b314828>"
      ]
     },
     "metadata": {},
     "output_type": "display_data"
    }
   ],
   "source": [
    "#pairwise relationship of components on the data\n",
    "sns.pairplot(df_pair_plot,hue='Cluster', palette= 'Dark2', diag_kind='kde',size=1.85)"
   ]
  },
  {
   "cell_type": "markdown",
   "metadata": {},
   "source": [
    "## It shows that first two components are able to indentify clusters"
   ]
  },
  {
   "cell_type": "code",
   "execution_count": 169,
   "metadata": {
    "collapsed": true
   },
   "outputs": [],
   "source": [
    "# Key performace variable selection . here i am dropping varibales which are used in derving new KPI\n",
    "col_kpi=['PURCHASES_TRX','Monthly_avg_purchase','Monthly_cash_advance','limit_usage','CASH_ADVANCE_TRX',\n",
    "         'payment_minpay','both_oneoff_installment','istallment','one_off','none','CREDIT_LIMIT']"
   ]
  },
  {
   "cell_type": "code",
   "execution_count": 170,
   "metadata": {
    "collapsed": false
   },
   "outputs": [
    {
     "data": {
      "text/html": [
       "<div>\n",
       "<table border=\"1\" class=\"dataframe\">\n",
       "  <thead>\n",
       "    <tr style=\"text-align: right;\">\n",
       "      <th></th>\n",
       "      <th>BALANCE_FREQUENCY</th>\n",
       "      <th>ONEOFF_PURCHASES</th>\n",
       "      <th>INSTALLMENTS_PURCHASES</th>\n",
       "      <th>PURCHASES_FREQUENCY</th>\n",
       "      <th>ONEOFF_PURCHASES_FREQUENCY</th>\n",
       "      <th>PURCHASES_INSTALLMENTS_FREQUENCY</th>\n",
       "      <th>CASH_ADVANCE_FREQUENCY</th>\n",
       "      <th>CASH_ADVANCE_TRX</th>\n",
       "      <th>PURCHASES_TRX</th>\n",
       "      <th>Monthly_avg_purchase</th>\n",
       "      <th>Monthly_cash_advance</th>\n",
       "      <th>limit_usage</th>\n",
       "      <th>payment_minpay</th>\n",
       "    </tr>\n",
       "  </thead>\n",
       "  <tbody>\n",
       "    <tr>\n",
       "      <th>count</th>\n",
       "      <td>8950.000000</td>\n",
       "      <td>8950.000000</td>\n",
       "      <td>8950.000000</td>\n",
       "      <td>8950.000000</td>\n",
       "      <td>8950.000000</td>\n",
       "      <td>8950.000000</td>\n",
       "      <td>8950.000000</td>\n",
       "      <td>8950.000000</td>\n",
       "      <td>8950.000000</td>\n",
       "      <td>8950.000000</td>\n",
       "      <td>8950.000000</td>\n",
       "      <td>8950.000000</td>\n",
       "      <td>8950.000000</td>\n",
       "    </tr>\n",
       "    <tr>\n",
       "      <th>mean</th>\n",
       "      <td>0.877271</td>\n",
       "      <td>592.437371</td>\n",
       "      <td>411.067645</td>\n",
       "      <td>0.490351</td>\n",
       "      <td>0.202458</td>\n",
       "      <td>0.364437</td>\n",
       "      <td>0.135144</td>\n",
       "      <td>3.248827</td>\n",
       "      <td>14.709832</td>\n",
       "      <td>86.175173</td>\n",
       "      <td>88.977984</td>\n",
       "      <td>0.388884</td>\n",
       "      <td>9.059164</td>\n",
       "    </tr>\n",
       "    <tr>\n",
       "      <th>std</th>\n",
       "      <td>0.236904</td>\n",
       "      <td>1659.887917</td>\n",
       "      <td>904.338115</td>\n",
       "      <td>0.401371</td>\n",
       "      <td>0.298336</td>\n",
       "      <td>0.397448</td>\n",
       "      <td>0.200121</td>\n",
       "      <td>6.824647</td>\n",
       "      <td>24.857649</td>\n",
       "      <td>180.508787</td>\n",
       "      <td>193.136115</td>\n",
       "      <td>0.389722</td>\n",
       "      <td>118.180526</td>\n",
       "    </tr>\n",
       "    <tr>\n",
       "      <th>min</th>\n",
       "      <td>0.000000</td>\n",
       "      <td>0.000000</td>\n",
       "      <td>0.000000</td>\n",
       "      <td>0.000000</td>\n",
       "      <td>0.000000</td>\n",
       "      <td>0.000000</td>\n",
       "      <td>0.000000</td>\n",
       "      <td>0.000000</td>\n",
       "      <td>0.000000</td>\n",
       "      <td>0.000000</td>\n",
       "      <td>0.000000</td>\n",
       "      <td>0.000000</td>\n",
       "      <td>0.000000</td>\n",
       "    </tr>\n",
       "    <tr>\n",
       "      <th>25%</th>\n",
       "      <td>0.888889</td>\n",
       "      <td>0.000000</td>\n",
       "      <td>0.000000</td>\n",
       "      <td>0.083333</td>\n",
       "      <td>0.000000</td>\n",
       "      <td>0.000000</td>\n",
       "      <td>0.000000</td>\n",
       "      <td>0.000000</td>\n",
       "      <td>1.000000</td>\n",
       "      <td>3.399375</td>\n",
       "      <td>0.000000</td>\n",
       "      <td>0.041494</td>\n",
       "      <td>0.913275</td>\n",
       "    </tr>\n",
       "    <tr>\n",
       "      <th>50%</th>\n",
       "      <td>1.000000</td>\n",
       "      <td>38.000000</td>\n",
       "      <td>89.000000</td>\n",
       "      <td>0.500000</td>\n",
       "      <td>0.083333</td>\n",
       "      <td>0.166667</td>\n",
       "      <td>0.000000</td>\n",
       "      <td>0.000000</td>\n",
       "      <td>7.000000</td>\n",
       "      <td>31.936667</td>\n",
       "      <td>0.000000</td>\n",
       "      <td>0.302720</td>\n",
       "      <td>2.032717</td>\n",
       "    </tr>\n",
       "    <tr>\n",
       "      <th>75%</th>\n",
       "      <td>1.000000</td>\n",
       "      <td>577.405000</td>\n",
       "      <td>468.637500</td>\n",
       "      <td>0.916667</td>\n",
       "      <td>0.300000</td>\n",
       "      <td>0.750000</td>\n",
       "      <td>0.222222</td>\n",
       "      <td>4.000000</td>\n",
       "      <td>17.000000</td>\n",
       "      <td>97.228333</td>\n",
       "      <td>99.085196</td>\n",
       "      <td>0.717571</td>\n",
       "      <td>6.052729</td>\n",
       "    </tr>\n",
       "    <tr>\n",
       "      <th>max</th>\n",
       "      <td>1.000000</td>\n",
       "      <td>40761.250000</td>\n",
       "      <td>22500.000000</td>\n",
       "      <td>1.000000</td>\n",
       "      <td>1.000000</td>\n",
       "      <td>1.000000</td>\n",
       "      <td>1.500000</td>\n",
       "      <td>123.000000</td>\n",
       "      <td>358.000000</td>\n",
       "      <td>4086.630833</td>\n",
       "      <td>3928.100980</td>\n",
       "      <td>15.909951</td>\n",
       "      <td>6840.528861</td>\n",
       "    </tr>\n",
       "  </tbody>\n",
       "</table>\n",
       "</div>"
      ],
      "text/plain": [
       "       BALANCE_FREQUENCY  ONEOFF_PURCHASES  INSTALLMENTS_PURCHASES  \\\n",
       "count        8950.000000       8950.000000             8950.000000   \n",
       "mean            0.877271        592.437371              411.067645   \n",
       "std             0.236904       1659.887917              904.338115   \n",
       "min             0.000000          0.000000                0.000000   \n",
       "25%             0.888889          0.000000                0.000000   \n",
       "50%             1.000000         38.000000               89.000000   \n",
       "75%             1.000000        577.405000              468.637500   \n",
       "max             1.000000      40761.250000            22500.000000   \n",
       "\n",
       "       PURCHASES_FREQUENCY  ONEOFF_PURCHASES_FREQUENCY  \\\n",
       "count          8950.000000                 8950.000000   \n",
       "mean              0.490351                    0.202458   \n",
       "std               0.401371                    0.298336   \n",
       "min               0.000000                    0.000000   \n",
       "25%               0.083333                    0.000000   \n",
       "50%               0.500000                    0.083333   \n",
       "75%               0.916667                    0.300000   \n",
       "max               1.000000                    1.000000   \n",
       "\n",
       "       PURCHASES_INSTALLMENTS_FREQUENCY  CASH_ADVANCE_FREQUENCY  \\\n",
       "count                       8950.000000             8950.000000   \n",
       "mean                           0.364437                0.135144   \n",
       "std                            0.397448                0.200121   \n",
       "min                            0.000000                0.000000   \n",
       "25%                            0.000000                0.000000   \n",
       "50%                            0.166667                0.000000   \n",
       "75%                            0.750000                0.222222   \n",
       "max                            1.000000                1.500000   \n",
       "\n",
       "       CASH_ADVANCE_TRX  PURCHASES_TRX  Monthly_avg_purchase  \\\n",
       "count       8950.000000    8950.000000           8950.000000   \n",
       "mean           3.248827      14.709832             86.175173   \n",
       "std            6.824647      24.857649            180.508787   \n",
       "min            0.000000       0.000000              0.000000   \n",
       "25%            0.000000       1.000000              3.399375   \n",
       "50%            0.000000       7.000000             31.936667   \n",
       "75%            4.000000      17.000000             97.228333   \n",
       "max          123.000000     358.000000           4086.630833   \n",
       "\n",
       "       Monthly_cash_advance  limit_usage  payment_minpay  \n",
       "count           8950.000000  8950.000000     8950.000000  \n",
       "mean              88.977984     0.388884        9.059164  \n",
       "std              193.136115     0.389722      118.180526  \n",
       "min                0.000000     0.000000        0.000000  \n",
       "25%                0.000000     0.041494        0.913275  \n",
       "50%                0.000000     0.302720        2.032717  \n",
       "75%               99.085196     0.717571        6.052729  \n",
       "max             3928.100980    15.909951     6840.528861  "
      ]
     },
     "execution_count": 170,
     "metadata": {},
     "output_type": "execute_result"
    }
   ],
   "source": [
    "cr_pre.describe()"
   ]
  },
  {
   "cell_type": "code",
   "execution_count": 217,
   "metadata": {
    "collapsed": false
   },
   "outputs": [],
   "source": [
    "# Conactenating labels found through Kmeans with data \n",
    "cluster_df_4=pd.concat([cre_original[col_kpi],pd.Series(km_4.labels_,name='Cluster_4')],axis=1)\n",
    "\n",
    "#cluster_df_4=pd.concat([cr_scaled_data,pd.Series(km_4.labels_,name='Cluster_4')],axis=1)\n"
   ]
  },
  {
   "cell_type": "code",
   "execution_count": 218,
   "metadata": {
    "collapsed": false,
    "scrolled": false
   },
   "outputs": [
    {
     "data": {
      "text/html": [
       "<div>\n",
       "<table border=\"1\" class=\"dataframe\">\n",
       "  <thead>\n",
       "    <tr style=\"text-align: right;\">\n",
       "      <th></th>\n",
       "      <th>PURCHASES_TRX</th>\n",
       "      <th>Monthly_avg_purchase</th>\n",
       "      <th>Monthly_cash_advance</th>\n",
       "      <th>limit_usage</th>\n",
       "      <th>CASH_ADVANCE_TRX</th>\n",
       "      <th>payment_minpay</th>\n",
       "      <th>both_oneoff_installment</th>\n",
       "      <th>istallment</th>\n",
       "      <th>one_off</th>\n",
       "      <th>none</th>\n",
       "      <th>CREDIT_LIMIT</th>\n",
       "      <th>Cluster_4</th>\n",
       "    </tr>\n",
       "  </thead>\n",
       "  <tbody>\n",
       "    <tr>\n",
       "      <th>0</th>\n",
       "      <td>2</td>\n",
       "      <td>7.950000</td>\n",
       "      <td>0.000000</td>\n",
       "      <td>0.040901</td>\n",
       "      <td>0</td>\n",
       "      <td>1.446508</td>\n",
       "      <td>0</td>\n",
       "      <td>1</td>\n",
       "      <td>0</td>\n",
       "      <td>0</td>\n",
       "      <td>1000.0</td>\n",
       "      <td>3</td>\n",
       "    </tr>\n",
       "    <tr>\n",
       "      <th>1</th>\n",
       "      <td>0</td>\n",
       "      <td>0.000000</td>\n",
       "      <td>536.912124</td>\n",
       "      <td>0.457495</td>\n",
       "      <td>4</td>\n",
       "      <td>3.826241</td>\n",
       "      <td>0</td>\n",
       "      <td>0</td>\n",
       "      <td>0</td>\n",
       "      <td>1</td>\n",
       "      <td>7000.0</td>\n",
       "      <td>1</td>\n",
       "    </tr>\n",
       "    <tr>\n",
       "      <th>2</th>\n",
       "      <td>12</td>\n",
       "      <td>64.430833</td>\n",
       "      <td>0.000000</td>\n",
       "      <td>0.332687</td>\n",
       "      <td>0</td>\n",
       "      <td>0.991682</td>\n",
       "      <td>0</td>\n",
       "      <td>0</td>\n",
       "      <td>1</td>\n",
       "      <td>0</td>\n",
       "      <td>7500.0</td>\n",
       "      <td>0</td>\n",
       "    </tr>\n",
       "    <tr>\n",
       "      <th>3</th>\n",
       "      <td>1</td>\n",
       "      <td>124.916667</td>\n",
       "      <td>17.149001</td>\n",
       "      <td>0.222223</td>\n",
       "      <td>1</td>\n",
       "      <td>0.000000</td>\n",
       "      <td>0</td>\n",
       "      <td>0</td>\n",
       "      <td>1</td>\n",
       "      <td>0</td>\n",
       "      <td>7500.0</td>\n",
       "      <td>0</td>\n",
       "    </tr>\n",
       "    <tr>\n",
       "      <th>4</th>\n",
       "      <td>1</td>\n",
       "      <td>1.333333</td>\n",
       "      <td>0.000000</td>\n",
       "      <td>0.681429</td>\n",
       "      <td>0</td>\n",
       "      <td>2.771075</td>\n",
       "      <td>0</td>\n",
       "      <td>0</td>\n",
       "      <td>1</td>\n",
       "      <td>0</td>\n",
       "      <td>1200.0</td>\n",
       "      <td>0</td>\n",
       "    </tr>\n",
       "  </tbody>\n",
       "</table>\n",
       "</div>"
      ],
      "text/plain": [
       "   PURCHASES_TRX  Monthly_avg_purchase  Monthly_cash_advance  limit_usage  \\\n",
       "0              2              7.950000              0.000000     0.040901   \n",
       "1              0              0.000000            536.912124     0.457495   \n",
       "2             12             64.430833              0.000000     0.332687   \n",
       "3              1            124.916667             17.149001     0.222223   \n",
       "4              1              1.333333              0.000000     0.681429   \n",
       "\n",
       "   CASH_ADVANCE_TRX  payment_minpay  both_oneoff_installment  istallment  \\\n",
       "0                 0        1.446508                        0           1   \n",
       "1                 4        3.826241                        0           0   \n",
       "2                 0        0.991682                        0           0   \n",
       "3                 1        0.000000                        0           0   \n",
       "4                 0        2.771075                        0           0   \n",
       "\n",
       "   one_off  none  CREDIT_LIMIT  Cluster_4  \n",
       "0        0     0        1000.0          3  \n",
       "1        0     1        7000.0          1  \n",
       "2        1     0        7500.0          0  \n",
       "3        1     0        7500.0          0  \n",
       "4        1     0        1200.0          0  "
      ]
     },
     "execution_count": 218,
     "metadata": {},
     "output_type": "execute_result"
    }
   ],
   "source": [
    "cluster_df_4.head()\n"
   ]
  },
  {
   "cell_type": "code",
   "execution_count": 219,
   "metadata": {
    "collapsed": false
   },
   "outputs": [
    {
     "data": {
      "text/html": [
       "<div>\n",
       "<table border=\"1\" class=\"dataframe\">\n",
       "  <thead>\n",
       "    <tr style=\"text-align: right;\">\n",
       "      <th>Cluster_4</th>\n",
       "      <th>0</th>\n",
       "      <th>1</th>\n",
       "      <th>2</th>\n",
       "      <th>3</th>\n",
       "    </tr>\n",
       "  </thead>\n",
       "  <tbody>\n",
       "    <tr>\n",
       "      <th>PURCHASES_TRX</th>\n",
       "      <td>6.521715</td>\n",
       "      <td>0.640123</td>\n",
       "      <td>34.789216</td>\n",
       "      <td>11.819583</td>\n",
       "    </tr>\n",
       "    <tr>\n",
       "      <th>Monthly_avg_purchase</th>\n",
       "      <td>66.398263</td>\n",
       "      <td>4.341761</td>\n",
       "      <td>203.773520</td>\n",
       "      <td>45.427543</td>\n",
       "    </tr>\n",
       "    <tr>\n",
       "      <th>Monthly_cash_advance</th>\n",
       "      <td>59.320995</td>\n",
       "      <td>213.011554</td>\n",
       "      <td>54.440970</td>\n",
       "      <td>27.151111</td>\n",
       "    </tr>\n",
       "    <tr>\n",
       "      <th>limit_usage</th>\n",
       "      <td>0.366225</td>\n",
       "      <td>0.580735</td>\n",
       "      <td>0.347284</td>\n",
       "      <td>0.259899</td>\n",
       "    </tr>\n",
       "    <tr>\n",
       "      <th>CASH_ADVANCE_TRX</th>\n",
       "      <td>2.133040</td>\n",
       "      <td>7.653322</td>\n",
       "      <td>2.259427</td>\n",
       "      <td>0.820036</td>\n",
       "    </tr>\n",
       "    <tr>\n",
       "      <th>payment_minpay</th>\n",
       "      <td>5.547681</td>\n",
       "      <td>9.448131</td>\n",
       "      <td>7.455052</td>\n",
       "      <td>13.482269</td>\n",
       "    </tr>\n",
       "    <tr>\n",
       "      <th>both_oneoff_installment</th>\n",
       "      <td>0.011545</td>\n",
       "      <td>0.048394</td>\n",
       "      <td>0.994721</td>\n",
       "      <td>0.002267</td>\n",
       "    </tr>\n",
       "    <tr>\n",
       "      <th>istallment</th>\n",
       "      <td>0.000000</td>\n",
       "      <td>0.024197</td>\n",
       "      <td>0.001508</td>\n",
       "      <td>0.997733</td>\n",
       "    </tr>\n",
       "    <tr>\n",
       "      <th>one_off</th>\n",
       "      <td>0.988455</td>\n",
       "      <td>0.029037</td>\n",
       "      <td>0.003771</td>\n",
       "      <td>0.000000</td>\n",
       "    </tr>\n",
       "    <tr>\n",
       "      <th>none</th>\n",
       "      <td>0.000000</td>\n",
       "      <td>0.898372</td>\n",
       "      <td>0.000000</td>\n",
       "      <td>0.000000</td>\n",
       "    </tr>\n",
       "    <tr>\n",
       "      <th>CREDIT_LIMIT</th>\n",
       "      <td>4392.553684</td>\n",
       "      <td>4304.384807</td>\n",
       "      <td>5754.220562</td>\n",
       "      <td>3259.162912</td>\n",
       "    </tr>\n",
       "  </tbody>\n",
       "</table>\n",
       "</div>"
      ],
      "text/plain": [
       "Cluster_4                          0            1            2            3\n",
       "PURCHASES_TRX               6.521715     0.640123    34.789216    11.819583\n",
       "Monthly_avg_purchase       66.398263     4.341761   203.773520    45.427543\n",
       "Monthly_cash_advance       59.320995   213.011554    54.440970    27.151111\n",
       "limit_usage                 0.366225     0.580735     0.347284     0.259899\n",
       "CASH_ADVANCE_TRX            2.133040     7.653322     2.259427     0.820036\n",
       "payment_minpay              5.547681     9.448131     7.455052    13.482269\n",
       "both_oneoff_installment     0.011545     0.048394     0.994721     0.002267\n",
       "istallment                  0.000000     0.024197     0.001508     0.997733\n",
       "one_off                     0.988455     0.029037     0.003771     0.000000\n",
       "none                        0.000000     0.898372     0.000000     0.000000\n",
       "CREDIT_LIMIT             4392.553684  4304.384807  5754.220562  3259.162912"
      ]
     },
     "execution_count": 219,
     "metadata": {},
     "output_type": "execute_result"
    }
   ],
   "source": [
    "# Mean value gives a good indication of the distribution of data. So we are finding mean value for each variable for each cluster\n",
    "cluster_4=cluster_df_4.groupby('Cluster_4')\\\n",
    ".apply(lambda x: x[col_kpi].mean()).T\n",
    "cluster_4\n",
    "\n",
    "\n"
   ]
  },
  {
   "cell_type": "code",
   "execution_count": 220,
   "metadata": {
    "collapsed": false
   },
   "outputs": [
    {
     "data": {
      "text/plain": [
       "<matplotlib.legend.Legend at 0x28568ac8>"
      ]
     },
     "execution_count": 220,
     "metadata": {},
     "output_type": "execute_result"
    },
    {
     "data": {
      "image/png": "[encoded data removed]",
      "text/plain": [
       "<matplotlib.figure.Figure at 0x2649b4e0>"
      ]
     },
     "metadata": {},
     "output_type": "display_data"
    }
   ],
   "source": [
    "fig,ax=plt.subplots(figsize=(15,10))\n",
    "index=np.arange(len(cluster_4.columns))\n",
    "\n",
    "cash_advance=np.log(cluster_4.loc['Monthly_cash_advance',:].values)\n",
    "credit_score=(cluster_4.loc['limit_usage',:].values)\n",
    "purchase= np.log(cluster_4.loc['Monthly_avg_purchase',:].values)\n",
    "payment=cluster_4.loc['payment_minpay',:].values\n",
    "installment=cluster_4.loc['istallment',:].values\n",
    "one_off=cluster_4.loc['one_off',:].values\n",
    "\n",
    "\n",
    "bar_width=.10\n",
    "b1=plt.bar(index,cash_advance,color='b',label='Monthly cash advance',width=bar_width)\n",
    "b2=plt.bar(index+bar_width,credit_score,color='m',label='Credit_score',width=bar_width)\n",
    "b3=plt.bar(index+2*bar_width,purchase,color='k',label='Avg purchase',width=bar_width)\n",
    "b4=plt.bar(index+3*bar_width,payment,color='c',label='Payment-minpayment ratio',width=bar_width)\n",
    "b5=plt.bar(index+4*bar_width,installment,color='r',label='installment',width=bar_width)\n",
    "b6=plt.bar(index+5*bar_width,one_off,color='g',label='One_off purchase',width=bar_width)\n",
    "\n",
    "plt.xlabel(\"Cluster\")\n",
    "plt.title(\"Insights\")\n",
    "plt.xticks(index + bar_width, ('Cl-0', 'Cl-1', 'Cl-2', 'Cl-3'))\n",
    "plt.legend()"
   ]
  },
  {
   "cell_type": "markdown",
   "metadata": {},
   "source": [
    "## ---\n",
    "** Insights**\n",
    "\n",
    "# Clusters are clearly distinguishing behavior within customers\n",
    "\n",
    "---\n",
    "\n",
    "<big>\n",
    "\n",
    "- \n",
    "- Cluster 3 customers have best credit score and  are paying dues and are doing maximum installment purchases. taking less advance on cash.But thier average purchases are little less. *** This group is about 25% of the total customer base ***\n",
    "\n",
    "\n",
    "\n",
    "- Cluster 2 is the group of customers who have highest Monthly_avg purchases and doing both installment as well as one_off   purchases, have comparatively good credit score. *** This group is about 30% of the total customer base ***\n",
    " \n",
    "\n",
    " \n",
    "- cluster 1 is taking maximum advance_cash  and   is paying comparatively less minimum payment and poor credit_score & doing no very less purchase transaction. *** This group is about 25% of the total customer base ***\n",
    "\n",
    "\n",
    "\n",
    "- Cluster 0 customers are doing maximum One_Off transactions  and  least payment ratio. *** This group is about 20% of the total customer base ***\n",
    "\n",
    "\n",
    "\n",
    "\n",
    "\n",
    "---\n",
    "\n"
   ]
  },
  {
   "cell_type": "markdown",
   "metadata": {},
   "source": [
    "# Findings through clustering is validating Insights dervied from KPI. (as shown above in Insights from KPI\n",
    "---"
   ]
  },
  {
   "cell_type": "code",
   "execution_count": 175,
   "metadata": {
    "collapsed": false
   },
   "outputs": [
    {
     "name": "stdout",
     "output_type": "stream",
     "text": [
      "Cluster_4   \n",
      "0          0    1819\n",
      "1          1    2273\n",
      "2          2    2652\n",
      "3          3    2206\n",
      "Name: Cluster_4, dtype: int64 \n",
      "\n",
      "Cluster -4  \n",
      "\n",
      "   Size  Percentage\n",
      "0  1819   20.324022\n",
      "1  2273   25.396648\n",
      "2  2652   29.631285\n",
      "3  2206   24.648045 \n",
      "\n"
     ]
    }
   ],
   "source": [
    "# Percentage of each cluster in the total customer base\n",
    "s=cluster_df_4.groupby('Cluster_4').apply(lambda x: x['Cluster_4'].value_counts())\n",
    "print s,'\\n'\n",
    "\n",
    "per=pd.Series((s.values.astype('float')/ cluster_df_4.shape[0])*100,name='Percentage')\n",
    "print \"Cluster -4 \",'\\n'\n",
    "print pd.concat([pd.Series(s.values,name='Size'),per],axis=1),'\\n'\n"
   ]
  },
  {
   "cell_type": "markdown",
   "metadata": {},
   "source": [
    "# Finding behaviour with 5 Clusters:\n",
    "---"
   ]
  },
  {
   "cell_type": "code",
   "execution_count": 225,
   "metadata": {
    "collapsed": false
   },
   "outputs": [
    {
     "data": {
      "text/plain": [
       "(8950L, 17L)"
      ]
     },
     "execution_count": 225,
     "metadata": {},
     "output_type": "execute_result"
    }
   ],
   "source": [
    "reduced_cr.shape\n",
    "cr_scaled.shape"
   ]
  },
  {
   "cell_type": "code",
   "execution_count": 176,
   "metadata": {
    "collapsed": false
   },
   "outputs": [
    {
     "data": {
      "text/plain": [
       "array([1, 4, 0, ..., 1, 4, 0])"
      ]
     },
     "execution_count": 176,
     "metadata": {},
     "output_type": "execute_result"
    }
   ],
   "source": [
    "km_5=KMeans(n_clusters=5,random_state=123)\n",
    "km_5=km_5.fit(reduced_cr)\n",
    "km_5.labels_"
   ]
  },
  {
   "cell_type": "code",
   "execution_count": 177,
   "metadata": {
    "collapsed": false
   },
   "outputs": [
    {
     "data": {
      "text/plain": [
       "3    2533\n",
       "4    2206\n",
       "1    2202\n",
       "0    1811\n",
       "2     198\n",
       "dtype: int64"
      ]
     },
     "execution_count": 177,
     "metadata": {},
     "output_type": "execute_result"
    }
   ],
   "source": [
    "pd.Series(km_5.labels_).value_counts()"
   ]
  },
  {
   "cell_type": "code",
   "execution_count": 178,
   "metadata": {
    "collapsed": false
   },
   "outputs": [
    {
     "data": {
      "text/plain": [
       "<matplotlib.text.Text at 0x24429908>"
      ]
     },
     "execution_count": 178,
     "metadata": {},
     "output_type": "execute_result"
    },
    {
     "data": {
      "image/png": "[encoded data removed]",
      "text/plain": [
       "<matplotlib.figure.Figure at 0x241b54a8>"
      ]
     },
     "metadata": {},
     "output_type": "display_data"
    }
   ],
   "source": [
    "plt.figure(figsize=(7,7))\n",
    "plt.scatter(reduced_cr[:,0],reduced_cr[:,1],c=km_5.labels_,cmap='Spectral',alpha=0.5)\n",
    "plt.xlabel('PC_0')\n",
    "plt.ylabel('PC_1')"
   ]
  },
  {
   "cell_type": "code",
   "execution_count": 193,
   "metadata": {
    "collapsed": true
   },
   "outputs": [],
   "source": [
    "cluster_df_5=pd.concat([cre_original[col_kpi],pd.Series(km_5.labels_,name='Cluster_5')],axis=1)"
   ]
  },
  {
   "cell_type": "code",
   "execution_count": 195,
   "metadata": {
    "collapsed": false
   },
   "outputs": [],
   "source": [
    "# Finding Mean of features for each cluster\n",
    "cluster_df_5=cluster_df_5.groupby('Cluster_5')\\\n",
    ".apply(lambda x: x[col_kpi].mean()).T"
   ]
  },
  {
   "cell_type": "code",
   "execution_count": 196,
   "metadata": {
    "collapsed": false
   },
   "outputs": [
    {
     "data": {
      "text/plain": [
       "<matplotlib.legend.Legend at 0x265d3d68>"
      ]
     },
     "execution_count": 196,
     "metadata": {},
     "output_type": "execute_result"
    },
    {
     "data": {
      "image/png": "[encoded data removed]",
      "text/plain": [
       "<matplotlib.figure.Figure at 0x2643b7b8>"
      ]
     },
     "metadata": {},
     "output_type": "display_data"
    }
   ],
   "source": [
    "fig,ax=plt.subplots(figsize=(15,10))\n",
    "index=np.arange(len(cluster_df_5.columns))\n",
    "\n",
    "cash_advance=np.log(cluster_df_5.loc['Monthly_cash_advance',:].values)\n",
    "credit_score=(cluster_df_5.loc['limit_usage',:].values)\n",
    "purchase= np.log(cluster_df_5.loc['Monthly_avg_purchase',:].values)\n",
    "payment=cluster_df_5.loc['payment_minpay',:].values\n",
    "installment=cluster_df_5.loc['istallment',:].values\n",
    "one_off=cluster_df_5.loc['one_off',:].values\n",
    "\n",
    "\n",
    "bar_width=.10\n",
    "b1=plt.bar(index,cash_advance,color='b',label='Monthly cash advance',width=bar_width)\n",
    "b2=plt.bar(index+bar_width,credit_score,color='m',label='Credit_score',width=bar_width)\n",
    "b3=plt.bar(index+2*bar_width,purchase,color='k',label='Avg purchase',width=bar_width)\n",
    "b4=plt.bar(index+3*bar_width,payment,color='c',label='Payment-minpayment ratio',width=bar_width)\n",
    "b5=plt.bar(index+4*bar_width,installment,color='r',label='installment',width=bar_width)\n",
    "b6=plt.bar(index+5*bar_width,one_off,color='g',label='One_off purchase',width=bar_width)\n",
    "\n",
    "plt.xlabel(\"Cluster\")\n",
    "plt.title(\"Insights\")\n",
    "plt.xticks(index + bar_width, ('Cl-0', 'Cl-1', 'Cl-2', 'Cl-3','Cl-4'))\n",
    "plt.legend()"
   ]
  },
  {
   "cell_type": "markdown",
   "metadata": {},
   "source": [
    "# With 5 clusters : \n",
    "\n",
    "\n",
    "\n",
    "- Cluster 0 and Cluster 3 are behaving similar in terms of Credit_limit and have cash advance transactions is on higher side.\n",
    "\n",
    "\n",
    "---\n",
    " \n",
    "<big>\n",
    "\n",
    "*** So we don't have quite distinguishable characteristics with 5 clusters, ***"
   ]
  },
  {
   "cell_type": "code",
   "execution_count": 181,
   "metadata": {
    "collapsed": false
   },
   "outputs": [
    {
     "name": "stdout",
     "output_type": "stream",
     "text": [
      "\n",
      "Cluster_5   \n",
      "0          0    1811\n",
      "1          1    2202\n",
      "2          2     198\n",
      "3          3    2533\n",
      "4          4    2206\n",
      "Name: Cluster_5, dtype: int64\n"
     ]
    }
   ],
   "source": [
    "\n",
    "s1=cluster_df_5.groupby('Cluster_5').apply(lambda x: x['Cluster_5'].value_counts())\n",
    "print '\\n',s1"
   ]
  },
  {
   "cell_type": "code",
   "execution_count": 182,
   "metadata": {
    "collapsed": false
   },
   "outputs": [
    {
     "name": "stdout",
     "output_type": "stream",
     "text": [
      "Cluster-5 \n",
      "\n",
      "   Size  Percentage\n",
      "0  1811   20.234637\n",
      "1  2202   24.603352\n",
      "2   198    2.212291\n",
      "3  2533   28.301676\n",
      "4  2206   24.648045\n"
     ]
    }
   ],
   "source": [
    "# percentage of each cluster\n",
    "\n",
    "\n",
    "print \"Cluster-5\",'\\n'\n",
    "per_5=pd.Series((s1.values.astype('float')/ cluster_df_5.shape[0])*100,name='Percentage')\n",
    "print pd.concat([pd.Series(s1.values,name='Size'),per_5],axis=1)"
   ]
  },
  {
   "cell_type": "markdown",
   "metadata": {},
   "source": [
    "# Finding behavior with 6 clusters"
   ]
  },
  {
   "cell_type": "code",
   "execution_count": 183,
   "metadata": {
    "collapsed": false
   },
   "outputs": [
    {
     "data": {
      "text/plain": [
       "array([0, 5, 1, ..., 0, 5, 1])"
      ]
     },
     "execution_count": 183,
     "metadata": {},
     "output_type": "execute_result"
    }
   ],
   "source": [
    "km_6=KMeans(n_clusters=6).fit(reduced_cr)\n",
    "km_6.labels_"
   ]
  },
  {
   "cell_type": "code",
   "execution_count": 184,
   "metadata": {
    "collapsed": false
   },
   "outputs": [
    {
     "data": {
      "text/plain": [
       "<matplotlib.collections.PathCollection at 0x24fd2278>"
      ]
     },
     "execution_count": 184,
     "metadata": {},
     "output_type": "execute_result"
    },
    {
     "data": {
      "image/png": "[encoded data removed]",
      "text/plain": [
       "<matplotlib.figure.Figure at 0x21efeef0>"
      ]
     },
     "metadata": {},
     "output_type": "display_data"
    }
   ],
   "source": [
    "color_map={0:'r',1:'b',2:'g',3:'c',4:'m',5:'k'}\n",
    "label_color=[color_map[l] for l in km_6.labels_]\n",
    "plt.figure(figsize=(7,7))\n",
    "plt.scatter(reduced_cr[:,0],reduced_cr[:,1],c=label_color,cmap='Spectral',alpha=0.5)\n"
   ]
  },
  {
   "cell_type": "code",
   "execution_count": 197,
   "metadata": {
    "collapsed": true
   },
   "outputs": [],
   "source": [
    "cluster_df_6=pd.concat([cre_original[col_kpi],pd.Series(km_6.labels_,name='Cluster_6')],axis=1)"
   ]
  },
  {
   "cell_type": "code",
   "execution_count": 198,
   "metadata": {
    "collapsed": false
   },
   "outputs": [
    {
     "data": {
      "text/html": [
       "<div>\n",
       "<table border=\"1\" class=\"dataframe\">\n",
       "  <thead>\n",
       "    <tr style=\"text-align: right;\">\n",
       "      <th>Cluster_6</th>\n",
       "      <th>0</th>\n",
       "      <th>1</th>\n",
       "      <th>2</th>\n",
       "      <th>3</th>\n",
       "      <th>4</th>\n",
       "      <th>5</th>\n",
       "    </tr>\n",
       "  </thead>\n",
       "  <tbody>\n",
       "    <tr>\n",
       "      <th>PURCHASES_TRX</th>\n",
       "      <td>11.731034</td>\n",
       "      <td>6.662398</td>\n",
       "      <td>28.027072</td>\n",
       "      <td>113.308901</td>\n",
       "      <td>9.798623</td>\n",
       "      <td>0.033970</td>\n",
       "    </tr>\n",
       "    <tr>\n",
       "      <th>Monthly_avg_purchase</th>\n",
       "      <td>44.777906</td>\n",
       "      <td>64.333248</td>\n",
       "      <td>146.524957</td>\n",
       "      <td>925.786344</td>\n",
       "      <td>59.045147</td>\n",
       "      <td>0.220005</td>\n",
       "    </tr>\n",
       "    <tr>\n",
       "      <th>Monthly_cash_advance</th>\n",
       "      <td>21.789555</td>\n",
       "      <td>44.232974</td>\n",
       "      <td>33.217728</td>\n",
       "      <td>65.768363</td>\n",
       "      <td>546.280078</td>\n",
       "      <td>139.735761</td>\n",
       "    </tr>\n",
       "    <tr>\n",
       "      <th>limit_usage</th>\n",
       "      <td>0.255533</td>\n",
       "      <td>0.358722</td>\n",
       "      <td>0.332492</td>\n",
       "      <td>0.391259</td>\n",
       "      <td>0.613775</td>\n",
       "      <td>0.572608</td>\n",
       "    </tr>\n",
       "    <tr>\n",
       "      <th>CASH_ADVANCE_TRX</th>\n",
       "      <td>0.670345</td>\n",
       "      <td>1.614668</td>\n",
       "      <td>1.429821</td>\n",
       "      <td>2.193717</td>\n",
       "      <td>20.829604</td>\n",
       "      <td>4.719214</td>\n",
       "    </tr>\n",
       "    <tr>\n",
       "      <th>payment_minpay</th>\n",
       "      <td>13.622172</td>\n",
       "      <td>5.632982</td>\n",
       "      <td>6.672287</td>\n",
       "      <td>17.818416</td>\n",
       "      <td>5.781627</td>\n",
       "      <td>10.080270</td>\n",
       "    </tr>\n",
       "    <tr>\n",
       "      <th>both_oneoff_installment</th>\n",
       "      <td>0.000000</td>\n",
       "      <td>0.001746</td>\n",
       "      <td>0.999584</td>\n",
       "      <td>0.905759</td>\n",
       "      <td>0.321859</td>\n",
       "      <td>0.005839</td>\n",
       "    </tr>\n",
       "    <tr>\n",
       "      <th>istallment</th>\n",
       "      <td>1.000000</td>\n",
       "      <td>0.000000</td>\n",
       "      <td>0.000000</td>\n",
       "      <td>0.031414</td>\n",
       "      <td>0.120482</td>\n",
       "      <td>0.004777</td>\n",
       "    </tr>\n",
       "    <tr>\n",
       "      <th>one_off</th>\n",
       "      <td>0.000000</td>\n",
       "      <td>0.998254</td>\n",
       "      <td>0.000416</td>\n",
       "      <td>0.062827</td>\n",
       "      <td>0.251291</td>\n",
       "      <td>0.000000</td>\n",
       "    </tr>\n",
       "    <tr>\n",
       "      <th>none</th>\n",
       "      <td>0.000000</td>\n",
       "      <td>0.000000</td>\n",
       "      <td>0.000000</td>\n",
       "      <td>0.000000</td>\n",
       "      <td>0.306368</td>\n",
       "      <td>0.989384</td>\n",
       "    </tr>\n",
       "    <tr>\n",
       "      <th>CREDIT_LIMIT</th>\n",
       "      <td>3198.902705</td>\n",
       "      <td>4302.581578</td>\n",
       "      <td>5269.080770</td>\n",
       "      <td>10562.827225</td>\n",
       "      <td>7272.547332</td>\n",
       "      <td>3705.130927</td>\n",
       "    </tr>\n",
       "  </tbody>\n",
       "</table>\n",
       "</div>"
      ],
      "text/plain": [
       "Cluster_6                          0            1            2             3  \\\n",
       "PURCHASES_TRX              11.731034     6.662398    28.027072    113.308901   \n",
       "Monthly_avg_purchase       44.777906    64.333248   146.524957    925.786344   \n",
       "Monthly_cash_advance       21.789555    44.232974    33.217728     65.768363   \n",
       "limit_usage                 0.255533     0.358722     0.332492      0.391259   \n",
       "CASH_ADVANCE_TRX            0.670345     1.614668     1.429821      2.193717   \n",
       "payment_minpay             13.622172     5.632982     6.672287     17.818416   \n",
       "both_oneoff_installment     0.000000     0.001746     0.999584      0.905759   \n",
       "istallment                  1.000000     0.000000     0.000000      0.031414   \n",
       "one_off                     0.000000     0.998254     0.000416      0.062827   \n",
       "none                        0.000000     0.000000     0.000000      0.000000   \n",
       "CREDIT_LIMIT             3198.902705  4302.581578  5269.080770  10562.827225   \n",
       "\n",
       "Cluster_6                          4            5  \n",
       "PURCHASES_TRX               9.798623     0.033970  \n",
       "Monthly_avg_purchase       59.045147     0.220005  \n",
       "Monthly_cash_advance      546.280078   139.735761  \n",
       "limit_usage                 0.613775     0.572608  \n",
       "CASH_ADVANCE_TRX           20.829604     4.719214  \n",
       "payment_minpay              5.781627    10.080270  \n",
       "both_oneoff_installment     0.321859     0.005839  \n",
       "istallment                  0.120482     0.004777  \n",
       "one_off                     0.251291     0.000000  \n",
       "none                        0.306368     0.989384  \n",
       "CREDIT_LIMIT             7272.547332  3705.130927  "
      ]
     },
     "execution_count": 198,
     "metadata": {},
     "output_type": "execute_result"
    }
   ],
   "source": [
    "six_cluster=cluster_df_6.groupby('Cluster_6')\\\n",
    ".apply(lambda x: x[col_kpi].mean()).T\n",
    "six_cluster"
   ]
  },
  {
   "cell_type": "code",
   "execution_count": 216,
   "metadata": {
    "collapsed": false
   },
   "outputs": [
    {
     "data": {
      "text/plain": [
       "<matplotlib.legend.Legend at 0x270faf98>"
      ]
     },
     "execution_count": 216,
     "metadata": {},
     "output_type": "execute_result"
    },
    {
     "data": {
      "image/png": "[encoded data removed]",
      "text/plain": [
       "<matplotlib.figure.Figure at 0x28264da0>"
      ]
     },
     "metadata": {},
     "output_type": "display_data"
    }
   ],
   "source": [
    "fig,ax=plt.subplots(figsize=(15,10))\n",
    "index=np.arange(len(six_cluster.columns))\n",
    "\n",
    "cash_advance=np.log(six_cluster.loc['Monthly_cash_advance',:].values)\n",
    "credit_score=(six_cluster.loc['limit_usage',:].values)\n",
    "purchase= np.log(six_cluster.loc['Monthly_avg_purchase',:].values)\n",
    "payment=six_cluster.loc['payment_minpay',:].values\n",
    "installment=six_cluster.loc['istallment',:].values\n",
    "one_off=six_cluster.loc['one_off',:].values\n",
    "\n",
    "bar_width=.10\n",
    "b1=plt.bar(index,cash_advance,color='b',label='Monthly cash advance',width=bar_width)\n",
    "b2=plt.bar(index+bar_width,credit_score,color='m',label='Credit_score',width=bar_width)\n",
    "b3=plt.bar(index+2*bar_width,purchase,color='k',label='Avg purchase',width=bar_width)\n",
    "b4=plt.bar(index+3*bar_width,payment,color='c',label='Payment-minpayment ratio',width=bar_width)\n",
    "b5=plt.bar(index+4*bar_width,installment,color='r',label='installment',width=bar_width)\n",
    "b6=plt.bar(index+5*bar_width,one_off,color='g',label='One_off purchase',width=bar_width)\n",
    "\n",
    "plt.xlabel(\"Cluster\")\n",
    "plt.title(\"Insights\")\n",
    "plt.xticks(index + bar_width, ('Cl-0', 'Cl-1', 'Cl-2', 'Cl-3','Cl-4','Cl-5'))\n",
    "\n",
    "plt.legend()"
   ]
  },
  {
   "cell_type": "markdown",
   "metadata": {},
   "source": [
    "## Insights with  6 clusters\n",
    "\n",
    "- Here also groups are overlapping .\n",
    "     - Cl-0 and Cl-2 behaving same "
   ]
  },
  {
   "cell_type": "code",
   "execution_count": 200,
   "metadata": {
    "collapsed": false
   },
   "outputs": [
    {
     "name": "stdout",
     "output_type": "stream",
     "text": [
      "\n",
      "Cluster_6   \n",
      "0          0    2175\n",
      "1          1    1718\n",
      "2          2    2401\n",
      "3          3     191\n",
      "4          4     581\n",
      "5          5    1884\n",
      "Name: Cluster_6, dtype: int64\n"
     ]
    }
   ],
   "source": [
    "s2=cluster_df_6.groupby('Cluster_6').apply(lambda x: x['Cluster_6'].value_counts())\n",
    "print '\\n',s2"
   ]
  },
  {
   "cell_type": "code",
   "execution_count": 201,
   "metadata": {
    "collapsed": false
   },
   "outputs": [
    {
     "name": "stdout",
     "output_type": "stream",
     "text": [
      "   Size  Percentage\n",
      "0  2175   24.301676\n",
      "1  1718   19.195531\n",
      "2  2401   26.826816\n",
      "3   191    2.134078\n",
      "4   581    6.491620\n",
      "5  1884   21.050279\n"
     ]
    }
   ],
   "source": [
    "per_6=pd.Series((s2.values.astype('float')/ cluster_df_6.shape[0])*100,name='Percentage')\n",
    "print pd.concat([pd.Series(s2.values,name='Size'),per_6],axis=1)"
   ]
  },
  {
   "cell_type": "markdown",
   "metadata": {
    "collapsed": true
   },
   "source": [
    "\n",
    "---\n",
    "\n",
    "\n",
    "# Checking performance metrics for Kmeans\n",
    "- I am validating performance with 2 metrics Calinski harabaz and Silhouette score"
   ]
  },
  {
   "cell_type": "code",
   "execution_count": 151,
   "metadata": {
    "collapsed": true
   },
   "outputs": [],
   "source": [
    "from sklearn.metrics import calinski_harabaz_score,silhouette_score\n",
    "\n"
   ]
  },
  {
   "cell_type": "code",
   "execution_count": 222,
   "metadata": {
    "collapsed": true
   },
   "outputs": [],
   "source": [
    "score={}\n",
    "score_c={}\n",
    "for n in range(3,15):\n",
    "    km_score=KMeans(n_clusters=n)\n",
    "    km_score.fit(reduced_cr)\n",
    "    score_c[n]=calinski_harabaz_score(reduced_cr,km_score.labels_)\n",
    "    score[n]=silhouette_score(reduced_cr,km_score.labels_)"
   ]
  },
  {
   "cell_type": "code",
   "execution_count": 221,
   "metadata": {
    "collapsed": false
   },
   "outputs": [
    {
     "data": {
      "text/plain": [
       "<matplotlib.axes._subplots.AxesSubplot at 0x28206eb8>"
      ]
     },
     "execution_count": 221,
     "metadata": {},
     "output_type": "execute_result"
    },
    {
     "data": {
      "image/png": "[encoded data removed]",
      "text/plain": [
       "<matplotlib.figure.Figure at 0x268f26a0>"
      ]
     },
     "metadata": {},
     "output_type": "display_data"
    }
   ],
   "source": [
    "pd.Series(score).plot()"
   ]
  },
  {
   "cell_type": "code",
   "execution_count": 154,
   "metadata": {
    "collapsed": false
   },
   "outputs": [
    {
     "data": {
      "text/plain": [
       "<matplotlib.axes._subplots.AxesSubplot at 0x1b3baf28>"
      ]
     },
     "execution_count": 154,
     "metadata": {},
     "output_type": "execute_result"
    },
    {
     "data": {
      "image/png": "[encoded data removed]",
      "text/plain": [
       "<matplotlib.figure.Figure at 0x1b256f60>"
      ]
     },
     "metadata": {},
     "output_type": "display_data"
    }
   ],
   "source": [
    "pd.Series(score_c).plot()"
   ]
  },
  {
   "cell_type": "markdown",
   "metadata": {
    "collapsed": true
   },
   "source": [
    "## Performance metrics also suggest that  K-means with 4 cluster is able to show distinguished characteristics of each cluster.\n",
    "\n",
    "\n"
   ]
  },
  {
   "cell_type": "markdown",
   "metadata": {},
   "source": []
  },
  {
   "cell_type": "markdown",
   "metadata": {},
   "source": [
    "<big>\n",
    "*** Insights with 4 Clusters ***\n",
    "\n",
    "\n",
    "\n",
    "---\n",
    "\n",
    "<big>\n",
    "\n",
    "\n",
    "\n",
    "- Cluster 2 is the group of customers who have highest Monthly_avg purchases and doing both installment as well as one_off   purchases, have comparatively good credit score. *** This group is about 31% of the total customer base ***\n",
    " \n",
    "\n",
    " \n",
    "- cluster 1 is taking maximum advance_cash  and   is paying comparatively less minimum payment and poor credit_score & doing no purchase transaction. *** This group is about 23% of the total customer base ***\n",
    "\n",
    "\n",
    "\n",
    "- Cluster 0 customers are doing maximum One_Off transactions  and  least payment ratio and credit_score on lower side *** This group is about 21% of the total customer base ***\n",
    "\n",
    "\n",
    "\n",
    "- Cluster 3 customers have maximum credit score and  are paying dues and are doing maximum installment purchases. *** This group is about 25% of the total customer base ***\n",
    "\n",
    "\n",
    "---\n",
    "\n"
   ]
  },
  {
   "cell_type": "markdown",
   "metadata": {},
   "source": [
    "# Marketing Strategy Suggested:\n",
    "\n",
    "## a. Group 2\n",
    "   - They are potential target customers who are paying dues and doing purchases and maintaining comparatively good credit score )\n",
    "       --    we can increase credit limit or can lower down interest rate\n",
    "       --    Can be given premium card /loyality cards to increase transactions\n",
    "## b. Group 1\n",
    "   - They have poor credit score and taking only cash on advance. We can target them by providing  less interest rate on purchase transaction\n",
    "   \n",
    "## c. Group 0\n",
    "   - This group is has minimum paying ratio and using card for just oneoff transactions (may be for utility bills only). This group seems to be risky group.\n",
    "   \n",
    "## d. Group 3\n",
    "  - This group is performing best among all as cutomers are maintaining good credit score and paying dues on time.\n",
    "      -- Giving rewards point will make them perform more purchases.\n",
    "       "
   ]
  },
  {
   "cell_type": "code",
   "execution_count": null,
   "metadata": {
    "collapsed": true
   },
   "outputs": [],
   "source": []
  }
 ],
 "metadata": {
  "kernelspec": {
   "display_name": "Python 2",
   "language": "python",
   "name": "python2"
  }
 },
 "nbformat": 4,
 "nbformat_minor": 2
}
